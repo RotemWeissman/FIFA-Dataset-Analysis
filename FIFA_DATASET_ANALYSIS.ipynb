{
  "cells": [
    {
      "cell_type": "markdown",
      "metadata": {
        "id": "CcKXY50LYIRb"
      },
      "source": [
        "# **Imports and configurations**"
      ]
    },
    {
      "cell_type": "code",
      "execution_count": null,
      "metadata": {
        "colab": {
          "base_uri": "https://localhost:8080/"
        },
        "id": "AGQDhtvmXXTR",
        "outputId": "f053a88f-5fd7-41e1-aeca-d6b76ca0dcdd"
      },
      "outputs": [
        {
          "name": "stdout",
          "output_type": "stream",
          "text": [
            "--2023-02-12 10:26:53--  https://dlcdn.apache.org/spark/spark-3.3.1/spark-3.3.1-bin-hadoop3.tgz\n",
            "Resolving dlcdn.apache.org (dlcdn.apache.org)... 151.101.2.132, 2a04:4e42::644\n",
            "Connecting to dlcdn.apache.org (dlcdn.apache.org)|151.101.2.132|:443... connected.\n",
            "HTTP request sent, awaiting response... 200 OK\n",
            "Length: 299350810 (285M) [application/x-gzip]\n",
            "Saving to: ‘./spark-3.3.1-bin-hadoop3.tgz’\n",
            "\n",
            "./spark-3.3.1-bin-h 100%[===================>] 285.48M   167MB/s    in 1.7s    \n",
            "\n",
            "2023-02-12 10:26:55 (167 MB/s) - ‘./spark-3.3.1-bin-hadoop3.tgz’ saved [299350810/299350810]\n",
            "\n",
            "spark-3.3.1-bin-hadoop3/\n",
            "spark-3.3.1-bin-hadoop3/LICENSE\n",
            "spark-3.3.1-bin-hadoop3/NOTICE\n",
            "spark-3.3.1-bin-hadoop3/R/\n",
            "spark-3.3.1-bin-hadoop3/R/lib/\n",
            "spark-3.3.1-bin-hadoop3/R/lib/SparkR/\n",
            "spark-3.3.1-bin-hadoop3/R/lib/SparkR/DESCRIPTION\n",
            "spark-3.3.1-bin-hadoop3/R/lib/SparkR/INDEX\n",
            "spark-3.3.1-bin-hadoop3/R/lib/SparkR/Meta/\n",
            "spark-3.3.1-bin-hadoop3/R/lib/SparkR/Meta/Rd.rds\n",
            "spark-3.3.1-bin-hadoop3/R/lib/SparkR/Meta/features.rds\n",
            "spark-3.3.1-bin-hadoop3/R/lib/SparkR/Meta/hsearch.rds\n",
            "spark-3.3.1-bin-hadoop3/R/lib/SparkR/Meta/links.rds\n",
            "spark-3.3.1-bin-hadoop3/R/lib/SparkR/Meta/nsInfo.rds\n",
            "spark-3.3.1-bin-hadoop3/R/lib/SparkR/Meta/package.rds\n",
            "spark-3.3.1-bin-hadoop3/R/lib/SparkR/Meta/vignette.rds\n",
            "spark-3.3.1-bin-hadoop3/R/lib/SparkR/NAMESPACE\n",
            "spark-3.3.1-bin-hadoop3/R/lib/SparkR/R/\n",
            "spark-3.3.1-bin-hadoop3/R/lib/SparkR/R/SparkR\n",
            "spark-3.3.1-bin-hadoop3/R/lib/SparkR/R/SparkR.rdb\n",
            "spark-3.3.1-bin-hadoop3/R/lib/SparkR/R/SparkR.rdx\n",
            "spark-3.3.1-bin-hadoop3/R/lib/SparkR/doc/\n",
            "spark-3.3.1-bin-hadoop3/R/lib/SparkR/doc/index.html\n",
            "spark-3.3.1-bin-hadoop3/R/lib/SparkR/doc/sparkr-vignettes.R\n",
            "spark-3.3.1-bin-hadoop3/R/lib/SparkR/doc/sparkr-vignettes.Rmd\n",
            "spark-3.3.1-bin-hadoop3/R/lib/SparkR/doc/sparkr-vignettes.html\n",
            "spark-3.3.1-bin-hadoop3/R/lib/SparkR/help/\n",
            "spark-3.3.1-bin-hadoop3/R/lib/SparkR/help/AnIndex\n",
            "spark-3.3.1-bin-hadoop3/R/lib/SparkR/help/SparkR.rdb\n",
            "spark-3.3.1-bin-hadoop3/R/lib/SparkR/help/SparkR.rdx\n",
            "spark-3.3.1-bin-hadoop3/R/lib/SparkR/help/aliases.rds\n",
            "spark-3.3.1-bin-hadoop3/R/lib/SparkR/help/paths.rds\n",
            "spark-3.3.1-bin-hadoop3/R/lib/SparkR/html/\n",
            "spark-3.3.1-bin-hadoop3/R/lib/SparkR/html/00Index.html\n",
            "spark-3.3.1-bin-hadoop3/R/lib/SparkR/html/R.css\n",
            "spark-3.3.1-bin-hadoop3/R/lib/SparkR/profile/\n",
            "spark-3.3.1-bin-hadoop3/R/lib/SparkR/profile/general.R\n",
            "spark-3.3.1-bin-hadoop3/R/lib/SparkR/profile/shell.R\n",
            "spark-3.3.1-bin-hadoop3/R/lib/SparkR/tests/\n",
            "spark-3.3.1-bin-hadoop3/R/lib/SparkR/tests/testthat/\n",
            "spark-3.3.1-bin-hadoop3/R/lib/SparkR/tests/testthat/test_basic.R\n",
            "spark-3.3.1-bin-hadoop3/R/lib/SparkR/worker/\n",
            "spark-3.3.1-bin-hadoop3/R/lib/SparkR/worker/daemon.R\n",
            "spark-3.3.1-bin-hadoop3/R/lib/SparkR/worker/worker.R\n",
            "spark-3.3.1-bin-hadoop3/R/lib/sparkr.zip\n",
            "spark-3.3.1-bin-hadoop3/README.md\n",
            "spark-3.3.1-bin-hadoop3/RELEASE\n",
            "spark-3.3.1-bin-hadoop3/bin/\n",
            "spark-3.3.1-bin-hadoop3/bin/beeline\n",
            "spark-3.3.1-bin-hadoop3/bin/beeline.cmd\n",
            "spark-3.3.1-bin-hadoop3/bin/docker-image-tool.sh\n",
            "spark-3.3.1-bin-hadoop3/bin/find-spark-home\n",
            "spark-3.3.1-bin-hadoop3/bin/find-spark-home.cmd\n",
            "spark-3.3.1-bin-hadoop3/bin/load-spark-env.cmd\n",
            "spark-3.3.1-bin-hadoop3/bin/load-spark-env.sh\n",
            "spark-3.3.1-bin-hadoop3/bin/pyspark\n",
            "spark-3.3.1-bin-hadoop3/bin/pyspark.cmd\n",
            "spark-3.3.1-bin-hadoop3/bin/pyspark2.cmd\n",
            "spark-3.3.1-bin-hadoop3/bin/run-example\n",
            "spark-3.3.1-bin-hadoop3/bin/run-example.cmd\n",
            "spark-3.3.1-bin-hadoop3/bin/spark-class\n",
            "spark-3.3.1-bin-hadoop3/bin/spark-class.cmd\n",
            "spark-3.3.1-bin-hadoop3/bin/spark-class2.cmd\n",
            "spark-3.3.1-bin-hadoop3/bin/spark-shell\n",
            "spark-3.3.1-bin-hadoop3/bin/spark-shell.cmd\n",
            "spark-3.3.1-bin-hadoop3/bin/spark-shell2.cmd\n",
            "spark-3.3.1-bin-hadoop3/bin/spark-sql\n",
            "spark-3.3.1-bin-hadoop3/bin/spark-sql.cmd\n",
            "spark-3.3.1-bin-hadoop3/bin/spark-sql2.cmd\n",
            "spark-3.3.1-bin-hadoop3/bin/spark-submit\n",
            "spark-3.3.1-bin-hadoop3/bin/spark-submit.cmd\n",
            "spark-3.3.1-bin-hadoop3/bin/spark-submit2.cmd\n",
            "spark-3.3.1-bin-hadoop3/bin/sparkR\n",
            "spark-3.3.1-bin-hadoop3/bin/sparkR.cmd\n",
            "spark-3.3.1-bin-hadoop3/bin/sparkR2.cmd\n",
            "spark-3.3.1-bin-hadoop3/conf/\n",
            "spark-3.3.1-bin-hadoop3/conf/fairscheduler.xml.template\n",
            "spark-3.3.1-bin-hadoop3/conf/log4j2.properties.template\n",
            "spark-3.3.1-bin-hadoop3/conf/metrics.properties.template\n",
            "spark-3.3.1-bin-hadoop3/conf/spark-defaults.conf.template\n",
            "spark-3.3.1-bin-hadoop3/conf/spark-env.sh.template\n",
            "spark-3.3.1-bin-hadoop3/conf/workers.template\n",
            "spark-3.3.1-bin-hadoop3/data/\n",
            "spark-3.3.1-bin-hadoop3/data/graphx/\n",
            "spark-3.3.1-bin-hadoop3/data/graphx/followers.txt\n",
            "spark-3.3.1-bin-hadoop3/data/graphx/users.txt\n",
            "spark-3.3.1-bin-hadoop3/data/mllib/\n",
            "spark-3.3.1-bin-hadoop3/data/mllib/als/\n",
            "spark-3.3.1-bin-hadoop3/data/mllib/als/sample_movielens_ratings.txt\n",
            "spark-3.3.1-bin-hadoop3/data/mllib/als/test.data\n",
            "spark-3.3.1-bin-hadoop3/data/mllib/gmm_data.txt\n",
            "spark-3.3.1-bin-hadoop3/data/mllib/images/\n",
            "spark-3.3.1-bin-hadoop3/data/mllib/images/license.txt\n",
            "spark-3.3.1-bin-hadoop3/data/mllib/images/origin/\n",
            "spark-3.3.1-bin-hadoop3/data/mllib/images/origin/kittens/\n",
            "spark-3.3.1-bin-hadoop3/data/mllib/images/origin/kittens/29.5.a_b_EGDP022204.jpg\n",
            "spark-3.3.1-bin-hadoop3/data/mllib/images/origin/kittens/54893.jpg\n",
            "spark-3.3.1-bin-hadoop3/data/mllib/images/origin/kittens/DP153539.jpg\n",
            "spark-3.3.1-bin-hadoop3/data/mllib/images/origin/kittens/DP802813.jpg\n",
            "spark-3.3.1-bin-hadoop3/data/mllib/images/origin/kittens/not-image.txt\n",
            "spark-3.3.1-bin-hadoop3/data/mllib/images/origin/license.txt\n",
            "spark-3.3.1-bin-hadoop3/data/mllib/images/origin/multi-channel/\n",
            "spark-3.3.1-bin-hadoop3/data/mllib/images/origin/multi-channel/BGRA.png\n",
            "spark-3.3.1-bin-hadoop3/data/mllib/images/origin/multi-channel/BGRA_alpha_60.png\n",
            "spark-3.3.1-bin-hadoop3/data/mllib/images/origin/multi-channel/chr30.4.184.jpg\n",
            "spark-3.3.1-bin-hadoop3/data/mllib/images/origin/multi-channel/grayscale.jpg\n",
            "spark-3.3.1-bin-hadoop3/data/mllib/kmeans_data.txt\n",
            "spark-3.3.1-bin-hadoop3/data/mllib/pagerank_data.txt\n",
            "spark-3.3.1-bin-hadoop3/data/mllib/pic_data.txt\n",
            "spark-3.3.1-bin-hadoop3/data/mllib/ridge-data/\n",
            "spark-3.3.1-bin-hadoop3/data/mllib/ridge-data/lpsa.data\n",
            "spark-3.3.1-bin-hadoop3/data/mllib/sample_binary_classification_data.txt\n",
            "spark-3.3.1-bin-hadoop3/data/mllib/sample_fpgrowth.txt\n",
            "spark-3.3.1-bin-hadoop3/data/mllib/sample_isotonic_regression_libsvm_data.txt\n",
            "spark-3.3.1-bin-hadoop3/data/mllib/sample_kmeans_data.txt\n",
            "spark-3.3.1-bin-hadoop3/data/mllib/sample_lda_data.txt\n",
            "spark-3.3.1-bin-hadoop3/data/mllib/sample_lda_libsvm_data.txt\n",
            "spark-3.3.1-bin-hadoop3/data/mllib/sample_libsvm_data.txt\n",
            "spark-3.3.1-bin-hadoop3/data/mllib/sample_linear_regression_data.txt\n",
            "spark-3.3.1-bin-hadoop3/data/mllib/sample_movielens_data.txt\n",
            "spark-3.3.1-bin-hadoop3/data/mllib/sample_multiclass_classification_data.txt\n",
            "spark-3.3.1-bin-hadoop3/data/mllib/sample_svm_data.txt\n",
            "spark-3.3.1-bin-hadoop3/data/mllib/streaming_kmeans_data_test.txt\n",
            "spark-3.3.1-bin-hadoop3/data/streaming/\n",
            "spark-3.3.1-bin-hadoop3/data/streaming/AFINN-111.txt\n",
            "spark-3.3.1-bin-hadoop3/examples/\n",
            "spark-3.3.1-bin-hadoop3/examples/jars/\n",
            "spark-3.3.1-bin-hadoop3/examples/jars/scopt_2.12-3.7.1.jar\n",
            "spark-3.3.1-bin-hadoop3/examples/jars/spark-examples_2.12-3.3.1.jar\n",
            "spark-3.3.1-bin-hadoop3/examples/src/\n",
            "spark-3.3.1-bin-hadoop3/examples/src/main/\n",
            "spark-3.3.1-bin-hadoop3/examples/src/main/java/\n",
            "spark-3.3.1-bin-hadoop3/examples/src/main/java/org/\n",
            "spark-3.3.1-bin-hadoop3/examples/src/main/java/org/apache/\n",
            "spark-3.3.1-bin-hadoop3/examples/src/main/java/org/apache/spark/\n",
            "spark-3.3.1-bin-hadoop3/examples/src/main/java/org/apache/spark/examples/\n",
            "spark-3.3.1-bin-hadoop3/examples/src/main/java/org/apache/spark/examples/JavaHdfsLR.java\n",
            "spark-3.3.1-bin-hadoop3/examples/src/main/java/org/apache/spark/examples/JavaLogQuery.java\n",
            "spark-3.3.1-bin-hadoop3/examples/src/main/java/org/apache/spark/examples/JavaPageRank.java\n",
            "spark-3.3.1-bin-hadoop3/examples/src/main/java/org/apache/spark/examples/JavaSparkPi.java\n",
            "spark-3.3.1-bin-hadoop3/examples/src/main/java/org/apache/spark/examples/JavaStatusTrackerDemo.java\n",
            "spark-3.3.1-bin-hadoop3/examples/src/main/java/org/apache/spark/examples/JavaTC.java\n",
            "spark-3.3.1-bin-hadoop3/examples/src/main/java/org/apache/spark/examples/JavaWordCount.java\n",
            "spark-3.3.1-bin-hadoop3/examples/src/main/java/org/apache/spark/examples/ml/\n",
            "spark-3.3.1-bin-hadoop3/examples/src/main/java/org/apache/spark/examples/ml/JavaAFTSurvivalRegressionExample.java\n",
            "spark-3.3.1-bin-hadoop3/examples/src/main/java/org/apache/spark/examples/ml/JavaALSExample.java\n",
            "spark-3.3.1-bin-hadoop3/examples/src/main/java/org/apache/spark/examples/ml/JavaBinarizerExample.java\n",
            "spark-3.3.1-bin-hadoop3/examples/src/main/java/org/apache/spark/examples/ml/JavaBisectingKMeansExample.java\n",
            "spark-3.3.1-bin-hadoop3/examples/src/main/java/org/apache/spark/examples/ml/JavaBucketedRandomProjectionLSHExample.java\n",
            "spark-3.3.1-bin-hadoop3/examples/src/main/java/org/apache/spark/examples/ml/JavaBucketizerExample.java\n",
            "spark-3.3.1-bin-hadoop3/examples/src/main/java/org/apache/spark/examples/ml/JavaChiSqSelectorExample.java\n",
            "spark-3.3.1-bin-hadoop3/examples/src/main/java/org/apache/spark/examples/ml/JavaChiSquareTestExample.java\n",
            "spark-3.3.1-bin-hadoop3/examples/src/main/java/org/apache/spark/examples/ml/JavaCorrelationExample.java\n",
            "spark-3.3.1-bin-hadoop3/examples/src/main/java/org/apache/spark/examples/ml/JavaCountVectorizerExample.java\n",
            "spark-3.3.1-bin-hadoop3/examples/src/main/java/org/apache/spark/examples/ml/JavaDCTExample.java\n",
            "spark-3.3.1-bin-hadoop3/examples/src/main/java/org/apache/spark/examples/ml/JavaDecisionTreeClassificationExample.java\n",
            "spark-3.3.1-bin-hadoop3/examples/src/main/java/org/apache/spark/examples/ml/JavaDecisionTreeRegressionExample.java\n",
            "spark-3.3.1-bin-hadoop3/examples/src/main/java/org/apache/spark/examples/ml/JavaDocument.java\n",
            "spark-3.3.1-bin-hadoop3/examples/src/main/java/org/apache/spark/examples/ml/JavaElementwiseProductExample.java\n",
            "spark-3.3.1-bin-hadoop3/examples/src/main/java/org/apache/spark/examples/ml/JavaEstimatorTransformerParamExample.java\n",
            "spark-3.3.1-bin-hadoop3/examples/src/main/java/org/apache/spark/examples/ml/JavaFMClassifierExample.java\n",
            "spark-3.3.1-bin-hadoop3/examples/src/main/java/org/apache/spark/examples/ml/JavaFMRegressorExample.java\n",
            "spark-3.3.1-bin-hadoop3/examples/src/main/java/org/apache/spark/examples/ml/JavaFPGrowthExample.java\n",
            "spark-3.3.1-bin-hadoop3/examples/src/main/java/org/apache/spark/examples/ml/JavaFeatureHasherExample.java\n",
            "spark-3.3.1-bin-hadoop3/examples/src/main/java/org/apache/spark/examples/ml/JavaGaussianMixtureExample.java\n",
            "spark-3.3.1-bin-hadoop3/examples/src/main/java/org/apache/spark/examples/ml/JavaGeneralizedLinearRegressionExample.java\n",
            "spark-3.3.1-bin-hadoop3/examples/src/main/java/org/apache/spark/examples/ml/JavaGradientBoostedTreeClassifierExample.java\n",
            "spark-3.3.1-bin-hadoop3/examples/src/main/java/org/apache/spark/examples/ml/JavaGradientBoostedTreeRegressorExample.java\n",
            "spark-3.3.1-bin-hadoop3/examples/src/main/java/org/apache/spark/examples/ml/JavaImputerExample.java\n",
            "spark-3.3.1-bin-hadoop3/examples/src/main/java/org/apache/spark/examples/ml/JavaIndexToStringExample.java\n",
            "spark-3.3.1-bin-hadoop3/examples/src/main/java/org/apache/spark/examples/ml/JavaInteractionExample.java\n",
            "spark-3.3.1-bin-hadoop3/examples/src/main/java/org/apache/spark/examples/ml/JavaIsotonicRegressionExample.java\n",
            "spark-3.3.1-bin-hadoop3/examples/src/main/java/org/apache/spark/examples/ml/JavaKMeansExample.java\n",
            "spark-3.3.1-bin-hadoop3/examples/src/main/java/org/apache/spark/examples/ml/JavaLDAExample.java\n",
            "spark-3.3.1-bin-hadoop3/examples/src/main/java/org/apache/spark/examples/ml/JavaLabeledDocument.java\n",
            "spark-3.3.1-bin-hadoop3/examples/src/main/java/org/apache/spark/examples/ml/JavaLinearRegressionWithElasticNetExample.java\n",
            "spark-3.3.1-bin-hadoop3/examples/src/main/java/org/apache/spark/examples/ml/JavaLinearSVCExample.java\n",
            "spark-3.3.1-bin-hadoop3/examples/src/main/java/org/apache/spark/examples/ml/JavaLogisticRegressionSummaryExample.java\n",
            "spark-3.3.1-bin-hadoop3/examples/src/main/java/org/apache/spark/examples/ml/JavaLogisticRegressionWithElasticNetExample.java\n",
            "spark-3.3.1-bin-hadoop3/examples/src/main/java/org/apache/spark/examples/ml/JavaMaxAbsScalerExample.java\n",
            "spark-3.3.1-bin-hadoop3/examples/src/main/java/org/apache/spark/examples/ml/JavaMinHashLSHExample.java\n",
            "spark-3.3.1-bin-hadoop3/examples/src/main/java/org/apache/spark/examples/ml/JavaMinMaxScalerExample.java\n",
            "spark-3.3.1-bin-hadoop3/examples/src/main/java/org/apache/spark/examples/ml/JavaModelSelectionViaCrossValidationExample.java\n",
            "spark-3.3.1-bin-hadoop3/examples/src/main/java/org/apache/spark/examples/ml/JavaModelSelectionViaTrainValidationSplitExample.java\n",
            "spark-3.3.1-bin-hadoop3/examples/src/main/java/org/apache/spark/examples/ml/JavaMulticlassLogisticRegressionWithElasticNetExample.java\n",
            "spark-3.3.1-bin-hadoop3/examples/src/main/java/org/apache/spark/examples/ml/JavaMultilayerPerceptronClassifierExample.java\n",
            "spark-3.3.1-bin-hadoop3/examples/src/main/java/org/apache/spark/examples/ml/JavaNGramExample.java\n",
            "spark-3.3.1-bin-hadoop3/examples/src/main/java/org/apache/spark/examples/ml/JavaNaiveBayesExample.java\n",
            "spark-3.3.1-bin-hadoop3/examples/src/main/java/org/apache/spark/examples/ml/JavaNormalizerExample.java\n",
            "spark-3.3.1-bin-hadoop3/examples/src/main/java/org/apache/spark/examples/ml/JavaOneHotEncoderExample.java\n",
            "spark-3.3.1-bin-hadoop3/examples/src/main/java/org/apache/spark/examples/ml/JavaOneVsRestExample.java\n",
            "spark-3.3.1-bin-hadoop3/examples/src/main/java/org/apache/spark/examples/ml/JavaPCAExample.java\n",
            "spark-3.3.1-bin-hadoop3/examples/src/main/java/org/apache/spark/examples/ml/JavaPipelineExample.java\n",
            "spark-3.3.1-bin-hadoop3/examples/src/main/java/org/apache/spark/examples/ml/JavaPolynomialExpansionExample.java\n",
            "spark-3.3.1-bin-hadoop3/examples/src/main/java/org/apache/spark/examples/ml/JavaPowerIterationClusteringExample.java\n",
            "spark-3.3.1-bin-hadoop3/examples/src/main/java/org/apache/spark/examples/ml/JavaPrefixSpanExample.java\n",
            "spark-3.3.1-bin-hadoop3/examples/src/main/java/org/apache/spark/examples/ml/JavaQuantileDiscretizerExample.java\n",
            "spark-3.3.1-bin-hadoop3/examples/src/main/java/org/apache/spark/examples/ml/JavaRFormulaExample.java\n",
            "spark-3.3.1-bin-hadoop3/examples/src/main/java/org/apache/spark/examples/ml/JavaRandomForestClassifierExample.java\n",
            "spark-3.3.1-bin-hadoop3/examples/src/main/java/org/apache/spark/examples/ml/JavaRandomForestRegressorExample.java\n",
            "spark-3.3.1-bin-hadoop3/examples/src/main/java/org/apache/spark/examples/ml/JavaRobustScalerExample.java\n",
            "spark-3.3.1-bin-hadoop3/examples/src/main/java/org/apache/spark/examples/ml/JavaSQLTransformerExample.java\n",
            "spark-3.3.1-bin-hadoop3/examples/src/main/java/org/apache/spark/examples/ml/JavaStandardScalerExample.java\n",
            "spark-3.3.1-bin-hadoop3/examples/src/main/java/org/apache/spark/examples/ml/JavaStopWordsRemoverExample.java\n",
            "spark-3.3.1-bin-hadoop3/examples/src/main/java/org/apache/spark/examples/ml/JavaStringIndexerExample.java\n",
            "spark-3.3.1-bin-hadoop3/examples/src/main/java/org/apache/spark/examples/ml/JavaSummarizerExample.java\n",
            "spark-3.3.1-bin-hadoop3/examples/src/main/java/org/apache/spark/examples/ml/JavaTfIdfExample.java\n",
            "spark-3.3.1-bin-hadoop3/examples/src/main/java/org/apache/spark/examples/ml/JavaTokenizerExample.java\n",
            "spark-3.3.1-bin-hadoop3/examples/src/main/java/org/apache/spark/examples/ml/JavaUnivariateFeatureSelectorExample.java\n",
            "spark-3.3.1-bin-hadoop3/examples/src/main/java/org/apache/spark/examples/ml/JavaVarianceThresholdSelectorExample.java\n",
            "spark-3.3.1-bin-hadoop3/examples/src/main/java/org/apache/spark/examples/ml/JavaVectorAssemblerExample.java\n",
            "spark-3.3.1-bin-hadoop3/examples/src/main/java/org/apache/spark/examples/ml/JavaVectorIndexerExample.java\n",
            "spark-3.3.1-bin-hadoop3/examples/src/main/java/org/apache/spark/examples/ml/JavaVectorSizeHintExample.java\n",
            "spark-3.3.1-bin-hadoop3/examples/src/main/java/org/apache/spark/examples/ml/JavaVectorSlicerExample.java\n",
            "spark-3.3.1-bin-hadoop3/examples/src/main/java/org/apache/spark/examples/ml/JavaWord2VecExample.java\n",
            "spark-3.3.1-bin-hadoop3/examples/src/main/java/org/apache/spark/examples/mllib/\n",
            "spark-3.3.1-bin-hadoop3/examples/src/main/java/org/apache/spark/examples/mllib/JavaALS.java\n",
            "spark-3.3.1-bin-hadoop3/examples/src/main/java/org/apache/spark/examples/mllib/JavaAssociationRulesExample.java\n",
            "spark-3.3.1-bin-hadoop3/examples/src/main/java/org/apache/spark/examples/mllib/JavaBinaryClassificationMetricsExample.java\n",
            "spark-3.3.1-bin-hadoop3/examples/src/main/java/org/apache/spark/examples/mllib/JavaBisectingKMeansExample.java\n",
            "spark-3.3.1-bin-hadoop3/examples/src/main/java/org/apache/spark/examples/mllib/JavaChiSqSelectorExample.java\n",
            "spark-3.3.1-bin-hadoop3/examples/src/main/java/org/apache/spark/examples/mllib/JavaCorrelationsExample.java\n",
            "spark-3.3.1-bin-hadoop3/examples/src/main/java/org/apache/spark/examples/mllib/JavaDecisionTreeClassificationExample.java\n",
            "spark-3.3.1-bin-hadoop3/examples/src/main/java/org/apache/spark/examples/mllib/JavaDecisionTreeRegressionExample.java\n",
            "spark-3.3.1-bin-hadoop3/examples/src/main/java/org/apache/spark/examples/mllib/JavaElementwiseProductExample.java\n",
            "spark-3.3.1-bin-hadoop3/examples/src/main/java/org/apache/spark/examples/mllib/JavaGaussianMixtureExample.java\n",
            "spark-3.3.1-bin-hadoop3/examples/src/main/java/org/apache/spark/examples/mllib/JavaGradientBoostingClassificationExample.java\n",
            "spark-3.3.1-bin-hadoop3/examples/src/main/java/org/apache/spark/examples/mllib/JavaGradientBoostingRegressionExample.java\n",
            "spark-3.3.1-bin-hadoop3/examples/src/main/java/org/apache/spark/examples/mllib/JavaHypothesisTestingExample.java\n",
            "spark-3.3.1-bin-hadoop3/examples/src/main/java/org/apache/spark/examples/mllib/JavaHypothesisTestingKolmogorovSmirnovTestExample.java\n",
            "spark-3.3.1-bin-hadoop3/examples/src/main/java/org/apache/spark/examples/mllib/JavaIsotonicRegressionExample.java\n",
            "spark-3.3.1-bin-hadoop3/examples/src/main/java/org/apache/spark/examples/mllib/JavaKMeansExample.java\n",
            "spark-3.3.1-bin-hadoop3/examples/src/main/java/org/apache/spark/examples/mllib/JavaKernelDensityEstimationExample.java\n",
            "spark-3.3.1-bin-hadoop3/examples/src/main/java/org/apache/spark/examples/mllib/JavaLBFGSExample.java\n",
            "spark-3.3.1-bin-hadoop3/examples/src/main/java/org/apache/spark/examples/mllib/JavaLatentDirichletAllocationExample.java\n",
            "spark-3.3.1-bin-hadoop3/examples/src/main/java/org/apache/spark/examples/mllib/JavaLogisticRegressionWithLBFGSExample.java\n",
            "spark-3.3.1-bin-hadoop3/examples/src/main/java/org/apache/spark/examples/mllib/JavaMultiLabelClassificationMetricsExample.java\n",
            "spark-3.3.1-bin-hadoop3/examples/src/main/java/org/apache/spark/examples/mllib/JavaMulticlassClassificationMetricsExample.java\n",
            "spark-3.3.1-bin-hadoop3/examples/src/main/java/org/apache/spark/examples/mllib/JavaNaiveBayesExample.java\n",
            "spark-3.3.1-bin-hadoop3/examples/src/main/java/org/apache/spark/examples/mllib/JavaPCAExample.java\n",
            "spark-3.3.1-bin-hadoop3/examples/src/main/java/org/apache/spark/examples/mllib/JavaPowerIterationClusteringExample.java\n",
            "spark-3.3.1-bin-hadoop3/examples/src/main/java/org/apache/spark/examples/mllib/JavaPrefixSpanExample.java\n",
            "spark-3.3.1-bin-hadoop3/examples/src/main/java/org/apache/spark/examples/mllib/JavaRandomForestClassificationExample.java\n",
            "spark-3.3.1-bin-hadoop3/examples/src/main/java/org/apache/spark/examples/mllib/JavaRandomForestRegressionExample.java\n",
            "spark-3.3.1-bin-hadoop3/examples/src/main/java/org/apache/spark/examples/mllib/JavaRankingMetricsExample.java\n",
            "spark-3.3.1-bin-hadoop3/examples/src/main/java/org/apache/spark/examples/mllib/JavaRecommendationExample.java\n",
            "spark-3.3.1-bin-hadoop3/examples/src/main/java/org/apache/spark/examples/mllib/JavaSVDExample.java\n",
            "spark-3.3.1-bin-hadoop3/examples/src/main/java/org/apache/spark/examples/mllib/JavaSVMWithSGDExample.java\n",
            "spark-3.3.1-bin-hadoop3/examples/src/main/java/org/apache/spark/examples/mllib/JavaSimpleFPGrowth.java\n",
            "spark-3.3.1-bin-hadoop3/examples/src/main/java/org/apache/spark/examples/mllib/JavaStratifiedSamplingExample.java\n",
            "spark-3.3.1-bin-hadoop3/examples/src/main/java/org/apache/spark/examples/mllib/JavaStreamingTestExample.java\n",
            "spark-3.3.1-bin-hadoop3/examples/src/main/java/org/apache/spark/examples/mllib/JavaSummaryStatisticsExample.java\n",
            "spark-3.3.1-bin-hadoop3/examples/src/main/java/org/apache/spark/examples/sql/\n",
            "spark-3.3.1-bin-hadoop3/examples/src/main/java/org/apache/spark/examples/sql/JavaSQLDataSourceExample.java\n",
            "spark-3.3.1-bin-hadoop3/examples/src/main/java/org/apache/spark/examples/sql/JavaSparkSQLExample.java\n",
            "spark-3.3.1-bin-hadoop3/examples/src/main/java/org/apache/spark/examples/sql/JavaUserDefinedScalar.java\n",
            "spark-3.3.1-bin-hadoop3/examples/src/main/java/org/apache/spark/examples/sql/JavaUserDefinedTypedAggregation.java\n",
            "spark-3.3.1-bin-hadoop3/examples/src/main/java/org/apache/spark/examples/sql/JavaUserDefinedUntypedAggregation.java\n",
            "spark-3.3.1-bin-hadoop3/examples/src/main/java/org/apache/spark/examples/sql/hive/\n",
            "spark-3.3.1-bin-hadoop3/examples/src/main/java/org/apache/spark/examples/sql/hive/JavaSparkHiveExample.java\n",
            "spark-3.3.1-bin-hadoop3/examples/src/main/java/org/apache/spark/examples/sql/streaming/\n",
            "spark-3.3.1-bin-hadoop3/examples/src/main/java/org/apache/spark/examples/sql/streaming/JavaStructuredComplexSessionization.java\n",
            "spark-3.3.1-bin-hadoop3/examples/src/main/java/org/apache/spark/examples/sql/streaming/JavaStructuredKafkaWordCount.java\n",
            "spark-3.3.1-bin-hadoop3/examples/src/main/java/org/apache/spark/examples/sql/streaming/JavaStructuredKerberizedKafkaWordCount.java\n",
            "spark-3.3.1-bin-hadoop3/examples/src/main/java/org/apache/spark/examples/sql/streaming/JavaStructuredNetworkWordCount.java\n",
            "spark-3.3.1-bin-hadoop3/examples/src/main/java/org/apache/spark/examples/sql/streaming/JavaStructuredNetworkWordCountWindowed.java\n",
            "spark-3.3.1-bin-hadoop3/examples/src/main/java/org/apache/spark/examples/sql/streaming/JavaStructuredSessionization.java\n",
            "spark-3.3.1-bin-hadoop3/examples/src/main/java/org/apache/spark/examples/streaming/\n",
            "spark-3.3.1-bin-hadoop3/examples/src/main/java/org/apache/spark/examples/streaming/JavaCustomReceiver.java\n",
            "spark-3.3.1-bin-hadoop3/examples/src/main/java/org/apache/spark/examples/streaming/JavaDirectKafkaWordCount.java\n",
            "spark-3.3.1-bin-hadoop3/examples/src/main/java/org/apache/spark/examples/streaming/JavaDirectKerberizedKafkaWordCount.java\n",
            "spark-3.3.1-bin-hadoop3/examples/src/main/java/org/apache/spark/examples/streaming/JavaNetworkWordCount.java\n",
            "spark-3.3.1-bin-hadoop3/examples/src/main/java/org/apache/spark/examples/streaming/JavaQueueStream.java\n",
            "spark-3.3.1-bin-hadoop3/examples/src/main/java/org/apache/spark/examples/streaming/JavaRecord.java\n",
            "spark-3.3.1-bin-hadoop3/examples/src/main/java/org/apache/spark/examples/streaming/JavaRecoverableNetworkWordCount.java\n",
            "spark-3.3.1-bin-hadoop3/examples/src/main/java/org/apache/spark/examples/streaming/JavaSqlNetworkWordCount.java\n",
            "spark-3.3.1-bin-hadoop3/examples/src/main/java/org/apache/spark/examples/streaming/JavaStatefulNetworkWordCount.java\n",
            "spark-3.3.1-bin-hadoop3/examples/src/main/python/\n",
            "spark-3.3.1-bin-hadoop3/examples/src/main/python/__init__.py\n",
            "spark-3.3.1-bin-hadoop3/examples/src/main/python/als.py\n",
            "spark-3.3.1-bin-hadoop3/examples/src/main/python/avro_inputformat.py\n",
            "spark-3.3.1-bin-hadoop3/examples/src/main/python/kmeans.py\n",
            "spark-3.3.1-bin-hadoop3/examples/src/main/python/logistic_regression.py\n",
            "spark-3.3.1-bin-hadoop3/examples/src/main/python/ml/\n",
            "spark-3.3.1-bin-hadoop3/examples/src/main/python/ml/__init__,py\n",
            "spark-3.3.1-bin-hadoop3/examples/src/main/python/ml/aft_survival_regression.py\n",
            "spark-3.3.1-bin-hadoop3/examples/src/main/python/ml/als_example.py\n",
            "spark-3.3.1-bin-hadoop3/examples/src/main/python/ml/binarizer_example.py\n",
            "spark-3.3.1-bin-hadoop3/examples/src/main/python/ml/bisecting_k_means_example.py\n",
            "spark-3.3.1-bin-hadoop3/examples/src/main/python/ml/bucketed_random_projection_lsh_example.py\n",
            "spark-3.3.1-bin-hadoop3/examples/src/main/python/ml/bucketizer_example.py\n",
            "spark-3.3.1-bin-hadoop3/examples/src/main/python/ml/chi_square_test_example.py\n",
            "spark-3.3.1-bin-hadoop3/examples/src/main/python/ml/chisq_selector_example.py\n",
            "spark-3.3.1-bin-hadoop3/examples/src/main/python/ml/correlation_example.py\n",
            "spark-3.3.1-bin-hadoop3/examples/src/main/python/ml/count_vectorizer_example.py\n",
            "spark-3.3.1-bin-hadoop3/examples/src/main/python/ml/cross_validator.py\n",
            "spark-3.3.1-bin-hadoop3/examples/src/main/python/ml/dataframe_example.py\n",
            "spark-3.3.1-bin-hadoop3/examples/src/main/python/ml/dct_example.py\n",
            "spark-3.3.1-bin-hadoop3/examples/src/main/python/ml/decision_tree_classification_example.py\n",
            "spark-3.3.1-bin-hadoop3/examples/src/main/python/ml/decision_tree_regression_example.py\n",
            "spark-3.3.1-bin-hadoop3/examples/src/main/python/ml/elementwise_product_example.py\n",
            "spark-3.3.1-bin-hadoop3/examples/src/main/python/ml/estimator_transformer_param_example.py\n",
            "spark-3.3.1-bin-hadoop3/examples/src/main/python/ml/feature_hasher_example.py\n",
            "spark-3.3.1-bin-hadoop3/examples/src/main/python/ml/fm_classifier_example.py\n",
            "spark-3.3.1-bin-hadoop3/examples/src/main/python/ml/fm_regressor_example.py\n",
            "spark-3.3.1-bin-hadoop3/examples/src/main/python/ml/fpgrowth_example.py\n",
            "spark-3.3.1-bin-hadoop3/examples/src/main/python/ml/gaussian_mixture_example.py\n",
            "spark-3.3.1-bin-hadoop3/examples/src/main/python/ml/generalized_linear_regression_example.py\n",
            "spark-3.3.1-bin-hadoop3/examples/src/main/python/ml/gradient_boosted_tree_classifier_example.py\n",
            "spark-3.3.1-bin-hadoop3/examples/src/main/python/ml/gradient_boosted_tree_regressor_example.py\n",
            "spark-3.3.1-bin-hadoop3/examples/src/main/python/ml/imputer_example.py\n",
            "spark-3.3.1-bin-hadoop3/examples/src/main/python/ml/index_to_string_example.py\n",
            "spark-3.3.1-bin-hadoop3/examples/src/main/python/ml/interaction_example.py\n",
            "spark-3.3.1-bin-hadoop3/examples/src/main/python/ml/isotonic_regression_example.py\n",
            "spark-3.3.1-bin-hadoop3/examples/src/main/python/ml/kmeans_example.py\n",
            "spark-3.3.1-bin-hadoop3/examples/src/main/python/ml/lda_example.py\n",
            "spark-3.3.1-bin-hadoop3/examples/src/main/python/ml/linear_regression_with_elastic_net.py\n",
            "spark-3.3.1-bin-hadoop3/examples/src/main/python/ml/linearsvc.py\n",
            "spark-3.3.1-bin-hadoop3/examples/src/main/python/ml/logistic_regression_summary_example.py\n",
            "spark-3.3.1-bin-hadoop3/examples/src/main/python/ml/logistic_regression_with_elastic_net.py\n",
            "spark-3.3.1-bin-hadoop3/examples/src/main/python/ml/max_abs_scaler_example.py\n",
            "spark-3.3.1-bin-hadoop3/examples/src/main/python/ml/min_hash_lsh_example.py\n",
            "spark-3.3.1-bin-hadoop3/examples/src/main/python/ml/min_max_scaler_example.py\n",
            "spark-3.3.1-bin-hadoop3/examples/src/main/python/ml/multiclass_logistic_regression_with_elastic_net.py\n",
            "spark-3.3.1-bin-hadoop3/examples/src/main/python/ml/multilayer_perceptron_classification.py\n",
            "spark-3.3.1-bin-hadoop3/examples/src/main/python/ml/n_gram_example.py\n",
            "spark-3.3.1-bin-hadoop3/examples/src/main/python/ml/naive_bayes_example.py\n",
            "spark-3.3.1-bin-hadoop3/examples/src/main/python/ml/normalizer_example.py\n",
            "spark-3.3.1-bin-hadoop3/examples/src/main/python/ml/one_vs_rest_example.py\n",
            "spark-3.3.1-bin-hadoop3/examples/src/main/python/ml/onehot_encoder_example.py\n",
            "spark-3.3.1-bin-hadoop3/examples/src/main/python/ml/pca_example.py\n",
            "spark-3.3.1-bin-hadoop3/examples/src/main/python/ml/pipeline_example.py\n",
            "spark-3.3.1-bin-hadoop3/examples/src/main/python/ml/polynomial_expansion_example.py\n",
            "spark-3.3.1-bin-hadoop3/examples/src/main/python/ml/power_iteration_clustering_example.py\n",
            "spark-3.3.1-bin-hadoop3/examples/src/main/python/ml/prefixspan_example.py\n",
            "spark-3.3.1-bin-hadoop3/examples/src/main/python/ml/quantile_discretizer_example.py\n",
            "spark-3.3.1-bin-hadoop3/examples/src/main/python/ml/random_forest_classifier_example.py\n",
            "spark-3.3.1-bin-hadoop3/examples/src/main/python/ml/random_forest_regressor_example.py\n",
            "spark-3.3.1-bin-hadoop3/examples/src/main/python/ml/rformula_example.py\n",
            "spark-3.3.1-bin-hadoop3/examples/src/main/python/ml/robust_scaler_example.py\n",
            "spark-3.3.1-bin-hadoop3/examples/src/main/python/ml/sql_transformer.py\n",
            "spark-3.3.1-bin-hadoop3/examples/src/main/python/ml/standard_scaler_example.py\n",
            "spark-3.3.1-bin-hadoop3/examples/src/main/python/ml/stopwords_remover_example.py\n",
            "spark-3.3.1-bin-hadoop3/examples/src/main/python/ml/string_indexer_example.py\n",
            "spark-3.3.1-bin-hadoop3/examples/src/main/python/ml/summarizer_example.py\n",
            "spark-3.3.1-bin-hadoop3/examples/src/main/python/ml/tf_idf_example.py\n",
            "spark-3.3.1-bin-hadoop3/examples/src/main/python/ml/tokenizer_example.py\n",
            "spark-3.3.1-bin-hadoop3/examples/src/main/python/ml/train_validation_split.py\n",
            "spark-3.3.1-bin-hadoop3/examples/src/main/python/ml/univariate_feature_selector_example.py\n",
            "spark-3.3.1-bin-hadoop3/examples/src/main/python/ml/variance_threshold_selector_example.py\n",
            "spark-3.3.1-bin-hadoop3/examples/src/main/python/ml/vector_assembler_example.py\n",
            "spark-3.3.1-bin-hadoop3/examples/src/main/python/ml/vector_indexer_example.py\n",
            "spark-3.3.1-bin-hadoop3/examples/src/main/python/ml/vector_size_hint_example.py\n",
            "spark-3.3.1-bin-hadoop3/examples/src/main/python/ml/vector_slicer_example.py\n",
            "spark-3.3.1-bin-hadoop3/examples/src/main/python/ml/word2vec_example.py\n",
            "spark-3.3.1-bin-hadoop3/examples/src/main/python/mllib/\n",
            "spark-3.3.1-bin-hadoop3/examples/src/main/python/mllib/__init__.py\n",
            "spark-3.3.1-bin-hadoop3/examples/src/main/python/mllib/binary_classification_metrics_example.py\n",
            "spark-3.3.1-bin-hadoop3/examples/src/main/python/mllib/bisecting_k_means_example.py\n",
            "spark-3.3.1-bin-hadoop3/examples/src/main/python/mllib/correlations.py\n",
            "spark-3.3.1-bin-hadoop3/examples/src/main/python/mllib/correlations_example.py\n",
            "spark-3.3.1-bin-hadoop3/examples/src/main/python/mllib/decision_tree_classification_example.py\n",
            "spark-3.3.1-bin-hadoop3/examples/src/main/python/mllib/decision_tree_regression_example.py\n",
            "spark-3.3.1-bin-hadoop3/examples/src/main/python/mllib/elementwise_product_example.py\n",
            "spark-3.3.1-bin-hadoop3/examples/src/main/python/mllib/fpgrowth_example.py\n",
            "spark-3.3.1-bin-hadoop3/examples/src/main/python/mllib/gaussian_mixture_example.py\n",
            "spark-3.3.1-bin-hadoop3/examples/src/main/python/mllib/gaussian_mixture_model.py\n",
            "spark-3.3.1-bin-hadoop3/examples/src/main/python/mllib/gradient_boosting_classification_example.py\n",
            "spark-3.3.1-bin-hadoop3/examples/src/main/python/mllib/gradient_boosting_regression_example.py\n",
            "spark-3.3.1-bin-hadoop3/examples/src/main/python/mllib/hypothesis_testing_example.py\n",
            "spark-3.3.1-bin-hadoop3/examples/src/main/python/mllib/hypothesis_testing_kolmogorov_smirnov_test_example.py\n",
            "spark-3.3.1-bin-hadoop3/examples/src/main/python/mllib/isotonic_regression_example.py\n",
            "spark-3.3.1-bin-hadoop3/examples/src/main/python/mllib/k_means_example.py\n",
            "spark-3.3.1-bin-hadoop3/examples/src/main/python/mllib/kernel_density_estimation_example.py\n",
            "spark-3.3.1-bin-hadoop3/examples/src/main/python/mllib/kmeans.py\n",
            "spark-3.3.1-bin-hadoop3/examples/src/main/python/mllib/latent_dirichlet_allocation_example.py\n",
            "spark-3.3.1-bin-hadoop3/examples/src/main/python/mllib/linear_regression_with_sgd_example.py\n",
            "spark-3.3.1-bin-hadoop3/examples/src/main/python/mllib/logistic_regression.py\n",
            "spark-3.3.1-bin-hadoop3/examples/src/main/python/mllib/logistic_regression_with_lbfgs_example.py\n",
            "spark-3.3.1-bin-hadoop3/examples/src/main/python/mllib/multi_class_metrics_example.py\n",
            "spark-3.3.1-bin-hadoop3/examples/src/main/python/mllib/multi_label_metrics_example.py\n",
            "spark-3.3.1-bin-hadoop3/examples/src/main/python/mllib/naive_bayes_example.py\n",
            "spark-3.3.1-bin-hadoop3/examples/src/main/python/mllib/normalizer_example.py\n",
            "spark-3.3.1-bin-hadoop3/examples/src/main/python/mllib/pca_rowmatrix_example.py\n",
            "spark-3.3.1-bin-hadoop3/examples/src/main/python/mllib/power_iteration_clustering_example.py\n",
            "spark-3.3.1-bin-hadoop3/examples/src/main/python/mllib/random_forest_classification_example.py\n",
            "spark-3.3.1-bin-hadoop3/examples/src/main/python/mllib/random_forest_regression_example.py\n",
            "spark-3.3.1-bin-hadoop3/examples/src/main/python/mllib/random_rdd_generation.py\n",
            "spark-3.3.1-bin-hadoop3/examples/src/main/python/mllib/ranking_metrics_example.py\n",
            "spark-3.3.1-bin-hadoop3/examples/src/main/python/mllib/recommendation_example.py\n",
            "spark-3.3.1-bin-hadoop3/examples/src/main/python/mllib/regression_metrics_example.py\n",
            "spark-3.3.1-bin-hadoop3/examples/src/main/python/mllib/sampled_rdds.py\n",
            "spark-3.3.1-bin-hadoop3/examples/src/main/python/mllib/standard_scaler_example.py\n",
            "spark-3.3.1-bin-hadoop3/examples/src/main/python/mllib/stratified_sampling_example.py\n",
            "spark-3.3.1-bin-hadoop3/examples/src/main/python/mllib/streaming_k_means_example.py\n",
            "spark-3.3.1-bin-hadoop3/examples/src/main/python/mllib/streaming_linear_regression_example.py\n",
            "spark-3.3.1-bin-hadoop3/examples/src/main/python/mllib/summary_statistics_example.py\n",
            "spark-3.3.1-bin-hadoop3/examples/src/main/python/mllib/svd_example.py\n",
            "spark-3.3.1-bin-hadoop3/examples/src/main/python/mllib/svm_with_sgd_example.py\n",
            "spark-3.3.1-bin-hadoop3/examples/src/main/python/mllib/tf_idf_example.py\n",
            "spark-3.3.1-bin-hadoop3/examples/src/main/python/mllib/word2vec.py\n",
            "spark-3.3.1-bin-hadoop3/examples/src/main/python/mllib/word2vec_example.py\n",
            "spark-3.3.1-bin-hadoop3/examples/src/main/python/pagerank.py\n",
            "spark-3.3.1-bin-hadoop3/examples/src/main/python/parquet_inputformat.py\n",
            "spark-3.3.1-bin-hadoop3/examples/src/main/python/pi.py\n",
            "spark-3.3.1-bin-hadoop3/examples/src/main/python/sort.py\n",
            "spark-3.3.1-bin-hadoop3/examples/src/main/python/sql/\n",
            "spark-3.3.1-bin-hadoop3/examples/src/main/python/sql/__init__.py\n",
            "spark-3.3.1-bin-hadoop3/examples/src/main/python/sql/arrow.py\n",
            "spark-3.3.1-bin-hadoop3/examples/src/main/python/sql/basic.py\n",
            "spark-3.3.1-bin-hadoop3/examples/src/main/python/sql/datasource.py\n",
            "spark-3.3.1-bin-hadoop3/examples/src/main/python/sql/hive.py\n",
            "spark-3.3.1-bin-hadoop3/examples/src/main/python/sql/streaming/\n",
            "spark-3.3.1-bin-hadoop3/examples/src/main/python/sql/streaming/__init__,py\n",
            "spark-3.3.1-bin-hadoop3/examples/src/main/python/sql/streaming/structured_kafka_wordcount.py\n",
            "spark-3.3.1-bin-hadoop3/examples/src/main/python/sql/streaming/structured_network_wordcount.py\n",
            "spark-3.3.1-bin-hadoop3/examples/src/main/python/sql/streaming/structured_network_wordcount_windowed.py\n",
            "spark-3.3.1-bin-hadoop3/examples/src/main/python/sql/streaming/structured_sessionization.py\n",
            "spark-3.3.1-bin-hadoop3/examples/src/main/python/status_api_demo.py\n",
            "spark-3.3.1-bin-hadoop3/examples/src/main/python/streaming/\n",
            "spark-3.3.1-bin-hadoop3/examples/src/main/python/streaming/__init__.py\n",
            "spark-3.3.1-bin-hadoop3/examples/src/main/python/streaming/hdfs_wordcount.py\n",
            "spark-3.3.1-bin-hadoop3/examples/src/main/python/streaming/network_wordcount.py\n",
            "spark-3.3.1-bin-hadoop3/examples/src/main/python/streaming/network_wordjoinsentiments.py\n",
            "spark-3.3.1-bin-hadoop3/examples/src/main/python/streaming/queue_stream.py\n",
            "spark-3.3.1-bin-hadoop3/examples/src/main/python/streaming/recoverable_network_wordcount.py\n",
            "spark-3.3.1-bin-hadoop3/examples/src/main/python/streaming/sql_network_wordcount.py\n",
            "spark-3.3.1-bin-hadoop3/examples/src/main/python/streaming/stateful_network_wordcount.py\n",
            "spark-3.3.1-bin-hadoop3/examples/src/main/python/transitive_closure.py\n",
            "spark-3.3.1-bin-hadoop3/examples/src/main/python/wordcount.py\n",
            "spark-3.3.1-bin-hadoop3/examples/src/main/r/\n",
            "spark-3.3.1-bin-hadoop3/examples/src/main/r/RSparkSQLExample.R\n",
            "spark-3.3.1-bin-hadoop3/examples/src/main/r/data-manipulation.R\n",
            "spark-3.3.1-bin-hadoop3/examples/src/main/r/dataframe.R\n",
            "spark-3.3.1-bin-hadoop3/examples/src/main/r/ml/\n",
            "spark-3.3.1-bin-hadoop3/examples/src/main/r/ml/als.R\n",
            "spark-3.3.1-bin-hadoop3/examples/src/main/r/ml/bisectingKmeans.R\n",
            "spark-3.3.1-bin-hadoop3/examples/src/main/r/ml/decisionTree.R\n",
            "spark-3.3.1-bin-hadoop3/examples/src/main/r/ml/fmClassifier.R\n",
            "spark-3.3.1-bin-hadoop3/examples/src/main/r/ml/fmRegressor.R\n",
            "spark-3.3.1-bin-hadoop3/examples/src/main/r/ml/fpm.R\n",
            "spark-3.3.1-bin-hadoop3/examples/src/main/r/ml/gaussianMixture.R\n",
            "spark-3.3.1-bin-hadoop3/examples/src/main/r/ml/gbt.R\n",
            "spark-3.3.1-bin-hadoop3/examples/src/main/r/ml/glm.R\n",
            "spark-3.3.1-bin-hadoop3/examples/src/main/r/ml/isoreg.R\n",
            "spark-3.3.1-bin-hadoop3/examples/src/main/r/ml/kmeans.R\n",
            "spark-3.3.1-bin-hadoop3/examples/src/main/r/ml/kstest.R\n",
            "spark-3.3.1-bin-hadoop3/examples/src/main/r/ml/lda.R\n",
            "spark-3.3.1-bin-hadoop3/examples/src/main/r/ml/lm_with_elastic_net.R\n",
            "spark-3.3.1-bin-hadoop3/examples/src/main/r/ml/logit.R\n",
            "spark-3.3.1-bin-hadoop3/examples/src/main/r/ml/ml.R\n",
            "spark-3.3.1-bin-hadoop3/examples/src/main/r/ml/mlp.R\n",
            "spark-3.3.1-bin-hadoop3/examples/src/main/r/ml/naiveBayes.R\n",
            "spark-3.3.1-bin-hadoop3/examples/src/main/r/ml/powerIterationClustering.R\n",
            "spark-3.3.1-bin-hadoop3/examples/src/main/r/ml/prefixSpan.R\n",
            "spark-3.3.1-bin-hadoop3/examples/src/main/r/ml/randomForest.R\n",
            "spark-3.3.1-bin-hadoop3/examples/src/main/r/ml/survreg.R\n",
            "spark-3.3.1-bin-hadoop3/examples/src/main/r/ml/svmLinear.R\n",
            "spark-3.3.1-bin-hadoop3/examples/src/main/r/streaming/\n",
            "spark-3.3.1-bin-hadoop3/examples/src/main/r/streaming/structured_network_wordcount.R\n",
            "spark-3.3.1-bin-hadoop3/examples/src/main/resources/\n",
            "spark-3.3.1-bin-hadoop3/examples/src/main/resources/META-INF/\n",
            "spark-3.3.1-bin-hadoop3/examples/src/main/resources/META-INF/services/\n",
            "spark-3.3.1-bin-hadoop3/examples/src/main/resources/META-INF/services/org.apache.spark.sql.SparkSessionExtensionsProvider\n",
            "spark-3.3.1-bin-hadoop3/examples/src/main/resources/META-INF/services/org.apache.spark.sql.jdbc.JdbcConnectionProvider\n",
            "spark-3.3.1-bin-hadoop3/examples/src/main/resources/dir1/\n",
            "spark-3.3.1-bin-hadoop3/examples/src/main/resources/dir1/dir2/\n",
            "spark-3.3.1-bin-hadoop3/examples/src/main/resources/dir1/dir2/file2.parquet\n",
            "spark-3.3.1-bin-hadoop3/examples/src/main/resources/dir1/file1.parquet\n",
            "spark-3.3.1-bin-hadoop3/examples/src/main/resources/dir1/file3.json\n",
            "spark-3.3.1-bin-hadoop3/examples/src/main/resources/employees.json\n",
            "spark-3.3.1-bin-hadoop3/examples/src/main/resources/full_user.avsc\n",
            "spark-3.3.1-bin-hadoop3/examples/src/main/resources/kv1.txt\n",
            "spark-3.3.1-bin-hadoop3/examples/src/main/resources/people.csv\n",
            "spark-3.3.1-bin-hadoop3/examples/src/main/resources/people.json\n",
            "spark-3.3.1-bin-hadoop3/examples/src/main/resources/people.txt\n",
            "spark-3.3.1-bin-hadoop3/examples/src/main/resources/user.avsc\n",
            "spark-3.3.1-bin-hadoop3/examples/src/main/resources/users.avro\n",
            "spark-3.3.1-bin-hadoop3/examples/src/main/resources/users.orc\n",
            "spark-3.3.1-bin-hadoop3/examples/src/main/resources/users.parquet\n",
            "spark-3.3.1-bin-hadoop3/examples/src/main/scala/\n",
            "spark-3.3.1-bin-hadoop3/examples/src/main/scala/org/\n",
            "spark-3.3.1-bin-hadoop3/examples/src/main/scala/org/apache/\n",
            "spark-3.3.1-bin-hadoop3/examples/src/main/scala/org/apache/spark/\n",
            "spark-3.3.1-bin-hadoop3/examples/src/main/scala/org/apache/spark/examples/\n",
            "spark-3.3.1-bin-hadoop3/examples/src/main/scala/org/apache/spark/examples/AccumulatorMetricsTest.scala\n",
            "spark-3.3.1-bin-hadoop3/examples/src/main/scala/org/apache/spark/examples/BroadcastTest.scala\n",
            "spark-3.3.1-bin-hadoop3/examples/src/main/scala/org/apache/spark/examples/DFSReadWriteTest.scala\n",
            "spark-3.3.1-bin-hadoop3/examples/src/main/scala/org/apache/spark/examples/DriverSubmissionTest.scala\n",
            "spark-3.3.1-bin-hadoop3/examples/src/main/scala/org/apache/spark/examples/ExceptionHandlingTest.scala\n",
            "spark-3.3.1-bin-hadoop3/examples/src/main/scala/org/apache/spark/examples/GroupByTest.scala\n",
            "spark-3.3.1-bin-hadoop3/examples/src/main/scala/org/apache/spark/examples/HdfsTest.scala\n",
            "spark-3.3.1-bin-hadoop3/examples/src/main/scala/org/apache/spark/examples/LocalALS.scala\n",
            "spark-3.3.1-bin-hadoop3/examples/src/main/scala/org/apache/spark/examples/LocalFileLR.scala\n",
            "spark-3.3.1-bin-hadoop3/examples/src/main/scala/org/apache/spark/examples/LocalKMeans.scala\n",
            "spark-3.3.1-bin-hadoop3/examples/src/main/scala/org/apache/spark/examples/LocalLR.scala\n",
            "spark-3.3.1-bin-hadoop3/examples/src/main/scala/org/apache/spark/examples/LocalPi.scala\n",
            "spark-3.3.1-bin-hadoop3/examples/src/main/scala/org/apache/spark/examples/LogQuery.scala\n",
            "spark-3.3.1-bin-hadoop3/examples/src/main/scala/org/apache/spark/examples/MiniReadWriteTest.scala\n",
            "spark-3.3.1-bin-hadoop3/examples/src/main/scala/org/apache/spark/examples/MultiBroadcastTest.scala\n",
            "spark-3.3.1-bin-hadoop3/examples/src/main/scala/org/apache/spark/examples/SimpleSkewedGroupByTest.scala\n",
            "spark-3.3.1-bin-hadoop3/examples/src/main/scala/org/apache/spark/examples/SkewedGroupByTest.scala\n",
            "spark-3.3.1-bin-hadoop3/examples/src/main/scala/org/apache/spark/examples/SparkALS.scala\n",
            "spark-3.3.1-bin-hadoop3/examples/src/main/scala/org/apache/spark/examples/SparkHdfsLR.scala\n",
            "spark-3.3.1-bin-hadoop3/examples/src/main/scala/org/apache/spark/examples/SparkKMeans.scala\n",
            "spark-3.3.1-bin-hadoop3/examples/src/main/scala/org/apache/spark/examples/SparkLR.scala\n",
            "spark-3.3.1-bin-hadoop3/examples/src/main/scala/org/apache/spark/examples/SparkPageRank.scala\n",
            "spark-3.3.1-bin-hadoop3/examples/src/main/scala/org/apache/spark/examples/SparkPi.scala\n",
            "spark-3.3.1-bin-hadoop3/examples/src/main/scala/org/apache/spark/examples/SparkRemoteFileTest.scala\n",
            "spark-3.3.1-bin-hadoop3/examples/src/main/scala/org/apache/spark/examples/SparkTC.scala\n",
            "spark-3.3.1-bin-hadoop3/examples/src/main/scala/org/apache/spark/examples/extensions/\n",
            "spark-3.3.1-bin-hadoop3/examples/src/main/scala/org/apache/spark/examples/extensions/AgeExample.scala\n",
            "spark-3.3.1-bin-hadoop3/examples/src/main/scala/org/apache/spark/examples/extensions/SessionExtensionsWithLoader.scala\n",
            "spark-3.3.1-bin-hadoop3/examples/src/main/scala/org/apache/spark/examples/extensions/SessionExtensionsWithoutLoader.scala\n",
            "spark-3.3.1-bin-hadoop3/examples/src/main/scala/org/apache/spark/examples/extensions/SparkSessionExtensionsTest.scala\n",
            "spark-3.3.1-bin-hadoop3/examples/src/main/scala/org/apache/spark/examples/graphx/\n",
            "spark-3.3.1-bin-hadoop3/examples/src/main/scala/org/apache/spark/examples/graphx/AggregateMessagesExample.scala\n",
            "spark-3.3.1-bin-hadoop3/examples/src/main/scala/org/apache/spark/examples/graphx/Analytics.scala\n",
            "spark-3.3.1-bin-hadoop3/examples/src/main/scala/org/apache/spark/examples/graphx/ComprehensiveExample.scala\n",
            "spark-3.3.1-bin-hadoop3/examples/src/main/scala/org/apache/spark/examples/graphx/ConnectedComponentsExample.scala\n",
            "spark-3.3.1-bin-hadoop3/examples/src/main/scala/org/apache/spark/examples/graphx/LiveJournalPageRank.scala\n",
            "spark-3.3.1-bin-hadoop3/examples/src/main/scala/org/apache/spark/examples/graphx/PageRankExample.scala\n",
            "spark-3.3.1-bin-hadoop3/examples/src/main/scala/org/apache/spark/examples/graphx/SSSPExample.scala\n",
            "spark-3.3.1-bin-hadoop3/examples/src/main/scala/org/apache/spark/examples/graphx/SynthBenchmark.scala\n",
            "spark-3.3.1-bin-hadoop3/examples/src/main/scala/org/apache/spark/examples/graphx/TriangleCountingExample.scala\n",
            "spark-3.3.1-bin-hadoop3/examples/src/main/scala/org/apache/spark/examples/ml/\n",
            "spark-3.3.1-bin-hadoop3/examples/src/main/scala/org/apache/spark/examples/ml/AFTSurvivalRegressionExample.scala\n",
            "spark-3.3.1-bin-hadoop3/examples/src/main/scala/org/apache/spark/examples/ml/ALSExample.scala\n",
            "spark-3.3.1-bin-hadoop3/examples/src/main/scala/org/apache/spark/examples/ml/BinarizerExample.scala\n",
            "spark-3.3.1-bin-hadoop3/examples/src/main/scala/org/apache/spark/examples/ml/BisectingKMeansExample.scala\n",
            "spark-3.3.1-bin-hadoop3/examples/src/main/scala/org/apache/spark/examples/ml/BucketedRandomProjectionLSHExample.scala\n",
            "spark-3.3.1-bin-hadoop3/examples/src/main/scala/org/apache/spark/examples/ml/BucketizerExample.scala\n",
            "spark-3.3.1-bin-hadoop3/examples/src/main/scala/org/apache/spark/examples/ml/ChiSqSelectorExample.scala\n",
            "spark-3.3.1-bin-hadoop3/examples/src/main/scala/org/apache/spark/examples/ml/ChiSquareTestExample.scala\n",
            "spark-3.3.1-bin-hadoop3/examples/src/main/scala/org/apache/spark/examples/ml/CorrelationExample.scala\n",
            "spark-3.3.1-bin-hadoop3/examples/src/main/scala/org/apache/spark/examples/ml/CountVectorizerExample.scala\n",
            "spark-3.3.1-bin-hadoop3/examples/src/main/scala/org/apache/spark/examples/ml/DCTExample.scala\n",
            "spark-3.3.1-bin-hadoop3/examples/src/main/scala/org/apache/spark/examples/ml/DataFrameExample.scala\n",
            "spark-3.3.1-bin-hadoop3/examples/src/main/scala/org/apache/spark/examples/ml/DecisionTreeClassificationExample.scala\n",
            "spark-3.3.1-bin-hadoop3/examples/src/main/scala/org/apache/spark/examples/ml/DecisionTreeExample.scala\n",
            "spark-3.3.1-bin-hadoop3/examples/src/main/scala/org/apache/spark/examples/ml/DecisionTreeRegressionExample.scala\n",
            "spark-3.3.1-bin-hadoop3/examples/src/main/scala/org/apache/spark/examples/ml/DeveloperApiExample.scala\n",
            "spark-3.3.1-bin-hadoop3/examples/src/main/scala/org/apache/spark/examples/ml/ElementwiseProductExample.scala\n",
            "spark-3.3.1-bin-hadoop3/examples/src/main/scala/org/apache/spark/examples/ml/EstimatorTransformerParamExample.scala\n",
            "spark-3.3.1-bin-hadoop3/examples/src/main/scala/org/apache/spark/examples/ml/FMClassifierExample.scala\n",
            "spark-3.3.1-bin-hadoop3/examples/src/main/scala/org/apache/spark/examples/ml/FMRegressorExample.scala\n",
            "spark-3.3.1-bin-hadoop3/examples/src/main/scala/org/apache/spark/examples/ml/FPGrowthExample.scala\n",
            "spark-3.3.1-bin-hadoop3/examples/src/main/scala/org/apache/spark/examples/ml/FeatureHasherExample.scala\n",
            "spark-3.3.1-bin-hadoop3/examples/src/main/scala/org/apache/spark/examples/ml/GBTExample.scala\n",
            "spark-3.3.1-bin-hadoop3/examples/src/main/scala/org/apache/spark/examples/ml/GaussianMixtureExample.scala\n",
            "spark-3.3.1-bin-hadoop3/examples/src/main/scala/org/apache/spark/examples/ml/GeneralizedLinearRegressionExample.scala\n",
            "spark-3.3.1-bin-hadoop3/examples/src/main/scala/org/apache/spark/examples/ml/GradientBoostedTreeClassifierExample.scala\n",
            "spark-3.3.1-bin-hadoop3/examples/src/main/scala/org/apache/spark/examples/ml/GradientBoostedTreeRegressorExample.scala\n",
            "spark-3.3.1-bin-hadoop3/examples/src/main/scala/org/apache/spark/examples/ml/ImputerExample.scala\n",
            "spark-3.3.1-bin-hadoop3/examples/src/main/scala/org/apache/spark/examples/ml/IndexToStringExample.scala\n",
            "spark-3.3.1-bin-hadoop3/examples/src/main/scala/org/apache/spark/examples/ml/InteractionExample.scala\n",
            "spark-3.3.1-bin-hadoop3/examples/src/main/scala/org/apache/spark/examples/ml/IsotonicRegressionExample.scala\n",
            "spark-3.3.1-bin-hadoop3/examples/src/main/scala/org/apache/spark/examples/ml/KMeansExample.scala\n",
            "spark-3.3.1-bin-hadoop3/examples/src/main/scala/org/apache/spark/examples/ml/LDAExample.scala\n",
            "spark-3.3.1-bin-hadoop3/examples/src/main/scala/org/apache/spark/examples/ml/LinearRegressionExample.scala\n",
            "spark-3.3.1-bin-hadoop3/examples/src/main/scala/org/apache/spark/examples/ml/LinearRegressionWithElasticNetExample.scala\n",
            "spark-3.3.1-bin-hadoop3/examples/src/main/scala/org/apache/spark/examples/ml/LinearSVCExample.scala\n",
            "spark-3.3.1-bin-hadoop3/examples/src/main/scala/org/apache/spark/examples/ml/LogisticRegressionExample.scala\n",
            "spark-3.3.1-bin-hadoop3/examples/src/main/scala/org/apache/spark/examples/ml/LogisticRegressionSummaryExample.scala\n",
            "spark-3.3.1-bin-hadoop3/examples/src/main/scala/org/apache/spark/examples/ml/LogisticRegressionWithElasticNetExample.scala\n",
            "spark-3.3.1-bin-hadoop3/examples/src/main/scala/org/apache/spark/examples/ml/MaxAbsScalerExample.scala\n",
            "spark-3.3.1-bin-hadoop3/examples/src/main/scala/org/apache/spark/examples/ml/MinHashLSHExample.scala\n",
            "spark-3.3.1-bin-hadoop3/examples/src/main/scala/org/apache/spark/examples/ml/MinMaxScalerExample.scala\n",
            "spark-3.3.1-bin-hadoop3/examples/src/main/scala/org/apache/spark/examples/ml/ModelSelectionViaCrossValidationExample.scala\n",
            "spark-3.3.1-bin-hadoop3/examples/src/main/scala/org/apache/spark/examples/ml/ModelSelectionViaTrainValidationSplitExample.scala\n",
            "spark-3.3.1-bin-hadoop3/examples/src/main/scala/org/apache/spark/examples/ml/MulticlassLogisticRegressionWithElasticNetExample.scala\n",
            "spark-3.3.1-bin-hadoop3/examples/src/main/scala/org/apache/spark/examples/ml/MultilayerPerceptronClassifierExample.scala\n",
            "spark-3.3.1-bin-hadoop3/examples/src/main/scala/org/apache/spark/examples/ml/NGramExample.scala\n",
            "spark-3.3.1-bin-hadoop3/examples/src/main/scala/org/apache/spark/examples/ml/NaiveBayesExample.scala\n",
            "spark-3.3.1-bin-hadoop3/examples/src/main/scala/org/apache/spark/examples/ml/NormalizerExample.scala\n",
            "spark-3.3.1-bin-hadoop3/examples/src/main/scala/org/apache/spark/examples/ml/OneHotEncoderExample.scala\n",
            "spark-3.3.1-bin-hadoop3/examples/src/main/scala/org/apache/spark/examples/ml/OneVsRestExample.scala\n",
            "spark-3.3.1-bin-hadoop3/examples/src/main/scala/org/apache/spark/examples/ml/PCAExample.scala\n",
            "spark-3.3.1-bin-hadoop3/examples/src/main/scala/org/apache/spark/examples/ml/PipelineExample.scala\n",
            "spark-3.3.1-bin-hadoop3/examples/src/main/scala/org/apache/spark/examples/ml/PolynomialExpansionExample.scala\n",
            "spark-3.3.1-bin-hadoop3/examples/src/main/scala/org/apache/spark/examples/ml/PowerIterationClusteringExample.scala\n",
            "spark-3.3.1-bin-hadoop3/examples/src/main/scala/org/apache/spark/examples/ml/PrefixSpanExample.scala\n",
            "spark-3.3.1-bin-hadoop3/examples/src/main/scala/org/apache/spark/examples/ml/QuantileDiscretizerExample.scala\n",
            "spark-3.3.1-bin-hadoop3/examples/src/main/scala/org/apache/spark/examples/ml/RFormulaExample.scala\n",
            "spark-3.3.1-bin-hadoop3/examples/src/main/scala/org/apache/spark/examples/ml/RandomForestClassifierExample.scala\n",
            "spark-3.3.1-bin-hadoop3/examples/src/main/scala/org/apache/spark/examples/ml/RandomForestExample.scala\n",
            "spark-3.3.1-bin-hadoop3/examples/src/main/scala/org/apache/spark/examples/ml/RandomForestRegressorExample.scala\n",
            "spark-3.3.1-bin-hadoop3/examples/src/main/scala/org/apache/spark/examples/ml/RobustScalerExample.scala\n",
            "spark-3.3.1-bin-hadoop3/examples/src/main/scala/org/apache/spark/examples/ml/SQLTransformerExample.scala\n",
            "spark-3.3.1-bin-hadoop3/examples/src/main/scala/org/apache/spark/examples/ml/StandardScalerExample.scala\n",
            "spark-3.3.1-bin-hadoop3/examples/src/main/scala/org/apache/spark/examples/ml/StopWordsRemoverExample.scala\n",
            "spark-3.3.1-bin-hadoop3/examples/src/main/scala/org/apache/spark/examples/ml/StringIndexerExample.scala\n",
            "spark-3.3.1-bin-hadoop3/examples/src/main/scala/org/apache/spark/examples/ml/SummarizerExample.scala\n",
            "spark-3.3.1-bin-hadoop3/examples/src/main/scala/org/apache/spark/examples/ml/TfIdfExample.scala\n",
            "spark-3.3.1-bin-hadoop3/examples/src/main/scala/org/apache/spark/examples/ml/TokenizerExample.scala\n",
            "spark-3.3.1-bin-hadoop3/examples/src/main/scala/org/apache/spark/examples/ml/UnaryTransformerExample.scala\n",
            "spark-3.3.1-bin-hadoop3/examples/src/main/scala/org/apache/spark/examples/ml/UnivariateFeatureSelectorExample.scala\n",
            "spark-3.3.1-bin-hadoop3/examples/src/main/scala/org/apache/spark/examples/ml/VarianceThresholdSelectorExample.scala\n",
            "spark-3.3.1-bin-hadoop3/examples/src/main/scala/org/apache/spark/examples/ml/VectorAssemblerExample.scala\n",
            "spark-3.3.1-bin-hadoop3/examples/src/main/scala/org/apache/spark/examples/ml/VectorIndexerExample.scala\n",
            "spark-3.3.1-bin-hadoop3/examples/src/main/scala/org/apache/spark/examples/ml/VectorSizeHintExample.scala\n",
            "spark-3.3.1-bin-hadoop3/examples/src/main/scala/org/apache/spark/examples/ml/VectorSlicerExample.scala\n",
            "spark-3.3.1-bin-hadoop3/examples/src/main/scala/org/apache/spark/examples/ml/Word2VecExample.scala\n",
            "spark-3.3.1-bin-hadoop3/examples/src/main/scala/org/apache/spark/examples/mllib/\n",
            "spark-3.3.1-bin-hadoop3/examples/src/main/scala/org/apache/spark/examples/mllib/AbstractParams.scala\n",
            "spark-3.3.1-bin-hadoop3/examples/src/main/scala/org/apache/spark/examples/mllib/AssociationRulesExample.scala\n",
            "spark-3.3.1-bin-hadoop3/examples/src/main/scala/org/apache/spark/examples/mllib/BinaryClassification.scala\n",
            "spark-3.3.1-bin-hadoop3/examples/src/main/scala/org/apache/spark/examples/mllib/BinaryClassificationMetricsExample.scala\n",
            "spark-3.3.1-bin-hadoop3/examples/src/main/scala/org/apache/spark/examples/mllib/BisectingKMeansExample.scala\n",
            "spark-3.3.1-bin-hadoop3/examples/src/main/scala/org/apache/spark/examples/mllib/ChiSqSelectorExample.scala\n",
            "spark-3.3.1-bin-hadoop3/examples/src/main/scala/org/apache/spark/examples/mllib/Correlations.scala\n",
            "spark-3.3.1-bin-hadoop3/examples/src/main/scala/org/apache/spark/examples/mllib/CorrelationsExample.scala\n",
            "spark-3.3.1-bin-hadoop3/examples/src/main/scala/org/apache/spark/examples/mllib/CosineSimilarity.scala\n",
            "spark-3.3.1-bin-hadoop3/examples/src/main/scala/org/apache/spark/examples/mllib/DecisionTreeClassificationExample.scala\n",
            "spark-3.3.1-bin-hadoop3/examples/src/main/scala/org/apache/spark/examples/mllib/DecisionTreeRegressionExample.scala\n",
            "spark-3.3.1-bin-hadoop3/examples/src/main/scala/org/apache/spark/examples/mllib/DecisionTreeRunner.scala\n",
            "spark-3.3.1-bin-hadoop3/examples/src/main/scala/org/apache/spark/examples/mllib/DenseKMeans.scala\n",
            "spark-3.3.1-bin-hadoop3/examples/src/main/scala/org/apache/spark/examples/mllib/ElementwiseProductExample.scala\n",
            "spark-3.3.1-bin-hadoop3/examples/src/main/scala/org/apache/spark/examples/mllib/FPGrowthExample.scala\n",
            "spark-3.3.1-bin-hadoop3/examples/src/main/scala/org/apache/spark/examples/mllib/GaussianMixtureExample.scala\n",
            "spark-3.3.1-bin-hadoop3/examples/src/main/scala/org/apache/spark/examples/mllib/GradientBoostedTreesRunner.scala\n",
            "spark-3.3.1-bin-hadoop3/examples/src/main/scala/org/apache/spark/examples/mllib/GradientBoostingClassificationExample.scala\n",
            "spark-3.3.1-bin-hadoop3/examples/src/main/scala/org/apache/spark/examples/mllib/GradientBoostingRegressionExample.scala\n",
            "spark-3.3.1-bin-hadoop3/examples/src/main/scala/org/apache/spark/examples/mllib/HypothesisTestingExample.scala\n",
            "spark-3.3.1-bin-hadoop3/examples/src/main/scala/org/apache/spark/examples/mllib/HypothesisTestingKolmogorovSmirnovTestExample.scala\n",
            "spark-3.3.1-bin-hadoop3/examples/src/main/scala/org/apache/spark/examples/mllib/IsotonicRegressionExample.scala\n",
            "spark-3.3.1-bin-hadoop3/examples/src/main/scala/org/apache/spark/examples/mllib/KMeansExample.scala\n",
            "spark-3.3.1-bin-hadoop3/examples/src/main/scala/org/apache/spark/examples/mllib/KernelDensityEstimationExample.scala\n",
            "spark-3.3.1-bin-hadoop3/examples/src/main/scala/org/apache/spark/examples/mllib/LBFGSExample.scala\n",
            "spark-3.3.1-bin-hadoop3/examples/src/main/scala/org/apache/spark/examples/mllib/LDAExample.scala\n",
            "spark-3.3.1-bin-hadoop3/examples/src/main/scala/org/apache/spark/examples/mllib/LatentDirichletAllocationExample.scala\n",
            "spark-3.3.1-bin-hadoop3/examples/src/main/scala/org/apache/spark/examples/mllib/LogisticRegressionWithLBFGSExample.scala\n",
            "spark-3.3.1-bin-hadoop3/examples/src/main/scala/org/apache/spark/examples/mllib/MovieLensALS.scala\n",
            "spark-3.3.1-bin-hadoop3/examples/src/main/scala/org/apache/spark/examples/mllib/MultiLabelMetricsExample.scala\n",
            "spark-3.3.1-bin-hadoop3/examples/src/main/scala/org/apache/spark/examples/mllib/MulticlassMetricsExample.scala\n",
            "spark-3.3.1-bin-hadoop3/examples/src/main/scala/org/apache/spark/examples/mllib/MultivariateSummarizer.scala\n",
            "spark-3.3.1-bin-hadoop3/examples/src/main/scala/org/apache/spark/examples/mllib/NaiveBayesExample.scala\n",
            "spark-3.3.1-bin-hadoop3/examples/src/main/scala/org/apache/spark/examples/mllib/NormalizerExample.scala\n",
            "spark-3.3.1-bin-hadoop3/examples/src/main/scala/org/apache/spark/examples/mllib/PCAOnRowMatrixExample.scala\n",
            "spark-3.3.1-bin-hadoop3/examples/src/main/scala/org/apache/spark/examples/mllib/PCAOnSourceVectorExample.scala\n",
            "spark-3.3.1-bin-hadoop3/examples/src/main/scala/org/apache/spark/examples/mllib/PMMLModelExportExample.scala\n",
            "spark-3.3.1-bin-hadoop3/examples/src/main/scala/org/apache/spark/examples/mllib/PowerIterationClusteringExample.scala\n",
            "spark-3.3.1-bin-hadoop3/examples/src/main/scala/org/apache/spark/examples/mllib/PrefixSpanExample.scala\n",
            "spark-3.3.1-bin-hadoop3/examples/src/main/scala/org/apache/spark/examples/mllib/RandomForestClassificationExample.scala\n",
            "spark-3.3.1-bin-hadoop3/examples/src/main/scala/org/apache/spark/examples/mllib/RandomForestRegressionExample.scala\n",
            "spark-3.3.1-bin-hadoop3/examples/src/main/scala/org/apache/spark/examples/mllib/RandomRDDGeneration.scala\n",
            "spark-3.3.1-bin-hadoop3/examples/src/main/scala/org/apache/spark/examples/mllib/RankingMetricsExample.scala\n",
            "spark-3.3.1-bin-hadoop3/examples/src/main/scala/org/apache/spark/examples/mllib/RecommendationExample.scala\n",
            "spark-3.3.1-bin-hadoop3/examples/src/main/scala/org/apache/spark/examples/mllib/SVDExample.scala\n",
            "spark-3.3.1-bin-hadoop3/examples/src/main/scala/org/apache/spark/examples/mllib/SVMWithSGDExample.scala\n",
            "spark-3.3.1-bin-hadoop3/examples/src/main/scala/org/apache/spark/examples/mllib/SampledRDDs.scala\n",
            "spark-3.3.1-bin-hadoop3/examples/src/main/scala/org/apache/spark/examples/mllib/SimpleFPGrowth.scala\n",
            "spark-3.3.1-bin-hadoop3/examples/src/main/scala/org/apache/spark/examples/mllib/SparseNaiveBayes.scala\n",
            "spark-3.3.1-bin-hadoop3/examples/src/main/scala/org/apache/spark/examples/mllib/StandardScalerExample.scala\n",
            "spark-3.3.1-bin-hadoop3/examples/src/main/scala/org/apache/spark/examples/mllib/StratifiedSamplingExample.scala\n",
            "spark-3.3.1-bin-hadoop3/examples/src/main/scala/org/apache/spark/examples/mllib/StreamingKMeansExample.scala\n",
            "spark-3.3.1-bin-hadoop3/examples/src/main/scala/org/apache/spark/examples/mllib/StreamingLinearRegressionExample.scala\n",
            "spark-3.3.1-bin-hadoop3/examples/src/main/scala/org/apache/spark/examples/mllib/StreamingLogisticRegression.scala\n",
            "spark-3.3.1-bin-hadoop3/examples/src/main/scala/org/apache/spark/examples/mllib/StreamingTestExample.scala\n",
            "spark-3.3.1-bin-hadoop3/examples/src/main/scala/org/apache/spark/examples/mllib/SummaryStatisticsExample.scala\n",
            "spark-3.3.1-bin-hadoop3/examples/src/main/scala/org/apache/spark/examples/mllib/TFIDFExample.scala\n",
            "spark-3.3.1-bin-hadoop3/examples/src/main/scala/org/apache/spark/examples/mllib/TallSkinnyPCA.scala\n",
            "spark-3.3.1-bin-hadoop3/examples/src/main/scala/org/apache/spark/examples/mllib/TallSkinnySVD.scala\n",
            "spark-3.3.1-bin-hadoop3/examples/src/main/scala/org/apache/spark/examples/mllib/Word2VecExample.scala\n",
            "spark-3.3.1-bin-hadoop3/examples/src/main/scala/org/apache/spark/examples/pythonconverters/\n",
            "spark-3.3.1-bin-hadoop3/examples/src/main/scala/org/apache/spark/examples/pythonconverters/AvroConverters.scala\n",
            "spark-3.3.1-bin-hadoop3/examples/src/main/scala/org/apache/spark/examples/sql/\n",
            "spark-3.3.1-bin-hadoop3/examples/src/main/scala/org/apache/spark/examples/sql/RDDRelation.scala\n",
            "spark-3.3.1-bin-hadoop3/examples/src/main/scala/org/apache/spark/examples/sql/SQLDataSourceExample.scala\n",
            "spark-3.3.1-bin-hadoop3/examples/src/main/scala/org/apache/spark/examples/sql/SimpleTypedAggregator.scala\n",
            "spark-3.3.1-bin-hadoop3/examples/src/main/scala/org/apache/spark/examples/sql/SparkSQLExample.scala\n",
            "spark-3.3.1-bin-hadoop3/examples/src/main/scala/org/apache/spark/examples/sql/UserDefinedScalar.scala\n",
            "spark-3.3.1-bin-hadoop3/examples/src/main/scala/org/apache/spark/examples/sql/UserDefinedTypedAggregation.scala\n",
            "spark-3.3.1-bin-hadoop3/examples/src/main/scala/org/apache/spark/examples/sql/UserDefinedUntypedAggregation.scala\n",
            "spark-3.3.1-bin-hadoop3/examples/src/main/scala/org/apache/spark/examples/sql/hive/\n",
            "spark-3.3.1-bin-hadoop3/examples/src/main/scala/org/apache/spark/examples/sql/hive/SparkHiveExample.scala\n",
            "spark-3.3.1-bin-hadoop3/examples/src/main/scala/org/apache/spark/examples/sql/jdbc/\n",
            "spark-3.3.1-bin-hadoop3/examples/src/main/scala/org/apache/spark/examples/sql/jdbc/ExampleJdbcConnectionProvider.scala\n",
            "spark-3.3.1-bin-hadoop3/examples/src/main/scala/org/apache/spark/examples/sql/streaming/\n",
            "spark-3.3.1-bin-hadoop3/examples/src/main/scala/org/apache/spark/examples/sql/streaming/StructuredComplexSessionization.scala\n",
            "spark-3.3.1-bin-hadoop3/examples/src/main/scala/org/apache/spark/examples/sql/streaming/StructuredKafkaWordCount.scala\n",
            "spark-3.3.1-bin-hadoop3/examples/src/main/scala/org/apache/spark/examples/sql/streaming/StructuredKerberizedKafkaWordCount.scala\n",
            "spark-3.3.1-bin-hadoop3/examples/src/main/scala/org/apache/spark/examples/sql/streaming/StructuredNetworkWordCount.scala\n",
            "spark-3.3.1-bin-hadoop3/examples/src/main/scala/org/apache/spark/examples/sql/streaming/StructuredNetworkWordCountWindowed.scala\n",
            "spark-3.3.1-bin-hadoop3/examples/src/main/scala/org/apache/spark/examples/sql/streaming/StructuredSessionization.scala\n",
            "spark-3.3.1-bin-hadoop3/examples/src/main/scala/org/apache/spark/examples/streaming/\n",
            "spark-3.3.1-bin-hadoop3/examples/src/main/scala/org/apache/spark/examples/streaming/CustomReceiver.scala\n",
            "spark-3.3.1-bin-hadoop3/examples/src/main/scala/org/apache/spark/examples/streaming/DirectKafkaWordCount.scala\n",
            "spark-3.3.1-bin-hadoop3/examples/src/main/scala/org/apache/spark/examples/streaming/DirectKerberizedKafkaWordCount.scala\n",
            "spark-3.3.1-bin-hadoop3/examples/src/main/scala/org/apache/spark/examples/streaming/HdfsWordCount.scala\n",
            "spark-3.3.1-bin-hadoop3/examples/src/main/scala/org/apache/spark/examples/streaming/NetworkWordCount.scala\n",
            "spark-3.3.1-bin-hadoop3/examples/src/main/scala/org/apache/spark/examples/streaming/QueueStream.scala\n",
            "spark-3.3.1-bin-hadoop3/examples/src/main/scala/org/apache/spark/examples/streaming/RawNetworkGrep.scala\n",
            "spark-3.3.1-bin-hadoop3/examples/src/main/scala/org/apache/spark/examples/streaming/RecoverableNetworkWordCount.scala\n",
            "spark-3.3.1-bin-hadoop3/examples/src/main/scala/org/apache/spark/examples/streaming/SqlNetworkWordCount.scala\n",
            "spark-3.3.1-bin-hadoop3/examples/src/main/scala/org/apache/spark/examples/streaming/StatefulNetworkWordCount.scala\n",
            "spark-3.3.1-bin-hadoop3/examples/src/main/scala/org/apache/spark/examples/streaming/StreamingExamples.scala\n",
            "spark-3.3.1-bin-hadoop3/examples/src/main/scala/org/apache/spark/examples/streaming/clickstream/\n",
            "spark-3.3.1-bin-hadoop3/examples/src/main/scala/org/apache/spark/examples/streaming/clickstream/PageViewGenerator.scala\n",
            "spark-3.3.1-bin-hadoop3/examples/src/main/scala/org/apache/spark/examples/streaming/clickstream/PageViewStream.scala\n",
            "spark-3.3.1-bin-hadoop3/examples/src/main/scripts/\n",
            "spark-3.3.1-bin-hadoop3/examples/src/main/scripts/getGpusResources.sh\n",
            "spark-3.3.1-bin-hadoop3/jars/\n",
            "spark-3.3.1-bin-hadoop3/jars/HikariCP-2.5.1.jar\n",
            "spark-3.3.1-bin-hadoop3/jars/JLargeArrays-1.5.jar\n",
            "spark-3.3.1-bin-hadoop3/jars/JTransforms-3.1.jar\n",
            "spark-3.3.1-bin-hadoop3/jars/RoaringBitmap-0.9.25.jar\n",
            "spark-3.3.1-bin-hadoop3/jars/ST4-4.0.4.jar\n",
            "spark-3.3.1-bin-hadoop3/jars/activation-1.1.1.jar\n",
            "spark-3.3.1-bin-hadoop3/jars/aircompressor-0.21.jar\n",
            "spark-3.3.1-bin-hadoop3/jars/algebra_2.12-2.0.1.jar\n",
            "spark-3.3.1-bin-hadoop3/jars/annotations-17.0.0.jar\n",
            "spark-3.3.1-bin-hadoop3/jars/antlr-runtime-3.5.2.jar\n",
            "spark-3.3.1-bin-hadoop3/jars/antlr4-runtime-4.8.jar\n",
            "spark-3.3.1-bin-hadoop3/jars/aopalliance-repackaged-2.6.1.jar\n",
            "spark-3.3.1-bin-hadoop3/jars/arpack-2.2.1.jar\n",
            "spark-3.3.1-bin-hadoop3/jars/arpack_combined_all-0.1.jar\n",
            "spark-3.3.1-bin-hadoop3/jars/arrow-format-7.0.0.jar\n",
            "spark-3.3.1-bin-hadoop3/jars/arrow-memory-core-7.0.0.jar\n",
            "spark-3.3.1-bin-hadoop3/jars/arrow-memory-netty-7.0.0.jar\n",
            "spark-3.3.1-bin-hadoop3/jars/arrow-vector-7.0.0.jar\n",
            "spark-3.3.1-bin-hadoop3/jars/audience-annotations-0.5.0.jar\n",
            "spark-3.3.1-bin-hadoop3/jars/automaton-1.11-8.jar\n",
            "spark-3.3.1-bin-hadoop3/jars/avro-1.11.0.jar\n",
            "spark-3.3.1-bin-hadoop3/jars/avro-ipc-1.11.0.jar\n",
            "spark-3.3.1-bin-hadoop3/jars/avro-mapred-1.11.0.jar\n",
            "spark-3.3.1-bin-hadoop3/jars/blas-2.2.1.jar\n",
            "spark-3.3.1-bin-hadoop3/jars/bonecp-0.8.0.RELEASE.jar\n",
            "spark-3.3.1-bin-hadoop3/jars/breeze-macros_2.12-1.2.jar\n",
            "spark-3.3.1-bin-hadoop3/jars/breeze_2.12-1.2.jar\n",
            "spark-3.3.1-bin-hadoop3/jars/cats-kernel_2.12-2.1.1.jar\n",
            "spark-3.3.1-bin-hadoop3/jars/chill-java-0.10.0.jar\n",
            "spark-3.3.1-bin-hadoop3/jars/chill_2.12-0.10.0.jar\n",
            "spark-3.3.1-bin-hadoop3/jars/commons-cli-1.5.0.jar\n",
            "spark-3.3.1-bin-hadoop3/jars/commons-codec-1.15.jar\n",
            "spark-3.3.1-bin-hadoop3/jars/commons-collections-3.2.2.jar\n",
            "spark-3.3.1-bin-hadoop3/jars/commons-collections4-4.4.jar\n",
            "spark-3.3.1-bin-hadoop3/jars/commons-compiler-3.0.16.jar\n",
            "spark-3.3.1-bin-hadoop3/jars/commons-compress-1.21.jar\n",
            "spark-3.3.1-bin-hadoop3/jars/commons-crypto-1.1.0.jar\n",
            "spark-3.3.1-bin-hadoop3/jars/commons-dbcp-1.4.jar\n",
            "spark-3.3.1-bin-hadoop3/jars/commons-io-2.11.0.jar\n",
            "spark-3.3.1-bin-hadoop3/jars/commons-lang-2.6.jar\n",
            "spark-3.3.1-bin-hadoop3/jars/commons-lang3-3.12.0.jar\n",
            "spark-3.3.1-bin-hadoop3/jars/commons-logging-1.1.3.jar\n",
            "spark-3.3.1-bin-hadoop3/jars/commons-math3-3.6.1.jar\n",
            "spark-3.3.1-bin-hadoop3/jars/commons-pool-1.5.4.jar\n",
            "spark-3.3.1-bin-hadoop3/jars/commons-text-1.9.jar\n",
            "spark-3.3.1-bin-hadoop3/jars/compress-lzf-1.1.jar\n",
            "spark-3.3.1-bin-hadoop3/jars/core-1.1.2.jar\n",
            "spark-3.3.1-bin-hadoop3/jars/curator-client-2.13.0.jar\n",
            "spark-3.3.1-bin-hadoop3/jars/curator-framework-2.13.0.jar\n",
            "spark-3.3.1-bin-hadoop3/jars/curator-recipes-2.13.0.jar\n",
            "spark-3.3.1-bin-hadoop3/jars/datanucleus-api-jdo-4.2.4.jar\n",
            "spark-3.3.1-bin-hadoop3/jars/datanucleus-core-4.1.17.jar\n",
            "spark-3.3.1-bin-hadoop3/jars/datanucleus-rdbms-4.1.19.jar\n",
            "spark-3.3.1-bin-hadoop3/jars/derby-10.14.2.0.jar\n",
            "spark-3.3.1-bin-hadoop3/jars/dropwizard-metrics-hadoop-metrics2-reporter-0.1.2.jar\n",
            "spark-3.3.1-bin-hadoop3/jars/flatbuffers-java-1.12.0.jar\n",
            "spark-3.3.1-bin-hadoop3/jars/generex-1.0.2.jar\n",
            "spark-3.3.1-bin-hadoop3/jars/gson-2.2.4.jar\n",
            "spark-3.3.1-bin-hadoop3/jars/guava-14.0.1.jar\n",
            "spark-3.3.1-bin-hadoop3/jars/hadoop-client-api-3.3.2.jar\n",
            "spark-3.3.1-bin-hadoop3/jars/hadoop-client-runtime-3.3.2.jar\n",
            "spark-3.3.1-bin-hadoop3/jars/hadoop-shaded-guava-1.1.1.jar\n",
            "spark-3.3.1-bin-hadoop3/jars/hadoop-yarn-server-web-proxy-3.3.2.jar\n",
            "spark-3.3.1-bin-hadoop3/jars/hive-beeline-2.3.9.jar\n",
            "spark-3.3.1-bin-hadoop3/jars/hive-cli-2.3.9.jar\n",
            "spark-3.3.1-bin-hadoop3/jars/hive-common-2.3.9.jar\n",
            "spark-3.3.1-bin-hadoop3/jars/hive-exec-2.3.9-core.jar\n",
            "spark-3.3.1-bin-hadoop3/jars/hive-jdbc-2.3.9.jar\n",
            "spark-3.3.1-bin-hadoop3/jars/hive-llap-common-2.3.9.jar\n",
            "spark-3.3.1-bin-hadoop3/jars/hive-metastore-2.3.9.jar\n",
            "spark-3.3.1-bin-hadoop3/jars/hive-serde-2.3.9.jar\n",
            "spark-3.3.1-bin-hadoop3/jars/hive-service-rpc-3.1.2.jar\n",
            "spark-3.3.1-bin-hadoop3/jars/hive-shims-0.23-2.3.9.jar\n",
            "spark-3.3.1-bin-hadoop3/jars/hive-shims-2.3.9.jar\n",
            "spark-3.3.1-bin-hadoop3/jars/hive-shims-common-2.3.9.jar\n",
            "spark-3.3.1-bin-hadoop3/jars/hive-shims-scheduler-2.3.9.jar\n",
            "spark-3.3.1-bin-hadoop3/jars/hive-storage-api-2.7.2.jar\n",
            "spark-3.3.1-bin-hadoop3/jars/hive-vector-code-gen-2.3.9.jar\n",
            "spark-3.3.1-bin-hadoop3/jars/hk2-api-2.6.1.jar\n",
            "spark-3.3.1-bin-hadoop3/jars/hk2-locator-2.6.1.jar\n",
            "spark-3.3.1-bin-hadoop3/jars/hk2-utils-2.6.1.jar\n",
            "spark-3.3.1-bin-hadoop3/jars/httpclient-4.5.13.jar\n",
            "spark-3.3.1-bin-hadoop3/jars/httpcore-4.4.14.jar\n",
            "spark-3.3.1-bin-hadoop3/jars/istack-commons-runtime-3.0.8.jar\n",
            "spark-3.3.1-bin-hadoop3/jars/ivy-2.5.0.jar\n",
            "spark-3.3.1-bin-hadoop3/jars/jackson-annotations-2.13.4.jar\n",
            "spark-3.3.1-bin-hadoop3/jars/jackson-core-2.13.4.jar\n",
            "spark-3.3.1-bin-hadoop3/jars/jackson-core-asl-1.9.13.jar\n",
            "spark-3.3.1-bin-hadoop3/jars/jackson-databind-2.13.4.1.jar\n",
            "spark-3.3.1-bin-hadoop3/jars/jackson-dataformat-yaml-2.13.4.jar\n",
            "spark-3.3.1-bin-hadoop3/jars/jackson-datatype-jsr310-2.13.4.jar\n",
            "spark-3.3.1-bin-hadoop3/jars/jackson-mapper-asl-1.9.13.jar\n",
            "spark-3.3.1-bin-hadoop3/jars/jackson-module-scala_2.12-2.13.4.jar\n",
            "spark-3.3.1-bin-hadoop3/jars/jakarta.annotation-api-1.3.5.jar\n",
            "spark-3.3.1-bin-hadoop3/jars/jakarta.inject-2.6.1.jar\n",
            "spark-3.3.1-bin-hadoop3/jars/jakarta.servlet-api-4.0.3.jar\n",
            "spark-3.3.1-bin-hadoop3/jars/jakarta.validation-api-2.0.2.jar\n",
            "spark-3.3.1-bin-hadoop3/jars/jakarta.ws.rs-api-2.1.6.jar\n",
            "spark-3.3.1-bin-hadoop3/jars/jakarta.xml.bind-api-2.3.2.jar\n",
            "spark-3.3.1-bin-hadoop3/jars/janino-3.0.16.jar\n",
            "spark-3.3.1-bin-hadoop3/jars/javassist-3.25.0-GA.jar\n",
            "spark-3.3.1-bin-hadoop3/jars/javax.jdo-3.2.0-m3.jar\n",
            "spark-3.3.1-bin-hadoop3/jars/javolution-5.5.1.jar\n",
            "spark-3.3.1-bin-hadoop3/jars/jaxb-runtime-2.3.2.jar\n",
            "spark-3.3.1-bin-hadoop3/jars/jcl-over-slf4j-1.7.32.jar\n",
            "spark-3.3.1-bin-hadoop3/jars/jdo-api-3.0.1.jar\n",
            "spark-3.3.1-bin-hadoop3/jars/jersey-client-2.36.jar\n",
            "spark-3.3.1-bin-hadoop3/jars/jersey-common-2.36.jar\n",
            "spark-3.3.1-bin-hadoop3/jars/jersey-container-servlet-2.36.jar\n",
            "spark-3.3.1-bin-hadoop3/jars/jersey-container-servlet-core-2.36.jar\n",
            "spark-3.3.1-bin-hadoop3/jars/jersey-hk2-2.36.jar\n",
            "spark-3.3.1-bin-hadoop3/jars/jersey-server-2.36.jar\n",
            "spark-3.3.1-bin-hadoop3/jars/jline-2.14.6.jar\n",
            "spark-3.3.1-bin-hadoop3/jars/joda-time-2.10.13.jar\n",
            "spark-3.3.1-bin-hadoop3/jars/jodd-core-3.5.2.jar\n",
            "spark-3.3.1-bin-hadoop3/jars/jpam-1.1.jar\n",
            "spark-3.3.1-bin-hadoop3/jars/json-1.8.jar\n",
            "spark-3.3.1-bin-hadoop3/jars/json4s-ast_2.12-3.7.0-M11.jar\n",
            "spark-3.3.1-bin-hadoop3/jars/json4s-core_2.12-3.7.0-M11.jar\n",
            "spark-3.3.1-bin-hadoop3/jars/json4s-jackson_2.12-3.7.0-M11.jar\n",
            "spark-3.3.1-bin-hadoop3/jars/json4s-scalap_2.12-3.7.0-M11.jar\n",
            "spark-3.3.1-bin-hadoop3/jars/jsr305-3.0.0.jar\n",
            "spark-3.3.1-bin-hadoop3/jars/jta-1.1.jar\n",
            "spark-3.3.1-bin-hadoop3/jars/jul-to-slf4j-1.7.32.jar\n",
            "spark-3.3.1-bin-hadoop3/jars/kryo-shaded-4.0.2.jar\n",
            "spark-3.3.1-bin-hadoop3/jars/kubernetes-client-5.12.2.jar\n",
            "spark-3.3.1-bin-hadoop3/jars/kubernetes-model-admissionregistration-5.12.2.jar\n",
            "spark-3.3.1-bin-hadoop3/jars/kubernetes-model-apiextensions-5.12.2.jar\n",
            "spark-3.3.1-bin-hadoop3/jars/kubernetes-model-apps-5.12.2.jar\n",
            "spark-3.3.1-bin-hadoop3/jars/kubernetes-model-autoscaling-5.12.2.jar\n",
            "spark-3.3.1-bin-hadoop3/jars/kubernetes-model-batch-5.12.2.jar\n",
            "spark-3.3.1-bin-hadoop3/jars/kubernetes-model-certificates-5.12.2.jar\n",
            "spark-3.3.1-bin-hadoop3/jars/kubernetes-model-common-5.12.2.jar\n",
            "spark-3.3.1-bin-hadoop3/jars/kubernetes-model-coordination-5.12.2.jar\n",
            "spark-3.3.1-bin-hadoop3/jars/kubernetes-model-core-5.12.2.jar\n",
            "spark-3.3.1-bin-hadoop3/jars/kubernetes-model-discovery-5.12.2.jar\n",
            "spark-3.3.1-bin-hadoop3/jars/kubernetes-model-events-5.12.2.jar\n",
            "spark-3.3.1-bin-hadoop3/jars/kubernetes-model-extensions-5.12.2.jar\n",
            "spark-3.3.1-bin-hadoop3/jars/kubernetes-model-flowcontrol-5.12.2.jar\n",
            "spark-3.3.1-bin-hadoop3/jars/kubernetes-model-metrics-5.12.2.jar\n",
            "spark-3.3.1-bin-hadoop3/jars/kubernetes-model-networking-5.12.2.jar\n",
            "spark-3.3.1-bin-hadoop3/jars/kubernetes-model-node-5.12.2.jar\n",
            "spark-3.3.1-bin-hadoop3/jars/kubernetes-model-policy-5.12.2.jar\n",
            "spark-3.3.1-bin-hadoop3/jars/kubernetes-model-rbac-5.12.2.jar\n",
            "spark-3.3.1-bin-hadoop3/jars/kubernetes-model-scheduling-5.12.2.jar\n",
            "spark-3.3.1-bin-hadoop3/jars/kubernetes-model-storageclass-5.12.2.jar\n",
            "spark-3.3.1-bin-hadoop3/jars/lapack-2.2.1.jar\n",
            "spark-3.3.1-bin-hadoop3/jars/leveldbjni-all-1.8.jar\n",
            "spark-3.3.1-bin-hadoop3/jars/libfb303-0.9.3.jar\n",
            "spark-3.3.1-bin-hadoop3/jars/libthrift-0.12.0.jar\n",
            "spark-3.3.1-bin-hadoop3/jars/log4j-1.2-api-2.17.2.jar\n",
            "spark-3.3.1-bin-hadoop3/jars/log4j-api-2.17.2.jar\n",
            "spark-3.3.1-bin-hadoop3/jars/log4j-core-2.17.2.jar\n",
            "spark-3.3.1-bin-hadoop3/jars/log4j-slf4j-impl-2.17.2.jar\n",
            "spark-3.3.1-bin-hadoop3/jars/logging-interceptor-3.12.12.jar\n",
            "spark-3.3.1-bin-hadoop3/jars/lz4-java-1.8.0.jar\n",
            "spark-3.3.1-bin-hadoop3/jars/mesos-1.4.3-shaded-protobuf.jar\n",
            "spark-3.3.1-bin-hadoop3/jars/metrics-core-4.2.7.jar\n",
            "spark-3.3.1-bin-hadoop3/jars/metrics-graphite-4.2.7.jar\n",
            "spark-3.3.1-bin-hadoop3/jars/metrics-jmx-4.2.7.jar\n",
            "spark-3.3.1-bin-hadoop3/jars/metrics-json-4.2.7.jar\n",
            "spark-3.3.1-bin-hadoop3/jars/metrics-jvm-4.2.7.jar\n",
            "spark-3.3.1-bin-hadoop3/jars/minlog-1.3.0.jar\n",
            "spark-3.3.1-bin-hadoop3/jars/netty-all-4.1.74.Final.jar\n",
            "spark-3.3.1-bin-hadoop3/jars/netty-buffer-4.1.74.Final.jar\n",
            "spark-3.3.1-bin-hadoop3/jars/netty-codec-4.1.74.Final.jar\n",
            "spark-3.3.1-bin-hadoop3/jars/netty-common-4.1.74.Final.jar\n",
            "spark-3.3.1-bin-hadoop3/jars/netty-handler-4.1.74.Final.jar\n",
            "spark-3.3.1-bin-hadoop3/jars/netty-resolver-4.1.74.Final.jar\n",
            "spark-3.3.1-bin-hadoop3/jars/netty-tcnative-classes-2.0.48.Final.jar\n",
            "spark-3.3.1-bin-hadoop3/jars/netty-transport-4.1.74.Final.jar\n",
            "spark-3.3.1-bin-hadoop3/jars/netty-transport-classes-epoll-4.1.74.Final.jar\n",
            "spark-3.3.1-bin-hadoop3/jars/netty-transport-classes-kqueue-4.1.74.Final.jar\n",
            "spark-3.3.1-bin-hadoop3/jars/netty-transport-native-epoll-4.1.74.Final-linux-aarch_64.jar\n",
            "spark-3.3.1-bin-hadoop3/jars/netty-transport-native-epoll-4.1.74.Final-linux-x86_64.jar\n",
            "spark-3.3.1-bin-hadoop3/jars/netty-transport-native-kqueue-4.1.74.Final-osx-aarch_64.jar\n",
            "spark-3.3.1-bin-hadoop3/jars/netty-transport-native-kqueue-4.1.74.Final-osx-x86_64.jar\n",
            "spark-3.3.1-bin-hadoop3/jars/netty-transport-native-unix-common-4.1.74.Final.jar\n",
            "spark-3.3.1-bin-hadoop3/jars/objenesis-3.2.jar\n",
            "spark-3.3.1-bin-hadoop3/jars/okhttp-3.12.12.jar\n",
            "spark-3.3.1-bin-hadoop3/jars/okio-1.14.0.jar\n",
            "spark-3.3.1-bin-hadoop3/jars/opencsv-2.3.jar\n",
            "spark-3.3.1-bin-hadoop3/jars/orc-core-1.7.6.jar\n",
            "spark-3.3.1-bin-hadoop3/jars/orc-mapreduce-1.7.6.jar\n",
            "spark-3.3.1-bin-hadoop3/jars/orc-shims-1.7.6.jar\n",
            "spark-3.3.1-bin-hadoop3/jars/oro-2.0.8.jar\n",
            "spark-3.3.1-bin-hadoop3/jars/osgi-resource-locator-1.0.3.jar\n",
            "spark-3.3.1-bin-hadoop3/jars/paranamer-2.8.jar\n",
            "spark-3.3.1-bin-hadoop3/jars/parquet-column-1.12.2.jar\n",
            "spark-3.3.1-bin-hadoop3/jars/parquet-common-1.12.2.jar\n",
            "spark-3.3.1-bin-hadoop3/jars/parquet-encoding-1.12.2.jar\n",
            "spark-3.3.1-bin-hadoop3/jars/parquet-format-structures-1.12.2.jar\n",
            "spark-3.3.1-bin-hadoop3/jars/parquet-hadoop-1.12.2.jar\n",
            "spark-3.3.1-bin-hadoop3/jars/parquet-jackson-1.12.2.jar\n",
            "spark-3.3.1-bin-hadoop3/jars/pickle-1.2.jar\n",
            "spark-3.3.1-bin-hadoop3/jars/protobuf-java-2.5.0.jar\n",
            "spark-3.3.1-bin-hadoop3/jars/py4j-0.10.9.5.jar\n",
            "spark-3.3.1-bin-hadoop3/jars/rocksdbjni-6.20.3.jar\n",
            "spark-3.3.1-bin-hadoop3/jars/scala-collection-compat_2.12-2.1.1.jar\n",
            "spark-3.3.1-bin-hadoop3/jars/scala-compiler-2.12.15.jar\n",
            "spark-3.3.1-bin-hadoop3/jars/scala-library-2.12.15.jar\n",
            "spark-3.3.1-bin-hadoop3/jars/scala-parser-combinators_2.12-1.1.2.jar\n",
            "spark-3.3.1-bin-hadoop3/jars/scala-reflect-2.12.15.jar\n",
            "spark-3.3.1-bin-hadoop3/jars/scala-xml_2.12-1.2.0.jar\n",
            "spark-3.3.1-bin-hadoop3/jars/shapeless_2.12-2.3.7.jar\n",
            "spark-3.3.1-bin-hadoop3/jars/shims-0.9.25.jar\n",
            "spark-3.3.1-bin-hadoop3/jars/slf4j-api-1.7.32.jar\n",
            "spark-3.3.1-bin-hadoop3/jars/snakeyaml-1.31.jar\n",
            "spark-3.3.1-bin-hadoop3/jars/snappy-java-1.1.8.4.jar\n",
            "spark-3.3.1-bin-hadoop3/jars/spark-catalyst_2.12-3.3.1.jar\n",
            "spark-3.3.1-bin-hadoop3/jars/spark-core_2.12-3.3.1.jar\n",
            "spark-3.3.1-bin-hadoop3/jars/spark-graphx_2.12-3.3.1.jar\n",
            "spark-3.3.1-bin-hadoop3/jars/spark-hive-thriftserver_2.12-3.3.1.jar\n",
            "spark-3.3.1-bin-hadoop3/jars/spark-hive_2.12-3.3.1.jar\n",
            "spark-3.3.1-bin-hadoop3/jars/spark-kubernetes_2.12-3.3.1.jar\n",
            "spark-3.3.1-bin-hadoop3/jars/spark-kvstore_2.12-3.3.1.jar\n",
            "spark-3.3.1-bin-hadoop3/jars/spark-launcher_2.12-3.3.1.jar\n",
            "spark-3.3.1-bin-hadoop3/jars/spark-mesos_2.12-3.3.1.jar\n",
            "spark-3.3.1-bin-hadoop3/jars/spark-mllib-local_2.12-3.3.1.jar\n",
            "spark-3.3.1-bin-hadoop3/jars/spark-mllib_2.12-3.3.1.jar\n",
            "spark-3.3.1-bin-hadoop3/jars/spark-network-common_2.12-3.3.1.jar\n",
            "spark-3.3.1-bin-hadoop3/jars/spark-network-shuffle_2.12-3.3.1.jar\n",
            "spark-3.3.1-bin-hadoop3/jars/spark-repl_2.12-3.3.1.jar\n",
            "spark-3.3.1-bin-hadoop3/jars/spark-sketch_2.12-3.3.1.jar\n",
            "spark-3.3.1-bin-hadoop3/jars/spark-sql_2.12-3.3.1.jar\n",
            "spark-3.3.1-bin-hadoop3/jars/spark-streaming_2.12-3.3.1.jar\n",
            "spark-3.3.1-bin-hadoop3/jars/spark-tags_2.12-3.3.1-tests.jar\n",
            "spark-3.3.1-bin-hadoop3/jars/spark-tags_2.12-3.3.1.jar\n",
            "spark-3.3.1-bin-hadoop3/jars/spark-unsafe_2.12-3.3.1.jar\n",
            "spark-3.3.1-bin-hadoop3/jars/spark-yarn_2.12-3.3.1.jar\n",
            "spark-3.3.1-bin-hadoop3/jars/spire-macros_2.12-0.17.0.jar\n",
            "spark-3.3.1-bin-hadoop3/jars/spire-platform_2.12-0.17.0.jar\n",
            "spark-3.3.1-bin-hadoop3/jars/spire-util_2.12-0.17.0.jar\n",
            "spark-3.3.1-bin-hadoop3/jars/spire_2.12-0.17.0.jar\n",
            "spark-3.3.1-bin-hadoop3/jars/stax-api-1.0.1.jar\n",
            "spark-3.3.1-bin-hadoop3/jars/stream-2.9.6.jar\n",
            "spark-3.3.1-bin-hadoop3/jars/super-csv-2.2.0.jar\n",
            "spark-3.3.1-bin-hadoop3/jars/threeten-extra-1.5.0.jar\n",
            "spark-3.3.1-bin-hadoop3/jars/tink-1.6.1.jar\n",
            "spark-3.3.1-bin-hadoop3/jars/transaction-api-1.1.jar\n",
            "spark-3.3.1-bin-hadoop3/jars/univocity-parsers-2.9.1.jar\n",
            "spark-3.3.1-bin-hadoop3/jars/velocity-1.5.jar\n",
            "spark-3.3.1-bin-hadoop3/jars/xbean-asm9-shaded-4.20.jar\n",
            "spark-3.3.1-bin-hadoop3/jars/xz-1.8.jar\n",
            "spark-3.3.1-bin-hadoop3/jars/zjsonpatch-0.3.0.jar\n",
            "spark-3.3.1-bin-hadoop3/jars/zookeeper-3.6.2.jar\n",
            "spark-3.3.1-bin-hadoop3/jars/zookeeper-jute-3.6.2.jar\n",
            "spark-3.3.1-bin-hadoop3/jars/zstd-jni-1.5.2-1.jar\n",
            "spark-3.3.1-bin-hadoop3/kubernetes/\n",
            "spark-3.3.1-bin-hadoop3/kubernetes/dockerfiles/\n",
            "spark-3.3.1-bin-hadoop3/kubernetes/dockerfiles/spark/\n",
            "spark-3.3.1-bin-hadoop3/kubernetes/dockerfiles/spark/Dockerfile\n",
            "spark-3.3.1-bin-hadoop3/kubernetes/dockerfiles/spark/Dockerfile.java17\n",
            "spark-3.3.1-bin-hadoop3/kubernetes/dockerfiles/spark/bindings/\n",
            "spark-3.3.1-bin-hadoop3/kubernetes/dockerfiles/spark/bindings/R/\n",
            "spark-3.3.1-bin-hadoop3/kubernetes/dockerfiles/spark/bindings/R/Dockerfile\n",
            "spark-3.3.1-bin-hadoop3/kubernetes/dockerfiles/spark/bindings/python/\n",
            "spark-3.3.1-bin-hadoop3/kubernetes/dockerfiles/spark/bindings/python/Dockerfile\n",
            "spark-3.3.1-bin-hadoop3/kubernetes/dockerfiles/spark/decom.sh\n",
            "spark-3.3.1-bin-hadoop3/kubernetes/dockerfiles/spark/entrypoint.sh\n",
            "spark-3.3.1-bin-hadoop3/kubernetes/tests/\n",
            "spark-3.3.1-bin-hadoop3/kubernetes/tests/autoscale.py\n",
            "spark-3.3.1-bin-hadoop3/kubernetes/tests/decommissioning.py\n",
            "spark-3.3.1-bin-hadoop3/kubernetes/tests/decommissioning_cleanup.py\n",
            "spark-3.3.1-bin-hadoop3/kubernetes/tests/py_container_checks.py\n",
            "spark-3.3.1-bin-hadoop3/kubernetes/tests/pyfiles.py\n",
            "spark-3.3.1-bin-hadoop3/kubernetes/tests/python_executable_check.py\n",
            "spark-3.3.1-bin-hadoop3/kubernetes/tests/worker_memory_check.py\n",
            "spark-3.3.1-bin-hadoop3/licenses/\n",
            "spark-3.3.1-bin-hadoop3/licenses/LICENSE-AnchorJS.txt\n",
            "spark-3.3.1-bin-hadoop3/licenses/LICENSE-CC0.txt\n",
            "spark-3.3.1-bin-hadoop3/licenses/LICENSE-JLargeArrays.txt\n",
            "spark-3.3.1-bin-hadoop3/licenses/LICENSE-JTransforms.txt\n",
            "spark-3.3.1-bin-hadoop3/licenses/LICENSE-antlr.txt\n",
            "spark-3.3.1-bin-hadoop3/licenses/LICENSE-arpack.txt\n",
            "spark-3.3.1-bin-hadoop3/licenses/LICENSE-automaton.txt\n",
            "spark-3.3.1-bin-hadoop3/licenses/LICENSE-blas.txt\n",
            "spark-3.3.1-bin-hadoop3/licenses/LICENSE-bootstrap.txt\n",
            "spark-3.3.1-bin-hadoop3/licenses/LICENSE-cloudpickle.txt\n",
            "spark-3.3.1-bin-hadoop3/licenses/LICENSE-d3.min.js.txt\n",
            "spark-3.3.1-bin-hadoop3/licenses/LICENSE-dagre-d3.txt\n",
            "spark-3.3.1-bin-hadoop3/licenses/LICENSE-datatables.txt\n",
            "spark-3.3.1-bin-hadoop3/licenses/LICENSE-dnsjava.txt\n",
            "spark-3.3.1-bin-hadoop3/licenses/LICENSE-f2j.txt\n",
            "spark-3.3.1-bin-hadoop3/licenses/LICENSE-graphlib-dot.txt\n",
            "spark-3.3.1-bin-hadoop3/licenses/LICENSE-istack-commons-runtime.txt\n",
            "spark-3.3.1-bin-hadoop3/licenses/LICENSE-jakarta-annotation-api\n",
            "spark-3.3.1-bin-hadoop3/licenses/LICENSE-jakarta-ws-rs-api\n",
            "spark-3.3.1-bin-hadoop3/licenses/LICENSE-jakarta.activation-api.txt\n",
            "spark-3.3.1-bin-hadoop3/licenses/LICENSE-jakarta.xml.bind-api.txt\n",
            "spark-3.3.1-bin-hadoop3/licenses/LICENSE-janino.txt\n",
            "spark-3.3.1-bin-hadoop3/licenses/LICENSE-javassist.html\n",
            "spark-3.3.1-bin-hadoop3/licenses/LICENSE-javax-transaction-transaction-api.txt\n",
            "spark-3.3.1-bin-hadoop3/licenses/LICENSE-javolution.txt\n",
            "spark-3.3.1-bin-hadoop3/licenses/LICENSE-jaxb-runtime.txt\n",
            "spark-3.3.1-bin-hadoop3/licenses/LICENSE-jline.txt\n",
            "spark-3.3.1-bin-hadoop3/licenses/LICENSE-jodd.txt\n",
            "spark-3.3.1-bin-hadoop3/licenses/LICENSE-join.txt\n",
            "spark-3.3.1-bin-hadoop3/licenses/LICENSE-jquery.txt\n",
            "spark-3.3.1-bin-hadoop3/licenses/LICENSE-json-formatter.txt\n",
            "spark-3.3.1-bin-hadoop3/licenses/LICENSE-jsp-api.txt\n",
            "spark-3.3.1-bin-hadoop3/licenses/LICENSE-kryo.txt\n",
            "spark-3.3.1-bin-hadoop3/licenses/LICENSE-leveldbjni.txt\n",
            "spark-3.3.1-bin-hadoop3/licenses/LICENSE-machinist.txt\n",
            "spark-3.3.1-bin-hadoop3/licenses/LICENSE-matchMedia-polyfill.txt\n",
            "spark-3.3.1-bin-hadoop3/licenses/LICENSE-minlog.txt\n",
            "spark-3.3.1-bin-hadoop3/licenses/LICENSE-modernizr.txt\n",
            "spark-3.3.1-bin-hadoop3/licenses/LICENSE-mustache.txt\n",
            "spark-3.3.1-bin-hadoop3/licenses/LICENSE-netlib.txt\n",
            "spark-3.3.1-bin-hadoop3/licenses/LICENSE-paranamer.txt\n",
            "spark-3.3.1-bin-hadoop3/licenses/LICENSE-pmml-model.txt\n",
            "spark-3.3.1-bin-hadoop3/licenses/LICENSE-protobuf.txt\n",
            "spark-3.3.1-bin-hadoop3/licenses/LICENSE-py4j.txt\n",
            "spark-3.3.1-bin-hadoop3/licenses/LICENSE-pyrolite.txt\n",
            "spark-3.3.1-bin-hadoop3/licenses/LICENSE-re2j.txt\n",
            "spark-3.3.1-bin-hadoop3/licenses/LICENSE-reflectasm.txt\n",
            "spark-3.3.1-bin-hadoop3/licenses/LICENSE-respond.txt\n",
            "spark-3.3.1-bin-hadoop3/licenses/LICENSE-sbt-launch-lib.txt\n",
            "spark-3.3.1-bin-hadoop3/licenses/LICENSE-scala.txt\n",
            "spark-3.3.1-bin-hadoop3/licenses/LICENSE-scopt.txt\n",
            "spark-3.3.1-bin-hadoop3/licenses/LICENSE-slf4j.txt\n",
            "spark-3.3.1-bin-hadoop3/licenses/LICENSE-sorttable.js.txt\n",
            "spark-3.3.1-bin-hadoop3/licenses/LICENSE-spire.txt\n",
            "spark-3.3.1-bin-hadoop3/licenses/LICENSE-vis-timeline.txt\n",
            "spark-3.3.1-bin-hadoop3/licenses/LICENSE-xmlenc.txt\n",
            "spark-3.3.1-bin-hadoop3/licenses/LICENSE-zstd-jni.txt\n",
            "spark-3.3.1-bin-hadoop3/licenses/LICENSE-zstd.txt\n",
            "spark-3.3.1-bin-hadoop3/python/\n",
            "spark-3.3.1-bin-hadoop3/python/.coveragerc\n",
            "spark-3.3.1-bin-hadoop3/python/.gitignore\n",
            "spark-3.3.1-bin-hadoop3/python/MANIFEST.in\n",
            "spark-3.3.1-bin-hadoop3/python/README.md\n",
            "spark-3.3.1-bin-hadoop3/python/dist/\n",
            "spark-3.3.1-bin-hadoop3/python/docs/\n",
            "spark-3.3.1-bin-hadoop3/python/docs/Makefile\n",
            "spark-3.3.1-bin-hadoop3/python/docs/make.bat\n",
            "spark-3.3.1-bin-hadoop3/python/docs/make2.bat\n",
            "spark-3.3.1-bin-hadoop3/python/docs/source/\n",
            "spark-3.3.1-bin-hadoop3/python/docs/source/_static/\n",
            "spark-3.3.1-bin-hadoop3/python/docs/source/_static/copybutton.js\n",
            "spark-3.3.1-bin-hadoop3/python/docs/source/_static/css/\n",
            "spark-3.3.1-bin-hadoop3/python/docs/source/_static/css/pyspark.css\n",
            "spark-3.3.1-bin-hadoop3/python/docs/source/_templates/\n",
            "spark-3.3.1-bin-hadoop3/python/docs/source/_templates/autosummary/\n",
            "spark-3.3.1-bin-hadoop3/python/docs/source/_templates/autosummary/class.rst\n",
            "spark-3.3.1-bin-hadoop3/python/docs/source/_templates/autosummary/class_with_docs.rst\n",
            "spark-3.3.1-bin-hadoop3/python/docs/source/conf.py\n",
            "spark-3.3.1-bin-hadoop3/python/docs/source/development/\n",
            "spark-3.3.1-bin-hadoop3/python/docs/source/development/contributing.rst\n",
            "spark-3.3.1-bin-hadoop3/python/docs/source/development/debugging.rst\n",
            "spark-3.3.1-bin-hadoop3/python/docs/source/development/index.rst\n",
            "spark-3.3.1-bin-hadoop3/python/docs/source/development/setting_ide.rst\n",
            "spark-3.3.1-bin-hadoop3/python/docs/source/development/testing.rst\n",
            "spark-3.3.1-bin-hadoop3/python/docs/source/getting_started/\n",
            "spark-3.3.1-bin-hadoop3/python/docs/source/getting_started/index.rst\n",
            "spark-3.3.1-bin-hadoop3/python/docs/source/getting_started/install.rst\n",
            "spark-3.3.1-bin-hadoop3/python/docs/source/getting_started/quickstart_df.ipynb\n",
            "spark-3.3.1-bin-hadoop3/python/docs/source/getting_started/quickstart_ps.ipynb\n",
            "spark-3.3.1-bin-hadoop3/python/docs/source/index.rst\n",
            "spark-3.3.1-bin-hadoop3/python/docs/source/migration_guide/\n",
            "spark-3.3.1-bin-hadoop3/python/docs/source/migration_guide/index.rst\n",
            "spark-3.3.1-bin-hadoop3/python/docs/source/migration_guide/koalas_to_pyspark.rst\n",
            "spark-3.3.1-bin-hadoop3/python/docs/source/migration_guide/pyspark_1.0_1.2_to_1.3.rst\n",
            "spark-3.3.1-bin-hadoop3/python/docs/source/migration_guide/pyspark_1.4_to_1.5.rst\n",
            "spark-3.3.1-bin-hadoop3/python/docs/source/migration_guide/pyspark_2.2_to_2.3.rst\n",
            "spark-3.3.1-bin-hadoop3/python/docs/source/migration_guide/pyspark_2.3.0_to_2.3.1_above.rst\n",
            "spark-3.3.1-bin-hadoop3/python/docs/source/migration_guide/pyspark_2.3_to_2.4.rst\n",
            "spark-3.3.1-bin-hadoop3/python/docs/source/migration_guide/pyspark_2.4_to_3.0.rst\n",
            "spark-3.3.1-bin-hadoop3/python/docs/source/migration_guide/pyspark_3.1_to_3.2.rst\n",
            "spark-3.3.1-bin-hadoop3/python/docs/source/migration_guide/pyspark_3.2_to_3.3.rst\n",
            "spark-3.3.1-bin-hadoop3/python/docs/source/reference/\n",
            "spark-3.3.1-bin-hadoop3/python/docs/source/reference/index.rst\n",
            "spark-3.3.1-bin-hadoop3/python/docs/source/reference/pyspark.ml.rst\n",
            "spark-3.3.1-bin-hadoop3/python/docs/source/reference/pyspark.mllib.rst\n",
            "spark-3.3.1-bin-hadoop3/python/docs/source/reference/pyspark.pandas/\n",
            "spark-3.3.1-bin-hadoop3/python/docs/source/reference/pyspark.pandas/extensions.rst\n",
            "spark-3.3.1-bin-hadoop3/python/docs/source/reference/pyspark.pandas/frame.rst\n",
            "spark-3.3.1-bin-hadoop3/python/docs/source/reference/pyspark.pandas/general_functions.rst\n",
            "spark-3.3.1-bin-hadoop3/python/docs/source/reference/pyspark.pandas/groupby.rst\n",
            "spark-3.3.1-bin-hadoop3/python/docs/source/reference/pyspark.pandas/index.rst\n",
            "spark-3.3.1-bin-hadoop3/python/docs/source/reference/pyspark.pandas/indexing.rst\n",
            "spark-3.3.1-bin-hadoop3/python/docs/source/reference/pyspark.pandas/io.rst\n",
            "spark-3.3.1-bin-hadoop3/python/docs/source/reference/pyspark.pandas/ml.rst\n",
            "spark-3.3.1-bin-hadoop3/python/docs/source/reference/pyspark.pandas/series.rst\n",
            "spark-3.3.1-bin-hadoop3/python/docs/source/reference/pyspark.pandas/window.rst\n",
            "spark-3.3.1-bin-hadoop3/python/docs/source/reference/pyspark.resource.rst\n",
            "spark-3.3.1-bin-hadoop3/python/docs/source/reference/pyspark.rst\n",
            "spark-3.3.1-bin-hadoop3/python/docs/source/reference/pyspark.sql/\n",
            "spark-3.3.1-bin-hadoop3/python/docs/source/reference/pyspark.sql/avro.rst\n",
            "spark-3.3.1-bin-hadoop3/python/docs/source/reference/pyspark.sql/catalog.rst\n",
            "spark-3.3.1-bin-hadoop3/python/docs/source/reference/pyspark.sql/column.rst\n",
            "spark-3.3.1-bin-hadoop3/python/docs/source/reference/pyspark.sql/configuration.rst\n",
            "spark-3.3.1-bin-hadoop3/python/docs/source/reference/pyspark.sql/core_classes.rst\n",
            "spark-3.3.1-bin-hadoop3/python/docs/source/reference/pyspark.sql/data_types.rst\n",
            "spark-3.3.1-bin-hadoop3/python/docs/source/reference/pyspark.sql/dataframe.rst\n",
            "spark-3.3.1-bin-hadoop3/python/docs/source/reference/pyspark.sql/functions.rst\n",
            "spark-3.3.1-bin-hadoop3/python/docs/source/reference/pyspark.sql/grouping.rst\n",
            "spark-3.3.1-bin-hadoop3/python/docs/source/reference/pyspark.sql/index.rst\n",
            "spark-3.3.1-bin-hadoop3/python/docs/source/reference/pyspark.sql/io.rst\n",
            "spark-3.3.1-bin-hadoop3/python/docs/source/reference/pyspark.sql/observation.rst\n",
            "spark-3.3.1-bin-hadoop3/python/docs/source/reference/pyspark.sql/row.rst\n",
            "spark-3.3.1-bin-hadoop3/python/docs/source/reference/pyspark.sql/spark_session.rst\n",
            "spark-3.3.1-bin-hadoop3/python/docs/source/reference/pyspark.sql/window.rst\n",
            "spark-3.3.1-bin-hadoop3/python/docs/source/reference/pyspark.ss/\n",
            "spark-3.3.1-bin-hadoop3/python/docs/source/reference/pyspark.ss/core_classes.rst\n",
            "spark-3.3.1-bin-hadoop3/python/docs/source/reference/pyspark.ss/index.rst\n",
            "spark-3.3.1-bin-hadoop3/python/docs/source/reference/pyspark.ss/io.rst\n",
            "spark-3.3.1-bin-hadoop3/python/docs/source/reference/pyspark.ss/query_management.rst\n",
            "spark-3.3.1-bin-hadoop3/python/docs/source/reference/pyspark.streaming.rst\n",
            "spark-3.3.1-bin-hadoop3/python/docs/source/user_guide/\n",
            "spark-3.3.1-bin-hadoop3/python/docs/source/user_guide/arrow_pandas.rst\n",
            "spark-3.3.1-bin-hadoop3/python/docs/source/user_guide/index.rst\n",
            "spark-3.3.1-bin-hadoop3/python/docs/source/user_guide/pandas_on_spark/\n",
            "spark-3.3.1-bin-hadoop3/python/docs/source/user_guide/pandas_on_spark/best_practices.rst\n",
            "spark-3.3.1-bin-hadoop3/python/docs/source/user_guide/pandas_on_spark/faq.rst\n",
            "spark-3.3.1-bin-hadoop3/python/docs/source/user_guide/pandas_on_spark/from_to_dbms.rst\n",
            "spark-3.3.1-bin-hadoop3/python/docs/source/user_guide/pandas_on_spark/index.rst\n",
            "spark-3.3.1-bin-hadoop3/python/docs/source/user_guide/pandas_on_spark/options.rst\n",
            "spark-3.3.1-bin-hadoop3/python/docs/source/user_guide/pandas_on_spark/pandas_pyspark.rst\n",
            "spark-3.3.1-bin-hadoop3/python/docs/source/user_guide/pandas_on_spark/supported_pandas_api.rst\n",
            "spark-3.3.1-bin-hadoop3/python/docs/source/user_guide/pandas_on_spark/transform_apply.rst\n",
            "spark-3.3.1-bin-hadoop3/python/docs/source/user_guide/pandas_on_spark/typehints.rst\n",
            "spark-3.3.1-bin-hadoop3/python/docs/source/user_guide/pandas_on_spark/types.rst\n",
            "spark-3.3.1-bin-hadoop3/python/docs/source/user_guide/python_packaging.rst\n",
            "spark-3.3.1-bin-hadoop3/python/docs/source/user_guide/sql/\n",
            "spark-3.3.1-bin-hadoop3/python/docs/source/user_guide/sql/arrow_pandas.rst\n",
            "spark-3.3.1-bin-hadoop3/python/docs/source/user_guide/sql/index.rst\n",
            "spark-3.3.1-bin-hadoop3/python/lib/\n",
            "spark-3.3.1-bin-hadoop3/python/lib/PY4J_LICENSE.txt\n",
            "spark-3.3.1-bin-hadoop3/python/lib/py4j-0.10.9.5-src.zip\n",
            "spark-3.3.1-bin-hadoop3/python/lib/pyspark.zip\n",
            "spark-3.3.1-bin-hadoop3/python/mypy.ini\n",
            "spark-3.3.1-bin-hadoop3/python/pyspark/\n",
            "spark-3.3.1-bin-hadoop3/python/pyspark/__init__.py\n",
            "spark-3.3.1-bin-hadoop3/python/pyspark/__pycache__/\n",
            "spark-3.3.1-bin-hadoop3/python/pyspark/__pycache__/install.cpython-38.pyc\n",
            "spark-3.3.1-bin-hadoop3/python/pyspark/_globals.py\n",
            "spark-3.3.1-bin-hadoop3/python/pyspark/_typing.pyi\n",
            "spark-3.3.1-bin-hadoop3/python/pyspark/accumulators.py\n",
            "spark-3.3.1-bin-hadoop3/python/pyspark/broadcast.py\n",
            "spark-3.3.1-bin-hadoop3/python/pyspark/cloudpickle/\n",
            "spark-3.3.1-bin-hadoop3/python/pyspark/cloudpickle/__init__.py\n",
            "spark-3.3.1-bin-hadoop3/python/pyspark/cloudpickle/cloudpickle.py\n",
            "spark-3.3.1-bin-hadoop3/python/pyspark/cloudpickle/cloudpickle_fast.py\n",
            "spark-3.3.1-bin-hadoop3/python/pyspark/cloudpickle/compat.py\n",
            "spark-3.3.1-bin-hadoop3/python/pyspark/conf.py\n",
            "spark-3.3.1-bin-hadoop3/python/pyspark/context.py\n",
            "spark-3.3.1-bin-hadoop3/python/pyspark/daemon.py\n",
            "spark-3.3.1-bin-hadoop3/python/pyspark/files.py\n",
            "spark-3.3.1-bin-hadoop3/python/pyspark/find_spark_home.py\n",
            "spark-3.3.1-bin-hadoop3/python/pyspark/install.py\n",
            "spark-3.3.1-bin-hadoop3/python/pyspark/instrumentation_utils.py\n",
            "spark-3.3.1-bin-hadoop3/python/pyspark/java_gateway.py\n",
            "spark-3.3.1-bin-hadoop3/python/pyspark/join.py\n",
            "spark-3.3.1-bin-hadoop3/python/pyspark/ml/\n",
            "spark-3.3.1-bin-hadoop3/python/pyspark/ml/__init__.py\n",
            "spark-3.3.1-bin-hadoop3/python/pyspark/ml/_typing.pyi\n",
            "spark-3.3.1-bin-hadoop3/python/pyspark/ml/base.py\n",
            "spark-3.3.1-bin-hadoop3/python/pyspark/ml/classification.py\n",
            "spark-3.3.1-bin-hadoop3/python/pyspark/ml/clustering.py\n",
            "spark-3.3.1-bin-hadoop3/python/pyspark/ml/common.py\n",
            "spark-3.3.1-bin-hadoop3/python/pyspark/ml/evaluation.py\n",
            "spark-3.3.1-bin-hadoop3/python/pyspark/ml/feature.py\n",
            "spark-3.3.1-bin-hadoop3/python/pyspark/ml/fpm.py\n",
            "spark-3.3.1-bin-hadoop3/python/pyspark/ml/functions.py\n",
            "spark-3.3.1-bin-hadoop3/python/pyspark/ml/image.py\n",
            "spark-3.3.1-bin-hadoop3/python/pyspark/ml/linalg/\n",
            "spark-3.3.1-bin-hadoop3/python/pyspark/ml/linalg/__init__.py\n",
            "spark-3.3.1-bin-hadoop3/python/pyspark/ml/param/\n",
            "spark-3.3.1-bin-hadoop3/python/pyspark/ml/param/__init__.py\n",
            "spark-3.3.1-bin-hadoop3/python/pyspark/ml/param/_shared_params_code_gen.py\n",
            "spark-3.3.1-bin-hadoop3/python/pyspark/ml/param/shared.py\n",
            "spark-3.3.1-bin-hadoop3/python/pyspark/ml/pipeline.py\n",
            "spark-3.3.1-bin-hadoop3/python/pyspark/ml/recommendation.py\n",
            "spark-3.3.1-bin-hadoop3/python/pyspark/ml/regression.py\n",
            "spark-3.3.1-bin-hadoop3/python/pyspark/ml/stat.py\n",
            "spark-3.3.1-bin-hadoop3/python/pyspark/ml/tests/\n",
            "spark-3.3.1-bin-hadoop3/python/pyspark/ml/tests/__init__.py\n",
            "spark-3.3.1-bin-hadoop3/python/pyspark/ml/tests/test_algorithms.py\n",
            "spark-3.3.1-bin-hadoop3/python/pyspark/ml/tests/test_base.py\n",
            "spark-3.3.1-bin-hadoop3/python/pyspark/ml/tests/test_evaluation.py\n",
            "spark-3.3.1-bin-hadoop3/python/pyspark/ml/tests/test_feature.py\n",
            "spark-3.3.1-bin-hadoop3/python/pyspark/ml/tests/test_image.py\n",
            "spark-3.3.1-bin-hadoop3/python/pyspark/ml/tests/test_linalg.py\n",
            "spark-3.3.1-bin-hadoop3/python/pyspark/ml/tests/test_param.py\n",
            "spark-3.3.1-bin-hadoop3/python/pyspark/ml/tests/test_persistence.py\n",
            "spark-3.3.1-bin-hadoop3/python/pyspark/ml/tests/test_pipeline.py\n",
            "spark-3.3.1-bin-hadoop3/python/pyspark/ml/tests/test_stat.py\n",
            "spark-3.3.1-bin-hadoop3/python/pyspark/ml/tests/test_training_summary.py\n",
            "spark-3.3.1-bin-hadoop3/python/pyspark/ml/tests/test_tuning.py\n",
            "spark-3.3.1-bin-hadoop3/python/pyspark/ml/tests/test_util.py\n",
            "spark-3.3.1-bin-hadoop3/python/pyspark/ml/tests/test_wrapper.py\n",
            "spark-3.3.1-bin-hadoop3/python/pyspark/ml/tests/typing/\n",
            "spark-3.3.1-bin-hadoop3/python/pyspark/ml/tests/typing/test_classification.yml\n",
            "spark-3.3.1-bin-hadoop3/python/pyspark/ml/tests/typing/test_clustering.yaml\n",
            "spark-3.3.1-bin-hadoop3/python/pyspark/ml/tests/typing/test_evaluation.yml\n",
            "spark-3.3.1-bin-hadoop3/python/pyspark/ml/tests/typing/test_feature.yml\n",
            "spark-3.3.1-bin-hadoop3/python/pyspark/ml/tests/typing/test_param.yml\n",
            "spark-3.3.1-bin-hadoop3/python/pyspark/ml/tests/typing/test_readable.yml\n",
            "spark-3.3.1-bin-hadoop3/python/pyspark/ml/tests/typing/test_regression.yml\n",
            "spark-3.3.1-bin-hadoop3/python/pyspark/ml/tree.py\n",
            "spark-3.3.1-bin-hadoop3/python/pyspark/ml/tuning.py\n",
            "spark-3.3.1-bin-hadoop3/python/pyspark/ml/util.py\n",
            "spark-3.3.1-bin-hadoop3/python/pyspark/ml/wrapper.py\n",
            "spark-3.3.1-bin-hadoop3/python/pyspark/mllib/\n",
            "spark-3.3.1-bin-hadoop3/python/pyspark/mllib/__init__.py\n",
            "spark-3.3.1-bin-hadoop3/python/pyspark/mllib/_typing.pyi\n",
            "spark-3.3.1-bin-hadoop3/python/pyspark/mllib/classification.py\n",
            "spark-3.3.1-bin-hadoop3/python/pyspark/mllib/clustering.py\n",
            "spark-3.3.1-bin-hadoop3/python/pyspark/mllib/common.py\n",
            "spark-3.3.1-bin-hadoop3/python/pyspark/mllib/evaluation.py\n",
            "spark-3.3.1-bin-hadoop3/python/pyspark/mllib/feature.py\n",
            "spark-3.3.1-bin-hadoop3/python/pyspark/mllib/fpm.py\n",
            "spark-3.3.1-bin-hadoop3/python/pyspark/mllib/linalg/\n",
            "spark-3.3.1-bin-hadoop3/python/pyspark/mllib/linalg/__init__.py\n",
            "spark-3.3.1-bin-hadoop3/python/pyspark/mllib/linalg/distributed.py\n",
            "spark-3.3.1-bin-hadoop3/python/pyspark/mllib/random.py\n",
            "spark-3.3.1-bin-hadoop3/python/pyspark/mllib/random.pyi\n",
            "spark-3.3.1-bin-hadoop3/python/pyspark/mllib/recommendation.py\n",
            "spark-3.3.1-bin-hadoop3/python/pyspark/mllib/recommendation.pyi\n",
            "spark-3.3.1-bin-hadoop3/python/pyspark/mllib/regression.py\n",
            "spark-3.3.1-bin-hadoop3/python/pyspark/mllib/stat/\n",
            "spark-3.3.1-bin-hadoop3/python/pyspark/mllib/stat/KernelDensity.py\n",
            "spark-3.3.1-bin-hadoop3/python/pyspark/mllib/stat/__init__.py\n",
            "spark-3.3.1-bin-hadoop3/python/pyspark/mllib/stat/_statistics.py\n",
            "spark-3.3.1-bin-hadoop3/python/pyspark/mllib/stat/distribution.py\n",
            "spark-3.3.1-bin-hadoop3/python/pyspark/mllib/stat/test.py\n",
            "spark-3.3.1-bin-hadoop3/python/pyspark/mllib/tests/\n",
            "spark-3.3.1-bin-hadoop3/python/pyspark/mllib/tests/__init__.py\n",
            "spark-3.3.1-bin-hadoop3/python/pyspark/mllib/tests/test_algorithms.py\n",
            "spark-3.3.1-bin-hadoop3/python/pyspark/mllib/tests/test_feature.py\n",
            "spark-3.3.1-bin-hadoop3/python/pyspark/mllib/tests/test_linalg.py\n",
            "spark-3.3.1-bin-hadoop3/python/pyspark/mllib/tests/test_stat.py\n",
            "spark-3.3.1-bin-hadoop3/python/pyspark/mllib/tests/test_streaming_algorithms.py\n",
            "spark-3.3.1-bin-hadoop3/python/pyspark/mllib/tests/test_util.py\n",
            "spark-3.3.1-bin-hadoop3/python/pyspark/mllib/tree.py\n",
            "spark-3.3.1-bin-hadoop3/python/pyspark/mllib/util.py\n",
            "spark-3.3.1-bin-hadoop3/python/pyspark/pandas/\n",
            "spark-3.3.1-bin-hadoop3/python/pyspark/pandas/__init__.py\n",
            "spark-3.3.1-bin-hadoop3/python/pyspark/pandas/_typing.py\n",
            "spark-3.3.1-bin-hadoop3/python/pyspark/pandas/accessors.py\n",
            "spark-3.3.1-bin-hadoop3/python/pyspark/pandas/base.py\n",
            "spark-3.3.1-bin-hadoop3/python/pyspark/pandas/categorical.py\n",
            "spark-3.3.1-bin-hadoop3/python/pyspark/pandas/config.py\n",
            "spark-3.3.1-bin-hadoop3/python/pyspark/pandas/data_type_ops/\n",
            "spark-3.3.1-bin-hadoop3/python/pyspark/pandas/data_type_ops/__init__.py\n",
            "spark-3.3.1-bin-hadoop3/python/pyspark/pandas/data_type_ops/base.py\n",
            "spark-3.3.1-bin-hadoop3/python/pyspark/pandas/data_type_ops/binary_ops.py\n",
            "spark-3.3.1-bin-hadoop3/python/pyspark/pandas/data_type_ops/boolean_ops.py\n",
            "spark-3.3.1-bin-hadoop3/python/pyspark/pandas/data_type_ops/categorical_ops.py\n",
            "spark-3.3.1-bin-hadoop3/python/pyspark/pandas/data_type_ops/complex_ops.py\n",
            "spark-3.3.1-bin-hadoop3/python/pyspark/pandas/data_type_ops/date_ops.py\n",
            "spark-3.3.1-bin-hadoop3/python/pyspark/pandas/data_type_ops/datetime_ops.py\n",
            "spark-3.3.1-bin-hadoop3/python/pyspark/pandas/data_type_ops/null_ops.py\n",
            "spark-3.3.1-bin-hadoop3/python/pyspark/pandas/data_type_ops/num_ops.py\n",
            "spark-3.3.1-bin-hadoop3/python/pyspark/pandas/data_type_ops/string_ops.py\n",
            "spark-3.3.1-bin-hadoop3/python/pyspark/pandas/data_type_ops/timedelta_ops.py\n",
            "spark-3.3.1-bin-hadoop3/python/pyspark/pandas/data_type_ops/udt_ops.py\n",
            "spark-3.3.1-bin-hadoop3/python/pyspark/pandas/datetimes.py\n",
            "spark-3.3.1-bin-hadoop3/python/pyspark/pandas/exceptions.py\n",
            "spark-3.3.1-bin-hadoop3/python/pyspark/pandas/extensions.py\n",
            "spark-3.3.1-bin-hadoop3/python/pyspark/pandas/frame.py\n",
            "spark-3.3.1-bin-hadoop3/python/pyspark/pandas/generic.py\n",
            "spark-3.3.1-bin-hadoop3/python/pyspark/pandas/groupby.py\n",
            "spark-3.3.1-bin-hadoop3/python/pyspark/pandas/indexes/\n",
            "spark-3.3.1-bin-hadoop3/python/pyspark/pandas/indexes/__init__.py\n",
            "spark-3.3.1-bin-hadoop3/python/pyspark/pandas/indexes/base.py\n",
            "spark-3.3.1-bin-hadoop3/python/pyspark/pandas/indexes/category.py\n",
            "spark-3.3.1-bin-hadoop3/python/pyspark/pandas/indexes/datetimes.py\n",
            "spark-3.3.1-bin-hadoop3/python/pyspark/pandas/indexes/multi.py\n",
            "spark-3.3.1-bin-hadoop3/python/pyspark/pandas/indexes/numeric.py\n",
            "spark-3.3.1-bin-hadoop3/python/pyspark/pandas/indexes/timedelta.py\n",
            "spark-3.3.1-bin-hadoop3/python/pyspark/pandas/indexing.py\n",
            "spark-3.3.1-bin-hadoop3/python/pyspark/pandas/internal.py\n",
            "spark-3.3.1-bin-hadoop3/python/pyspark/pandas/missing/\n",
            "spark-3.3.1-bin-hadoop3/python/pyspark/pandas/missing/__init__.py\n",
            "spark-3.3.1-bin-hadoop3/python/pyspark/pandas/missing/common.py\n",
            "spark-3.3.1-bin-hadoop3/python/pyspark/pandas/missing/frame.py\n",
            "spark-3.3.1-bin-hadoop3/python/pyspark/pandas/missing/general_functions.py\n",
            "spark-3.3.1-bin-hadoop3/python/pyspark/pandas/missing/groupby.py\n",
            "spark-3.3.1-bin-hadoop3/python/pyspark/pandas/missing/indexes.py\n",
            "spark-3.3.1-bin-hadoop3/python/pyspark/pandas/missing/series.py\n",
            "spark-3.3.1-bin-hadoop3/python/pyspark/pandas/missing/window.py\n",
            "spark-3.3.1-bin-hadoop3/python/pyspark/pandas/ml.py\n",
            "spark-3.3.1-bin-hadoop3/python/pyspark/pandas/mlflow.py\n",
            "spark-3.3.1-bin-hadoop3/python/pyspark/pandas/namespace.py\n",
            "spark-3.3.1-bin-hadoop3/python/pyspark/pandas/numpy_compat.py\n",
            "spark-3.3.1-bin-hadoop3/python/pyspark/pandas/plot/\n",
            "spark-3.3.1-bin-hadoop3/python/pyspark/pandas/plot/__init__.py\n",
            "spark-3.3.1-bin-hadoop3/python/pyspark/pandas/plot/core.py\n",
            "spark-3.3.1-bin-hadoop3/python/pyspark/pandas/plot/matplotlib.py\n",
            "spark-3.3.1-bin-hadoop3/python/pyspark/pandas/plot/plotly.py\n",
            "spark-3.3.1-bin-hadoop3/python/pyspark/pandas/series.py\n",
            "spark-3.3.1-bin-hadoop3/python/pyspark/pandas/spark/\n",
            "spark-3.3.1-bin-hadoop3/python/pyspark/pandas/spark/__init__.py\n",
            "spark-3.3.1-bin-hadoop3/python/pyspark/pandas/spark/accessors.py\n",
            "spark-3.3.1-bin-hadoop3/python/pyspark/pandas/spark/functions.py\n",
            "spark-3.3.1-bin-hadoop3/python/pyspark/pandas/spark/utils.py\n",
            "spark-3.3.1-bin-hadoop3/python/pyspark/pandas/sql_formatter.py\n",
            "spark-3.3.1-bin-hadoop3/python/pyspark/pandas/sql_processor.py\n",
            "spark-3.3.1-bin-hadoop3/python/pyspark/pandas/strings.py\n",
            "spark-3.3.1-bin-hadoop3/python/pyspark/pandas/tests/\n",
            "spark-3.3.1-bin-hadoop3/python/pyspark/pandas/tests/__init__.py\n",
            "spark-3.3.1-bin-hadoop3/python/pyspark/pandas/tests/data_type_ops/\n",
            "spark-3.3.1-bin-hadoop3/python/pyspark/pandas/tests/data_type_ops/__init__.py\n",
            "spark-3.3.1-bin-hadoop3/python/pyspark/pandas/tests/data_type_ops/test_base.py\n",
            "spark-3.3.1-bin-hadoop3/python/pyspark/pandas/tests/data_type_ops/test_binary_ops.py\n",
            "spark-3.3.1-bin-hadoop3/python/pyspark/pandas/tests/data_type_ops/test_boolean_ops.py\n",
            "spark-3.3.1-bin-hadoop3/python/pyspark/pandas/tests/data_type_ops/test_categorical_ops.py\n",
            "spark-3.3.1-bin-hadoop3/python/pyspark/pandas/tests/data_type_ops/test_complex_ops.py\n",
            "spark-3.3.1-bin-hadoop3/python/pyspark/pandas/tests/data_type_ops/test_date_ops.py\n",
            "spark-3.3.1-bin-hadoop3/python/pyspark/pandas/tests/data_type_ops/test_datetime_ops.py\n",
            "spark-3.3.1-bin-hadoop3/python/pyspark/pandas/tests/data_type_ops/test_null_ops.py\n",
            "spark-3.3.1-bin-hadoop3/python/pyspark/pandas/tests/data_type_ops/test_num_ops.py\n",
            "spark-3.3.1-bin-hadoop3/python/pyspark/pandas/tests/data_type_ops/test_string_ops.py\n",
            "spark-3.3.1-bin-hadoop3/python/pyspark/pandas/tests/data_type_ops/test_timedelta_ops.py\n",
            "spark-3.3.1-bin-hadoop3/python/pyspark/pandas/tests/data_type_ops/test_udt_ops.py\n",
            "spark-3.3.1-bin-hadoop3/python/pyspark/pandas/tests/data_type_ops/testing_utils.py\n",
            "spark-3.3.1-bin-hadoop3/python/pyspark/pandas/tests/indexes/\n",
            "spark-3.3.1-bin-hadoop3/python/pyspark/pandas/tests/indexes/__init__.py\n",
            "spark-3.3.1-bin-hadoop3/python/pyspark/pandas/tests/indexes/test_base.py\n",
            "spark-3.3.1-bin-hadoop3/python/pyspark/pandas/tests/indexes/test_category.py\n",
            "spark-3.3.1-bin-hadoop3/python/pyspark/pandas/tests/indexes/test_datetime.py\n",
            "spark-3.3.1-bin-hadoop3/python/pyspark/pandas/tests/indexes/test_timedelta.py\n",
            "spark-3.3.1-bin-hadoop3/python/pyspark/pandas/tests/plot/\n",
            "spark-3.3.1-bin-hadoop3/python/pyspark/pandas/tests/plot/__init__.py\n",
            "spark-3.3.1-bin-hadoop3/python/pyspark/pandas/tests/plot/test_frame_plot.py\n",
            "spark-3.3.1-bin-hadoop3/python/pyspark/pandas/tests/plot/test_frame_plot_matplotlib.py\n",
            "spark-3.3.1-bin-hadoop3/python/pyspark/pandas/tests/plot/test_frame_plot_plotly.py\n",
            "spark-3.3.1-bin-hadoop3/python/pyspark/pandas/tests/plot/test_series_plot.py\n",
            "spark-3.3.1-bin-hadoop3/python/pyspark/pandas/tests/plot/test_series_plot_matplotlib.py\n",
            "spark-3.3.1-bin-hadoop3/python/pyspark/pandas/tests/plot/test_series_plot_plotly.py\n",
            "spark-3.3.1-bin-hadoop3/python/pyspark/pandas/tests/test_categorical.py\n",
            "spark-3.3.1-bin-hadoop3/python/pyspark/pandas/tests/test_config.py\n",
            "spark-3.3.1-bin-hadoop3/python/pyspark/pandas/tests/test_csv.py\n",
            "spark-3.3.1-bin-hadoop3/python/pyspark/pandas/tests/test_dataframe.py\n",
            "spark-3.3.1-bin-hadoop3/python/pyspark/pandas/tests/test_dataframe_conversion.py\n",
            "spark-3.3.1-bin-hadoop3/python/pyspark/pandas/tests/test_dataframe_spark_io.py\n",
            "spark-3.3.1-bin-hadoop3/python/pyspark/pandas/tests/test_default_index.py\n",
            "spark-3.3.1-bin-hadoop3/python/pyspark/pandas/tests/test_expanding.py\n",
            "spark-3.3.1-bin-hadoop3/python/pyspark/pandas/tests/test_extension.py\n",
            "spark-3.3.1-bin-hadoop3/python/pyspark/pandas/tests/test_frame_spark.py\n",
            "spark-3.3.1-bin-hadoop3/python/pyspark/pandas/tests/test_groupby.py\n",
            "spark-3.3.1-bin-hadoop3/python/pyspark/pandas/tests/test_indexing.py\n",
            "spark-3.3.1-bin-hadoop3/python/pyspark/pandas/tests/test_indexops_spark.py\n",
            "spark-3.3.1-bin-hadoop3/python/pyspark/pandas/tests/test_internal.py\n",
            "spark-3.3.1-bin-hadoop3/python/pyspark/pandas/tests/test_namespace.py\n",
            "spark-3.3.1-bin-hadoop3/python/pyspark/pandas/tests/test_numpy_compat.py\n",
            "spark-3.3.1-bin-hadoop3/python/pyspark/pandas/tests/test_ops_on_diff_frames.py\n",
            "spark-3.3.1-bin-hadoop3/python/pyspark/pandas/tests/test_ops_on_diff_frames_groupby.py\n",
            "spark-3.3.1-bin-hadoop3/python/pyspark/pandas/tests/test_ops_on_diff_frames_groupby_expanding.py\n",
            "spark-3.3.1-bin-hadoop3/python/pyspark/pandas/tests/test_ops_on_diff_frames_groupby_rolling.py\n",
            "spark-3.3.1-bin-hadoop3/python/pyspark/pandas/tests/test_repr.py\n",
            "spark-3.3.1-bin-hadoop3/python/pyspark/pandas/tests/test_reshape.py\n",
            "spark-3.3.1-bin-hadoop3/python/pyspark/pandas/tests/test_rolling.py\n",
            "spark-3.3.1-bin-hadoop3/python/pyspark/pandas/tests/test_series.py\n",
            "spark-3.3.1-bin-hadoop3/python/pyspark/pandas/tests/test_series_conversion.py\n",
            "spark-3.3.1-bin-hadoop3/python/pyspark/pandas/tests/test_series_datetime.py\n",
            "spark-3.3.1-bin-hadoop3/python/pyspark/pandas/tests/test_series_string.py\n",
            "spark-3.3.1-bin-hadoop3/python/pyspark/pandas/tests/test_spark_functions.py\n",
            "spark-3.3.1-bin-hadoop3/python/pyspark/pandas/tests/test_sql.py\n",
            "spark-3.3.1-bin-hadoop3/python/pyspark/pandas/tests/test_stats.py\n",
            "spark-3.3.1-bin-hadoop3/python/pyspark/pandas/tests/test_typedef.py\n",
            "spark-3.3.1-bin-hadoop3/python/pyspark/pandas/tests/test_utils.py\n",
            "spark-3.3.1-bin-hadoop3/python/pyspark/pandas/tests/test_window.py\n",
            "spark-3.3.1-bin-hadoop3/python/pyspark/pandas/typedef/\n",
            "spark-3.3.1-bin-hadoop3/python/pyspark/pandas/typedef/__init__.py\n",
            "spark-3.3.1-bin-hadoop3/python/pyspark/pandas/typedef/typehints.py\n",
            "spark-3.3.1-bin-hadoop3/python/pyspark/pandas/usage_logging/\n",
            "spark-3.3.1-bin-hadoop3/python/pyspark/pandas/usage_logging/__init__.py\n",
            "spark-3.3.1-bin-hadoop3/python/pyspark/pandas/usage_logging/usage_logger.py\n",
            "spark-3.3.1-bin-hadoop3/python/pyspark/pandas/utils.py\n",
            "spark-3.3.1-bin-hadoop3/python/pyspark/pandas/window.py\n",
            "spark-3.3.1-bin-hadoop3/python/pyspark/profiler.py\n",
            "spark-3.3.1-bin-hadoop3/python/pyspark/py.typed\n",
            "spark-3.3.1-bin-hadoop3/python/pyspark/python/\n",
            "spark-3.3.1-bin-hadoop3/python/pyspark/python/pyspark/\n",
            "spark-3.3.1-bin-hadoop3/python/pyspark/python/pyspark/shell.py\n",
            "spark-3.3.1-bin-hadoop3/python/pyspark/rdd.py\n",
            "spark-3.3.1-bin-hadoop3/python/pyspark/rddsampler.py\n",
            "spark-3.3.1-bin-hadoop3/python/pyspark/resource/\n",
            "spark-3.3.1-bin-hadoop3/python/pyspark/resource/__init__.py\n",
            "spark-3.3.1-bin-hadoop3/python/pyspark/resource/information.py\n",
            "spark-3.3.1-bin-hadoop3/python/pyspark/resource/profile.py\n",
            "spark-3.3.1-bin-hadoop3/python/pyspark/resource/requests.py\n",
            "spark-3.3.1-bin-hadoop3/python/pyspark/resource/tests/\n",
            "spark-3.3.1-bin-hadoop3/python/pyspark/resource/tests/__init__.py\n",
            "spark-3.3.1-bin-hadoop3/python/pyspark/resource/tests/test_resources.py\n",
            "spark-3.3.1-bin-hadoop3/python/pyspark/resultiterable.py\n",
            "spark-3.3.1-bin-hadoop3/python/pyspark/serializers.py\n",
            "spark-3.3.1-bin-hadoop3/python/pyspark/shell.py\n",
            "spark-3.3.1-bin-hadoop3/python/pyspark/shuffle.py\n",
            "spark-3.3.1-bin-hadoop3/python/pyspark/sql/\n",
            "spark-3.3.1-bin-hadoop3/python/pyspark/sql/__init__.py\n",
            "spark-3.3.1-bin-hadoop3/python/pyspark/sql/_typing.pyi\n",
            "spark-3.3.1-bin-hadoop3/python/pyspark/sql/avro/\n",
            "spark-3.3.1-bin-hadoop3/python/pyspark/sql/avro/__init__.py\n",
            "spark-3.3.1-bin-hadoop3/python/pyspark/sql/avro/functions.py\n",
            "spark-3.3.1-bin-hadoop3/python/pyspark/sql/catalog.py\n",
            "spark-3.3.1-bin-hadoop3/python/pyspark/sql/column.py\n",
            "spark-3.3.1-bin-hadoop3/python/pyspark/sql/conf.py\n",
            "spark-3.3.1-bin-hadoop3/python/pyspark/sql/context.py\n",
            "spark-3.3.1-bin-hadoop3/python/pyspark/sql/dataframe.py\n",
            "spark-3.3.1-bin-hadoop3/python/pyspark/sql/functions.py\n",
            "spark-3.3.1-bin-hadoop3/python/pyspark/sql/group.py\n",
            "spark-3.3.1-bin-hadoop3/python/pyspark/sql/observation.py\n",
            "spark-3.3.1-bin-hadoop3/python/pyspark/sql/pandas/\n",
            "spark-3.3.1-bin-hadoop3/python/pyspark/sql/pandas/__init__.py\n",
            "spark-3.3.1-bin-hadoop3/python/pyspark/sql/pandas/_typing/\n",
            "spark-3.3.1-bin-hadoop3/python/pyspark/sql/pandas/_typing/__init__.pyi\n",
            "spark-3.3.1-bin-hadoop3/python/pyspark/sql/pandas/_typing/protocols/\n",
            "spark-3.3.1-bin-hadoop3/python/pyspark/sql/pandas/_typing/protocols/__init__.pyi\n",
            "spark-3.3.1-bin-hadoop3/python/pyspark/sql/pandas/_typing/protocols/frame.pyi\n",
            "spark-3.3.1-bin-hadoop3/python/pyspark/sql/pandas/_typing/protocols/series.pyi\n",
            "spark-3.3.1-bin-hadoop3/python/pyspark/sql/pandas/conversion.py\n",
            "spark-3.3.1-bin-hadoop3/python/pyspark/sql/pandas/functions.py\n",
            "spark-3.3.1-bin-hadoop3/python/pyspark/sql/pandas/functions.pyi\n",
            "spark-3.3.1-bin-hadoop3/python/pyspark/sql/pandas/group_ops.py\n",
            "spark-3.3.1-bin-hadoop3/python/pyspark/sql/pandas/map_ops.py\n",
            "spark-3.3.1-bin-hadoop3/python/pyspark/sql/pandas/serializers.py\n",
            "spark-3.3.1-bin-hadoop3/python/pyspark/sql/pandas/typehints.py\n",
            "spark-3.3.1-bin-hadoop3/python/pyspark/sql/pandas/types.py\n",
            "spark-3.3.1-bin-hadoop3/python/pyspark/sql/pandas/utils.py\n",
            "spark-3.3.1-bin-hadoop3/python/pyspark/sql/readwriter.py\n",
            "spark-3.3.1-bin-hadoop3/python/pyspark/sql/session.py\n",
            "spark-3.3.1-bin-hadoop3/python/pyspark/sql/sql_formatter.py\n",
            "spark-3.3.1-bin-hadoop3/python/pyspark/sql/streaming.py\n",
            "spark-3.3.1-bin-hadoop3/python/pyspark/sql/tests/\n",
            "spark-3.3.1-bin-hadoop3/python/pyspark/sql/tests/__init__.py\n",
            "spark-3.3.1-bin-hadoop3/python/pyspark/sql/tests/test_arrow.py\n",
            "spark-3.3.1-bin-hadoop3/python/pyspark/sql/tests/test_arrow_map.py\n",
            "spark-3.3.1-bin-hadoop3/python/pyspark/sql/tests/test_catalog.py\n",
            "spark-3.3.1-bin-hadoop3/python/pyspark/sql/tests/test_column.py\n",
            "spark-3.3.1-bin-hadoop3/python/pyspark/sql/tests/test_conf.py\n",
            "spark-3.3.1-bin-hadoop3/python/pyspark/sql/tests/test_context.py\n",
            "spark-3.3.1-bin-hadoop3/python/pyspark/sql/tests/test_dataframe.py\n",
            "spark-3.3.1-bin-hadoop3/python/pyspark/sql/tests/test_datasources.py\n",
            "spark-3.3.1-bin-hadoop3/python/pyspark/sql/tests/test_functions.py\n",
            "spark-3.3.1-bin-hadoop3/python/pyspark/sql/tests/test_group.py\n",
            "spark-3.3.1-bin-hadoop3/python/pyspark/sql/tests/test_pandas_cogrouped_map.py\n",
            "spark-3.3.1-bin-hadoop3/python/pyspark/sql/tests/test_pandas_grouped_map.py\n",
            "spark-3.3.1-bin-hadoop3/python/pyspark/sql/tests/test_pandas_map.py\n",
            "spark-3.3.1-bin-hadoop3/python/pyspark/sql/tests/test_pandas_udf.py\n",
            "spark-3.3.1-bin-hadoop3/python/pyspark/sql/tests/test_pandas_udf_grouped_agg.py\n",
            "spark-3.3.1-bin-hadoop3/python/pyspark/sql/tests/test_pandas_udf_scalar.py\n",
            "spark-3.3.1-bin-hadoop3/python/pyspark/sql/tests/test_pandas_udf_typehints.py\n",
            "spark-3.3.1-bin-hadoop3/python/pyspark/sql/tests/test_pandas_udf_typehints_with_future_annotations.py\n",
            "spark-3.3.1-bin-hadoop3/python/pyspark/sql/tests/test_pandas_udf_window.py\n",
            "spark-3.3.1-bin-hadoop3/python/pyspark/sql/tests/test_readwriter.py\n",
            "spark-3.3.1-bin-hadoop3/python/pyspark/sql/tests/test_serde.py\n",
            "spark-3.3.1-bin-hadoop3/python/pyspark/sql/tests/test_session.py\n",
            "spark-3.3.1-bin-hadoop3/python/pyspark/sql/tests/test_streaming.py\n",
            "spark-3.3.1-bin-hadoop3/python/pyspark/sql/tests/test_types.py\n",
            "spark-3.3.1-bin-hadoop3/python/pyspark/sql/tests/test_udf.py\n",
            "spark-3.3.1-bin-hadoop3/python/pyspark/sql/tests/test_udf_profiler.py\n",
            "spark-3.3.1-bin-hadoop3/python/pyspark/sql/tests/test_utils.py\n",
            "spark-3.3.1-bin-hadoop3/python/pyspark/sql/tests/typing/\n",
            "spark-3.3.1-bin-hadoop3/python/pyspark/sql/tests/typing/test_column.yml\n",
            "spark-3.3.1-bin-hadoop3/python/pyspark/sql/tests/typing/test_dataframe.yml\n",
            "spark-3.3.1-bin-hadoop3/python/pyspark/sql/tests/typing/test_functions.yml\n",
            "spark-3.3.1-bin-hadoop3/python/pyspark/sql/tests/typing/test_readwriter.yml\n",
            "spark-3.3.1-bin-hadoop3/python/pyspark/sql/tests/typing/test_session.yml\n",
            "spark-3.3.1-bin-hadoop3/python/pyspark/sql/tests/typing/test_udf.yml\n",
            "spark-3.3.1-bin-hadoop3/python/pyspark/sql/types.py\n",
            "spark-3.3.1-bin-hadoop3/python/pyspark/sql/udf.py\n",
            "spark-3.3.1-bin-hadoop3/python/pyspark/sql/utils.py\n",
            "spark-3.3.1-bin-hadoop3/python/pyspark/sql/window.py\n",
            "spark-3.3.1-bin-hadoop3/python/pyspark/statcounter.py\n",
            "spark-3.3.1-bin-hadoop3/python/pyspark/status.py\n",
            "spark-3.3.1-bin-hadoop3/python/pyspark/storagelevel.py\n",
            "spark-3.3.1-bin-hadoop3/python/pyspark/streaming/\n",
            "spark-3.3.1-bin-hadoop3/python/pyspark/streaming/__init__.py\n",
            "spark-3.3.1-bin-hadoop3/python/pyspark/streaming/context.py\n",
            "spark-3.3.1-bin-hadoop3/python/pyspark/streaming/dstream.py\n",
            "spark-3.3.1-bin-hadoop3/python/pyspark/streaming/kinesis.py\n",
            "spark-3.3.1-bin-hadoop3/python/pyspark/streaming/listener.py\n",
            "spark-3.3.1-bin-hadoop3/python/pyspark/streaming/tests/\n",
            "spark-3.3.1-bin-hadoop3/python/pyspark/streaming/tests/__init__.py\n",
            "spark-3.3.1-bin-hadoop3/python/pyspark/streaming/tests/test_context.py\n",
            "spark-3.3.1-bin-hadoop3/python/pyspark/streaming/tests/test_dstream.py\n",
            "spark-3.3.1-bin-hadoop3/python/pyspark/streaming/tests/test_kinesis.py\n",
            "spark-3.3.1-bin-hadoop3/python/pyspark/streaming/tests/test_listener.py\n",
            "spark-3.3.1-bin-hadoop3/python/pyspark/streaming/util.py\n",
            "spark-3.3.1-bin-hadoop3/python/pyspark/taskcontext.py\n",
            "spark-3.3.1-bin-hadoop3/python/pyspark/testing/\n",
            "spark-3.3.1-bin-hadoop3/python/pyspark/testing/__init__.py\n",
            "spark-3.3.1-bin-hadoop3/python/pyspark/testing/mllibutils.py\n",
            "spark-3.3.1-bin-hadoop3/python/pyspark/testing/mlutils.py\n",
            "spark-3.3.1-bin-hadoop3/python/pyspark/testing/pandasutils.py\n",
            "spark-3.3.1-bin-hadoop3/python/pyspark/testing/sqlutils.py\n",
            "spark-3.3.1-bin-hadoop3/python/pyspark/testing/streamingutils.py\n",
            "spark-3.3.1-bin-hadoop3/python/pyspark/testing/utils.py\n",
            "spark-3.3.1-bin-hadoop3/python/pyspark/tests/\n",
            "spark-3.3.1-bin-hadoop3/python/pyspark/tests/__init__.py\n",
            "spark-3.3.1-bin-hadoop3/python/pyspark/tests/test_appsubmit.py\n",
            "spark-3.3.1-bin-hadoop3/python/pyspark/tests/test_broadcast.py\n",
            "spark-3.3.1-bin-hadoop3/python/pyspark/tests/test_conf.py\n",
            "spark-3.3.1-bin-hadoop3/python/pyspark/tests/test_context.py\n",
            "spark-3.3.1-bin-hadoop3/python/pyspark/tests/test_daemon.py\n",
            "spark-3.3.1-bin-hadoop3/python/pyspark/tests/test_install_spark.py\n",
            "spark-3.3.1-bin-hadoop3/python/pyspark/tests/test_join.py\n",
            "spark-3.3.1-bin-hadoop3/python/pyspark/tests/test_pin_thread.py\n",
            "spark-3.3.1-bin-hadoop3/python/pyspark/tests/test_profiler.py\n",
            "spark-3.3.1-bin-hadoop3/python/pyspark/tests/test_rdd.py\n",
            "spark-3.3.1-bin-hadoop3/python/pyspark/tests/test_rddbarrier.py\n",
            "spark-3.3.1-bin-hadoop3/python/pyspark/tests/test_readwrite.py\n",
            "spark-3.3.1-bin-hadoop3/python/pyspark/tests/test_serializers.py\n",
            "spark-3.3.1-bin-hadoop3/python/pyspark/tests/test_shuffle.py\n",
            "spark-3.3.1-bin-hadoop3/python/pyspark/tests/test_statcounter.py\n",
            "spark-3.3.1-bin-hadoop3/python/pyspark/tests/test_taskcontext.py\n",
            "spark-3.3.1-bin-hadoop3/python/pyspark/tests/test_util.py\n",
            "spark-3.3.1-bin-hadoop3/python/pyspark/tests/test_worker.py\n",
            "spark-3.3.1-bin-hadoop3/python/pyspark/tests/typing/\n",
            "spark-3.3.1-bin-hadoop3/python/pyspark/tests/typing/test_context.yml\n",
            "spark-3.3.1-bin-hadoop3/python/pyspark/tests/typing/test_core.yml\n",
            "spark-3.3.1-bin-hadoop3/python/pyspark/tests/typing/test_rdd.yml\n",
            "spark-3.3.1-bin-hadoop3/python/pyspark/tests/typing/test_resultiterable.yml\n",
            "spark-3.3.1-bin-hadoop3/python/pyspark/traceback_utils.py\n",
            "spark-3.3.1-bin-hadoop3/python/pyspark/util.py\n",
            "spark-3.3.1-bin-hadoop3/python/pyspark/version.py\n",
            "spark-3.3.1-bin-hadoop3/python/pyspark/worker.py\n",
            "spark-3.3.1-bin-hadoop3/python/pyspark.egg-info/\n",
            "spark-3.3.1-bin-hadoop3/python/pyspark.egg-info/PKG-INFO\n",
            "spark-3.3.1-bin-hadoop3/python/pyspark.egg-info/SOURCES.txt\n",
            "spark-3.3.1-bin-hadoop3/python/pyspark.egg-info/dependency_links.txt\n",
            "spark-3.3.1-bin-hadoop3/python/pyspark.egg-info/requires.txt\n",
            "spark-3.3.1-bin-hadoop3/python/pyspark.egg-info/top_level.txt\n",
            "spark-3.3.1-bin-hadoop3/python/run-tests\n",
            "spark-3.3.1-bin-hadoop3/python/run-tests-with-coverage\n",
            "spark-3.3.1-bin-hadoop3/python/run-tests.py\n",
            "spark-3.3.1-bin-hadoop3/python/setup.cfg\n",
            "spark-3.3.1-bin-hadoop3/python/setup.py\n",
            "spark-3.3.1-bin-hadoop3/python/test_coverage/\n",
            "spark-3.3.1-bin-hadoop3/python/test_coverage/conf/\n",
            "spark-3.3.1-bin-hadoop3/python/test_coverage/conf/spark-defaults.conf\n",
            "spark-3.3.1-bin-hadoop3/python/test_coverage/coverage_daemon.py\n",
            "spark-3.3.1-bin-hadoop3/python/test_coverage/sitecustomize.py\n",
            "spark-3.3.1-bin-hadoop3/python/test_support/\n",
            "spark-3.3.1-bin-hadoop3/python/test_support/SimpleHTTPServer.py\n",
            "spark-3.3.1-bin-hadoop3/python/test_support/hello/\n",
            "spark-3.3.1-bin-hadoop3/python/test_support/hello/hello.txt\n",
            "spark-3.3.1-bin-hadoop3/python/test_support/hello/sub_hello/\n",
            "spark-3.3.1-bin-hadoop3/python/test_support/hello/sub_hello/sub_hello.txt\n",
            "spark-3.3.1-bin-hadoop3/python/test_support/sql/\n",
            "spark-3.3.1-bin-hadoop3/python/test_support/sql/ages.csv\n",
            "spark-3.3.1-bin-hadoop3/python/test_support/sql/ages_newlines.csv\n",
            "spark-3.3.1-bin-hadoop3/python/test_support/sql/orc_partitioned/\n",
            "spark-3.3.1-bin-hadoop3/python/test_support/sql/orc_partitioned/_SUCCESS\n",
            "spark-3.3.1-bin-hadoop3/python/test_support/sql/orc_partitioned/b=0/\n",
            "spark-3.3.1-bin-hadoop3/python/test_support/sql/orc_partitioned/b=0/c=0/\n",
            "spark-3.3.1-bin-hadoop3/python/test_support/sql/orc_partitioned/b=0/c=0/.part-r-00000-829af031-b970-49d6-ad39-30460a0be2c8.orc.crc\n",
            "spark-3.3.1-bin-hadoop3/python/test_support/sql/orc_partitioned/b=0/c=0/part-r-00000-829af031-b970-49d6-ad39-30460a0be2c8.orc\n",
            "spark-3.3.1-bin-hadoop3/python/test_support/sql/orc_partitioned/b=1/\n",
            "spark-3.3.1-bin-hadoop3/python/test_support/sql/orc_partitioned/b=1/c=1/\n",
            "spark-3.3.1-bin-hadoop3/python/test_support/sql/orc_partitioned/b=1/c=1/.part-r-00000-829af031-b970-49d6-ad39-30460a0be2c8.orc.crc\n",
            "spark-3.3.1-bin-hadoop3/python/test_support/sql/orc_partitioned/b=1/c=1/part-r-00000-829af031-b970-49d6-ad39-30460a0be2c8.orc\n",
            "spark-3.3.1-bin-hadoop3/python/test_support/sql/parquet_partitioned/\n",
            "spark-3.3.1-bin-hadoop3/python/test_support/sql/parquet_partitioned/_SUCCESS\n",
            "spark-3.3.1-bin-hadoop3/python/test_support/sql/parquet_partitioned/_common_metadata\n",
            "spark-3.3.1-bin-hadoop3/python/test_support/sql/parquet_partitioned/_metadata\n",
            "spark-3.3.1-bin-hadoop3/python/test_support/sql/parquet_partitioned/year=2014/\n",
            "spark-3.3.1-bin-hadoop3/python/test_support/sql/parquet_partitioned/year=2014/month=9/\n",
            "spark-3.3.1-bin-hadoop3/python/test_support/sql/parquet_partitioned/year=2014/month=9/day=1/\n",
            "spark-3.3.1-bin-hadoop3/python/test_support/sql/parquet_partitioned/year=2014/month=9/day=1/.part-r-00008.gz.parquet.crc\n",
            "spark-3.3.1-bin-hadoop3/python/test_support/sql/parquet_partitioned/year=2014/month=9/day=1/part-r-00008.gz.parquet\n",
            "spark-3.3.1-bin-hadoop3/python/test_support/sql/parquet_partitioned/year=2015/\n",
            "spark-3.3.1-bin-hadoop3/python/test_support/sql/parquet_partitioned/year=2015/month=10/\n",
            "spark-3.3.1-bin-hadoop3/python/test_support/sql/parquet_partitioned/year=2015/month=10/day=25/\n",
            "spark-3.3.1-bin-hadoop3/python/test_support/sql/parquet_partitioned/year=2015/month=10/day=25/.part-r-00002.gz.parquet.crc\n",
            "spark-3.3.1-bin-hadoop3/python/test_support/sql/parquet_partitioned/year=2015/month=10/day=25/.part-r-00004.gz.parquet.crc\n",
            "spark-3.3.1-bin-hadoop3/python/test_support/sql/parquet_partitioned/year=2015/month=10/day=25/part-r-00002.gz.parquet\n",
            "spark-3.3.1-bin-hadoop3/python/test_support/sql/parquet_partitioned/year=2015/month=10/day=25/part-r-00004.gz.parquet\n",
            "spark-3.3.1-bin-hadoop3/python/test_support/sql/parquet_partitioned/year=2015/month=10/day=26/\n",
            "spark-3.3.1-bin-hadoop3/python/test_support/sql/parquet_partitioned/year=2015/month=10/day=26/.part-r-00005.gz.parquet.crc\n",
            "spark-3.3.1-bin-hadoop3/python/test_support/sql/parquet_partitioned/year=2015/month=10/day=26/part-r-00005.gz.parquet\n",
            "spark-3.3.1-bin-hadoop3/python/test_support/sql/parquet_partitioned/year=2015/month=9/\n",
            "spark-3.3.1-bin-hadoop3/python/test_support/sql/parquet_partitioned/year=2015/month=9/day=1/\n",
            "spark-3.3.1-bin-hadoop3/python/test_support/sql/parquet_partitioned/year=2015/month=9/day=1/.part-r-00007.gz.parquet.crc\n",
            "spark-3.3.1-bin-hadoop3/python/test_support/sql/parquet_partitioned/year=2015/month=9/day=1/part-r-00007.gz.parquet\n",
            "spark-3.3.1-bin-hadoop3/python/test_support/sql/people.json\n",
            "spark-3.3.1-bin-hadoop3/python/test_support/sql/people1.json\n",
            "spark-3.3.1-bin-hadoop3/python/test_support/sql/people_array.json\n",
            "spark-3.3.1-bin-hadoop3/python/test_support/sql/people_array_utf16le.json\n",
            "spark-3.3.1-bin-hadoop3/python/test_support/sql/streaming/\n",
            "spark-3.3.1-bin-hadoop3/python/test_support/sql/streaming/text-test.txt\n",
            "spark-3.3.1-bin-hadoop3/python/test_support/sql/text-test.txt\n",
            "spark-3.3.1-bin-hadoop3/python/test_support/userlib-0.1.zip\n",
            "spark-3.3.1-bin-hadoop3/python/test_support/userlibrary.py\n",
            "spark-3.3.1-bin-hadoop3/sbin/\n",
            "spark-3.3.1-bin-hadoop3/sbin/decommission-slave.sh\n",
            "spark-3.3.1-bin-hadoop3/sbin/decommission-worker.sh\n",
            "spark-3.3.1-bin-hadoop3/sbin/slaves.sh\n",
            "spark-3.3.1-bin-hadoop3/sbin/spark-config.sh\n",
            "spark-3.3.1-bin-hadoop3/sbin/spark-daemon.sh\n",
            "spark-3.3.1-bin-hadoop3/sbin/spark-daemons.sh\n",
            "spark-3.3.1-bin-hadoop3/sbin/start-all.sh\n",
            "spark-3.3.1-bin-hadoop3/sbin/start-history-server.sh\n",
            "spark-3.3.1-bin-hadoop3/sbin/start-master.sh\n",
            "spark-3.3.1-bin-hadoop3/sbin/start-mesos-dispatcher.sh\n",
            "spark-3.3.1-bin-hadoop3/sbin/start-mesos-shuffle-service.sh\n",
            "spark-3.3.1-bin-hadoop3/sbin/start-slave.sh\n",
            "spark-3.3.1-bin-hadoop3/sbin/start-slaves.sh\n",
            "spark-3.3.1-bin-hadoop3/sbin/start-thriftserver.sh\n",
            "spark-3.3.1-bin-hadoop3/sbin/start-worker.sh\n",
            "spark-3.3.1-bin-hadoop3/sbin/start-workers.sh\n",
            "spark-3.3.1-bin-hadoop3/sbin/stop-all.sh\n",
            "spark-3.3.1-bin-hadoop3/sbin/stop-history-server.sh\n",
            "spark-3.3.1-bin-hadoop3/sbin/stop-master.sh\n",
            "spark-3.3.1-bin-hadoop3/sbin/stop-mesos-dispatcher.sh\n",
            "spark-3.3.1-bin-hadoop3/sbin/stop-mesos-shuffle-service.sh\n",
            "spark-3.3.1-bin-hadoop3/sbin/stop-slave.sh\n",
            "spark-3.3.1-bin-hadoop3/sbin/stop-slaves.sh\n",
            "spark-3.3.1-bin-hadoop3/sbin/stop-thriftserver.sh\n",
            "spark-3.3.1-bin-hadoop3/sbin/stop-worker.sh\n",
            "spark-3.3.1-bin-hadoop3/sbin/stop-workers.sh\n",
            "spark-3.3.1-bin-hadoop3/sbin/workers.sh\n",
            "spark-3.3.1-bin-hadoop3/yarn/\n",
            "spark-3.3.1-bin-hadoop3/yarn/spark-3.3.1-yarn-shuffle.jar\n",
            "Looking in indexes: https://pypi.org/simple, https://us-python.pkg.dev/colab-wheels/public/simple/\n",
            "Collecting findspark\n",
            "  Downloading findspark-2.0.1-py2.py3-none-any.whl (4.4 kB)\n",
            "Installing collected packages: findspark\n",
            "Successfully installed findspark-2.0.1\n"
          ]
        }
      ],
      "source": [
        "!apt-get install openjdk-8-jdk-headless -qq > /dev/null\n",
        "!wget -O ./spark-3.3.1-bin-hadoop3.tgz  https://dlcdn.apache.org/spark/spark-3.3.1/spark-3.3.1-bin-hadoop3.tgz\n",
        "!tar zxvf ./spark-3.3.1-bin-hadoop3.tgz\n",
        "!pip install findspark"
      ]
    },
    {
      "cell_type": "code",
      "execution_count": null,
      "metadata": {
        "id": "k-6bpoUlYZo4"
      },
      "outputs": [],
      "source": [
        "import os\n",
        "\n",
        "os.environ[\"JAVA_HOME\"] = \"/usr/lib/jvm/java-8-openjdk-amd64\"\n",
        "os.environ[\"SPARK_HOME\"] = \"/content/spark-3.3.1-bin-hadoop3\""
      ]
    },
    {
      "cell_type": "code",
      "execution_count": null,
      "metadata": {
        "id": "ry8_u611YgIw"
      },
      "outputs": [],
      "source": [
        "import findspark\n",
        "import random\n",
        "findspark.init()\n",
        "import numpy as np\n",
        "import pyspark\n",
        "from pyspark.rdd import RDD\n",
        "from pyspark import SparkContext\n",
        "from pyspark.sql import SparkSession\n",
        "spark = SparkSession.builder.appName('FIFA').getOrCreate()\n",
        "import urllib.request"
      ]
    },
    {
      "cell_type": "code",
      "execution_count": null,
      "metadata": {
        "colab": {
          "base_uri": "https://localhost:8080/"
        },
        "id": "8aRqlyQNYtnw",
        "outputId": "00dff2fa-7943-45b8-a4bd-8b381ac79ece"
      },
      "outputs": [
        {
          "name": "stdout",
          "output_type": "stream",
          "text": [
            "--2023-02-12 10:27:15--  https://sports-statistics.com/database/fifa/fifa_2022_datasets.zip\n",
            "Resolving sports-statistics.com (sports-statistics.com)... 109.70.148.56\n",
            "Connecting to sports-statistics.com (sports-statistics.com)|109.70.148.56|:443... connected.\n",
            "HTTP request sent, awaiting response... 200 OK\n",
            "Length: 113905463 (109M) [application/zip]\n",
            "Saving to: ‘sports-statistics.com/database/fifa/fifa_2022_datasets.zip’\n",
            "\n",
            "sports-statistics.c 100%[===================>] 108.63M  26.0MB/s    in 4.7s    \n",
            "\n",
            "2023-02-12 10:27:20 (23.3 MB/s) - ‘sports-statistics.com/database/fifa/fifa_2022_datasets.zip’ saved [113905463/113905463]\n",
            "\n",
            "--2023-02-12 10:27:20--  http://./datasets/\n",
            "Resolving . (.)... failed: No address associated with hostname.\n",
            "wget: unable to resolve host address ‘.’\n",
            "FINISHED --2023-02-12 10:27:20--\n",
            "Total wall clock time: 5.1s\n",
            "Downloaded: 1 files, 109M in 4.7s (23.3 MB/s)\n",
            "Archive:  /content/sports-statistics.com/database/fifa/fifa_2022_datasets.zip\n",
            "  inflating: ./datasets/Career Mode female player datasets - FIFA 16-22.xlsx  \n",
            "  inflating: ./datasets/Career Mode player datasets - FIFA 15-22.xlsx  \n",
            "  inflating: ./datasets/female_players_16.csv  \n",
            "  inflating: ./datasets/female_players_17.csv  \n",
            "  inflating: ./datasets/female_players_18.csv  \n",
            "  inflating: ./datasets/female_players_19.csv  \n",
            "  inflating: ./datasets/female_players_20.csv  \n",
            "  inflating: ./datasets/female_players_21.csv  \n",
            "  inflating: ./datasets/female_players_22.csv  \n",
            "  inflating: ./datasets/players_15.csv  \n",
            "  inflating: ./datasets/players_16.csv  \n",
            "  inflating: ./datasets/players_17.csv  \n",
            "  inflating: ./datasets/players_18.csv  \n",
            "  inflating: ./datasets/players_19.csv  \n",
            "  inflating: ./datasets/players_20.csv  \n",
            "  inflating: ./datasets/players_21.csv  \n",
            "  inflating: ./datasets/players_22.csv  \n"
          ]
        }
      ],
      "source": [
        "!mkdir ./datasets\n",
        "\n",
        "!wget https://sports-statistics.com/database/fifa/fifa_2022_datasets.zip -p ./datasets/\n",
        "\n",
        "!unzip /content/sports-statistics.com/database/fifa/fifa_2022_datasets.zip -d ./datasets/"
      ]
    },
    {
      "cell_type": "code",
      "execution_count": null,
      "metadata": {
        "id": "iKzkr7EaauyE"
      },
      "outputs": [],
      "source": [
        "f15 = spark.read.csv(\"/content/datasets/players_15.csv\", header=True, inferSchema=True)\n",
        "f16 = spark.read.csv(\"/content/datasets/players_16.csv\", header=True, inferSchema=True)\n",
        "f17 = spark.read.csv(\"/content/datasets/players_17.csv\", header=True, inferSchema=True)\n",
        "f18 = spark.read.csv(\"/content/datasets/players_18.csv\", header=True, inferSchema=True)\n",
        "f19 = spark.read.csv(\"/content/datasets/players_19.csv\", header=True, inferSchema=True)\n",
        "f20 = spark.read.csv(\"/content/datasets/players_20.csv\", header=True, inferSchema=True)\n",
        "f21 = spark.read.csv(\"/content/datasets/players_21.csv\", header=True, inferSchema=True)\n",
        "f22 = spark.read.csv(\"/content/datasets/players_22.csv\", header=True, inferSchema=True)\\\n",
        ".withColumnRenamed('short_name','name').withColumnRenamed('value_eur','value').withColumnRenamed('club_contract_valid_until','contract').withColumnRenamed('nationality_name','nationality')"
      ]
    },
    {
      "cell_type": "code",
      "execution_count": null,
      "metadata": {
        "colab": {
          "base_uri": "https://localhost:8080/"
        },
        "id": "QZF6dh_RbigH",
        "outputId": "b287abc2-70c6-4cd0-a3a8-e47c7f2115ef"
      },
      "outputs": [
        {
          "name": "stdout",
          "output_type": "stream",
          "text": [
            "+---------+--------------------+-----------------+--------------------+----------------+-------+---------+-------+--------+---+-------------------+---------+---------+------------+-------------------+--------------------+------------+-------------+------------------+----------------+-------------------+--------+--------------+--------------+--------------+---------------+--------------------+--------------+---------+-----------+------------------------+-------------+----------------+---------+------------------+--------------------+--------------------+----+--------+-------+---------+---------+------+------------------+-------------------+--------------------------+-----------------------+-----------------+---------------+-----------+-----------------+------------------+------------------+---------------------+---------------------+----------------+------------------+----------------+----------------+-------------+-------------+--------------+----------------+--------------------+-----------------------+---------------------+----------------+-------------------+-------------------+---------------------------+-------------------------+------------------------+------------------+--------------------+-------------------+-----------------------+--------------------+-----------------+----+----+----+---+---+---+---+---+----+----+----+----+----+----+----+----+----+----+----+----+----+----+----+----+----+----+----+--------------------+--------------------+--------------------+--------------------+--------------------+\n",
            "|sofifa_id|          player_url|             name|           long_name|player_positions|overall|potential|  value|wage_eur|age|                dob|height_cm|weight_kg|club_team_id|          club_name|         league_name|league_level|club_position|club_jersey_number|club_loaned_from|        club_joined|contract|nationality_id|   nationality|nation_team_id|nation_position|nation_jersey_number|preferred_foot|weak_foot|skill_moves|international_reputation|    work_rate|       body_type|real_face|release_clause_eur|         player_tags|       player_traits|pace|shooting|passing|dribbling|defending|physic|attacking_crossing|attacking_finishing|attacking_heading_accuracy|attacking_short_passing|attacking_volleys|skill_dribbling|skill_curve|skill_fk_accuracy|skill_long_passing|skill_ball_control|movement_acceleration|movement_sprint_speed|movement_agility|movement_reactions|movement_balance|power_shot_power|power_jumping|power_stamina|power_strength|power_long_shots|mentality_aggression|mentality_interceptions|mentality_positioning|mentality_vision|mentality_penalties|mentality_composure|defending_marking_awareness|defending_standing_tackle|defending_sliding_tackle|goalkeeping_diving|goalkeeping_handling|goalkeeping_kicking|goalkeeping_positioning|goalkeeping_reflexes|goalkeeping_speed|  ls|  st|  rs| lw| lf| cf| rf| rw| lam| cam| ram|  lm| lcm|  cm| rcm|  rm| lwb| ldm| cdm| rdm| rwb|  lb| lcb|  cb| rcb|  rb|  gk|     player_face_url|       club_logo_url|       club_flag_url|     nation_logo_url|     nation_flag_url|\n",
            "+---------+--------------------+-----------------+--------------------+----------------+-------+---------+-------+--------+---+-------------------+---------+---------+------------+-------------------+--------------------+------------+-------------+------------------+----------------+-------------------+--------+--------------+--------------+--------------+---------------+--------------------+--------------+---------+-----------+------------------------+-------------+----------------+---------+------------------+--------------------+--------------------+----+--------+-------+---------+---------+------+------------------+-------------------+--------------------------+-----------------------+-----------------+---------------+-----------+-----------------+------------------+------------------+---------------------+---------------------+----------------+------------------+----------------+----------------+-------------+-------------+--------------+----------------+--------------------+-----------------------+---------------------+----------------+-------------------+-------------------+---------------------------+-------------------------+------------------------+------------------+--------------------+-------------------+-----------------------+--------------------+-----------------+----+----+----+---+---+---+---+---+----+----+----+----+----+----+----+----+----+----+----+----+----+----+----+----+----+----+----+--------------------+--------------------+--------------------+--------------------+--------------------+\n",
            "|   158023|https://sofifa.co...|         L. Messi|Lionel Andrés Mes...|      RW, ST, CF|     93|       93|  7.8E7|320000.0| 34|1987-06-24 00:00:00|      170|       72|        73.0|Paris Saint-Germain|      French Ligue 1|           1|           RW|                30|            null|2021-08-10 00:00:00|    2023|            52|     Argentina|        1369.0|             RW|                  10|          Left|        4|          4|                       5|   Medium/Low|          Unique|      Yes|         144300000|#Dribbler, #Dista...|Finesse Shot, Lon...|  85|      92|     91|       95|       34|    65|                85|                 95|                        70|                     91|               88|             96|         93|               94|                91|                96|                   91|                   80|              91|                94|              95|              86|           68|           72|            69|              94|                  44|                     40|                   93|              95|                 75|                 96|                         20|                       35|                      24|                 6|                  11|                 15|                     14|                   8|             null|89+3|89+3|89+3| 92| 93| 93| 93| 92|  93|  93|  93|91+2|87+3|87+3|87+3|91+2|66+3|64+3|64+3|64+3|66+3|61+3|50+3|50+3|50+3|61+3|19+3|https://cdn.sofif...|https://cdn.sofif...|https://cdn.sofif...|https://cdn.sofif...|https://cdn.sofif...|\n",
            "|   188545|https://sofifa.co...|   R. Lewandowski|  Robert Lewandowski|              ST|     92|       92|1.195E8|270000.0| 32|1988-08-21 00:00:00|      185|       81|        21.0|  FC Bayern München|German 1. Bundesliga|           1|           ST|                 9|            null|2014-07-01 00:00:00|    2023|            37|        Poland|        1353.0|             RS|                   9|         Right|        4|          4|                       5|  High/Medium|          Unique|      Yes|         197200000|#Aerial Threat, #...|Solid Player, Fin...|  78|      92|     79|       86|       44|    82|                71|                 95|                        90|                     85|               89|             85|         79|               85|                70|                88|                   77|                   79|              77|                93|              82|              90|           85|           76|            86|              87|                  81|                     49|                   95|              81|                 90|                 88|                         35|                       42|                      19|                15|                   6|                 12|                      8|                  10|             null|90+2|90+2|90+2| 85| 88| 88| 88| 85|86+3|86+3|86+3|84+3|80+3|80+3|80+3|84+3|64+3|66+3|66+3|66+3|64+3|61+3|60+3|60+3|60+3|61+3|19+3|https://cdn.sofif...|https://cdn.sofif...|https://cdn.sofif...|https://cdn.sofif...|https://cdn.sofif...|\n",
            "|    20801|https://sofifa.co...|Cristiano Ronaldo|Cristiano Ronaldo...|          ST, LW|     91|       91|  4.5E7|270000.0| 36|1985-02-05 00:00:00|      187|       83|        11.0|  Manchester United|English Premier L...|           1|           ST|                 7|            null|2021-08-27 00:00:00|    2023|            38|      Portugal|        1354.0|             ST|                   7|         Right|        4|          5|                       5|     High/Low|          Unique|      Yes|          83300000|#Aerial Threat, #...|Power Free-Kick, ...|  87|      94|     80|       88|       34|    75|                87|                 95|                        90|                     80|               86|             88|         81|               84|                77|                88|                   85|                   88|              86|                94|              74|              94|           95|           77|            77|              93|                  63|                     29|                   95|              76|                 88|                 95|                         24|                       32|                      24|                 7|                  11|                 15|                     14|                  11|             null|90+1|90+1|90+1| 88| 89| 89| 89| 88|86+3|86+3|86+3|86+3|78+3|78+3|78+3|86+3|63+3|59+3|59+3|59+3|63+3|60+3|53+3|53+3|53+3|60+3|20+3|https://cdn.sofif...|https://cdn.sofif...|https://cdn.sofif...|https://cdn.sofif...|https://cdn.sofif...|\n",
            "|   190871|https://sofifa.co...|        Neymar Jr|Neymar da Silva S...|         LW, CAM|     91|       91| 1.29E8|270000.0| 29|1992-02-05 00:00:00|      175|       68|        73.0|Paris Saint-Germain|      French Ligue 1|           1|           LW|                10|            null|2017-08-03 00:00:00|    2025|            54|        Brazil|          null|           null|                null|         Right|        5|          5|                       5|  High/Medium|          Unique|      Yes|         238700000|#Speedster, #Drib...|Injury Prone, Fla...|  91|      83|     86|       94|       37|    63|                85|                 83|                        63|                     86|               86|             95|         88|               87|                81|                95|                   93|                   89|              96|                89|              84|              80|           64|           81|            53|              81|                  63|                     37|                   86|              90|                 93|                 93|                         35|                       32|                      29|                 9|                   9|                 15|                     15|                  11|             null|83+3|83+3|83+3| 90| 88| 88| 88| 90|89+2|89+2|89+2|89+2|82+3|82+3|82+3|89+2|67+3|63+3|63+3|63+3|67+3|62+3|50+3|50+3|50+3|62+3|20+3|https://cdn.sofif...|https://cdn.sofif...|https://cdn.sofif...|                null|https://cdn.sofif...|\n",
            "|   192985|https://sofifa.co...|     K. De Bruyne|     Kevin De Bruyne|         CM, CAM|     91|       91|1.255E8|350000.0| 30|1991-06-28 00:00:00|      181|       70|        10.0|    Manchester City|English Premier L...|           1|          RCM|                17|            null|2015-08-30 00:00:00|    2025|             7|       Belgium|        1325.0|            RCM|                   7|         Right|        5|          4|                       4|    High/High|          Unique|      Yes|         232200000|#Dribbler, #Playm...|Injury Prone, Lea...|  76|      86|     93|       88|       64|    78|                94|                 82|                        55|                     94|               82|             88|         85|               83|                93|                91|                   76|                   76|              79|                91|              78|              91|           63|           89|            74|              91|                  76|                     66|                   88|              94|                 83|                 89|                         68|                       65|                      53|                15|                  13|                  5|                     10|                  13|             null|83+3|83+3|83+3| 88| 87| 87| 87| 88|89+2|89+2|89+2|89+2|89+2|89+2|89+2|89+2|79+3|80+3|80+3|80+3|79+3|75+3|69+3|69+3|69+3|75+3|21+3|https://cdn.sofif...|https://cdn.sofif...|https://cdn.sofif...|https://cdn.sofif...|https://cdn.sofif...|\n",
            "|   200389|https://sofifa.co...|         J. Oblak|           Jan Oblak|              GK|     91|       93| 1.12E8|130000.0| 28|1993-01-07 00:00:00|      188|       87|       240.0| Atlético de Madrid|Spain Primera Div...|           1|           GK|                13|            null|2014-07-16 00:00:00|    2023|            44|      Slovenia|          null|           null|                null|         Right|        3|          1|                       5|Medium/Medium|          Unique|      Yes|         238000000|                null|GK Long Throw, Co...|null|    null|   null|     null|     null|  null|                13|                 11|                        15|                     43|               13|             12|         13|               14|                40|                30|                   43|                   60|              67|                88|              49|              59|           78|           41|            78|              12|                  34|                     19|                   11|              65|                 11|                 68|                         27|                       12|                      18|                87|                  92|                 78|                     90|                  90|               50|33+3|33+3|33+3| 32| 35| 35| 35| 32|38+3|38+3|38+3|35+3|38+3|38+3|38+3|35+3|32+3|36+3|36+3|36+3|32+3|32+3|33+3|33+3|33+3|32+3|89+3|https://cdn.sofif...|https://cdn.sofif...|https://cdn.sofif...|                null|https://cdn.sofif...|\n",
            "|   231747|https://sofifa.co...|        K. Mbappé|Kylian Mbappé Lottin|          ST, LW|     91|       95| 1.94E8|230000.0| 22|1998-12-20 00:00:00|      182|       73|        73.0|Paris Saint-Germain|      French Ligue 1|           1|           ST|                 7|            null|2018-07-01 00:00:00|    2022|            18|        France|        1335.0|             LW|                  10|         Right|        4|          5|                       4|     High/Low|          Unique|      Yes|         373500000|#Speedster, #Drib...|Flair, Speed Drib...|  97|      88|     80|       92|       36|    77|                78|                 93|                        72|                     85|               83|             93|         80|               69|                71|                91|                   97|                   97|              92|                93|              83|              86|           78|           88|            77|              82|                  62|                     38|                   92|              82|                 79|                 88|                         26|                       34|                      32|                13|                   5|                  7|                     11|                   6|             null|89+3|89+3|89+3| 90| 90| 90| 90| 90|89+3|89+3|89+3|89+3|81+3|81+3|81+3|89+3|67+3|63+3|63+3|63+3|67+3|63+3|54+3|54+3|54+3|63+3|18+3|https://cdn.sofif...|https://cdn.sofif...|https://cdn.sofif...|https://cdn.sofif...|https://cdn.sofif...|\n",
            "|   167495|https://sofifa.co...|         M. Neuer|  Manuel Peter Neuer|              GK|     90|       90| 1.35E7| 86000.0| 35|1986-03-27 00:00:00|      193|       93|        21.0|  FC Bayern München|German 1. Bundesliga|           1|           GK|                 1|            null|2011-07-01 00:00:00|    2023|            21|       Germany|        1337.0|             GK|                   1|         Right|        4|          1|                       5|Medium/Medium|          Unique|      Yes|          22300000|                null|Leadership, GK Lo...|null|    null|   null|     null|     null|  null|                15|                 13|                        25|                     60|               11|             30|         14|               11|                68|                46|                   54|                   60|              51|                87|              35|              68|           77|           43|            80|              16|                  29|                     30|                   12|              70|                 47|                 70|                         17|                       10|                      11|                88|                  88|                 91|                     89|                  88|               56|40+3|40+3|40+3| 40| 43| 43| 43| 40|47+3|47+3|47+3|44+3|50+3|50+3|50+3|44+3|37+3|43+3|43+3|43+3|37+3|35+3|34+3|34+3|34+3|35+3|88+2|https://cdn.sofif...|https://cdn.sofif...|https://cdn.sofif...|https://cdn.sofif...|https://cdn.sofif...|\n",
            "|   192448|https://sofifa.co...|    M. ter Stegen|Marc-André ter St...|              GK|     90|       92|  9.9E7|250000.0| 29|1992-04-30 00:00:00|      187|       85|       241.0|       FC Barcelona|Spain Primera Div...|           1|           GK|                 1|            null|2014-07-01 00:00:00|    2025|            21|       Germany|          null|           null|                null|         Right|        4|          1|                       4|Medium/Medium|          Unique|      Yes|         210400000|                null|Rushes Out Of Goa...|null|    null|   null|     null|     null|  null|                18|                 14|                        11|                     61|               14|             21|         18|               12|                63|                30|                   38|                   50|              39|                86|              43|              66|           79|           35|            78|              10|                  43|                     22|                   11|              70|                 25|                 70|                         25|                       13|                      10|                88|                  85|                 88|                     88|                  90|               43|35+3|35+3|35+3| 35| 38| 38| 38| 35|42+3|42+3|42+3|39+3|45+3|45+3|45+3|39+3|33+3|41+3|41+3|41+3|33+3|31+3|33+3|33+3|33+3|31+3|88+3|https://cdn.sofif...|https://cdn.sofif...|https://cdn.sofif...|                null|https://cdn.sofif...|\n",
            "|   202126|https://sofifa.co...|          H. Kane|          Harry Kane|              ST|     90|       90|1.295E8|240000.0| 27|1993-07-28 00:00:00|      188|       89|        18.0|  Tottenham Hotspur|English Premier L...|           1|           ST|                10|            null|2010-07-28 00:00:00|    2024|            14|       England|        1318.0|             ST|                   9|         Right|        5|          3|                       4|    High/High|          Unique|      Yes|         246100000|#Distance Shooter...|Leadership, Long ...|  70|      91|     83|       83|       47|    83|                80|                 94|                        86|                     85|               88|             83|         83|               65|                86|                85|                   65|                   74|              71|                92|              70|              91|           79|           83|            85|              86|                  80|                     44|                   94|              87|                 91|                 91|                         50|                       36|                      38|                 8|                  10|                 11|                     14|                  11|             null|88+2|88+2|88+2| 84| 86| 86| 86| 84|85+3|85+3|85+3|84+3|82+3|82+3|82+3|84+3|67+3|68+3|68+3|68+3|67+3|64+3|61+3|61+3|61+3|64+3|20+3|https://cdn.sofif...|https://cdn.sofif...|https://cdn.sofif...|https://cdn.sofif...|https://cdn.sofif...|\n",
            "|   215914|https://sofifa.co...|         N. Kanté|        N'Golo Kanté|         CDM, CM|     90|       90|  1.0E8|230000.0| 30|1991-03-29 00:00:00|      168|       70|         5.0|            Chelsea|English Premier L...|           1|          RCM|                 7|            null|2016-07-16 00:00:00|    2023|            18|        France|        1335.0|            CDM|                  13|         Right|        3|          2|                       4|  Medium/High|          Unique|      Yes|         185000000|#Tackling, #Tacti...|          Leadership|  78|      66|     75|       82|       87|    83|                68|                 65|                        54|                     82|               56|             79|         49|               49|                79|                81|                   82|                   75|              82|                93|              92|              71|           77|           97|            72|              65|                  93|                     91|                   72|              78|                 54|                 84|                         90|                       93|                      86|                15|                  12|                 10|                      7|                  10|             null|72+3|72+3|72+3| 77| 77| 77| 77| 77|78+3|78+3|78+3|79+3|82+3|82+3|82+3|79+3|85+3|87+3|87+3|87+3|85+3|85+3|84+3|84+3|84+3|85+3|20+3|https://cdn.sofif...|https://cdn.sofif...|https://cdn.sofif...|https://cdn.sofif...|https://cdn.sofif...|\n",
            "|   165153|https://sofifa.co...|       K. Benzema|       Karim Benzema|          CF, ST|     89|       89|  6.6E7|350000.0| 33|1987-12-19 00:00:00|      185|       81|       243.0|     Real Madrid CF|Spain Primera Div...|           1|           CF|                 9|            null|2009-07-09 00:00:00|    2023|            18|        France|        1335.0|             CF|                  19|         Right|        4|          4|                       4|Medium/Medium|Normal (170-185)|      Yes|         135300000|            #Poacher|Leadership, Fines...|  76|      86|     81|       87|       39|    77|                75|                 90|                        89|                     86|               86|             87|         81|               73|                73|                90|                   77|                   75|              79|                91|              72|              85|           79|           78|            82|              79|                  63|                     39|                   90|              87|                 84|                 90|                         43|                       24|                      18|                13|                  11|                  5|                      5|                   7|             null|87+2|87+2|87+2| 85| 87| 87| 87| 85|86+3|86+3|86+3|84+3|80+3|80+3|80+3|84+3|63+3|62+3|62+3|62+3|63+3|59+3|55+3|55+3|55+3|59+3|18+3|https://cdn.sofif...|https://cdn.sofif...|https://cdn.sofif...|https://cdn.sofif...|https://cdn.sofif...|\n",
            "|   192119|https://sofifa.co...|      T. Courtois|    Thibaut Courtois|              GK|     89|       91| 8.55E7|250000.0| 29|1992-05-11 00:00:00|      199|       96|       243.0|     Real Madrid CF|Spain Primera Div...|           1|           GK|                 1|            null|2018-08-09 00:00:00|    2026|             7|       Belgium|        1325.0|             GK|                   1|          Left|        3|          1|                       4|Medium/Medium|          Unique|      Yes|         181700000|                null|GK Long Throw, Co...|null|    null|   null|     null|     null|  null|                14|                 14|                        13|                     33|               12|             13|         19|               20|                35|                23|                   42|                   52|              62|                84|              45|              56|           68|           38|            70|              17|                  23|                     15|                   13|              44|                 27|                 66|                         20|                       18|                      16|                84|                  89|                 74|                     86|                  88|               46|31+3|31+3|31+3| 29| 31| 31| 31| 29|32+3|32+3|32+3|31+3|32+3|32+3|32+3|31+3|29+3|31+3|31+3|31+3|29+3|29+3|29+3|29+3|29+3|29+3|86+3|https://cdn.sofif...|https://cdn.sofif...|https://cdn.sofif...|https://cdn.sofif...|https://cdn.sofif...|\n",
            "|   200104|https://sofifa.co...|           H. Son|       손흥민 孙兴慜|      LM, CF, LW|     89|       89| 1.04E8|220000.0| 28|1992-07-08 00:00:00|      183|       78|        18.0|  Tottenham Hotspur|English Premier L...|           1|           LW|                 7|            null|2015-08-28 00:00:00|    2025|           167|Korea Republic|          null|           null|                null|         Right|        5|          4|                       4|    High/High|          Unique|      Yes|         197600000|#Dribbler, #Engin...|Solid Player, Fin...|  88|      87|     82|       86|       43|    69|                83|                 88|                        68|                     84|               78|             87|         85|               74|                74|                84|                   85|                   90|              86|                91|              78|              88|           60|           88|            64|              89|                  62|                     39|                   91|              83|                 73|                 89|                         50|                       34|                      33|                11|                  13|                 13|                      6|                  10|             null|85+3|85+3|85+3| 87| 87| 87| 87| 87|86+3|86+3|86+3|86+3|80+3|80+3|80+3|86+3|68+3|64+3|64+3|64+3|68+3|64+3|54+3|54+3|54+3|64+3|19+3|https://cdn.sofif...|https://cdn.sofif...|https://cdn.sofif...|                null|https://cdn.sofif...|\n",
            "|   200145|https://sofifa.co...|         Casemiro|Carlos Henrique V...|             CDM|     89|       89|  8.8E7|310000.0| 29|1992-02-23 00:00:00|      185|       84|       243.0|     Real Madrid CF|Spain Primera Div...|           1|          CDM|                14|            null|2013-07-11 00:00:00|    2025|            54|        Brazil|          null|           null|                null|         Right|        3|          2|                       3|    High/High|          Unique|      Yes|         180400000|#Engine, #Tacklin...|Power Free-Kick, ...|  65|      73|     76|       73|       86|    90|                58|                 64|                        79|                     84|               62|             69|         62|               74|                84|                79|                   60|                   69|              61|                87|              66|              88|           87|           89|            90|              81|                  91|                     87|                   75|              80|                 66|                 84|                         85|                       88|                      87|                13|                  14|                 16|                     12|                  12|             null|76+3|76+3|76+3| 72| 76| 76| 76| 72|76+3|76+3|76+3|74+3|82+3|82+3|82+3|74+3|80+3|86+3|86+3|86+3|80+3|81+3|86+3|86+3|86+3|81+3|21+3|https://cdn.sofif...|https://cdn.sofif...|https://cdn.sofif...|                null|https://cdn.sofif...|\n",
            "|   203376|https://sofifa.co...|      V. van Dijk|     Virgil van Dijk|              CB|     89|       89|  8.6E7|230000.0| 29|1991-07-08 00:00:00|      193|       92|         9.0|          Liverpool|English Premier L...|           1|          LCB|                 4|            null|2018-01-01 00:00:00|    2025|            34|   Netherlands|      105035.0|            LCB|                   4|         Right|        3|          2|                       4|Medium/Medium|          Unique|      Yes|         159100000|#Tackling, #Tacti...|Leadership, Long ...|  78|      60|     71|       72|       91|    84|                53|                 52|                        87|                     79|               45|             70|         60|               70|                86|                76|                   66|                   88|              61|                87|              53|              81|           90|           69|            92|              64|                  83|                     90|                   47|              65|                 62|                 90|                         92|                       92|                      86|                13|                  10|                 13|                     11|                  11|             null|70+3|70+3|70+3| 67| 69| 69| 69| 67|70+3|70+3|70+3|70+3|75+3|75+3|75+3|70+3|79+3|84+3|84+3|84+3|79+3|81+3|88+1|88+1|88+1|81+3|20+3|https://cdn.sofif...|https://cdn.sofif...|https://cdn.sofif...|https://cdn.sofif...|https://cdn.sofif...|\n",
            "|   208722|https://sofifa.co...|          S. Mané|          Sadio Mané|              LW|     89|       89| 1.01E8|270000.0| 29|1992-04-10 00:00:00|      175|       69|         9.0|          Liverpool|English Premier L...|           1|           LW|                10|            null|2016-07-01 00:00:00|    2023|           136|       Senegal|          null|           null|                null|         Right|        4|          4|                       4|  High/Medium|          Unique|      Yes|         186900000|#Speedster, #Drib...|Flair, Speed Drib...|  91|      83|     80|       89|       44|    77|                78|                 86|                        84|                     84|               75|             90|         77|               64|                71|                88|                   93|                   90|              93|                91|              88|              83|           87|           85|            72|              80|                  75|                     35|                   90|              84|                 71|                 84|                         42|                       42|                      38|                10|                  10|                 15|                      7|                  14|             null|86+3|86+3|86+3| 87| 88| 88| 88| 87|87+2|87+2|87+2|86+3|80+3|80+3|80+3|86+3|68+3|65+3|65+3|65+3|68+3|65+3|59+3|59+3|59+3|65+3|19+3|https://cdn.sofif...|https://cdn.sofif...|https://cdn.sofif...|                null|https://cdn.sofif...|\n",
            "|   209331|https://sofifa.co...|         M. Salah| Mohamed Salah Ghaly|              RW|     89|       89| 1.01E8|270000.0| 29|1992-06-15 00:00:00|      175|       71|         9.0|          Liverpool|English Premier L...|           1|           RW|                11|            null|2017-07-01 00:00:00|    2023|           111|         Egypt|          null|           null|                null|          Left|        3|          4|                       4|  High/Medium|          Unique|      Yes|         186900000|#Speedster, #Drib...|Finesse Shot, Lon...|  90|      87|     81|       90|       45|    75|                79|                 91|                        59|                     84|               81|             90|         83|               69|                75|                89|                   89|                   91|              91|                92|              91|              82|           69|           85|            75|              84|                  63|                     55|                   91|              83|                 86|                 90|                         38|                       43|                      41|                14|                  14|                  9|                     11|                  14|             null|85+3|85+3|85+3| 88| 88| 88| 88| 88|87+2|87+2|87+2|87+2|82+3|82+3|82+3|87+2|71+3|68+3|68+3|68+3|71+3|67+3|58+3|58+3|58+3|67+3|22+3|https://cdn.sofif...|https://cdn.sofif...|https://cdn.sofif...|                null|https://cdn.sofif...|\n",
            "|   210257|https://sofifa.co...|          Ederson|Ederson Santana d...|              GK|     89|       91|  9.4E7|200000.0| 27|1993-08-17 00:00:00|      188|       86|        10.0|    Manchester City|English Premier L...|           1|           GK|                31|            null|2017-07-01 00:00:00|    2026|            54|        Brazil|          null|           null|                null|          Left|        3|          1|                       3|Medium/Medium|          Unique|      Yes|         181000000|                null|Long Passer (AI),...|null|    null|   null|     null|     null|  null|                20|                 14|                        14|                     61|               18|             23|         15|               20|                66|                40|                   64|                   63|              60|                88|              48|              70|           66|           41|            78|              18|                  38|                     27|                   20|              70|                 51|                 70|                         29|                       15|                       8|                87|                  82|                 93|                     88|                  88|               64|40+3|40+3|40+3| 41| 43| 43| 43| 41|47+3|47+3|47+3|44+3|49+3|49+3|49+3|44+3|37+3|44+3|44+3|44+3|37+3|36+3|35+3|35+3|35+3|36+3|87+3|https://cdn.sofif...|https://cdn.sofif...|https://cdn.sofif...|                null|https://cdn.sofif...|\n",
            "|   212622|https://sofifa.co...|       J. Kimmich|Joshua Walter Kim...|         CDM, RB|     89|       90| 1.08E8|160000.0| 26|1995-02-08 00:00:00|      177|       75|        21.0|  FC Bayern München|German 1. Bundesliga|           1|          RDM|                 6|            null|2015-07-01 00:00:00|    2025|            21|       Germany|        1337.0|            RDM|                   6|         Right|        4|          3|                       4|  High/Medium|  Lean (170-185)|      Yes|         186300000|            #Crosser|Leadership, Long ...|  70|      73|     86|       84|       83|    79|                91|                 68|                        72|                     87|               69|             83|         85|               61|                90|                85|                   77|                   65|              84|                88|              84|              78|           79|           94|            68|              84|                  89|                     84|                   80|              85|                 44|                 85|                         85|                       85|                      79|                 8|                  15|                  7|                     15|                  15|             null|77+3|77+3|77+3| 82| 81| 81| 81| 82|83+3|83+3|83+3|83+3|86+3|86+3|86+3|83+3|85+3|86+3|86+3|86+3|85+3|83+3|81+3|81+3|81+3|83+3|21+3|https://cdn.sofif...|https://cdn.sofif...|https://cdn.sofif...|https://cdn.sofif...|https://cdn.sofif...|\n",
            "+---------+--------------------+-----------------+--------------------+----------------+-------+---------+-------+--------+---+-------------------+---------+---------+------------+-------------------+--------------------+------------+-------------+------------------+----------------+-------------------+--------+--------------+--------------+--------------+---------------+--------------------+--------------+---------+-----------+------------------------+-------------+----------------+---------+------------------+--------------------+--------------------+----+--------+-------+---------+---------+------+------------------+-------------------+--------------------------+-----------------------+-----------------+---------------+-----------+-----------------+------------------+------------------+---------------------+---------------------+----------------+------------------+----------------+----------------+-------------+-------------+--------------+----------------+--------------------+-----------------------+---------------------+----------------+-------------------+-------------------+---------------------------+-------------------------+------------------------+------------------+--------------------+-------------------+-----------------------+--------------------+-----------------+----+----+----+---+---+---+---+---+----+----+----+----+----+----+----+----+----+----+----+----+----+----+----+----+----+----+----+--------------------+--------------------+--------------------+--------------------+--------------------+\n",
            "only showing top 20 rows\n",
            "\n"
          ]
        }
      ],
      "source": [
        "f22.show(20)"
      ]
    },
    {
      "cell_type": "code",
      "execution_count": null,
      "metadata": {
        "colab": {
          "base_uri": "https://localhost:8080/"
        },
        "id": "MlfTq-S_b1C2",
        "outputId": "85644d3c-0146-41fc-a72a-3469aa301026"
      },
      "outputs": [
        {
          "data": {
            "text/plain": [
              "19239"
            ]
          },
          "execution_count": 7,
          "metadata": {},
          "output_type": "execute_result"
        }
      ],
      "source": [
        "f22.count()"
      ]
    },
    {
      "cell_type": "code",
      "execution_count": null,
      "metadata": {
        "colab": {
          "base_uri": "https://localhost:8080/"
        },
        "id": "DgAzV6d0eNPl",
        "outputId": "4e425f49-136b-4332-89fa-43553d3850f3"
      },
      "outputs": [
        {
          "name": "stdout",
          "output_type": "stream",
          "text": [
            "root\n",
            " |-- sofifa_id: integer (nullable = true)\n",
            " |-- player_url: string (nullable = true)\n",
            " |-- name: string (nullable = true)\n",
            " |-- long_name: string (nullable = true)\n",
            " |-- player_positions: string (nullable = true)\n",
            " |-- overall: integer (nullable = true)\n",
            " |-- potential: integer (nullable = true)\n",
            " |-- value: double (nullable = true)\n",
            " |-- wage_eur: double (nullable = true)\n",
            " |-- age: integer (nullable = true)\n",
            " |-- dob: timestamp (nullable = true)\n",
            " |-- height_cm: integer (nullable = true)\n",
            " |-- weight_kg: integer (nullable = true)\n",
            " |-- club_team_id: double (nullable = true)\n",
            " |-- club_name: string (nullable = true)\n",
            " |-- league_name: string (nullable = true)\n",
            " |-- league_level: integer (nullable = true)\n",
            " |-- club_position: string (nullable = true)\n",
            " |-- club_jersey_number: integer (nullable = true)\n",
            " |-- club_loaned_from: string (nullable = true)\n",
            " |-- club_joined: timestamp (nullable = true)\n",
            " |-- contract: integer (nullable = true)\n",
            " |-- nationality_id: integer (nullable = true)\n",
            " |-- nationality: string (nullable = true)\n",
            " |-- nation_team_id: double (nullable = true)\n",
            " |-- nation_position: string (nullable = true)\n",
            " |-- nation_jersey_number: integer (nullable = true)\n",
            " |-- preferred_foot: string (nullable = true)\n",
            " |-- weak_foot: integer (nullable = true)\n",
            " |-- skill_moves: integer (nullable = true)\n",
            " |-- international_reputation: integer (nullable = true)\n",
            " |-- work_rate: string (nullable = true)\n",
            " |-- body_type: string (nullable = true)\n",
            " |-- real_face: string (nullable = true)\n",
            " |-- release_clause_eur: integer (nullable = true)\n",
            " |-- player_tags: string (nullable = true)\n",
            " |-- player_traits: string (nullable = true)\n",
            " |-- pace: integer (nullable = true)\n",
            " |-- shooting: integer (nullable = true)\n",
            " |-- passing: integer (nullable = true)\n",
            " |-- dribbling: integer (nullable = true)\n",
            " |-- defending: integer (nullable = true)\n",
            " |-- physic: integer (nullable = true)\n",
            " |-- attacking_crossing: integer (nullable = true)\n",
            " |-- attacking_finishing: integer (nullable = true)\n",
            " |-- attacking_heading_accuracy: integer (nullable = true)\n",
            " |-- attacking_short_passing: integer (nullable = true)\n",
            " |-- attacking_volleys: integer (nullable = true)\n",
            " |-- skill_dribbling: integer (nullable = true)\n",
            " |-- skill_curve: integer (nullable = true)\n",
            " |-- skill_fk_accuracy: integer (nullable = true)\n",
            " |-- skill_long_passing: integer (nullable = true)\n",
            " |-- skill_ball_control: integer (nullable = true)\n",
            " |-- movement_acceleration: integer (nullable = true)\n",
            " |-- movement_sprint_speed: integer (nullable = true)\n",
            " |-- movement_agility: integer (nullable = true)\n",
            " |-- movement_reactions: integer (nullable = true)\n",
            " |-- movement_balance: integer (nullable = true)\n",
            " |-- power_shot_power: integer (nullable = true)\n",
            " |-- power_jumping: integer (nullable = true)\n",
            " |-- power_stamina: integer (nullable = true)\n",
            " |-- power_strength: integer (nullable = true)\n",
            " |-- power_long_shots: integer (nullable = true)\n",
            " |-- mentality_aggression: integer (nullable = true)\n",
            " |-- mentality_interceptions: integer (nullable = true)\n",
            " |-- mentality_positioning: integer (nullable = true)\n",
            " |-- mentality_vision: integer (nullable = true)\n",
            " |-- mentality_penalties: integer (nullable = true)\n",
            " |-- mentality_composure: integer (nullable = true)\n",
            " |-- defending_marking_awareness: integer (nullable = true)\n",
            " |-- defending_standing_tackle: integer (nullable = true)\n",
            " |-- defending_sliding_tackle: integer (nullable = true)\n",
            " |-- goalkeeping_diving: integer (nullable = true)\n",
            " |-- goalkeeping_handling: integer (nullable = true)\n",
            " |-- goalkeeping_kicking: integer (nullable = true)\n",
            " |-- goalkeeping_positioning: integer (nullable = true)\n",
            " |-- goalkeeping_reflexes: integer (nullable = true)\n",
            " |-- goalkeeping_speed: integer (nullable = true)\n",
            " |-- ls: string (nullable = true)\n",
            " |-- st: string (nullable = true)\n",
            " |-- rs: string (nullable = true)\n",
            " |-- lw: string (nullable = true)\n",
            " |-- lf: string (nullable = true)\n",
            " |-- cf: string (nullable = true)\n",
            " |-- rf: string (nullable = true)\n",
            " |-- rw: string (nullable = true)\n",
            " |-- lam: string (nullable = true)\n",
            " |-- cam: string (nullable = true)\n",
            " |-- ram: string (nullable = true)\n",
            " |-- lm: string (nullable = true)\n",
            " |-- lcm: string (nullable = true)\n",
            " |-- cm: string (nullable = true)\n",
            " |-- rcm: string (nullable = true)\n",
            " |-- rm: string (nullable = true)\n",
            " |-- lwb: string (nullable = true)\n",
            " |-- ldm: string (nullable = true)\n",
            " |-- cdm: string (nullable = true)\n",
            " |-- rdm: string (nullable = true)\n",
            " |-- rwb: string (nullable = true)\n",
            " |-- lb: string (nullable = true)\n",
            " |-- lcb: string (nullable = true)\n",
            " |-- cb: string (nullable = true)\n",
            " |-- rcb: string (nullable = true)\n",
            " |-- rb: string (nullable = true)\n",
            " |-- gk: string (nullable = true)\n",
            " |-- player_face_url: string (nullable = true)\n",
            " |-- club_logo_url: string (nullable = true)\n",
            " |-- club_flag_url: string (nullable = true)\n",
            " |-- nation_logo_url: string (nullable = true)\n",
            " |-- nation_flag_url: string (nullable = true)\n",
            "\n"
          ]
        }
      ],
      "source": [
        "f22.printSchema()"
      ]
    },
    {
      "cell_type": "code",
      "execution_count": null,
      "metadata": {
        "id": "RKLFcGbPu1wO"
      },
      "outputs": [],
      "source": [
        "from pyspark.ml.linalg import Vectors\n",
        "from pyspark.ml.feature import VectorAssembler"
      ]
    },
    {
      "cell_type": "markdown",
      "metadata": {
        "id": "WVMVV29CCLnK"
      },
      "source": [
        "# General"
      ]
    },
    {
      "cell_type": "code",
      "execution_count": null,
      "metadata": {
        "id": "FeqvTAM-x3Kd"
      },
      "outputs": [],
      "source": [
        "f22_small = f22.select(['name','player_positions','overall','potential','value','age','nationality','weak_foot','skill_moves','pace','shooting','passing','dribbling','defending'])"
      ]
    },
    {
      "cell_type": "code",
      "execution_count": null,
      "metadata": {
        "colab": {
          "base_uri": "https://localhost:8080/"
        },
        "id": "RpUnzFjt1j-S",
        "outputId": "8b1b4a8d-9364-4c8c-9c11-df09de864ffd"
      },
      "outputs": [
        {
          "name": "stdout",
          "output_type": "stream",
          "text": [
            "+-----------------+----------------+-------+---------+-------+---+--------------+---------+-----------+----+--------+-------+---------+---------+\n",
            "|             name|player_positions|overall|potential|  value|age|   nationality|weak_foot|skill_moves|pace|shooting|passing|dribbling|defending|\n",
            "+-----------------+----------------+-------+---------+-------+---+--------------+---------+-----------+----+--------+-------+---------+---------+\n",
            "|         L. Messi|      RW, ST, CF|     93|       93|  7.8E7| 34|     Argentina|        4|          4|  85|      92|     91|       95|       34|\n",
            "|   R. Lewandowski|              ST|     92|       92|1.195E8| 32|        Poland|        4|          4|  78|      92|     79|       86|       44|\n",
            "|Cristiano Ronaldo|          ST, LW|     91|       91|  4.5E7| 36|      Portugal|        4|          5|  87|      94|     80|       88|       34|\n",
            "|        Neymar Jr|         LW, CAM|     91|       91| 1.29E8| 29|        Brazil|        5|          5|  91|      83|     86|       94|       37|\n",
            "|     K. De Bruyne|         CM, CAM|     91|       91|1.255E8| 30|       Belgium|        5|          4|  76|      86|     93|       88|       64|\n",
            "|         J. Oblak|              GK|     91|       93| 1.12E8| 28|      Slovenia|        3|          1|null|    null|   null|     null|     null|\n",
            "|        K. Mbappé|          ST, LW|     91|       95| 1.94E8| 22|        France|        4|          5|  97|      88|     80|       92|       36|\n",
            "|         M. Neuer|              GK|     90|       90| 1.35E7| 35|       Germany|        4|          1|null|    null|   null|     null|     null|\n",
            "|    M. ter Stegen|              GK|     90|       92|  9.9E7| 29|       Germany|        4|          1|null|    null|   null|     null|     null|\n",
            "|          H. Kane|              ST|     90|       90|1.295E8| 27|       England|        5|          3|  70|      91|     83|       83|       47|\n",
            "|         N. Kanté|         CDM, CM|     90|       90|  1.0E8| 30|        France|        3|          2|  78|      66|     75|       82|       87|\n",
            "|       K. Benzema|          CF, ST|     89|       89|  6.6E7| 33|        France|        4|          4|  76|      86|     81|       87|       39|\n",
            "|      T. Courtois|              GK|     89|       91| 8.55E7| 29|       Belgium|        3|          1|null|    null|   null|     null|     null|\n",
            "|           H. Son|      LM, CF, LW|     89|       89| 1.04E8| 28|Korea Republic|        5|          4|  88|      87|     82|       86|       43|\n",
            "|         Casemiro|             CDM|     89|       89|  8.8E7| 29|        Brazil|        3|          2|  65|      73|     76|       73|       86|\n",
            "|      V. van Dijk|              CB|     89|       89|  8.6E7| 29|   Netherlands|        3|          2|  78|      60|     71|       72|       91|\n",
            "|          S. Mané|              LW|     89|       89| 1.01E8| 29|       Senegal|        4|          4|  91|      83|     80|       89|       44|\n",
            "|         M. Salah|              RW|     89|       89| 1.01E8| 29|         Egypt|        3|          4|  90|      87|     81|       90|       45|\n",
            "|          Ederson|              GK|     89|       91|  9.4E7| 27|        Brazil|        3|          1|null|    null|   null|     null|     null|\n",
            "|       J. Kimmich|         CDM, RB|     89|       90| 1.08E8| 26|       Germany|        4|          3|  70|      73|     86|       84|       83|\n",
            "+-----------------+----------------+-------+---------+-------+---+--------------+---------+-----------+----+--------+-------+---------+---------+\n",
            "only showing top 20 rows\n",
            "\n"
          ]
        },
        {
          "data": {
            "text/plain": [
              "DataFrame[sofifa_id: int, player_url: string, name: string, long_name: string, player_positions: string, overall: int, potential: int, value: int, wage_eur: double, age: int, dob: timestamp, height_cm: int, weight_kg: int, club_team_id: double, club_name: string, league_name: string, league_level: int, club_position: string, club_jersey_number: int, club_loaned_from: string, club_joined: timestamp, contract: int, nationality_id: int, nationality: string, nation_team_id: double, nation_position: string, nation_jersey_number: int, preferred_foot: string, weak_foot: int, skill_moves: int, international_reputation: int, work_rate: string, body_type: string, real_face: string, release_clause_eur: int, player_tags: string, player_traits: string, pace: int, shooting: int, passing: int, dribbling: int, defending: int, physic: int, attacking_crossing: int, attacking_finishing: int, attacking_heading_accuracy: int, attacking_short_passing: int, attacking_volleys: int, skill_dribbling: int, skill_curve: int, skill_fk_accuracy: int, skill_long_passing: int, skill_ball_control: int, movement_acceleration: int, movement_sprint_speed: int, movement_agility: int, movement_reactions: int, movement_balance: int, power_shot_power: int, power_jumping: int, power_stamina: int, power_strength: int, power_long_shots: int, mentality_aggression: int, mentality_interceptions: int, mentality_positioning: int, mentality_vision: int, mentality_penalties: int, mentality_composure: int, defending_marking_awareness: int, defending_standing_tackle: int, defending_sliding_tackle: int, goalkeeping_diving: int, goalkeeping_handling: int, goalkeeping_kicking: int, goalkeeping_positioning: int, goalkeeping_reflexes: int, goalkeeping_speed: int, ls: string, st: string, rs: string, lw: string, lf: string, cf: string, rf: string, rw: string, lam: string, cam: string, ram: string, lm: string, lcm: string, cm: string, rcm: string, rm: string, lwb: string, ldm: string, cdm: string, rdm: string, rwb: string, lb: string, lcb: string, cb: string, rcb: string, rb: string, gk: string, player_face_url: string, club_logo_url: string, club_flag_url: string, nation_logo_url: string, nation_flag_url: string]"
            ]
          },
          "execution_count": 11,
          "metadata": {},
          "output_type": "execute_result"
        }
      ],
      "source": [
        "f22_small.show()\n",
        "f22.withColumn(\"value\",f22.value.cast('int'))"
      ]
    },
    {
      "cell_type": "code",
      "execution_count": null,
      "metadata": {
        "id": "fGWIf4zDtcWN"
      },
      "outputs": [],
      "source": [
        "assembler = VectorAssembler(\n",
        "    inputCols = ['overall','potential','age','pace'],\n",
        "    outputCol = \"features\",\n",
        "    handleInvalid = 'keep'\n",
        ")"
      ]
    },
    {
      "cell_type": "code",
      "execution_count": null,
      "metadata": {
        "id": "LzJegbVf3AHk"
      },
      "outputs": [],
      "source": [
        "f22_small = f22_small.na.drop()"
      ]
    },
    {
      "cell_type": "code",
      "execution_count": null,
      "metadata": {
        "colab": {
          "base_uri": "https://localhost:8080/"
        },
        "id": "kPr9PaEFvCki",
        "outputId": "61d8b730-719b-4016-aa7a-28fdf3f9c799"
      },
      "outputs": [
        {
          "name": "stdout",
          "output_type": "stream",
          "text": [
            "+-----------------+----------------+-------+---------+-------+---+--------------+---------+-----------+----+--------+-------+---------+---------+\n",
            "|             name|player_positions|overall|potential|  value|age|   nationality|weak_foot|skill_moves|pace|shooting|passing|dribbling|defending|\n",
            "+-----------------+----------------+-------+---------+-------+---+--------------+---------+-----------+----+--------+-------+---------+---------+\n",
            "|         L. Messi|      RW, ST, CF|     93|       93|  7.8E7| 34|     Argentina|        4|          4|  85|      92|     91|       95|       34|\n",
            "|   R. Lewandowski|              ST|     92|       92|1.195E8| 32|        Poland|        4|          4|  78|      92|     79|       86|       44|\n",
            "|Cristiano Ronaldo|          ST, LW|     91|       91|  4.5E7| 36|      Portugal|        4|          5|  87|      94|     80|       88|       34|\n",
            "|        Neymar Jr|         LW, CAM|     91|       91| 1.29E8| 29|        Brazil|        5|          5|  91|      83|     86|       94|       37|\n",
            "|     K. De Bruyne|         CM, CAM|     91|       91|1.255E8| 30|       Belgium|        5|          4|  76|      86|     93|       88|       64|\n",
            "|        K. Mbappé|          ST, LW|     91|       95| 1.94E8| 22|        France|        4|          5|  97|      88|     80|       92|       36|\n",
            "|          H. Kane|              ST|     90|       90|1.295E8| 27|       England|        5|          3|  70|      91|     83|       83|       47|\n",
            "|         N. Kanté|         CDM, CM|     90|       90|  1.0E8| 30|        France|        3|          2|  78|      66|     75|       82|       87|\n",
            "|       K. Benzema|          CF, ST|     89|       89|  6.6E7| 33|        France|        4|          4|  76|      86|     81|       87|       39|\n",
            "|           H. Son|      LM, CF, LW|     89|       89| 1.04E8| 28|Korea Republic|        5|          4|  88|      87|     82|       86|       43|\n",
            "|         Casemiro|             CDM|     89|       89|  8.8E7| 29|        Brazil|        3|          2|  65|      73|     76|       73|       86|\n",
            "|      V. van Dijk|              CB|     89|       89|  8.6E7| 29|   Netherlands|        3|          2|  78|      60|     71|       72|       91|\n",
            "|          S. Mané|              LW|     89|       89| 1.01E8| 29|       Senegal|        4|          4|  91|      83|     80|       89|       44|\n",
            "|         M. Salah|              RW|     89|       89| 1.01E8| 29|         Egypt|        3|          4|  90|      87|     81|       90|       45|\n",
            "|       J. Kimmich|         CDM, RB|     89|       90| 1.08E8| 26|       Germany|        4|          3|  70|      73|     86|       84|       83|\n",
            "|     Sergio Ramos|              CB|     88|       88|  2.4E7| 35|         Spain|        3|          3|  70|      70|     76|       74|       88|\n",
            "|        L. Suárez|              ST|     88|       88| 4.45E7| 34|       Uruguay|        4|          3|  72|      90|     82|       84|       47|\n",
            "|         T. Kroos|              CM|     88|       88|  7.5E7| 31|       Germany|        5|          3|  53|      81|     91|       81|       71|\n",
            "|        R. Lukaku|              ST|     88|       88| 9.35E7| 28|       Belgium|        4|          3|  84|      87|     74|       78|       39|\n",
            "|      R. Sterling|          LW, RW|     88|       89|1.075E8| 26|       England|        3|          4|  91|      82|     79|       87|       45|\n",
            "+-----------------+----------------+-------+---------+-------+---+--------------+---------+-----------+----+--------+-------+---------+---------+\n",
            "only showing top 20 rows\n",
            "\n"
          ]
        }
      ],
      "source": [
        "f22_small.show()"
      ]
    },
    {
      "cell_type": "code",
      "execution_count": null,
      "metadata": {
        "id": "W1ZRTRN4ummd"
      },
      "outputs": [],
      "source": [
        "newf22 = assembler.transform(f22_small)"
      ]
    },
    {
      "cell_type": "code",
      "execution_count": null,
      "metadata": {
        "colab": {
          "base_uri": "https://localhost:8080/"
        },
        "id": "Hj34Po3hvWd1",
        "outputId": "ebd91cc5-e061-4e34-bb41-a780c47f9252"
      },
      "outputs": [
        {
          "name": "stdout",
          "output_type": "stream",
          "text": [
            "+-----------------+----------------+-------+---------+-------+---+--------------+---------+-----------+----+--------+-------+---------+---------+--------------------+\n",
            "|             name|player_positions|overall|potential|  value|age|   nationality|weak_foot|skill_moves|pace|shooting|passing|dribbling|defending|            features|\n",
            "+-----------------+----------------+-------+---------+-------+---+--------------+---------+-----------+----+--------+-------+---------+---------+--------------------+\n",
            "|         L. Messi|      RW, ST, CF|     93|       93|  7.8E7| 34|     Argentina|        4|          4|  85|      92|     91|       95|       34|[93.0,93.0,34.0,8...|\n",
            "|   R. Lewandowski|              ST|     92|       92|1.195E8| 32|        Poland|        4|          4|  78|      92|     79|       86|       44|[92.0,92.0,32.0,7...|\n",
            "|Cristiano Ronaldo|          ST, LW|     91|       91|  4.5E7| 36|      Portugal|        4|          5|  87|      94|     80|       88|       34|[91.0,91.0,36.0,8...|\n",
            "|        Neymar Jr|         LW, CAM|     91|       91| 1.29E8| 29|        Brazil|        5|          5|  91|      83|     86|       94|       37|[91.0,91.0,29.0,9...|\n",
            "|     K. De Bruyne|         CM, CAM|     91|       91|1.255E8| 30|       Belgium|        5|          4|  76|      86|     93|       88|       64|[91.0,91.0,30.0,7...|\n",
            "|        K. Mbappé|          ST, LW|     91|       95| 1.94E8| 22|        France|        4|          5|  97|      88|     80|       92|       36|[91.0,95.0,22.0,9...|\n",
            "|          H. Kane|              ST|     90|       90|1.295E8| 27|       England|        5|          3|  70|      91|     83|       83|       47|[90.0,90.0,27.0,7...|\n",
            "|         N. Kanté|         CDM, CM|     90|       90|  1.0E8| 30|        France|        3|          2|  78|      66|     75|       82|       87|[90.0,90.0,30.0,7...|\n",
            "|       K. Benzema|          CF, ST|     89|       89|  6.6E7| 33|        France|        4|          4|  76|      86|     81|       87|       39|[89.0,89.0,33.0,7...|\n",
            "|           H. Son|      LM, CF, LW|     89|       89| 1.04E8| 28|Korea Republic|        5|          4|  88|      87|     82|       86|       43|[89.0,89.0,28.0,8...|\n",
            "|         Casemiro|             CDM|     89|       89|  8.8E7| 29|        Brazil|        3|          2|  65|      73|     76|       73|       86|[89.0,89.0,29.0,6...|\n",
            "|      V. van Dijk|              CB|     89|       89|  8.6E7| 29|   Netherlands|        3|          2|  78|      60|     71|       72|       91|[89.0,89.0,29.0,7...|\n",
            "|          S. Mané|              LW|     89|       89| 1.01E8| 29|       Senegal|        4|          4|  91|      83|     80|       89|       44|[89.0,89.0,29.0,9...|\n",
            "|         M. Salah|              RW|     89|       89| 1.01E8| 29|         Egypt|        3|          4|  90|      87|     81|       90|       45|[89.0,89.0,29.0,9...|\n",
            "|       J. Kimmich|         CDM, RB|     89|       90| 1.08E8| 26|       Germany|        4|          3|  70|      73|     86|       84|       83|[89.0,90.0,26.0,7...|\n",
            "|     Sergio Ramos|              CB|     88|       88|  2.4E7| 35|         Spain|        3|          3|  70|      70|     76|       74|       88|[88.0,88.0,35.0,7...|\n",
            "|        L. Suárez|              ST|     88|       88| 4.45E7| 34|       Uruguay|        4|          3|  72|      90|     82|       84|       47|[88.0,88.0,34.0,7...|\n",
            "|         T. Kroos|              CM|     88|       88|  7.5E7| 31|       Germany|        5|          3|  53|      81|     91|       81|       71|[88.0,88.0,31.0,5...|\n",
            "|        R. Lukaku|              ST|     88|       88| 9.35E7| 28|       Belgium|        4|          3|  84|      87|     74|       78|       39|[88.0,88.0,28.0,8...|\n",
            "|      R. Sterling|          LW, RW|     88|       89|1.075E8| 26|       England|        3|          4|  91|      82|     79|       87|       45|[88.0,89.0,26.0,9...|\n",
            "+-----------------+----------------+-------+---------+-------+---+--------------+---------+-----------+----+--------+-------+---------+---------+--------------------+\n",
            "only showing top 20 rows\n",
            "\n"
          ]
        }
      ],
      "source": [
        "newf22.show()"
      ]
    },
    {
      "cell_type": "code",
      "execution_count": null,
      "metadata": {
        "id": "HYrrlb5E3iHG"
      },
      "outputs": [],
      "source": [
        "finalf22 = newf22.select('features','value')"
      ]
    },
    {
      "cell_type": "code",
      "execution_count": null,
      "metadata": {
        "id": "i629KsKH3vNj"
      },
      "outputs": [],
      "source": [
        "train_data, test_data = finalf22.randomSplit([0.7,0.3])"
      ]
    },
    {
      "cell_type": "code",
      "execution_count": null,
      "metadata": {
        "colab": {
          "base_uri": "https://localhost:8080/"
        },
        "id": "XsONrxp532ll",
        "outputId": "4c68f1df-7e9f-4644-85f8-f02e949f4ae5"
      },
      "outputs": [
        {
          "name": "stdout",
          "output_type": "stream",
          "text": [
            "+-------+------------------+\n",
            "|summary|             value|\n",
            "+-------+------------------+\n",
            "|  count|             11862|\n",
            "|   mean|2878630.0792446467|\n",
            "| stddev| 7353061.250220709|\n",
            "|    min|           15000.0|\n",
            "|    max|            1.29E8|\n",
            "+-------+------------------+\n",
            "\n"
          ]
        }
      ],
      "source": [
        "train_data.describe().show()"
      ]
    },
    {
      "cell_type": "code",
      "execution_count": null,
      "metadata": {
        "colab": {
          "base_uri": "https://localhost:8080/"
        },
        "id": "Q8Q7Ecj634Mq",
        "outputId": "623f8b23-bde6-4247-8369-bccac6903708"
      },
      "outputs": [
        {
          "name": "stdout",
          "output_type": "stream",
          "text": [
            "+-------+-----------------+\n",
            "|summary|            value|\n",
            "+-------+-----------------+\n",
            "|  count|             5179|\n",
            "|   mean|3163092.295810002|\n",
            "| stddev| 8489506.17315841|\n",
            "|    min|          45000.0|\n",
            "|    max|           1.94E8|\n",
            "+-------+-----------------+\n",
            "\n"
          ]
        }
      ],
      "source": [
        "test_data.describe().show()"
      ]
    },
    {
      "cell_type": "code",
      "execution_count": null,
      "metadata": {
        "id": "ZVI_ukwC4ARa"
      },
      "outputs": [],
      "source": []
    },
    {
      "cell_type": "markdown",
      "metadata": {
        "id": "8oaALcx59slm"
      },
      "source": [
        "# Visualization"
      ]
    },
    {
      "cell_type": "code",
      "execution_count": null,
      "metadata": {
        "colab": {
          "base_uri": "https://localhost:8080/"
        },
        "id": "ZrTASCIx44FW",
        "outputId": "132fcb83-6b5c-499a-cbba-8c0c663348bb"
      },
      "outputs": [
        {
          "name": "stderr",
          "output_type": "stream",
          "text": [
            "/usr/local/lib/python3.8/dist-packages/IPython/core/interactiveshell.py:3326: DtypeWarning: Columns (25,108) have mixed types.Specify dtype option on import or set low_memory=False.\n",
            "  exec(code_obj, self.user_global_ns, self.user_ns)\n"
          ]
        }
      ],
      "source": [
        "import matplotlib.pyplot as plt\n",
        "import pandas as pd\n",
        "import seaborn as sns\n",
        "import numpy as np\n",
        "\n",
        "fifa = pd.read_csv(\"/content/datasets/players_22.csv\")"
      ]
    },
    {
      "cell_type": "code",
      "execution_count": null,
      "metadata": {
        "id": "O6Z3Mhyi365N"
      },
      "outputs": [],
      "source": [
        "def hex_to_RGB(hex_str):\n",
        "    \"\"\" #FFFFFF -> [255,255,255]\"\"\"\n",
        "    #Pass 16 to the integer function for change of base\n",
        "    return [int(hex_str[i:i+2], 16) for i in range(1,6,2)]\n",
        "    \n",
        "def get_color_gradient(c1, c2, n):\n",
        "    \"\"\"\n",
        "    Given two hex colors, returns a color gradient\n",
        "    with n colors.\n",
        "    \"\"\"\n",
        "    assert n > 1\n",
        "    c1_rgb = np.array(hex_to_RGB(c1))/255\n",
        "    c2_rgb = np.array(hex_to_RGB(c2))/255\n",
        "    mix_pcts = [x/(n-1) for x in range(n)]\n",
        "    rgb_colors = [((1-mix)*c1_rgb + (mix*c2_rgb)) for mix in mix_pcts]\n",
        "    return [\"#\" + \"\".join([format(int(round(val*255)), \"02x\") for val in item]) for item in rgb_colors]\n",
        "\n",
        "\n",
        "\n"
      ]
    },
    {
      "cell_type": "code",
      "execution_count": null,
      "metadata": {
        "colab": {
          "base_uri": "https://localhost:8080/",
          "height": 54
        },
        "id": "JnCAW4Ja_t73",
        "outputId": "90ea5e52-7d92-41bf-8183-5e53751a5aa2"
      },
      "outputs": [
        {
          "data": {
            "image/png": "[encoded data removed]",
            "text/plain": [
              "<Figure size 720x576 with 1 Axes>"
            ]
          },
          "metadata": {},
          "output_type": "display_data"
        }
      ],
      "source": [
        "color2 = \"#2E8B57\"\n",
        "color1 = \"#F0E68C\"\n",
        "\n",
        "leaguevalue = fifa.groupby('league_name').sum('value_eur').sort_values('value_eur', ascending = False)\n",
        "leaguevalue = leaguevalue['value_eur'].head(10).sort_values(ascending = True)\n",
        "fig= plt.figure(figsize = (10,8))\n",
        "leaguevalue.plot.barh(color = get_color_gradient(color1, color2, 10));\n",
        "plt.xlabel('League market value in Billions $\\N{euro sign}$');\n",
        "plt.ylabel('League Name');\n",
        "plt.title('League Value in Billions $\\N{euro sign}$');"
      ]
    },
    {
      "cell_type": "code",
      "execution_count": null,
      "metadata": {
        "colab": {
          "base_uri": "https://localhost:8080/",
          "height": 54
        },
        "id": "Yo523FNE0VfI",
        "outputId": "aae613a7-e33c-49ab-cf8a-34f855337aee"
      },
      "outputs": [
        {
          "data": {
            "image/png": "[encoded data removed]",
            "text/plain": [
              "<Figure size 720x576 with 1 Axes>"
            ]
          },
          "metadata": {},
          "output_type": "display_data"
        }
      ],
      "source": [
        "color2 = \"#2E8B57\"\n",
        "color1 = \"#F0E68C\"\n",
        "\n",
        "meanwage = fifa.groupby('league_name').mean('wage_eur').sort_values('wage_eur', ascending = False)\n",
        "meanwage = meanwage['wage_eur'].head(10).sort_values(ascending = True)\n",
        "fig= plt.figure(figsize = (10,8))\n",
        "meanwage.plot.barh(color = get_color_gradient(color1, color2, 10));\n",
        "plt.xlabel('Avg. player wages $\\N{euro sign}$')\n",
        "plt.ylabel('League Name')\n",
        "plt.title('Avg. wages in top leagues');"
      ]
    },
    {
      "cell_type": "code",
      "execution_count": null,
      "metadata": {
        "colab": {
          "base_uri": "https://localhost:8080/",
          "height": 789
        },
        "id": "KpX33Y3y3LQp",
        "outputId": "20da93be-f7b7-4f25-9dd7-2b64136dfb98"
      },
      "outputs": [
        {
          "data": {
            "text/html": [
              "\n",
              "  <div id=\"df-4f6f0268-420f-407c-9416-4472d27dea91\">\n",
              "    <div class=\"colab-df-container\">\n",
              "      <div>\n",
              "<style scoped>\n",
              "    .dataframe tbody tr th:only-of-type {\n",
              "        vertical-align: middle;\n",
              "    }\n",
              "\n",
              "    .dataframe tbody tr th {\n",
              "        vertical-align: top;\n",
              "    }\n",
              "\n",
              "    .dataframe thead th {\n",
              "        text-align: right;\n",
              "    }\n",
              "</style>\n",
              "<table border=\"1\" class=\"dataframe\">\n",
              "  <thead>\n",
              "    <tr style=\"text-align: right;\">\n",
              "      <th></th>\n",
              "      <th>sofifa_id</th>\n",
              "      <th>player_url</th>\n",
              "      <th>short_name</th>\n",
              "      <th>long_name</th>\n",
              "      <th>player_positions</th>\n",
              "      <th>overall</th>\n",
              "      <th>potential</th>\n",
              "      <th>value_eur</th>\n",
              "      <th>wage_eur</th>\n",
              "      <th>age</th>\n",
              "      <th>...</th>\n",
              "      <th>lcb</th>\n",
              "      <th>cb</th>\n",
              "      <th>rcb</th>\n",
              "      <th>rb</th>\n",
              "      <th>gk</th>\n",
              "      <th>player_face_url</th>\n",
              "      <th>club_logo_url</th>\n",
              "      <th>club_flag_url</th>\n",
              "      <th>nation_logo_url</th>\n",
              "      <th>nation_flag_url</th>\n",
              "    </tr>\n",
              "  </thead>\n",
              "  <tbody>\n",
              "    <tr>\n",
              "      <th>0</th>\n",
              "      <td>158023</td>\n",
              "      <td>https://sofifa.com/player/158023/lionel-messi/...</td>\n",
              "      <td>L. Messi</td>\n",
              "      <td>Lionel Andrés Messi Cuccittini</td>\n",
              "      <td>RW, ST, CF</td>\n",
              "      <td>93</td>\n",
              "      <td>93</td>\n",
              "      <td>78000000.0</td>\n",
              "      <td>320000.0</td>\n",
              "      <td>34</td>\n",
              "      <td>...</td>\n",
              "      <td>50+3</td>\n",
              "      <td>50+3</td>\n",
              "      <td>50+3</td>\n",
              "      <td>61+3</td>\n",
              "      <td>19+3</td>\n",
              "      <td>https://cdn.sofifa.net/players/158/023/22_120.png</td>\n",
              "      <td>https://cdn.sofifa.net/teams/73/60.png</td>\n",
              "      <td>https://cdn.sofifa.net/flags/fr.png</td>\n",
              "      <td>https://cdn.sofifa.net/teams/1369/60.png</td>\n",
              "      <td>https://cdn.sofifa.net/flags/ar.png</td>\n",
              "    </tr>\n",
              "    <tr>\n",
              "      <th>1</th>\n",
              "      <td>188545</td>\n",
              "      <td>https://sofifa.com/player/188545/robert-lewand...</td>\n",
              "      <td>R. Lewandowski</td>\n",
              "      <td>Robert Lewandowski</td>\n",
              "      <td>ST</td>\n",
              "      <td>92</td>\n",
              "      <td>92</td>\n",
              "      <td>119500000.0</td>\n",
              "      <td>270000.0</td>\n",
              "      <td>32</td>\n",
              "      <td>...</td>\n",
              "      <td>60+3</td>\n",
              "      <td>60+3</td>\n",
              "      <td>60+3</td>\n",
              "      <td>61+3</td>\n",
              "      <td>19+3</td>\n",
              "      <td>https://cdn.sofifa.net/players/188/545/22_120.png</td>\n",
              "      <td>https://cdn.sofifa.net/teams/21/60.png</td>\n",
              "      <td>https://cdn.sofifa.net/flags/de.png</td>\n",
              "      <td>https://cdn.sofifa.net/teams/1353/60.png</td>\n",
              "      <td>https://cdn.sofifa.net/flags/pl.png</td>\n",
              "    </tr>\n",
              "    <tr>\n",
              "      <th>2</th>\n",
              "      <td>20801</td>\n",
              "      <td>https://sofifa.com/player/20801/c-ronaldo-dos-...</td>\n",
              "      <td>Cristiano Ronaldo</td>\n",
              "      <td>Cristiano Ronaldo dos Santos Aveiro</td>\n",
              "      <td>ST, LW</td>\n",
              "      <td>91</td>\n",
              "      <td>91</td>\n",
              "      <td>45000000.0</td>\n",
              "      <td>270000.0</td>\n",
              "      <td>36</td>\n",
              "      <td>...</td>\n",
              "      <td>53+3</td>\n",
              "      <td>53+3</td>\n",
              "      <td>53+3</td>\n",
              "      <td>60+3</td>\n",
              "      <td>20+3</td>\n",
              "      <td>https://cdn.sofifa.net/players/020/801/22_120.png</td>\n",
              "      <td>https://cdn.sofifa.net/teams/11/60.png</td>\n",
              "      <td>https://cdn.sofifa.net/flags/gb-eng.png</td>\n",
              "      <td>https://cdn.sofifa.net/teams/1354/60.png</td>\n",
              "      <td>https://cdn.sofifa.net/flags/pt.png</td>\n",
              "    </tr>\n",
              "    <tr>\n",
              "      <th>3</th>\n",
              "      <td>190871</td>\n",
              "      <td>https://sofifa.com/player/190871/neymar-da-sil...</td>\n",
              "      <td>Neymar Jr</td>\n",
              "      <td>Neymar da Silva Santos Júnior</td>\n",
              "      <td>LW, CAM</td>\n",
              "      <td>91</td>\n",
              "      <td>91</td>\n",
              "      <td>129000000.0</td>\n",
              "      <td>270000.0</td>\n",
              "      <td>29</td>\n",
              "      <td>...</td>\n",
              "      <td>50+3</td>\n",
              "      <td>50+3</td>\n",
              "      <td>50+3</td>\n",
              "      <td>62+3</td>\n",
              "      <td>20+3</td>\n",
              "      <td>https://cdn.sofifa.net/players/190/871/22_120.png</td>\n",
              "      <td>https://cdn.sofifa.net/teams/73/60.png</td>\n",
              "      <td>https://cdn.sofifa.net/flags/fr.png</td>\n",
              "      <td>NaN</td>\n",
              "      <td>https://cdn.sofifa.net/flags/br.png</td>\n",
              "    </tr>\n",
              "    <tr>\n",
              "      <th>4</th>\n",
              "      <td>192985</td>\n",
              "      <td>https://sofifa.com/player/192985/kevin-de-bruy...</td>\n",
              "      <td>K. De Bruyne</td>\n",
              "      <td>Kevin De Bruyne</td>\n",
              "      <td>CM, CAM</td>\n",
              "      <td>91</td>\n",
              "      <td>91</td>\n",
              "      <td>125500000.0</td>\n",
              "      <td>350000.0</td>\n",
              "      <td>30</td>\n",
              "      <td>...</td>\n",
              "      <td>69+3</td>\n",
              "      <td>69+3</td>\n",
              "      <td>69+3</td>\n",
              "      <td>75+3</td>\n",
              "      <td>21+3</td>\n",
              "      <td>https://cdn.sofifa.net/players/192/985/22_120.png</td>\n",
              "      <td>https://cdn.sofifa.net/teams/10/60.png</td>\n",
              "      <td>https://cdn.sofifa.net/flags/gb-eng.png</td>\n",
              "      <td>https://cdn.sofifa.net/teams/1325/60.png</td>\n",
              "      <td>https://cdn.sofifa.net/flags/be.png</td>\n",
              "    </tr>\n",
              "    <tr>\n",
              "      <th>...</th>\n",
              "      <td>...</td>\n",
              "      <td>...</td>\n",
              "      <td>...</td>\n",
              "      <td>...</td>\n",
              "      <td>...</td>\n",
              "      <td>...</td>\n",
              "      <td>...</td>\n",
              "      <td>...</td>\n",
              "      <td>...</td>\n",
              "      <td>...</td>\n",
              "      <td>...</td>\n",
              "      <td>...</td>\n",
              "      <td>...</td>\n",
              "      <td>...</td>\n",
              "      <td>...</td>\n",
              "      <td>...</td>\n",
              "      <td>...</td>\n",
              "      <td>...</td>\n",
              "      <td>...</td>\n",
              "      <td>...</td>\n",
              "      <td>...</td>\n",
              "    </tr>\n",
              "    <tr>\n",
              "      <th>504</th>\n",
              "      <td>241095</td>\n",
              "      <td>https://sofifa.com/player/241095/nikola-vlasic...</td>\n",
              "      <td>N. Vlašić</td>\n",
              "      <td>Nikola Vlašić</td>\n",
              "      <td>CAM</td>\n",
              "      <td>80</td>\n",
              "      <td>86</td>\n",
              "      <td>33500000.0</td>\n",
              "      <td>66000.0</td>\n",
              "      <td>23</td>\n",
              "      <td>...</td>\n",
              "      <td>57+2</td>\n",
              "      <td>57+2</td>\n",
              "      <td>57+2</td>\n",
              "      <td>61+2</td>\n",
              "      <td>18+2</td>\n",
              "      <td>https://cdn.sofifa.net/players/241/095/22_120.png</td>\n",
              "      <td>https://cdn.sofifa.net/teams/19/60.png</td>\n",
              "      <td>https://cdn.sofifa.net/flags/gb-eng.png</td>\n",
              "      <td>NaN</td>\n",
              "      <td>https://cdn.sofifa.net/flags/hr.png</td>\n",
              "    </tr>\n",
              "    <tr>\n",
              "      <th>505</th>\n",
              "      <td>243576</td>\n",
              "      <td>https://sofifa.com/player/243576/pedro-antonio...</td>\n",
              "      <td>Pedro Porro</td>\n",
              "      <td>Pedro Antonio Porro Sauceda</td>\n",
              "      <td>RWB, RM</td>\n",
              "      <td>80</td>\n",
              "      <td>87</td>\n",
              "      <td>40500000.0</td>\n",
              "      <td>80000.0</td>\n",
              "      <td>21</td>\n",
              "      <td>...</td>\n",
              "      <td>74+2</td>\n",
              "      <td>74+2</td>\n",
              "      <td>74+2</td>\n",
              "      <td>77+2</td>\n",
              "      <td>16+2</td>\n",
              "      <td>https://cdn.sofifa.net/players/243/576/22_120.png</td>\n",
              "      <td>https://cdn.sofifa.net/teams/237/60.png</td>\n",
              "      <td>https://cdn.sofifa.net/flags/pt.png</td>\n",
              "      <td>NaN</td>\n",
              "      <td>https://cdn.sofifa.net/flags/es.png</td>\n",
              "    </tr>\n",
              "    <tr>\n",
              "      <th>506</th>\n",
              "      <td>244369</td>\n",
              "      <td>https://sofifa.com/player/244369/viktor-tsygan...</td>\n",
              "      <td>V. Tsygankov</td>\n",
              "      <td>Viktor Tsygankov</td>\n",
              "      <td>RM</td>\n",
              "      <td>80</td>\n",
              "      <td>86</td>\n",
              "      <td>33500000.0</td>\n",
              "      <td>1000.0</td>\n",
              "      <td>23</td>\n",
              "      <td>...</td>\n",
              "      <td>51+2</td>\n",
              "      <td>51+2</td>\n",
              "      <td>51+2</td>\n",
              "      <td>61+2</td>\n",
              "      <td>16+2</td>\n",
              "      <td>https://cdn.sofifa.net/players/244/369/22_120.png</td>\n",
              "      <td>https://cdn.sofifa.net/teams/101047/60.png</td>\n",
              "      <td>https://cdn.sofifa.net/flags/ua.png</td>\n",
              "      <td>https://cdn.sofifa.net/teams/1366/60.png</td>\n",
              "      <td>https://cdn.sofifa.net/flags/ua.png</td>\n",
              "    </tr>\n",
              "    <tr>\n",
              "      <th>507</th>\n",
              "      <td>244470</td>\n",
              "      <td>https://sofifa.com/player/244470/vladimir-couf...</td>\n",
              "      <td>V. Coufal</td>\n",
              "      <td>Vladimír Coufal</td>\n",
              "      <td>RB, RWB</td>\n",
              "      <td>80</td>\n",
              "      <td>80</td>\n",
              "      <td>19000000.0</td>\n",
              "      <td>73000.0</td>\n",
              "      <td>28</td>\n",
              "      <td>...</td>\n",
              "      <td>78+2</td>\n",
              "      <td>78+2</td>\n",
              "      <td>78+2</td>\n",
              "      <td>78+2</td>\n",
              "      <td>18+2</td>\n",
              "      <td>https://cdn.sofifa.net/players/244/470/22_120.png</td>\n",
              "      <td>https://cdn.sofifa.net/teams/19/60.png</td>\n",
              "      <td>https://cdn.sofifa.net/flags/gb-eng.png</td>\n",
              "      <td>https://cdn.sofifa.net/teams/1330/60.png</td>\n",
              "      <td>https://cdn.sofifa.net/flags/cz.png</td>\n",
              "    </tr>\n",
              "    <tr>\n",
              "      <th>508</th>\n",
              "      <td>246669</td>\n",
              "      <td>https://sofifa.com/player/246669/bukayo-saka/2...</td>\n",
              "      <td>B. Saka</td>\n",
              "      <td>Bukayo Saka</td>\n",
              "      <td>RM, LM, LB</td>\n",
              "      <td>80</td>\n",
              "      <td>88</td>\n",
              "      <td>45500000.0</td>\n",
              "      <td>50000.0</td>\n",
              "      <td>19</td>\n",
              "      <td>...</td>\n",
              "      <td>66+2</td>\n",
              "      <td>66+2</td>\n",
              "      <td>66+2</td>\n",
              "      <td>73+2</td>\n",
              "      <td>17+2</td>\n",
              "      <td>https://cdn.sofifa.net/players/246/669/22_120.png</td>\n",
              "      <td>https://cdn.sofifa.net/teams/1/60.png</td>\n",
              "      <td>https://cdn.sofifa.net/flags/gb-eng.png</td>\n",
              "      <td>https://cdn.sofifa.net/teams/1318/60.png</td>\n",
              "      <td>https://cdn.sofifa.net/flags/gb-eng.png</td>\n",
              "    </tr>\n",
              "  </tbody>\n",
              "</table>\n",
              "<p>509 rows × 110 columns</p>\n",
              "</div>\n",
              "      <button class=\"colab-df-convert\" onclick=\"convertToInteractive('df-4f6f0268-420f-407c-9416-4472d27dea91')\"\n",
              "              title=\"Convert this dataframe to an interactive table.\"\n",
              "              style=\"display:none;\">\n",
              "        \n",
              "  <svg xmlns=\"http://www.w3.org/2000/svg\" height=\"24px\"viewBox=\"0 0 24 24\"\n",
              "       width=\"24px\">\n",
              "    <path d=\"M0 0h24v24H0V0z\" fill=\"none\"/>\n",
              "    <path d=\"M18.56 5.44l.94 2.06.94-2.06 2.06-.94-2.06-.94-.94-2.06-.94 2.06-2.06.94zm-11 1L8.5 8.5l.94-2.06 2.06-.94-2.06-.94L8.5 2.5l-.94 2.06-2.06.94zm10 10l.94 2.06.94-2.06 2.06-.94-2.06-.94-.94-2.06-.94 2.06-2.06.94z\"/><path d=\"M17.41 7.96l-1.37-1.37c-.4-.4-.92-.59-1.43-.59-.52 0-1.04.2-1.43.59L10.3 9.45l-7.72 7.72c-.78.78-.78 2.05 0 2.83L4 21.41c.39.39.9.59 1.41.59.51 0 1.02-.2 1.41-.59l7.78-7.78 2.81-2.81c.8-.78.8-2.07 0-2.86zM5.41 20L4 18.59l7.72-7.72 1.47 1.35L5.41 20z\"/>\n",
              "  </svg>\n",
              "      </button>\n",
              "      \n",
              "  <style>\n",
              "    .colab-df-container {\n",
              "      display:flex;\n",
              "      flex-wrap:wrap;\n",
              "      gap: 12px;\n",
              "    }\n",
              "\n",
              "    .colab-df-convert {\n",
              "      background-color: #E8F0FE;\n",
              "      border: none;\n",
              "      border-radius: 50%;\n",
              "      cursor: pointer;\n",
              "      display: none;\n",
              "      fill: #1967D2;\n",
              "      height: 32px;\n",
              "      padding: 0 0 0 0;\n",
              "      width: 32px;\n",
              "    }\n",
              "\n",
              "    .colab-df-convert:hover {\n",
              "      background-color: #E2EBFA;\n",
              "      box-shadow: 0px 1px 2px rgba(60, 64, 67, 0.3), 0px 1px 3px 1px rgba(60, 64, 67, 0.15);\n",
              "      fill: #174EA6;\n",
              "    }\n",
              "\n",
              "    [theme=dark] .colab-df-convert {\n",
              "      background-color: #3B4455;\n",
              "      fill: #D2E3FC;\n",
              "    }\n",
              "\n",
              "    [theme=dark] .colab-df-convert:hover {\n",
              "      background-color: #434B5C;\n",
              "      box-shadow: 0px 1px 3px 1px rgba(0, 0, 0, 0.15);\n",
              "      filter: drop-shadow(0px 1px 2px rgba(0, 0, 0, 0.3));\n",
              "      fill: #FFFFFF;\n",
              "    }\n",
              "  </style>\n",
              "\n",
              "      <script>\n",
              "        const buttonEl =\n",
              "          document.querySelector('#df-4f6f0268-420f-407c-9416-4472d27dea91 button.colab-df-convert');\n",
              "        buttonEl.style.display =\n",
              "          google.colab.kernel.accessAllowed ? 'block' : 'none';\n",
              "\n",
              "        async function convertToInteractive(key) {\n",
              "          const element = document.querySelector('#df-4f6f0268-420f-407c-9416-4472d27dea91');\n",
              "          const dataTable =\n",
              "            await google.colab.kernel.invokeFunction('convertToInteractive',\n",
              "                                                     [key], {});\n",
              "          if (!dataTable) return;\n",
              "\n",
              "          const docLinkHtml = 'Like what you see? Visit the ' +\n",
              "            '<a target=\"_blank\" href=https://colab.research.google.com/notebooks/data_table.ipynb>data table notebook</a>'\n",
              "            + ' to learn more about interactive tables.';\n",
              "          element.innerHTML = '';\n",
              "          dataTable['output_type'] = 'display_data';\n",
              "          await google.colab.output.renderOutput(dataTable, element);\n",
              "          const docLink = document.createElement('div');\n",
              "          docLink.innerHTML = docLinkHtml;\n",
              "          element.appendChild(docLink);\n",
              "        }\n",
              "      </script>\n",
              "    </div>\n",
              "  </div>\n",
              "  "
            ],
            "text/plain": [
              "     sofifa_id                                         player_url  \\\n",
              "0       158023  https://sofifa.com/player/158023/lionel-messi/...   \n",
              "1       188545  https://sofifa.com/player/188545/robert-lewand...   \n",
              "2        20801  https://sofifa.com/player/20801/c-ronaldo-dos-...   \n",
              "3       190871  https://sofifa.com/player/190871/neymar-da-sil...   \n",
              "4       192985  https://sofifa.com/player/192985/kevin-de-bruy...   \n",
              "..         ...                                                ...   \n",
              "504     241095  https://sofifa.com/player/241095/nikola-vlasic...   \n",
              "505     243576  https://sofifa.com/player/243576/pedro-antonio...   \n",
              "506     244369  https://sofifa.com/player/244369/viktor-tsygan...   \n",
              "507     244470  https://sofifa.com/player/244470/vladimir-couf...   \n",
              "508     246669  https://sofifa.com/player/246669/bukayo-saka/2...   \n",
              "\n",
              "            short_name                            long_name player_positions  \\\n",
              "0             L. Messi       Lionel Andrés Messi Cuccittini       RW, ST, CF   \n",
              "1       R. Lewandowski                   Robert Lewandowski               ST   \n",
              "2    Cristiano Ronaldo  Cristiano Ronaldo dos Santos Aveiro           ST, LW   \n",
              "3            Neymar Jr        Neymar da Silva Santos Júnior          LW, CAM   \n",
              "4         K. De Bruyne                      Kevin De Bruyne          CM, CAM   \n",
              "..                 ...                                  ...              ...   \n",
              "504          N. Vlašić                        Nikola Vlašić              CAM   \n",
              "505        Pedro Porro          Pedro Antonio Porro Sauceda          RWB, RM   \n",
              "506       V. Tsygankov                     Viktor Tsygankov               RM   \n",
              "507          V. Coufal                      Vladimír Coufal          RB, RWB   \n",
              "508            B. Saka                          Bukayo Saka       RM, LM, LB   \n",
              "\n",
              "     overall  potential    value_eur  wage_eur  age  ...   lcb    cb   rcb  \\\n",
              "0         93         93   78000000.0  320000.0   34  ...  50+3  50+3  50+3   \n",
              "1         92         92  119500000.0  270000.0   32  ...  60+3  60+3  60+3   \n",
              "2         91         91   45000000.0  270000.0   36  ...  53+3  53+3  53+3   \n",
              "3         91         91  129000000.0  270000.0   29  ...  50+3  50+3  50+3   \n",
              "4         91         91  125500000.0  350000.0   30  ...  69+3  69+3  69+3   \n",
              "..       ...        ...          ...       ...  ...  ...   ...   ...   ...   \n",
              "504       80         86   33500000.0   66000.0   23  ...  57+2  57+2  57+2   \n",
              "505       80         87   40500000.0   80000.0   21  ...  74+2  74+2  74+2   \n",
              "506       80         86   33500000.0    1000.0   23  ...  51+2  51+2  51+2   \n",
              "507       80         80   19000000.0   73000.0   28  ...  78+2  78+2  78+2   \n",
              "508       80         88   45500000.0   50000.0   19  ...  66+2  66+2  66+2   \n",
              "\n",
              "       rb    gk                                    player_face_url  \\\n",
              "0    61+3  19+3  https://cdn.sofifa.net/players/158/023/22_120.png   \n",
              "1    61+3  19+3  https://cdn.sofifa.net/players/188/545/22_120.png   \n",
              "2    60+3  20+3  https://cdn.sofifa.net/players/020/801/22_120.png   \n",
              "3    62+3  20+3  https://cdn.sofifa.net/players/190/871/22_120.png   \n",
              "4    75+3  21+3  https://cdn.sofifa.net/players/192/985/22_120.png   \n",
              "..    ...   ...                                                ...   \n",
              "504  61+2  18+2  https://cdn.sofifa.net/players/241/095/22_120.png   \n",
              "505  77+2  16+2  https://cdn.sofifa.net/players/243/576/22_120.png   \n",
              "506  61+2  16+2  https://cdn.sofifa.net/players/244/369/22_120.png   \n",
              "507  78+2  18+2  https://cdn.sofifa.net/players/244/470/22_120.png   \n",
              "508  73+2  17+2  https://cdn.sofifa.net/players/246/669/22_120.png   \n",
              "\n",
              "                                  club_logo_url  \\\n",
              "0        https://cdn.sofifa.net/teams/73/60.png   \n",
              "1        https://cdn.sofifa.net/teams/21/60.png   \n",
              "2        https://cdn.sofifa.net/teams/11/60.png   \n",
              "3        https://cdn.sofifa.net/teams/73/60.png   \n",
              "4        https://cdn.sofifa.net/teams/10/60.png   \n",
              "..                                          ...   \n",
              "504      https://cdn.sofifa.net/teams/19/60.png   \n",
              "505     https://cdn.sofifa.net/teams/237/60.png   \n",
              "506  https://cdn.sofifa.net/teams/101047/60.png   \n",
              "507      https://cdn.sofifa.net/teams/19/60.png   \n",
              "508       https://cdn.sofifa.net/teams/1/60.png   \n",
              "\n",
              "                               club_flag_url  \\\n",
              "0        https://cdn.sofifa.net/flags/fr.png   \n",
              "1        https://cdn.sofifa.net/flags/de.png   \n",
              "2    https://cdn.sofifa.net/flags/gb-eng.png   \n",
              "3        https://cdn.sofifa.net/flags/fr.png   \n",
              "4    https://cdn.sofifa.net/flags/gb-eng.png   \n",
              "..                                       ...   \n",
              "504  https://cdn.sofifa.net/flags/gb-eng.png   \n",
              "505      https://cdn.sofifa.net/flags/pt.png   \n",
              "506      https://cdn.sofifa.net/flags/ua.png   \n",
              "507  https://cdn.sofifa.net/flags/gb-eng.png   \n",
              "508  https://cdn.sofifa.net/flags/gb-eng.png   \n",
              "\n",
              "                              nation_logo_url  \\\n",
              "0    https://cdn.sofifa.net/teams/1369/60.png   \n",
              "1    https://cdn.sofifa.net/teams/1353/60.png   \n",
              "2    https://cdn.sofifa.net/teams/1354/60.png   \n",
              "3                                         NaN   \n",
              "4    https://cdn.sofifa.net/teams/1325/60.png   \n",
              "..                                        ...   \n",
              "504                                       NaN   \n",
              "505                                       NaN   \n",
              "506  https://cdn.sofifa.net/teams/1366/60.png   \n",
              "507  https://cdn.sofifa.net/teams/1330/60.png   \n",
              "508  https://cdn.sofifa.net/teams/1318/60.png   \n",
              "\n",
              "                             nation_flag_url  \n",
              "0        https://cdn.sofifa.net/flags/ar.png  \n",
              "1        https://cdn.sofifa.net/flags/pl.png  \n",
              "2        https://cdn.sofifa.net/flags/pt.png  \n",
              "3        https://cdn.sofifa.net/flags/br.png  \n",
              "4        https://cdn.sofifa.net/flags/be.png  \n",
              "..                                       ...  \n",
              "504      https://cdn.sofifa.net/flags/hr.png  \n",
              "505      https://cdn.sofifa.net/flags/es.png  \n",
              "506      https://cdn.sofifa.net/flags/ua.png  \n",
              "507      https://cdn.sofifa.net/flags/cz.png  \n",
              "508  https://cdn.sofifa.net/flags/gb-eng.png  \n",
              "\n",
              "[509 rows x 110 columns]"
            ]
          },
          "execution_count": 25,
          "metadata": {},
          "output_type": "execute_result"
        },
        {
          "data": {
            "image/png": "[encoded data removed]",
            "text/plain": [
              "<Figure size 720x576 with 1 Axes>"
            ]
          },
          "metadata": {},
          "output_type": "display_data"
        }
      ],
      "source": [
        "above80 = fifa[fifa['overall'] > 79]\n",
        "fifa['potential_delta'] = fifa['potential'] - fifa['overall']\n",
        "youngpot = fifa[fifa['age'] < 30]\n",
        "\n",
        "fig = plt.figure(figsize = (10,8))\n",
        "plt.scatter(x = youngpot['age'], y = youngpot['potential_delta'])\n",
        "color2 = \"#2E8B57\"\n",
        "color1 = \"#F0E68C\"\n",
        "\n",
        "above80"
      ]
    },
    {
      "cell_type": "code",
      "execution_count": null,
      "metadata": {
        "id": "HRo-YsYnvIze"
      },
      "outputs": [],
      "source": []
    },
    {
      "cell_type": "code",
      "execution_count": null,
      "metadata": {
        "colab": {
          "base_uri": "https://localhost:8080/",
          "height": 207
        },
        "id": "ZAxX4RzvjU9S",
        "outputId": "d2792fe5-ba8d-4dc6-99eb-83273e8db42a"
      },
      "outputs": [
        {
          "data": {
            "text/plain": [
              "<Figure size 1440x1296 with 0 Axes>"
            ]
          },
          "metadata": {},
          "output_type": "display_data"
        },
        {
          "data": {
            "image/png": "[encoded data removed]",
            "text/plain": [
              "<Figure size 432x288 with 1 Axes>"
            ]
          },
          "metadata": {},
          "output_type": "display_data"
        },
        {
          "data": {
            "image/png": "[encoded data removed]",
            "text/plain": [
              "<Figure size 432x288 with 1 Axes>"
            ]
          },
          "metadata": {},
          "output_type": "display_data"
        },
        {
          "data": {
            "image/png": "[encoded data removed]",
            "text/plain": [
              "<Figure size 432x288 with 1 Axes>"
            ]
          },
          "metadata": {},
          "output_type": "display_data"
        },
        {
          "data": {
            "image/png": "[encoded data removed]",
            "text/plain": [
              "<Figure size 432x288 with 1 Axes>"
            ]
          },
          "metadata": {},
          "output_type": "display_data"
        }
      ],
      "source": [
        "leagues = ['English Premier League','Spain Primera Division','French Ligue 1','German 1. Bundesliga']\n",
        "\n",
        "def plotage_wage_league(a):\n",
        "      fig = plt.figure(figsize = (20,18))\n",
        "      for i in range(len(a)):\n",
        "        z = fifa[fifa['league_name'] == a[i]]\n",
        "        z = z.groupby('age').mean('wage_eur')\n",
        "        z['age'] = z.index\n",
        "        z = z[['wage_eur','age']]\n",
        "        ax = z.plot.bar(x = 'age', y = 'wage_eur', color = \"#2E8B57\", label = 'Avg. Wages $\\N{euro sign}$');\n",
        "        ax.set_xlabel('Age');\n",
        "        ax.set_ylabel('Avg. Wage');\n",
        "        name = a[i]\n",
        "        ax.set_title(f'Wages per age in {name}');\n",
        "\n",
        "plotage_wage_league(leagues)\n"
      ]
    },
    {
      "cell_type": "code",
      "execution_count": null,
      "metadata": {
        "colab": {
          "base_uri": "https://localhost:8080/",
          "height": 54
        },
        "id": "K6u7Wmn3wjgE",
        "outputId": "b16c6e34-c070-40e6-d84d-c24d88e2235a"
      },
      "outputs": [
        {
          "data": {
            "image/png": "[encoded data removed]",
            "text/plain": [
              "<Figure size 1296x720 with 1 Axes>"
            ]
          },
          "metadata": {},
          "output_type": "display_data"
        }
      ],
      "source": [
        "leagues = ['English Premier League','Spain Primera Division','French Ligue 1','German 1. Bundesliga']\n",
        "wagecheck = above80\n",
        "wagecheck = wagecheck[wagecheck['league_name'].isin(leagues)]\n",
        "\n",
        "wagecheck = wagecheck.groupby(['league_name','overall']).mean('wage_eur')\n",
        "\n",
        "a = wagecheck['wage_eur']\n",
        "b = pd.DataFrame(a)\n",
        "b = b.reset_index()\n",
        "\n",
        "fig = plt.figure(figsize = (18,10))\n",
        "sns.barplot(data = b, x = 'overall', y = 'wage_eur', hue = 'league_name')\n",
        "plt.title('Avg. wage by overall ratings');"
      ]
    },
    {
      "cell_type": "markdown",
      "metadata": {
        "id": "Gp0oK8ukmMrx"
      },
      "source": []
    },
    {
      "cell_type": "markdown",
      "metadata": {
        "id": "FMlrSh7cmWMv"
      },
      "source": [
        "# Team Builder"
      ]
    },
    {
      "cell_type": "code",
      "execution_count": null,
      "metadata": {
        "id": "QxflkwJTNHch"
      },
      "outputs": [],
      "source": [
        "from pyspark.sql.functions import *\n",
        "from pyspark.sql.functions import col, mean, udf, count, when, isnull, collect_set, min, monotonically_increasing_id, cast\n",
        "import itertools\n",
        "import copy\n",
        "from pyspark.sql import Row\n",
        "import matplotlib.pyplot as plt\n",
        "import pandas as pd\n",
        "import seaborn as sns\n",
        "import numpy as np"
      ]
    },
    {
      "cell_type": "code",
      "execution_count": null,
      "metadata": {
        "id": "ac-YuXx2mfmC"
      },
      "outputs": [],
      "source": [
        "f_22 = spark.read.csv(\"/content/datasets/players_22.csv\", header=True,  encoding=\"utf-8\", inferSchema=True, multiLine=True)\\\n",
        ".withColumnRenamed('short_name','name').withColumnRenamed('value_eur','value').withColumnRenamed('club_contract_valid_until','contract').withColumnRenamed('nationality_name','nationality')"
      ]
    },
    {
      "cell_type": "code",
      "execution_count": null,
      "metadata": {
        "colab": {
          "base_uri": "https://localhost:8080/"
        },
        "id": "_tCVFcNAmhEB",
        "outputId": "08b176fa-a03d-4832-c6cf-386c18af5048"
      },
      "outputs": [
        {
          "name": "stdout",
          "output_type": "stream",
          "text": [
            "+---------+--------------------+-----------------+--------------------+----------------+-------+---------+-------+--------+---+-------------------+---------+---------+------------+-------------------+--------------------+------------+-------------+------------------+----------------+-------------------+--------+--------------+--------------+--------------+---------------+--------------------+--------------+---------+-----------+------------------------+-------------+----------------+---------+------------------+--------------------+--------------------+----+--------+-------+---------+---------+------+------------------+-------------------+--------------------------+-----------------------+-----------------+---------------+-----------+-----------------+------------------+------------------+---------------------+---------------------+----------------+------------------+----------------+----------------+-------------+-------------+--------------+----------------+--------------------+-----------------------+---------------------+----------------+-------------------+-------------------+---------------------------+-------------------------+------------------------+------------------+--------------------+-------------------+-----------------------+--------------------+-----------------+----+----+----+---+---+---+---+---+----+----+----+----+----+----+----+----+----+----+----+----+----+----+----+----+----+----+----+--------------------+--------------------+--------------------+--------------------+--------------------+\n",
            "|sofifa_id|          player_url|             name|           long_name|player_positions|overall|potential|  value|wage_eur|age|                dob|height_cm|weight_kg|club_team_id|          club_name|         league_name|league_level|club_position|club_jersey_number|club_loaned_from|        club_joined|contract|nationality_id|   nationality|nation_team_id|nation_position|nation_jersey_number|preferred_foot|weak_foot|skill_moves|international_reputation|    work_rate|       body_type|real_face|release_clause_eur|         player_tags|       player_traits|pace|shooting|passing|dribbling|defending|physic|attacking_crossing|attacking_finishing|attacking_heading_accuracy|attacking_short_passing|attacking_volleys|skill_dribbling|skill_curve|skill_fk_accuracy|skill_long_passing|skill_ball_control|movement_acceleration|movement_sprint_speed|movement_agility|movement_reactions|movement_balance|power_shot_power|power_jumping|power_stamina|power_strength|power_long_shots|mentality_aggression|mentality_interceptions|mentality_positioning|mentality_vision|mentality_penalties|mentality_composure|defending_marking_awareness|defending_standing_tackle|defending_sliding_tackle|goalkeeping_diving|goalkeeping_handling|goalkeeping_kicking|goalkeeping_positioning|goalkeeping_reflexes|goalkeeping_speed|  ls|  st|  rs| lw| lf| cf| rf| rw| lam| cam| ram|  lm| lcm|  cm| rcm|  rm| lwb| ldm| cdm| rdm| rwb|  lb| lcb|  cb| rcb|  rb|  gk|     player_face_url|       club_logo_url|       club_flag_url|     nation_logo_url|     nation_flag_url|\n",
            "+---------+--------------------+-----------------+--------------------+----------------+-------+---------+-------+--------+---+-------------------+---------+---------+------------+-------------------+--------------------+------------+-------------+------------------+----------------+-------------------+--------+--------------+--------------+--------------+---------------+--------------------+--------------+---------+-----------+------------------------+-------------+----------------+---------+------------------+--------------------+--------------------+----+--------+-------+---------+---------+------+------------------+-------------------+--------------------------+-----------------------+-----------------+---------------+-----------+-----------------+------------------+------------------+---------------------+---------------------+----------------+------------------+----------------+----------------+-------------+-------------+--------------+----------------+--------------------+-----------------------+---------------------+----------------+-------------------+-------------------+---------------------------+-------------------------+------------------------+------------------+--------------------+-------------------+-----------------------+--------------------+-----------------+----+----+----+---+---+---+---+---+----+----+----+----+----+----+----+----+----+----+----+----+----+----+----+----+----+----+----+--------------------+--------------------+--------------------+--------------------+--------------------+\n",
            "|   158023|https://sofifa.co...|         L. Messi|Lionel Andrés Mes...|      RW, ST, CF|     93|       93|  7.8E7|320000.0| 34|1987-06-24 00:00:00|      170|       72|        73.0|Paris Saint-Germain|      French Ligue 1|           1|           RW|                30|            null|2021-08-10 00:00:00|    2023|            52|     Argentina|        1369.0|             RW|                  10|          Left|        4|          4|                       5|   Medium/Low|          Unique|      Yes|         144300000|#Dribbler, #Dista...|Finesse Shot, Lon...|  85|      92|     91|       95|       34|    65|                85|                 95|                        70|                     91|               88|             96|         93|               94|                91|                96|                   91|                   80|              91|                94|              95|              86|           68|           72|            69|              94|                  44|                     40|                   93|              95|                 75|                 96|                         20|                       35|                      24|                 6|                  11|                 15|                     14|                   8|             null|89+3|89+3|89+3| 92| 93| 93| 93| 92|  93|  93|  93|91+2|87+3|87+3|87+3|91+2|66+3|64+3|64+3|64+3|66+3|61+3|50+3|50+3|50+3|61+3|19+3|https://cdn.sofif...|https://cdn.sofif...|https://cdn.sofif...|https://cdn.sofif...|https://cdn.sofif...|\n",
            "|   188545|https://sofifa.co...|   R. Lewandowski|  Robert Lewandowski|              ST|     92|       92|1.195E8|270000.0| 32|1988-08-21 00:00:00|      185|       81|        21.0|  FC Bayern München|German 1. Bundesliga|           1|           ST|                 9|            null|2014-07-01 00:00:00|    2023|            37|        Poland|        1353.0|             RS|                   9|         Right|        4|          4|                       5|  High/Medium|          Unique|      Yes|         197200000|#Aerial Threat, #...|Solid Player, Fin...|  78|      92|     79|       86|       44|    82|                71|                 95|                        90|                     85|               89|             85|         79|               85|                70|                88|                   77|                   79|              77|                93|              82|              90|           85|           76|            86|              87|                  81|                     49|                   95|              81|                 90|                 88|                         35|                       42|                      19|                15|                   6|                 12|                      8|                  10|             null|90+2|90+2|90+2| 85| 88| 88| 88| 85|86+3|86+3|86+3|84+3|80+3|80+3|80+3|84+3|64+3|66+3|66+3|66+3|64+3|61+3|60+3|60+3|60+3|61+3|19+3|https://cdn.sofif...|https://cdn.sofif...|https://cdn.sofif...|https://cdn.sofif...|https://cdn.sofif...|\n",
            "|    20801|https://sofifa.co...|Cristiano Ronaldo|Cristiano Ronaldo...|          ST, LW|     91|       91|  4.5E7|270000.0| 36|1985-02-05 00:00:00|      187|       83|        11.0|  Manchester United|English Premier L...|           1|           ST|                 7|            null|2021-08-27 00:00:00|    2023|            38|      Portugal|        1354.0|             ST|                   7|         Right|        4|          5|                       5|     High/Low|          Unique|      Yes|          83300000|#Aerial Threat, #...|Power Free-Kick, ...|  87|      94|     80|       88|       34|    75|                87|                 95|                        90|                     80|               86|             88|         81|               84|                77|                88|                   85|                   88|              86|                94|              74|              94|           95|           77|            77|              93|                  63|                     29|                   95|              76|                 88|                 95|                         24|                       32|                      24|                 7|                  11|                 15|                     14|                  11|             null|90+1|90+1|90+1| 88| 89| 89| 89| 88|86+3|86+3|86+3|86+3|78+3|78+3|78+3|86+3|63+3|59+3|59+3|59+3|63+3|60+3|53+3|53+3|53+3|60+3|20+3|https://cdn.sofif...|https://cdn.sofif...|https://cdn.sofif...|https://cdn.sofif...|https://cdn.sofif...|\n",
            "|   190871|https://sofifa.co...|        Neymar Jr|Neymar da Silva S...|         LW, CAM|     91|       91| 1.29E8|270000.0| 29|1992-02-05 00:00:00|      175|       68|        73.0|Paris Saint-Germain|      French Ligue 1|           1|           LW|                10|            null|2017-08-03 00:00:00|    2025|            54|        Brazil|          null|           null|                null|         Right|        5|          5|                       5|  High/Medium|          Unique|      Yes|         238700000|#Speedster, #Drib...|Injury Prone, Fla...|  91|      83|     86|       94|       37|    63|                85|                 83|                        63|                     86|               86|             95|         88|               87|                81|                95|                   93|                   89|              96|                89|              84|              80|           64|           81|            53|              81|                  63|                     37|                   86|              90|                 93|                 93|                         35|                       32|                      29|                 9|                   9|                 15|                     15|                  11|             null|83+3|83+3|83+3| 90| 88| 88| 88| 90|89+2|89+2|89+2|89+2|82+3|82+3|82+3|89+2|67+3|63+3|63+3|63+3|67+3|62+3|50+3|50+3|50+3|62+3|20+3|https://cdn.sofif...|https://cdn.sofif...|https://cdn.sofif...|                null|https://cdn.sofif...|\n",
            "|   192985|https://sofifa.co...|     K. De Bruyne|     Kevin De Bruyne|         CM, CAM|     91|       91|1.255E8|350000.0| 30|1991-06-28 00:00:00|      181|       70|        10.0|    Manchester City|English Premier L...|           1|          RCM|                17|            null|2015-08-30 00:00:00|    2025|             7|       Belgium|        1325.0|            RCM|                   7|         Right|        5|          4|                       4|    High/High|          Unique|      Yes|         232200000|#Dribbler, #Playm...|Injury Prone, Lea...|  76|      86|     93|       88|       64|    78|                94|                 82|                        55|                     94|               82|             88|         85|               83|                93|                91|                   76|                   76|              79|                91|              78|              91|           63|           89|            74|              91|                  76|                     66|                   88|              94|                 83|                 89|                         68|                       65|                      53|                15|                  13|                  5|                     10|                  13|             null|83+3|83+3|83+3| 88| 87| 87| 87| 88|89+2|89+2|89+2|89+2|89+2|89+2|89+2|89+2|79+3|80+3|80+3|80+3|79+3|75+3|69+3|69+3|69+3|75+3|21+3|https://cdn.sofif...|https://cdn.sofif...|https://cdn.sofif...|https://cdn.sofif...|https://cdn.sofif...|\n",
            "|   200389|https://sofifa.co...|         J. Oblak|           Jan Oblak|              GK|     91|       93| 1.12E8|130000.0| 28|1993-01-07 00:00:00|      188|       87|       240.0| Atlético de Madrid|Spain Primera Div...|           1|           GK|                13|            null|2014-07-16 00:00:00|    2023|            44|      Slovenia|          null|           null|                null|         Right|        3|          1|                       5|Medium/Medium|          Unique|      Yes|         238000000|                null|GK Long Throw, Co...|null|    null|   null|     null|     null|  null|                13|                 11|                        15|                     43|               13|             12|         13|               14|                40|                30|                   43|                   60|              67|                88|              49|              59|           78|           41|            78|              12|                  34|                     19|                   11|              65|                 11|                 68|                         27|                       12|                      18|                87|                  92|                 78|                     90|                  90|               50|33+3|33+3|33+3| 32| 35| 35| 35| 32|38+3|38+3|38+3|35+3|38+3|38+3|38+3|35+3|32+3|36+3|36+3|36+3|32+3|32+3|33+3|33+3|33+3|32+3|89+3|https://cdn.sofif...|https://cdn.sofif...|https://cdn.sofif...|                null|https://cdn.sofif...|\n",
            "|   231747|https://sofifa.co...|        K. Mbappé|Kylian Mbappé Lottin|          ST, LW|     91|       95| 1.94E8|230000.0| 22|1998-12-20 00:00:00|      182|       73|        73.0|Paris Saint-Germain|      French Ligue 1|           1|           ST|                 7|            null|2018-07-01 00:00:00|    2022|            18|        France|        1335.0|             LW|                  10|         Right|        4|          5|                       4|     High/Low|          Unique|      Yes|         373500000|#Speedster, #Drib...|Flair, Speed Drib...|  97|      88|     80|       92|       36|    77|                78|                 93|                        72|                     85|               83|             93|         80|               69|                71|                91|                   97|                   97|              92|                93|              83|              86|           78|           88|            77|              82|                  62|                     38|                   92|              82|                 79|                 88|                         26|                       34|                      32|                13|                   5|                  7|                     11|                   6|             null|89+3|89+3|89+3| 90| 90| 90| 90| 90|89+3|89+3|89+3|89+3|81+3|81+3|81+3|89+3|67+3|63+3|63+3|63+3|67+3|63+3|54+3|54+3|54+3|63+3|18+3|https://cdn.sofif...|https://cdn.sofif...|https://cdn.sofif...|https://cdn.sofif...|https://cdn.sofif...|\n",
            "|   167495|https://sofifa.co...|         M. Neuer|  Manuel Peter Neuer|              GK|     90|       90| 1.35E7| 86000.0| 35|1986-03-27 00:00:00|      193|       93|        21.0|  FC Bayern München|German 1. Bundesliga|           1|           GK|                 1|            null|2011-07-01 00:00:00|    2023|            21|       Germany|        1337.0|             GK|                   1|         Right|        4|          1|                       5|Medium/Medium|          Unique|      Yes|          22300000|                null|Leadership, GK Lo...|null|    null|   null|     null|     null|  null|                15|                 13|                        25|                     60|               11|             30|         14|               11|                68|                46|                   54|                   60|              51|                87|              35|              68|           77|           43|            80|              16|                  29|                     30|                   12|              70|                 47|                 70|                         17|                       10|                      11|                88|                  88|                 91|                     89|                  88|               56|40+3|40+3|40+3| 40| 43| 43| 43| 40|47+3|47+3|47+3|44+3|50+3|50+3|50+3|44+3|37+3|43+3|43+3|43+3|37+3|35+3|34+3|34+3|34+3|35+3|88+2|https://cdn.sofif...|https://cdn.sofif...|https://cdn.sofif...|https://cdn.sofif...|https://cdn.sofif...|\n",
            "|   192448|https://sofifa.co...|    M. ter Stegen|Marc-André ter St...|              GK|     90|       92|  9.9E7|250000.0| 29|1992-04-30 00:00:00|      187|       85|       241.0|       FC Barcelona|Spain Primera Div...|           1|           GK|                 1|            null|2014-07-01 00:00:00|    2025|            21|       Germany|          null|           null|                null|         Right|        4|          1|                       4|Medium/Medium|          Unique|      Yes|         210400000|                null|Rushes Out Of Goa...|null|    null|   null|     null|     null|  null|                18|                 14|                        11|                     61|               14|             21|         18|               12|                63|                30|                   38|                   50|              39|                86|              43|              66|           79|           35|            78|              10|                  43|                     22|                   11|              70|                 25|                 70|                         25|                       13|                      10|                88|                  85|                 88|                     88|                  90|               43|35+3|35+3|35+3| 35| 38| 38| 38| 35|42+3|42+3|42+3|39+3|45+3|45+3|45+3|39+3|33+3|41+3|41+3|41+3|33+3|31+3|33+3|33+3|33+3|31+3|88+3|https://cdn.sofif...|https://cdn.sofif...|https://cdn.sofif...|                null|https://cdn.sofif...|\n",
            "|   202126|https://sofifa.co...|          H. Kane|          Harry Kane|              ST|     90|       90|1.295E8|240000.0| 27|1993-07-28 00:00:00|      188|       89|        18.0|  Tottenham Hotspur|English Premier L...|           1|           ST|                10|            null|2010-07-28 00:00:00|    2024|            14|       England|        1318.0|             ST|                   9|         Right|        5|          3|                       4|    High/High|          Unique|      Yes|         246100000|#Distance Shooter...|Leadership, Long ...|  70|      91|     83|       83|       47|    83|                80|                 94|                        86|                     85|               88|             83|         83|               65|                86|                85|                   65|                   74|              71|                92|              70|              91|           79|           83|            85|              86|                  80|                     44|                   94|              87|                 91|                 91|                         50|                       36|                      38|                 8|                  10|                 11|                     14|                  11|             null|88+2|88+2|88+2| 84| 86| 86| 86| 84|85+3|85+3|85+3|84+3|82+3|82+3|82+3|84+3|67+3|68+3|68+3|68+3|67+3|64+3|61+3|61+3|61+3|64+3|20+3|https://cdn.sofif...|https://cdn.sofif...|https://cdn.sofif...|https://cdn.sofif...|https://cdn.sofif...|\n",
            "|   215914|https://sofifa.co...|         N. Kanté|        N'Golo Kanté|         CDM, CM|     90|       90|  1.0E8|230000.0| 30|1991-03-29 00:00:00|      168|       70|         5.0|            Chelsea|English Premier L...|           1|          RCM|                 7|            null|2016-07-16 00:00:00|    2023|            18|        France|        1335.0|            CDM|                  13|         Right|        3|          2|                       4|  Medium/High|          Unique|      Yes|         185000000|#Tackling, #Tacti...|          Leadership|  78|      66|     75|       82|       87|    83|                68|                 65|                        54|                     82|               56|             79|         49|               49|                79|                81|                   82|                   75|              82|                93|              92|              71|           77|           97|            72|              65|                  93|                     91|                   72|              78|                 54|                 84|                         90|                       93|                      86|                15|                  12|                 10|                      7|                  10|             null|72+3|72+3|72+3| 77| 77| 77| 77| 77|78+3|78+3|78+3|79+3|82+3|82+3|82+3|79+3|85+3|87+3|87+3|87+3|85+3|85+3|84+3|84+3|84+3|85+3|20+3|https://cdn.sofif...|https://cdn.sofif...|https://cdn.sofif...|https://cdn.sofif...|https://cdn.sofif...|\n",
            "|   165153|https://sofifa.co...|       K. Benzema|       Karim Benzema|          CF, ST|     89|       89|  6.6E7|350000.0| 33|1987-12-19 00:00:00|      185|       81|       243.0|     Real Madrid CF|Spain Primera Div...|           1|           CF|                 9|            null|2009-07-09 00:00:00|    2023|            18|        France|        1335.0|             CF|                  19|         Right|        4|          4|                       4|Medium/Medium|Normal (170-185)|      Yes|         135300000|            #Poacher|Leadership, Fines...|  76|      86|     81|       87|       39|    77|                75|                 90|                        89|                     86|               86|             87|         81|               73|                73|                90|                   77|                   75|              79|                91|              72|              85|           79|           78|            82|              79|                  63|                     39|                   90|              87|                 84|                 90|                         43|                       24|                      18|                13|                  11|                  5|                      5|                   7|             null|87+2|87+2|87+2| 85| 87| 87| 87| 85|86+3|86+3|86+3|84+3|80+3|80+3|80+3|84+3|63+3|62+3|62+3|62+3|63+3|59+3|55+3|55+3|55+3|59+3|18+3|https://cdn.sofif...|https://cdn.sofif...|https://cdn.sofif...|https://cdn.sofif...|https://cdn.sofif...|\n",
            "|   192119|https://sofifa.co...|      T. Courtois|    Thibaut Courtois|              GK|     89|       91| 8.55E7|250000.0| 29|1992-05-11 00:00:00|      199|       96|       243.0|     Real Madrid CF|Spain Primera Div...|           1|           GK|                 1|            null|2018-08-09 00:00:00|    2026|             7|       Belgium|        1325.0|             GK|                   1|          Left|        3|          1|                       4|Medium/Medium|          Unique|      Yes|         181700000|                null|GK Long Throw, Co...|null|    null|   null|     null|     null|  null|                14|                 14|                        13|                     33|               12|             13|         19|               20|                35|                23|                   42|                   52|              62|                84|              45|              56|           68|           38|            70|              17|                  23|                     15|                   13|              44|                 27|                 66|                         20|                       18|                      16|                84|                  89|                 74|                     86|                  88|               46|31+3|31+3|31+3| 29| 31| 31| 31| 29|32+3|32+3|32+3|31+3|32+3|32+3|32+3|31+3|29+3|31+3|31+3|31+3|29+3|29+3|29+3|29+3|29+3|29+3|86+3|https://cdn.sofif...|https://cdn.sofif...|https://cdn.sofif...|https://cdn.sofif...|https://cdn.sofif...|\n",
            "|   200104|https://sofifa.co...|           H. Son|       손흥민 孙兴慜|      LM, CF, LW|     89|       89| 1.04E8|220000.0| 28|1992-07-08 00:00:00|      183|       78|        18.0|  Tottenham Hotspur|English Premier L...|           1|           LW|                 7|            null|2015-08-28 00:00:00|    2025|           167|Korea Republic|          null|           null|                null|         Right|        5|          4|                       4|    High/High|          Unique|      Yes|         197600000|#Dribbler, #Engin...|Solid Player, Fin...|  88|      87|     82|       86|       43|    69|                83|                 88|                        68|                     84|               78|             87|         85|               74|                74|                84|                   85|                   90|              86|                91|              78|              88|           60|           88|            64|              89|                  62|                     39|                   91|              83|                 73|                 89|                         50|                       34|                      33|                11|                  13|                 13|                      6|                  10|             null|85+3|85+3|85+3| 87| 87| 87| 87| 87|86+3|86+3|86+3|86+3|80+3|80+3|80+3|86+3|68+3|64+3|64+3|64+3|68+3|64+3|54+3|54+3|54+3|64+3|19+3|https://cdn.sofif...|https://cdn.sofif...|https://cdn.sofif...|                null|https://cdn.sofif...|\n",
            "|   200145|https://sofifa.co...|         Casemiro|Carlos Henrique V...|             CDM|     89|       89|  8.8E7|310000.0| 29|1992-02-23 00:00:00|      185|       84|       243.0|     Real Madrid CF|Spain Primera Div...|           1|          CDM|                14|            null|2013-07-11 00:00:00|    2025|            54|        Brazil|          null|           null|                null|         Right|        3|          2|                       3|    High/High|          Unique|      Yes|         180400000|#Engine, #Tacklin...|Power Free-Kick, ...|  65|      73|     76|       73|       86|    90|                58|                 64|                        79|                     84|               62|             69|         62|               74|                84|                79|                   60|                   69|              61|                87|              66|              88|           87|           89|            90|              81|                  91|                     87|                   75|              80|                 66|                 84|                         85|                       88|                      87|                13|                  14|                 16|                     12|                  12|             null|76+3|76+3|76+3| 72| 76| 76| 76| 72|76+3|76+3|76+3|74+3|82+3|82+3|82+3|74+3|80+3|86+3|86+3|86+3|80+3|81+3|86+3|86+3|86+3|81+3|21+3|https://cdn.sofif...|https://cdn.sofif...|https://cdn.sofif...|                null|https://cdn.sofif...|\n",
            "|   203376|https://sofifa.co...|      V. van Dijk|     Virgil van Dijk|              CB|     89|       89|  8.6E7|230000.0| 29|1991-07-08 00:00:00|      193|       92|         9.0|          Liverpool|English Premier L...|           1|          LCB|                 4|            null|2018-01-01 00:00:00|    2025|            34|   Netherlands|      105035.0|            LCB|                   4|         Right|        3|          2|                       4|Medium/Medium|          Unique|      Yes|         159100000|#Tackling, #Tacti...|Leadership, Long ...|  78|      60|     71|       72|       91|    84|                53|                 52|                        87|                     79|               45|             70|         60|               70|                86|                76|                   66|                   88|              61|                87|              53|              81|           90|           69|            92|              64|                  83|                     90|                   47|              65|                 62|                 90|                         92|                       92|                      86|                13|                  10|                 13|                     11|                  11|             null|70+3|70+3|70+3| 67| 69| 69| 69| 67|70+3|70+3|70+3|70+3|75+3|75+3|75+3|70+3|79+3|84+3|84+3|84+3|79+3|81+3|88+1|88+1|88+1|81+3|20+3|https://cdn.sofif...|https://cdn.sofif...|https://cdn.sofif...|https://cdn.sofif...|https://cdn.sofif...|\n",
            "|   208722|https://sofifa.co...|          S. Mané|          Sadio Mané|              LW|     89|       89| 1.01E8|270000.0| 29|1992-04-10 00:00:00|      175|       69|         9.0|          Liverpool|English Premier L...|           1|           LW|                10|            null|2016-07-01 00:00:00|    2023|           136|       Senegal|          null|           null|                null|         Right|        4|          4|                       4|  High/Medium|          Unique|      Yes|         186900000|#Speedster, #Drib...|Flair, Speed Drib...|  91|      83|     80|       89|       44|    77|                78|                 86|                        84|                     84|               75|             90|         77|               64|                71|                88|                   93|                   90|              93|                91|              88|              83|           87|           85|            72|              80|                  75|                     35|                   90|              84|                 71|                 84|                         42|                       42|                      38|                10|                  10|                 15|                      7|                  14|             null|86+3|86+3|86+3| 87| 88| 88| 88| 87|87+2|87+2|87+2|86+3|80+3|80+3|80+3|86+3|68+3|65+3|65+3|65+3|68+3|65+3|59+3|59+3|59+3|65+3|19+3|https://cdn.sofif...|https://cdn.sofif...|https://cdn.sofif...|                null|https://cdn.sofif...|\n",
            "|   209331|https://sofifa.co...|         M. Salah| Mohamed Salah Ghaly|              RW|     89|       89| 1.01E8|270000.0| 29|1992-06-15 00:00:00|      175|       71|         9.0|          Liverpool|English Premier L...|           1|           RW|                11|            null|2017-07-01 00:00:00|    2023|           111|         Egypt|          null|           null|                null|          Left|        3|          4|                       4|  High/Medium|          Unique|      Yes|         186900000|#Speedster, #Drib...|Finesse Shot, Lon...|  90|      87|     81|       90|       45|    75|                79|                 91|                        59|                     84|               81|             90|         83|               69|                75|                89|                   89|                   91|              91|                92|              91|              82|           69|           85|            75|              84|                  63|                     55|                   91|              83|                 86|                 90|                         38|                       43|                      41|                14|                  14|                  9|                     11|                  14|             null|85+3|85+3|85+3| 88| 88| 88| 88| 88|87+2|87+2|87+2|87+2|82+3|82+3|82+3|87+2|71+3|68+3|68+3|68+3|71+3|67+3|58+3|58+3|58+3|67+3|22+3|https://cdn.sofif...|https://cdn.sofif...|https://cdn.sofif...|                null|https://cdn.sofif...|\n",
            "|   210257|https://sofifa.co...|          Ederson|Ederson Santana d...|              GK|     89|       91|  9.4E7|200000.0| 27|1993-08-17 00:00:00|      188|       86|        10.0|    Manchester City|English Premier L...|           1|           GK|                31|            null|2017-07-01 00:00:00|    2026|            54|        Brazil|          null|           null|                null|          Left|        3|          1|                       3|Medium/Medium|          Unique|      Yes|         181000000|                null|Long Passer (AI),...|null|    null|   null|     null|     null|  null|                20|                 14|                        14|                     61|               18|             23|         15|               20|                66|                40|                   64|                   63|              60|                88|              48|              70|           66|           41|            78|              18|                  38|                     27|                   20|              70|                 51|                 70|                         29|                       15|                       8|                87|                  82|                 93|                     88|                  88|               64|40+3|40+3|40+3| 41| 43| 43| 43| 41|47+3|47+3|47+3|44+3|49+3|49+3|49+3|44+3|37+3|44+3|44+3|44+3|37+3|36+3|35+3|35+3|35+3|36+3|87+3|https://cdn.sofif...|https://cdn.sofif...|https://cdn.sofif...|                null|https://cdn.sofif...|\n",
            "|   212622|https://sofifa.co...|       J. Kimmich|Joshua Walter Kim...|         CDM, RB|     89|       90| 1.08E8|160000.0| 26|1995-02-08 00:00:00|      177|       75|        21.0|  FC Bayern München|German 1. Bundesliga|           1|          RDM|                 6|            null|2015-07-01 00:00:00|    2025|            21|       Germany|        1337.0|            RDM|                   6|         Right|        4|          3|                       4|  High/Medium|  Lean (170-185)|      Yes|         186300000|            #Crosser|Leadership, Long ...|  70|      73|     86|       84|       83|    79|                91|                 68|                        72|                     87|               69|             83|         85|               61|                90|                85|                   77|                   65|              84|                88|              84|              78|           79|           94|            68|              84|                  89|                     84|                   80|              85|                 44|                 85|                         85|                       85|                      79|                 8|                  15|                  7|                     15|                  15|             null|77+3|77+3|77+3| 82| 81| 81| 81| 82|83+3|83+3|83+3|83+3|86+3|86+3|86+3|83+3|85+3|86+3|86+3|86+3|85+3|83+3|81+3|81+3|81+3|83+3|21+3|https://cdn.sofif...|https://cdn.sofif...|https://cdn.sofif...|https://cdn.sofif...|https://cdn.sofif...|\n",
            "+---------+--------------------+-----------------+--------------------+----------------+-------+---------+-------+--------+---+-------------------+---------+---------+------------+-------------------+--------------------+------------+-------------+------------------+----------------+-------------------+--------+--------------+--------------+--------------+---------------+--------------------+--------------+---------+-----------+------------------------+-------------+----------------+---------+------------------+--------------------+--------------------+----+--------+-------+---------+---------+------+------------------+-------------------+--------------------------+-----------------------+-----------------+---------------+-----------+-----------------+------------------+------------------+---------------------+---------------------+----------------+------------------+----------------+----------------+-------------+-------------+--------------+----------------+--------------------+-----------------------+---------------------+----------------+-------------------+-------------------+---------------------------+-------------------------+------------------------+------------------+--------------------+-------------------+-----------------------+--------------------+-----------------+----+----+----+---+---+---+---+---+----+----+----+----+----+----+----+----+----+----+----+----+----+----+----+----+----+----+----+--------------------+--------------------+--------------------+--------------------+--------------------+\n",
            "only showing top 20 rows\n",
            "\n"
          ]
        }
      ],
      "source": [
        "f_22.show()"
      ]
    },
    {
      "cell_type": "code",
      "execution_count": null,
      "metadata": {
        "colab": {
          "base_uri": "https://localhost:8080/"
        },
        "id": "L5uAZsAJmhZE",
        "outputId": "f5673e7d-51fa-4d12-bdf3-76e971722061"
      },
      "outputs": [
        {
          "name": "stdout",
          "output_type": "stream",
          "text": [
            "root\n",
            " |-- name: string (nullable = true)\n",
            " |-- player_positions: string (nullable = true)\n",
            " |-- overall: integer (nullable = true)\n",
            " |-- potential: integer (nullable = true)\n",
            " |-- value: double (nullable = true)\n",
            " |-- wage_eur: double (nullable = true)\n",
            " |-- club_name: string (nullable = true)\n",
            " |-- pace: integer (nullable = true)\n",
            " |-- shooting: integer (nullable = true)\n",
            " |-- passing: integer (nullable = true)\n",
            " |-- dribbling: integer (nullable = true)\n",
            " |-- defending: integer (nullable = true)\n",
            " |-- physic: integer (nullable = true)\n",
            "\n"
          ]
        }
      ],
      "source": [
        "#pick intersting features\n",
        "f1_22 = f_22.select([\"name\",'player_positions', 'overall', 'potential','value', 'wage_eur', 'club_name', 'pace','shooting','passing','dribbling','defending','physic'])\n",
        "f1_22.withColumn(\"value\",f1_22.value.cast('int'))\n",
        "f1_22.withColumn(\"wage_eur\",f1_22.wage_eur.cast('int'))\n",
        "f1_22.printSchema()"
      ]
    },
    {
      "cell_type": "code",
      "execution_count": null,
      "metadata": {
        "colab": {
          "base_uri": "https://localhost:8080/"
        },
        "id": "6IwlJgRxM2bK",
        "outputId": "1b660295-716c-452b-b1fe-07c74698d3ef"
      },
      "outputs": [
        {
          "name": "stdout",
          "output_type": "stream",
          "text": [
            "+----+----------------+-------+---------+-----+--------+---------+----+--------+-------+---------+---------+------+\n",
            "|name|player_positions|overall|potential|value|wage_eur|club_name|pace|shooting|passing|dribbling|defending|physic|\n",
            "+----+----------------+-------+---------+-----+--------+---------+----+--------+-------+---------+---------+------+\n",
            "|   0|               0|      0|        0|   74|      61|       61|2132|    2132|   2132|     2132|     2132|  2132|\n",
            "+----+----------------+-------+---------+-----+--------+---------+----+--------+-------+---------+---------+------+\n",
            "\n"
          ]
        }
      ],
      "source": [
        "#count null value\n",
        "f1_22.select([count(when(isnull(c), c)).alias(c) for c in f1_22.columns]).show()"
      ]
    },
    {
      "cell_type": "code",
      "execution_count": null,
      "metadata": {
        "colab": {
          "base_uri": "https://localhost:8080/"
        },
        "id": "DVhuq-XlNFhK",
        "outputId": "e8790174-d821-4642-e6ab-31d3ef1a64be"
      },
      "outputs": [
        {
          "name": "stdout",
          "output_type": "stream",
          "text": [
            "+----+----------------+-------+---------+-----+--------+---------+----+--------+-------+---------+---------+------+\n",
            "|name|player_positions|overall|potential|value|wage_eur|club_name|pace|shooting|passing|dribbling|defending|physic|\n",
            "+----+----------------+-------+---------+-----+--------+---------+----+--------+-------+---------+---------+------+\n",
            "|   0|               0|      0|        0|    0|       0|        0|2124|    2124|   2124|     2124|     2124|  2124|\n",
            "+----+----------------+-------+---------+-----+--------+---------+----+--------+-------+---------+---------+------+\n",
            "\n"
          ]
        }
      ],
      "source": [
        "#dropping players with no value\n",
        "f1_22 = f1_22.dropna(subset=['value'])\n",
        "f1_22.filter(f1_22.player_positions == \"GK\").select([count(when(isnull(c), c)).alias(c) for c in f1_22.columns]).show()\n",
        "#we can see that must of that all the goal keeper have null value in pace|shooting|passing|dribbling|defending|physic features\n"
      ]
    },
    {
      "cell_type": "code",
      "execution_count": null,
      "metadata": {
        "id": "nMprCwqEM2kS"
      },
      "outputs": [],
      "source": [
        "#adding mean value for the goal keeper null value\n",
        "means = f1_22.agg({col: 'mean' for col in ['pace','shooting','passing','dribbling','defending', 'physic']}).collect()[0]\n",
        "\n",
        "means1 = [means[i] for i in range(6)]\n",
        "subset=['pace','shooting','passing','dribbling','defending', 'physic']\n",
        "\n",
        "for i in range(6):\n",
        "  f1_22 = f1_22.na.fill(means1[i], subset[i])\n"
      ]
    },
    {
      "cell_type": "code",
      "execution_count": null,
      "metadata": {
        "colab": {
          "base_uri": "https://localhost:8080/"
        },
        "id": "k-oeQI04M2xB",
        "outputId": "66952e66-04d9-4cfe-e11f-0285b70bab47"
      },
      "outputs": [
        {
          "name": "stdout",
          "output_type": "stream",
          "text": [
            "+----+----------------+-------+---------+-----+--------+---------+----+--------+-------+---------+---------+------+\n",
            "|name|player_positions|overall|potential|value|wage_eur|club_name|pace|shooting|passing|dribbling|defending|physic|\n",
            "+----+----------------+-------+---------+-----+--------+---------+----+--------+-------+---------+---------+------+\n",
            "|   0|               0|      0|        0|    0|       0|        0|   0|       0|      0|        0|        0|     0|\n",
            "+----+----------------+-------+---------+-----+--------+---------+----+--------+-------+---------+---------+------+\n",
            "\n"
          ]
        }
      ],
      "source": [
        "#check null again\n",
        "f1_22.select([count(when(isnull(c), c)).alias(c) for c in f1_22.columns]).show()"
      ]
    },
    {
      "cell_type": "code",
      "execution_count": null,
      "metadata": {
        "colab": {
          "base_uri": "https://localhost:8080/"
        },
        "id": "uKyekYS3htTe",
        "outputId": "3d8ccf4f-c809-4bb3-ad6c-d29ab6a07f54"
      },
      "outputs": [
        {
          "name": "stdout",
          "output_type": "stream",
          "text": [
            "+-----------------+----------------+-------+---------+---------+--------+-------------------+----+--------+-------+---------+---------+------+-----+\n",
            "|             name|player_positions|overall|potential|    value|wage_eur|          club_name|pace|shooting|passing|dribbling|defending|physic|score|\n",
            "+-----------------+----------------+-------+---------+---------+--------+-------------------+----+--------+-------+---------+---------+------+-----+\n",
            "|         L. Messi|              RW|     93|       93| 78000000|320000.0|Paris Saint-Germain|  85|      92|     91|       95|       34|    65| 88.2|\n",
            "|   R. Lewandowski|              ST|     92|       92|119500000|270000.0|  FC Bayern München|  78|      92|     79|       86|       44|    82|87.45|\n",
            "|Cristiano Ronaldo|              ST|     91|       91| 45000000|270000.0|  Manchester United|  87|      94|     80|       88|       34|    75| 86.6|\n",
            "|        Neymar Jr|              LW|     91|       91|129000000|270000.0|Paris Saint-Germain|  91|      83|     86|       94|       37|    63| 86.4|\n",
            "|     K. De Bruyne|              CM|     91|       91|125500000|350000.0|    Manchester City|  76|      86|     93|       88|       64|    78|87.95|\n",
            "|         J. Oblak|              GK|     91|       93|112000000|130000.0| Atlético de Madrid|  52|      62|     68|       57|       51|    64| 81.8|\n",
            "|        K. Mbappé|              ST|     91|       95|194000000|230000.0|Paris Saint-Germain|  97|      88|     80|       92|       36|    77| 88.0|\n",
            "|         M. Neuer|              GK|     90|       90| 13500000| 86000.0|  FC Bayern München|  52|      62|     68|       57|       51|    64| 80.7|\n",
            "|    M. ter Stegen|              GK|     90|       92| 99000000|250000.0|       FC Barcelona|  52|      62|     68|       57|       51|    64| 81.1|\n",
            "|          H. Kane|              ST|     90|       90|129500000|240000.0|  Tottenham Hotspur|  70|      91|     83|       83|       47|    83|85.85|\n",
            "|         N. Kanté|             CDM|     90|       90|100000000|230000.0|            Chelsea|  78|      66|     75|       82|       87|    83|86.55|\n",
            "|       K. Benzema|              CF|     89|       89| 66000000|350000.0|     Real Madrid CF|  76|      86|     81|       87|       39|    77| 84.6|\n",
            "|      T. Courtois|              GK|     89|       91| 85500000|250000.0|     Real Madrid CF|  52|      62|     68|       57|       51|    64| 80.4|\n",
            "|           H. Son|              LM|     89|       89|104000000|220000.0|  Tottenham Hotspur|  88|      87|     82|       86|       43|    69|85.05|\n",
            "|         Casemiro|             CDM|     89|       89| 88000000|310000.0|     Real Madrid CF|  65|      73|     76|       73|       86|    90|85.45|\n",
            "|      V. van Dijk|              CB|     89|       89| 86000000|230000.0|          Liverpool|  78|      60|     71|       72|       91|    84| 85.1|\n",
            "|          S. Mané|              LW|     89|       89|101000000|270000.0|          Liverpool|  91|      83|     80|       89|       44|    77| 85.5|\n",
            "|         M. Salah|              RW|     89|       89|101000000|270000.0|          Liverpool|  90|      87|     81|       90|       45|    75| 85.7|\n",
            "|          Ederson|              GK|     89|       91| 94000000|200000.0|    Manchester City|  52|      62|     68|       57|       51|    64| 80.4|\n",
            "|       J. Kimmich|             CDM|     89|       90|108000000|160000.0|  FC Bayern München|  70|      73|     86|       84|       83|    79|86.25|\n",
            "+-----------------+----------------+-------+---------+---------+--------+-------------------+----+--------+-------+---------+---------+------+-----+\n",
            "only showing top 20 rows\n",
            "\n"
          ]
        }
      ],
      "source": [
        "#keep the firdt position to players who have mire then 1 position\n",
        "def split_and_keep_first(s):\n",
        "  return s.split(\",\")[0]\n",
        "\n",
        "split_and_keep_first_udf = udf(split_and_keep_first)\n",
        "\n",
        "f1_22 = f1_22.withColumn(\"player_positions\",split_and_keep_first_udf(f1_22[\"player_positions\"]))\n",
        "\n",
        "#adding score feature, based on other features\n",
        "f1_22 = f1_22.withColumn('score', round(f1_22.overall*0.5 +f1_22.potential*0.2 + f1_22.shooting*0.05 + f1_22.pace*0.05 + f1_22.passing*0.05 + f1_22.dribbling*0.05 + f1_22.defending*0.05 + f1_22.physic*0.05,3)) \n",
        "f1_22 = f1_22.withColumn(\"score\",f1_22.score.cast('float'))\n",
        "f1_22 = f1_22.withColumn(\"value\",f1_22.value.cast('int'))\n",
        "f1_22.show()\n"
      ]
    },
    {
      "cell_type": "code",
      "execution_count": null,
      "metadata": {
        "id": "u3bt68a7ZpeO"
      },
      "outputs": [],
      "source": [
        "f2_22 = f1_22.select(['name', 'player_positions', 'value','score','club_name'])"
      ]
    },
    {
      "cell_type": "code",
      "execution_count": null,
      "metadata": {
        "colab": {
          "base_uri": "https://localhost:8080/"
        },
        "id": "4KhdG56PZpnV",
        "outputId": "132dcb09-bc2e-4873-b21f-fb591572e828"
      },
      "outputs": [
        {
          "data": {
            "text/plain": [
              "[Row(collect_set(player_positions)=['RW', 'CM', 'RM', 'CF', 'RWB', 'GK', 'CAM', 'LB', 'RB', 'CB', 'LM', 'CDM', 'LW', 'ST', 'LWB'])]"
            ]
          },
          "execution_count": 38,
          "metadata": {},
          "output_type": "execute_result"
        }
      ],
      "source": [
        "f2_22.agg(collect_set('player_positions')).collect()"
      ]
    },
    {
      "cell_type": "code",
      "execution_count": null,
      "metadata": {
        "colab": {
          "base_uri": "https://localhost:8080/"
        },
        "id": "xuuZIGtkZpqq",
        "outputId": "46bed993-4007-416c-f881-bf052f0035b7"
      },
      "outputs": [
        {
          "name": "stdout",
          "output_type": "stream",
          "text": [
            "[Row(collect_set(player_positions)=['RW', 'RB', 'CM', 'CB', 'GK', 'LW', 'ST', 'LB'])]\n"
          ]
        }
      ],
      "source": [
        "#aggregate close positions to same position\n",
        "f2_22 = f2_22.withColumn(\"player_positions\", when(col(\"player_positions\").isin([\"CDM\", \"CAM\", \"LM\",\"RM\"]), \"CM\").otherwise(col(\"player_positions\")))\n",
        "f2_22 = f2_22.withColumn(\"player_positions\", when(col(\"player_positions\").isin(\"CF\"), \"ST\").otherwise(col(\"player_positions\")))\n",
        "f2_22 = f2_22.withColumn(\"player_positions\", when(col(\"player_positions\").isin(\"RWB\"), \"RB\").otherwise(col(\"player_positions\")))\n",
        "f2_22 = f2_22.withColumn(\"player_positions\", when(col(\"player_positions\").isin(\"LWB\"), \"LB\").otherwise(col(\"player_positions\")))\n",
        "print(f2_22.agg(collect_set('player_positions')).collect())"
      ]
    },
    {
      "cell_type": "code",
      "execution_count": null,
      "metadata": {
        "id": "6Nck_BEpZptY"
      },
      "outputs": [],
      "source": [
        "#change the value to be in milion of euro\n",
        "f2_22 = f2_22.withColumn(\"id\", monotonically_increasing_id())\n",
        "f2_22 = f2_22.withColumn(\"value\", col(\"value\") / 1000000)"
      ]
    },
    {
      "cell_type": "code",
      "execution_count": null,
      "metadata": {
        "colab": {
          "base_uri": "https://localhost:8080/"
        },
        "id": "aBA6iwE_Z2oO",
        "outputId": "59283863-f989-4a03-9654-94a1584d94dd"
      },
      "outputs": [
        {
          "name": "stdout",
          "output_type": "stream",
          "text": [
            "+-----------------+----------------+-----+-----+---+-------------------+\n",
            "|             name|player_positions|value|score| id|          club_name|\n",
            "+-----------------+----------------+-----+-----+---+-------------------+\n",
            "|         L. Messi|              RW|   78| 88.2|  0|Paris Saint-Germain|\n",
            "|   R. Lewandowski|              ST|  120|87.45|  1|  FC Bayern München|\n",
            "|Cristiano Ronaldo|              ST|   45| 86.6|  2|  Manchester United|\n",
            "|        Neymar Jr|              LW|  129| 86.4|  3|Paris Saint-Germain|\n",
            "|     K. De Bruyne|              CM|  126|87.95|  4|    Manchester City|\n",
            "|         J. Oblak|              GK|  112| 81.8|  5| Atlético de Madrid|\n",
            "|        K. Mbappé|              ST|  194| 88.0|  6|Paris Saint-Germain|\n",
            "|         M. Neuer|              GK|   14| 80.7|  7|  FC Bayern München|\n",
            "|    M. ter Stegen|              GK|   99| 81.1|  8|       FC Barcelona|\n",
            "|          H. Kane|              ST|  130|85.85|  9|  Tottenham Hotspur|\n",
            "|         N. Kanté|              CM|  100|86.55| 10|            Chelsea|\n",
            "|       K. Benzema|              ST|   66| 84.6| 11|     Real Madrid CF|\n",
            "|      T. Courtois|              GK|   86| 80.4| 12|     Real Madrid CF|\n",
            "|           H. Son|              CM|  104|85.05| 13|  Tottenham Hotspur|\n",
            "|         Casemiro|              CM|   88|85.45| 14|     Real Madrid CF|\n",
            "|      V. van Dijk|              CB|   86| 85.1| 15|          Liverpool|\n",
            "|          S. Mané|              LW|  101| 85.5| 16|          Liverpool|\n",
            "|         M. Salah|              RW|  101| 85.7| 17|          Liverpool|\n",
            "|          Ederson|              GK|   94| 80.4| 18|    Manchester City|\n",
            "|       J. Kimmich|              CM|  108|86.25| 19|  FC Bayern München|\n",
            "+-----------------+----------------+-----+-----+---+-------------------+\n",
            "only showing top 20 rows\n",
            "\n"
          ]
        }
      ],
      "source": [
        "f2_22 = f2_22.select([\"name\",\"player_positions\", round(f2_22['value'],0).cast(\"integer\").alias('value'),\"score\",\"id\", \"club_name\"])\n",
        "f2_22.show()"
      ]
    },
    {
      "cell_type": "code",
      "execution_count": null,
      "metadata": {
        "colab": {
          "base_uri": "https://localhost:8080/"
        },
        "id": "SQuoY9f9Z2vr",
        "outputId": "c281e8a3-d84a-4e46-a2b5-160f9e020adf"
      },
      "outputs": [
        {
          "data": {
            "text/plain": [
              "520"
            ]
          },
          "execution_count": 42,
          "metadata": {},
          "output_type": "execute_result"
        }
      ],
      "source": [
        "#pick players with value of above 20 million\n",
        "f3_22 = f2_22.filter(col(\"value\") > 20)\n",
        "f3_22 = f3_22.select([\"name\",\"player_positions\", round(f3_22['value'],0).cast(\"integer\").alias('value'),\"score\",\"id\", \"club_name\"])\n",
        "f3_22.count()"
      ]
    },
    {
      "cell_type": "code",
      "execution_count": null,
      "metadata": {
        "colab": {
          "base_uri": "https://localhost:8080/"
        },
        "id": "Pq5bgd-ZZ2zq",
        "outputId": "c40f8ad1-1de8-46ef-ce65-cf40cc416707"
      },
      "outputs": [
        {
          "name": "stdout",
          "output_type": "stream",
          "text": [
            "+----------------+-----------+\n",
            "|player_positions|count(name)|\n",
            "+----------------+-----------+\n",
            "|              LB|         33|\n",
            "|              LW|         17|\n",
            "|              GK|         35|\n",
            "|              RB|         29|\n",
            "|              CM|        214|\n",
            "|              RW|         28|\n",
            "|              CB|         75|\n",
            "|              ST|         89|\n",
            "+----------------+-----------+\n",
            "\n"
          ]
        }
      ],
      "source": [
        "#showing how much players there are in same positions\n",
        "f3_22.groupby(\"player_positions\").agg(count('name')).show()"
      ]
    },
    {
      "cell_type": "code",
      "execution_count": null,
      "metadata": {
        "id": "HlSx9VrVaUWn"
      },
      "outputs": [],
      "source": [
        "#generate 3 lists per position on field\n",
        "#list of value, of score, of id\n",
        "def generate_group_by_position(df, pos):\n",
        "  group_value = []\n",
        "  group_score = []\n",
        "  group_id = []\n",
        "  a =  df.filter(col(\"player_positions\") == pos).collect()\n",
        "  group_value = [row[\"value\"] for row in a]\n",
        "  group_score = [row[\"score\"] for row in a]\n",
        "  group_id = [row[\"id\"] for row in a]\n",
        "  return group_score, group_value, group_id\n"
      ]
    },
    {
      "cell_type": "code",
      "execution_count": null,
      "metadata": {
        "id": "OjmTFKU7aUlH"
      },
      "outputs": [],
      "source": [
        "#get as input the output of generate_group_by_positions and if there is demand to more then 1 player in same positions - r number.\n",
        "#it generates all the combination of this number sum the score,sum the value, save indexes as list of list\n",
        "#the output is the same as generate_group_by_position, just after make all thr combination.\n",
        "def combination_by_position(group_score, group_value, group_id, r):\n",
        "\n",
        "  if r > 1:\n",
        "    comb_score = list(itertools.combinations(group_score, r))\n",
        "    comb_value = list(itertools.combinations(group_value, r))\n",
        "    group_comb_index = list(itertools.combinations(group_id, r))\n",
        "\n",
        "    \n",
        "    group_comb_score = []\n",
        "    for score_combinations in comb_score:\n",
        "      score_sum = np.sum(score_combinations)\n",
        "      group_comb_score.append(score_sum)\n",
        "\n",
        "    group_comb_value = []\n",
        "    for value_combinations in comb_value:\n",
        "      value_sum = np.sum(value_combinations)\n",
        "      group_comb_value.append(value_sum)\n",
        "\n",
        "  else:\n",
        "    group_comb_score = group_score\n",
        "    group_comb_value = group_value\n",
        "    group_comb_index = list(itertools.combinations(group_id, r))\n",
        "\n",
        "\n",
        "  return group_comb_score, group_comb_value, group_comb_index"
      ]
    },
    {
      "cell_type": "code",
      "execution_count": null,
      "metadata": {
        "id": "1RS0znKeaUoo"
      },
      "outputs": [],
      "source": [
        "#go over all the formations and generate per positions it' list by calling to the 2 former function.\n",
        "#save all list as list of lists.\n",
        "#list of scores thet include the list of score per position\n",
        "def combination_by_formation(df, positions):\n",
        "  \n",
        "  result_comb_score = []\n",
        "  result_comb_value = []\n",
        "  result_comb_index = []\n",
        "  for i in positions:\n",
        "    gk_score, gk_value, gk_id = generate_group_by_position(df, i[0])\n",
        "    group_comb_score, group_comb_value, group_comb_index = combination_by_position(gk_score, gk_value, gk_id,i[1] )\n",
        "    result_comb_score.append(group_comb_score)\n",
        "    result_comb_value.append(group_comb_value)\n",
        "    result_comb_index.append(group_comb_index)\n",
        "\n",
        "  return result_comb_score , result_comb_value , result_comb_index "
      ]
    },
    {
      "cell_type": "code",
      "execution_count": null,
      "metadata": {
        "id": "mM1ipPnzaUsK"
      },
      "outputs": [],
      "source": [
        "#choose the cell with the highest score\n",
        "def get_onepick_solution(scores, paths):\n",
        "  scores_paths = list(zip(scores, paths))\n",
        "  scores_paths_by_score = sorted(scores_paths, key=lambda tup: tup[0],\n",
        "                                  reverse=True)\n",
        "\n",
        "  return scores_paths_by_score[0][0], scores_paths_by_score[0][1]"
      ]
    },
    {
      "cell_type": "code",
      "execution_count": null,
      "metadata": {
        "id": "7lHuvLtkaUvF"
      },
      "outputs": [],
      "source": [
        "#the main function, go over the input list and insert to list best players it can according to maximum value, the index of the cell represent the max value the cell can hold\n",
        "#each time it goes from position to position and insert it to the best cell it can\n",
        "def knapsack_multichoice_onepick(weights, values, max_weight):\n",
        "  if len(weights) == 0:\n",
        "      return 0\n",
        "\n",
        "  last_array = [-1 for _ in range(max_weight + 1)]\n",
        "  last_path = [[] for _ in range(max_weight + 1)]\n",
        "  for i in range(len(weights[0])):\n",
        "      if weights[0][i] < max_weight:\n",
        "          if last_array[weights[0][i]] < values[0][i]:\n",
        "              last_array[weights[0][i]] = values[0][i]\n",
        "              last_path[weights[0][i]] = [(0, i)]\n",
        "\n",
        "  for i in range(1, len(weights)):\n",
        "      current_array = [-1 for _ in range(max_weight + 1)]\n",
        "      current_path = [[] for _ in range(max_weight + 1)]\n",
        "      for j in range(len(weights[i])):\n",
        "          for k in range(weights[i][j], max_weight + 1):\n",
        "              if last_array[k - weights[i][j]] > 0:\n",
        "                  if current_array[k] < last_array[k - weights[i][j]] + \\\n",
        "                          values[i][j]:\n",
        "                      current_array[k] = last_array[k - weights[i][j]] + \\\n",
        "                                          values[i][j]\n",
        "                      current_path[k] = copy.deepcopy(\n",
        "                          last_path[k - weights[i][j]])\n",
        "                      current_path[k].append((i, j))\n",
        "      last_array = current_array\n",
        "      last_path = current_path\n",
        "\n",
        "  solution, index_path = get_onepick_solution(last_array, last_path)\n",
        "\n",
        "  return solution, index_path"
      ]
    },
    {
      "cell_type": "code",
      "execution_count": null,
      "metadata": {
        "id": "W7iirQg5cuXf"
      },
      "outputs": [],
      "source": [
        "#call all the function above\n",
        "#plot dataframe of the team that the algorithm picked\n",
        "def best_teams(df, positions, budget):\n",
        "       \n",
        "        result_comb_score , result_comb_value , result_comb_index = combination_by_formation(df, positions)\n",
        "            \n",
        "\n",
        "        best_score, best_players_index = knapsack_multichoice_onepick(result_comb_value, result_comb_score, budget)\n",
        "        \n",
        "        result_indexes = []\n",
        "        for comb_index in best_players_index:\n",
        "            for winning_i in result_comb_index[comb_index[0]][comb_index[1]]:\n",
        "                result_indexes.append(winning_i)\n",
        "\n",
        "        print(\"the score is:\", best_score/11)\n",
        "        return df.filter(col(\"id\").isin(result_indexes))"
      ]
    },
    {
      "cell_type": "code",
      "execution_count": null,
      "metadata": {
        "id": "3qt9E27RcuY4"
      },
      "outputs": [],
      "source": [
        "#define position\n",
        "positions1 = [[\"GK\", 1],[\"CB\", 2],[\"ST\",1],[\"CM\",3],[\"LW\", 1],[\"RW\", 1],[\"LB\", 1],[\"RB\", 1]]"
      ]
    },
    {
      "cell_type": "code",
      "execution_count": null,
      "metadata": {
        "colab": {
          "background_save": true
        },
        "id": "Zd7-2wl2c_lT",
        "outputId": "e1581588-e846-46fe-d8c8-e35f0076d568"
      },
      "outputs": [
        {
          "name": "stdout",
          "output_type": "stream",
          "text": [
            "the score is: 83.32272685657848\n"
          ]
        }
      ],
      "source": [
        "best_team_450 = best_teams(f3_22, positions1, 450)"
      ]
    },
    {
      "cell_type": "code",
      "execution_count": null,
      "metadata": {
        "colab": {
          "background_save": true
        },
        "id": "rx4OEcUae6bw",
        "outputId": "479a35cc-7c2d-4f90-b51d-0de7bf915e6d"
      },
      "outputs": [
        {
          "name": "stdout",
          "output_type": "stream",
          "text": [
            "+-----------------+----------------+-----+-----+---+-------------------+\n",
            "|             name|player_positions|value|score| id|          club_name|\n",
            "+-----------------+----------------+-----+-----+---+-------------------+\n",
            "|         L. Messi|              RW|   78| 88.2|  0|Paris Saint-Germain|\n",
            "|Cristiano Ronaldo|              ST|   45| 86.6|  2|  Manchester United|\n",
            "|     Sergio Ramos|              CB|   24| 84.7| 22|Paris Saint-Germain|\n",
            "|        L. Modrić|              CM|   32| 84.1| 32|     Real Madrid CF|\n",
            "|      W. Szczęsny|              GK|   42| 78.6| 34|           Juventus|\n",
            "|        K. Walker|              RB|   39|83.05| 80|    Manchester City|\n",
            "|         D. Alaba|              CB|   36|82.15|107|     Real Madrid CF|\n",
            "|        F. Kostić|              CM|   43| 82.7|122|Eintracht Frankfurt|\n",
            "|         M. Acuña|              LB|   37| 82.8|134|         Sevilla FC|\n",
            "|         Paulinho|              CM|   29| 81.9|148|            Al Ahli|\n",
            "|       L. Ocampos|              LW|   40|81.75|170|         Sevilla FC|\n",
            "+-----------------+----------------+-----+-----+---+-------------------+\n",
            "\n"
          ]
        }
      ],
      "source": [
        "best_team_450.show()"
      ]
    },
    {
      "cell_type": "code",
      "execution_count": null,
      "metadata": {
        "colab": {
          "background_save": true
        },
        "id": "laUz27-Ne6kn",
        "outputId": "86d7e901-b7a1-4212-8aed-3b7397404823"
      },
      "outputs": [
        {
          "name": "stdout",
          "output_type": "stream",
          "text": [
            "+-------------------+----------------+------+\n",
            "|          club_name|Avg_Player_Value| score|\n",
            "+-------------------+----------------+------+\n",
            "|    Manchester City|            73.0|82.212|\n",
            "|          Liverpool|            65.0| 81.92|\n",
            "|  FC Bayern München|            64.0|81.811|\n",
            "|Paris Saint-Germain|            60.0|81.924|\n",
            "|       FC Barcelona|            51.0|80.181|\n",
            "|            Chelsea|            50.0|80.306|\n",
            "| Atlético de Madrid|            50.0|80.944|\n",
            "|  Manchester United|            49.0|80.734|\n",
            "|  Tottenham Hotspur|            48.0|80.108|\n",
            "|     Real Madrid CF|            48.0|81.053|\n",
            "|           Juventus|            48.0|80.277|\n",
            "|              Inter|            44.0| 79.95|\n",
            "|      Villarreal CF|            43.0|78.975|\n",
            "|              Lazio|            42.0|79.117|\n",
            "|Bayer 04 Leverkusen|            39.0|  77.8|\n",
            "|  Borussia Dortmund|            38.0|79.297|\n",
            "|      Real Sociedad|            38.0|79.337|\n",
            "|        Valencia CF|            37.0|79.217|\n",
            "|             Napoli|            36.0|78.709|\n",
            "|           Al Nassr|            36.0|  80.3|\n",
            "+-------------------+----------------+------+\n",
            "only showing top 20 rows\n",
            "\n"
          ]
        }
      ],
      "source": [
        "#make dataframe of the clubs in the game and average their score and value\n",
        "club_avg1 = f3_22.groupBy('club_name').avg('value', 'score').orderBy('avg(value)')\n",
        "club_avg1 = club_avg1.orderBy(club_avg1['avg(value)'].desc())\n",
        "club_avg1 = club_avg1.withColumnRenamed('avg(value)', 'Avg_Player_Value')\\\n",
        "                   .withColumnRenamed('avg(Score)', 'score')\n",
        "        \n",
        "club_avg1 = club_avg1.select(['club_name',round(club_avg1[\"Avg_Player_Value\"],0).alias('Avg_Player_Value'),round(club_avg1['score'], 3).alias('score')])\n",
        "club_avg1.show()"
      ]
    },
    {
      "cell_type": "code",
      "execution_count": null,
      "metadata": {
        "colab": {
          "background_save": true
        },
        "id": "O7vwLJFRfDww",
        "outputId": "b016ea1a-2d2c-4089-c29d-31b395ffcec1"
      },
      "outputs": [
        {
          "name": "stdout",
          "output_type": "stream",
          "text": [
            "+-------------------+-----+------+\n",
            "|          club_name|Value| score|\n",
            "+-------------------+-----+------+\n",
            "|    Manchester City|803.0|82.212|\n",
            "|          Liverpool|715.0| 81.92|\n",
            "|  FC Bayern München|704.0|81.811|\n",
            "|Paris Saint-Germain|660.0|81.924|\n",
            "|       FC Barcelona|561.0|80.181|\n",
            "|            Chelsea|550.0|80.306|\n",
            "| Atlético de Madrid|550.0|80.944|\n",
            "|  Manchester United|539.0|80.734|\n",
            "|  Tottenham Hotspur|528.0|80.108|\n",
            "|     Real Madrid CF|528.0|81.053|\n",
            "|           Juventus|528.0|80.277|\n",
            "|              Inter|484.0| 79.95|\n",
            "|      Villarreal CF|473.0|78.975|\n",
            "|              Lazio|462.0|79.117|\n",
            "|Bayer 04 Leverkusen|429.0|  77.8|\n",
            "|  Borussia Dortmund|418.0|79.297|\n",
            "|      Real Sociedad|418.0|79.337|\n",
            "|        Valencia CF|407.0|79.217|\n",
            "|             Napoli|396.0|78.709|\n",
            "|           Al Nassr|396.0|  80.3|\n",
            "+-------------------+-----+------+\n",
            "only showing top 20 rows\n",
            "\n"
          ]
        }
      ],
      "source": [
        "#multiply the avg value by players on field -11\n",
        "club_avg1 = club_avg1.withColumn(\"Avg_Player_Value\", col(\"Avg_Player_Value\") * 11)\n",
        "club_avg1 = club_avg1.withColumnRenamed(\"Avg_Player_Value\", \"Value\")\n",
        "club_avg1.show()"
      ]
    },
    {
      "cell_type": "code",
      "execution_count": null,
      "metadata": {
        "colab": {
          "background_save": true
        },
        "id": "s_UhRRgmfD1B"
      },
      "outputs": [],
      "source": [
        "#add our team to the dataframe\n",
        "new_row = Row(club_name=\"My_Team\", Value=440, Score=83.32)\n",
        "new_df = spark.createDataFrame([new_row])\n",
        "club_avg1 = club_avg1.union(new_df)"
      ]
    },
    {
      "cell_type": "code",
      "execution_count": null,
      "metadata": {
        "colab": {
          "background_save": true
        },
        "id": "9tKGWrZkfD71",
        "outputId": "7bdd1eec-88d6-4308-ab67-d3613ae6df83"
      },
      "outputs": [
        {
          "name": "stdout",
          "output_type": "stream",
          "text": [
            "+-------------------+-----+------+\n",
            "|          club_name|Value| score|\n",
            "+-------------------+-----+------+\n",
            "|    Manchester City|803.0|82.212|\n",
            "|          Liverpool|715.0| 81.92|\n",
            "|  FC Bayern München|704.0|81.811|\n",
            "|Paris Saint-Germain|660.0|81.924|\n",
            "|       FC Barcelona|561.0|80.181|\n",
            "| Atlético de Madrid|550.0|80.944|\n",
            "|            Chelsea|550.0|80.306|\n",
            "|  Manchester United|539.0|80.734|\n",
            "|  Tottenham Hotspur|528.0|80.108|\n",
            "|     Real Madrid CF|528.0|81.053|\n",
            "|           Juventus|528.0|80.277|\n",
            "|              Inter|484.0| 79.95|\n",
            "|      Villarreal CF|473.0|78.975|\n",
            "|              Lazio|462.0|79.117|\n",
            "|            My_Team|440.0| 83.32|\n",
            "|Bayer 04 Leverkusen|429.0|  77.8|\n",
            "|  Borussia Dortmund|418.0|79.297|\n",
            "|      Real Sociedad|418.0|79.337|\n",
            "|        Valencia CF|407.0|79.217|\n",
            "|           Al Nassr|396.0|  80.3|\n",
            "+-------------------+-----+------+\n",
            "only showing top 20 rows\n",
            "\n"
          ]
        }
      ],
      "source": [
        "club_avg1 = club_avg1.orderBy(club_avg1['Value'].desc())\n",
        "club_avg1.show()"
      ]
    },
    {
      "cell_type": "code",
      "execution_count": null,
      "metadata": {
        "colab": {
          "background_save": true
        },
        "id": "5hRnv8bDfn9S"
      },
      "outputs": [],
      "source": [
        "color1 = ['#f0e68c',\n",
        " '#e2e088',\n",
        " '#d4d984',\n",
        " '#c6d381',\n",
        " '#b9cc7d',\n",
        " '#abc579',\n",
        " '#9dbf75',\n",
        " '#8fb872',\n",
        " '#81b26e',\n",
        " '#73ab6a',\n",
        " '#65a566',\n",
        " '#589e62',\n",
        " '#4a985f',\n",
        " '#3c925b',\n",
        " '#2e8b57']"
      ]
    },
    {
      "cell_type": "code",
      "execution_count": null,
      "metadata": {
        "colab": {
          "background_save": true
        },
        "id": "2NzULbhdfoGx",
        "outputId": "aaf4c2ac-93dd-4c4f-9b88-03f8b4298da4"
      },
      "outputs": [
        {
          "data": {
            "image/png": "[encoded data removed]",
            "text/plain": [
              "<Figure size 432x288 with 1 Axes>"
            ]
          },
          "metadata": {},
          "output_type": "display_data"
        }
      ],
      "source": [
        "#comparing teams value\n",
        "pdf = club_avg1.toPandas()\n",
        "pdf = pdf.sort_values(by='Value', ascending=False).head(15)\n",
        "pdf.plot.barh(x = \"club_name\", y =\"Value\", color = color1)\n",
        "plt.title('Team Value in Milions $\\N{euro sign}$');"
      ]
    },
    {
      "cell_type": "code",
      "execution_count": null,
      "metadata": {
        "colab": {
          "background_save": true
        },
        "id": "6msFEJwifzhV",
        "outputId": "a344ff43-0eca-4629-ed89-054e248c97c4"
      },
      "outputs": [
        {
          "data": {
            "image/png": "[encoded data removed]",
            "text/plain": [
              "<Figure size 432x288 with 1 Axes>"
            ]
          },
          "metadata": {},
          "output_type": "display_data"
        }
      ],
      "source": [
        "#comparing teams score\n",
        "pdf1 = pdf.sort_values(by='score', ascending=False).head(15)\n",
        "pdf1.plot.barh(x = \"club_name\", y =\"score\", color = color1)\n",
        "plt.xlim(75,85)\n",
        "plt.title('Team Score');"
      ]
    },
    {
      "cell_type": "markdown",
      "metadata": {
        "id": "VdcwtR8MKVxy"
      },
      "source": [
        "# Player Value Regression"
      ]
    },
    {
      "cell_type": "markdown",
      "metadata": {
        "id": "L3Bn9ivPMQMr"
      },
      "source": [
        "## Imports"
      ]
    },
    {
      "cell_type": "code",
      "execution_count": null,
      "metadata": {
        "colab": {
          "background_save": true
        },
        "id": "Zz_hYHRLMPd0"
      },
      "outputs": [],
      "source": [
        "from pyspark.ml.linalg import Vectors\n",
        "from pyspark.ml.feature import VectorAssembler\n",
        "from pyspark.ml.regression import LinearRegression\n",
        "from pyspark.sql.functions import col, isnan, when, count, round"
      ]
    },
    {
      "cell_type": "markdown",
      "metadata": {
        "id": "EcGaZXLDKtQ3"
      },
      "source": [
        "## Reading FIFA 22 Dataset"
      ]
    },
    {
      "cell_type": "code",
      "execution_count": null,
      "metadata": {
        "colab": {
          "background_save": true
        },
        "id": "M5mVXMKoKiHC"
      },
      "outputs": [],
      "source": [
        "reg_df = spark.read.csv(\"/content/datasets/players_22.csv\", multiLine=True,\n",
        "                        inferSchema=True, header=True)\\\n",
        "                        .withColumnRenamed('wage_eur','wage')"
      ]
    },
    {
      "cell_type": "code",
      "execution_count": null,
      "metadata": {
        "colab": {
          "background_save": true
        },
        "id": "AgWH_cuWMFoa",
        "outputId": "c53c9990-5e81-4353-e542-dab063b90ea6"
      },
      "outputs": [
        {
          "name": "stdout",
          "output_type": "stream",
          "text": [
            "root\n",
            " |-- sofifa_id: integer (nullable = true)\n",
            " |-- player_url: string (nullable = true)\n",
            " |-- short_name: string (nullable = true)\n",
            " |-- long_name: string (nullable = true)\n",
            " |-- player_positions: string (nullable = true)\n",
            " |-- overall: integer (nullable = true)\n",
            " |-- potential: integer (nullable = true)\n",
            " |-- value_eur: double (nullable = true)\n",
            " |-- wage: double (nullable = true)\n",
            " |-- age: integer (nullable = true)\n",
            " |-- dob: timestamp (nullable = true)\n",
            " |-- height_cm: integer (nullable = true)\n",
            " |-- weight_kg: integer (nullable = true)\n",
            " |-- club_team_id: double (nullable = true)\n",
            " |-- club_name: string (nullable = true)\n",
            " |-- league_name: string (nullable = true)\n",
            " |-- league_level: integer (nullable = true)\n",
            " |-- club_position: string (nullable = true)\n",
            " |-- club_jersey_number: integer (nullable = true)\n",
            " |-- club_loaned_from: string (nullable = true)\n",
            " |-- club_joined: timestamp (nullable = true)\n",
            " |-- club_contract_valid_until: integer (nullable = true)\n",
            " |-- nationality_id: integer (nullable = true)\n",
            " |-- nationality_name: string (nullable = true)\n",
            " |-- nation_team_id: double (nullable = true)\n",
            " |-- nation_position: string (nullable = true)\n",
            " |-- nation_jersey_number: integer (nullable = true)\n",
            " |-- preferred_foot: string (nullable = true)\n",
            " |-- weak_foot: integer (nullable = true)\n",
            " |-- skill_moves: integer (nullable = true)\n",
            " |-- international_reputation: integer (nullable = true)\n",
            " |-- work_rate: string (nullable = true)\n",
            " |-- body_type: string (nullable = true)\n",
            " |-- real_face: string (nullable = true)\n",
            " |-- release_clause_eur: integer (nullable = true)\n",
            " |-- player_tags: string (nullable = true)\n",
            " |-- player_traits: string (nullable = true)\n",
            " |-- pace: integer (nullable = true)\n",
            " |-- shooting: integer (nullable = true)\n",
            " |-- passing: integer (nullable = true)\n",
            " |-- dribbling: integer (nullable = true)\n",
            " |-- defending: integer (nullable = true)\n",
            " |-- physic: integer (nullable = true)\n",
            " |-- attacking_crossing: integer (nullable = true)\n",
            " |-- attacking_finishing: integer (nullable = true)\n",
            " |-- attacking_heading_accuracy: integer (nullable = true)\n",
            " |-- attacking_short_passing: integer (nullable = true)\n",
            " |-- attacking_volleys: integer (nullable = true)\n",
            " |-- skill_dribbling: integer (nullable = true)\n",
            " |-- skill_curve: integer (nullable = true)\n",
            " |-- skill_fk_accuracy: integer (nullable = true)\n",
            " |-- skill_long_passing: integer (nullable = true)\n",
            " |-- skill_ball_control: integer (nullable = true)\n",
            " |-- movement_acceleration: integer (nullable = true)\n",
            " |-- movement_sprint_speed: integer (nullable = true)\n",
            " |-- movement_agility: integer (nullable = true)\n",
            " |-- movement_reactions: integer (nullable = true)\n",
            " |-- movement_balance: integer (nullable = true)\n",
            " |-- power_shot_power: integer (nullable = true)\n",
            " |-- power_jumping: integer (nullable = true)\n",
            " |-- power_stamina: integer (nullable = true)\n",
            " |-- power_strength: integer (nullable = true)\n",
            " |-- power_long_shots: integer (nullable = true)\n",
            " |-- mentality_aggression: integer (nullable = true)\n",
            " |-- mentality_interceptions: integer (nullable = true)\n",
            " |-- mentality_positioning: integer (nullable = true)\n",
            " |-- mentality_vision: integer (nullable = true)\n",
            " |-- mentality_penalties: integer (nullable = true)\n",
            " |-- mentality_composure: integer (nullable = true)\n",
            " |-- defending_marking_awareness: integer (nullable = true)\n",
            " |-- defending_standing_tackle: integer (nullable = true)\n",
            " |-- defending_sliding_tackle: integer (nullable = true)\n",
            " |-- goalkeeping_diving: integer (nullable = true)\n",
            " |-- goalkeeping_handling: integer (nullable = true)\n",
            " |-- goalkeeping_kicking: integer (nullable = true)\n",
            " |-- goalkeeping_positioning: integer (nullable = true)\n",
            " |-- goalkeeping_reflexes: integer (nullable = true)\n",
            " |-- goalkeeping_speed: integer (nullable = true)\n",
            " |-- ls: string (nullable = true)\n",
            " |-- st: string (nullable = true)\n",
            " |-- rs: string (nullable = true)\n",
            " |-- lw: string (nullable = true)\n",
            " |-- lf: string (nullable = true)\n",
            " |-- cf: string (nullable = true)\n",
            " |-- rf: string (nullable = true)\n",
            " |-- rw: string (nullable = true)\n",
            " |-- lam: string (nullable = true)\n",
            " |-- cam: string (nullable = true)\n",
            " |-- ram: string (nullable = true)\n",
            " |-- lm: string (nullable = true)\n",
            " |-- lcm: string (nullable = true)\n",
            " |-- cm: string (nullable = true)\n",
            " |-- rcm: string (nullable = true)\n",
            " |-- rm: string (nullable = true)\n",
            " |-- lwb: string (nullable = true)\n",
            " |-- ldm: string (nullable = true)\n",
            " |-- cdm: string (nullable = true)\n",
            " |-- rdm: string (nullable = true)\n",
            " |-- rwb: string (nullable = true)\n",
            " |-- lb: string (nullable = true)\n",
            " |-- lcb: string (nullable = true)\n",
            " |-- cb: string (nullable = true)\n",
            " |-- rcb: string (nullable = true)\n",
            " |-- rb: string (nullable = true)\n",
            " |-- gk: string (nullable = true)\n",
            " |-- player_face_url: string (nullable = true)\n",
            " |-- club_logo_url: string (nullable = true)\n",
            " |-- club_flag_url: string (nullable = true)\n",
            " |-- nation_logo_url: string (nullable = true)\n",
            " |-- nation_flag_url: string (nullable = true)\n",
            "\n"
          ]
        }
      ],
      "source": [
        "reg_df.printSchema()"
      ]
    },
    {
      "cell_type": "code",
      "execution_count": null,
      "metadata": {
        "colab": {
          "background_save": true
        },
        "id": "eFfkZfdpOiGw",
        "outputId": "c6cb93ce-9497-4777-9a1d-b1bb001a19c3"
      },
      "outputs": [
        {
          "name": "stdout",
          "output_type": "stream",
          "text": [
            "+---------+--------------------+-----------------+--------------------+----------------+-------+---------+---------+--------+---+-------------------+---------+---------+------------+-------------------+--------------------+------------+-------------+------------------+----------------+-------------------+-------------------------+--------------+----------------+--------------+---------------+--------------------+--------------+---------+-----------+------------------------+-------------+----------------+---------+------------------+--------------------+--------------------+----+--------+-------+---------+---------+------+------------------+-------------------+--------------------------+-----------------------+-----------------+---------------+-----------+-----------------+------------------+------------------+---------------------+---------------------+----------------+------------------+----------------+----------------+-------------+-------------+--------------+----------------+--------------------+-----------------------+---------------------+----------------+-------------------+-------------------+---------------------------+-------------------------+------------------------+------------------+--------------------+-------------------+-----------------------+--------------------+-----------------+----+----+----+---+---+---+---+---+----+----+----+----+----+----+----+----+----+----+----+----+----+----+----+----+----+----+----+--------------------+--------------------+--------------------+--------------------+--------------------+\n",
            "|sofifa_id|          player_url|       short_name|           long_name|player_positions|overall|potential|value_eur|    wage|age|                dob|height_cm|weight_kg|club_team_id|          club_name|         league_name|league_level|club_position|club_jersey_number|club_loaned_from|        club_joined|club_contract_valid_until|nationality_id|nationality_name|nation_team_id|nation_position|nation_jersey_number|preferred_foot|weak_foot|skill_moves|international_reputation|    work_rate|       body_type|real_face|release_clause_eur|         player_tags|       player_traits|pace|shooting|passing|dribbling|defending|physic|attacking_crossing|attacking_finishing|attacking_heading_accuracy|attacking_short_passing|attacking_volleys|skill_dribbling|skill_curve|skill_fk_accuracy|skill_long_passing|skill_ball_control|movement_acceleration|movement_sprint_speed|movement_agility|movement_reactions|movement_balance|power_shot_power|power_jumping|power_stamina|power_strength|power_long_shots|mentality_aggression|mentality_interceptions|mentality_positioning|mentality_vision|mentality_penalties|mentality_composure|defending_marking_awareness|defending_standing_tackle|defending_sliding_tackle|goalkeeping_diving|goalkeeping_handling|goalkeeping_kicking|goalkeeping_positioning|goalkeeping_reflexes|goalkeeping_speed|  ls|  st|  rs| lw| lf| cf| rf| rw| lam| cam| ram|  lm| lcm|  cm| rcm|  rm| lwb| ldm| cdm| rdm| rwb|  lb| lcb|  cb| rcb|  rb|  gk|     player_face_url|       club_logo_url|       club_flag_url|     nation_logo_url|     nation_flag_url|\n",
            "+---------+--------------------+-----------------+--------------------+----------------+-------+---------+---------+--------+---+-------------------+---------+---------+------------+-------------------+--------------------+------------+-------------+------------------+----------------+-------------------+-------------------------+--------------+----------------+--------------+---------------+--------------------+--------------+---------+-----------+------------------------+-------------+----------------+---------+------------------+--------------------+--------------------+----+--------+-------+---------+---------+------+------------------+-------------------+--------------------------+-----------------------+-----------------+---------------+-----------+-----------------+------------------+------------------+---------------------+---------------------+----------------+------------------+----------------+----------------+-------------+-------------+--------------+----------------+--------------------+-----------------------+---------------------+----------------+-------------------+-------------------+---------------------------+-------------------------+------------------------+------------------+--------------------+-------------------+-----------------------+--------------------+-----------------+----+----+----+---+---+---+---+---+----+----+----+----+----+----+----+----+----+----+----+----+----+----+----+----+----+----+----+--------------------+--------------------+--------------------+--------------------+--------------------+\n",
            "|   158023|https://sofifa.co...|         L. Messi|Lionel Andrés Mes...|      RW, ST, CF|     93|       93|    7.8E7|320000.0| 34|1987-06-24 00:00:00|      170|       72|        73.0|Paris Saint-Germain|      French Ligue 1|           1|           RW|                30|            null|2021-08-10 00:00:00|                     2023|            52|       Argentina|        1369.0|             RW|                  10|          Left|        4|          4|                       5|   Medium/Low|          Unique|      Yes|         144300000|#Dribbler, #Dista...|Finesse Shot, Lon...|  85|      92|     91|       95|       34|    65|                85|                 95|                        70|                     91|               88|             96|         93|               94|                91|                96|                   91|                   80|              91|                94|              95|              86|           68|           72|            69|              94|                  44|                     40|                   93|              95|                 75|                 96|                         20|                       35|                      24|                 6|                  11|                 15|                     14|                   8|             null|89+3|89+3|89+3| 92| 93| 93| 93| 92|  93|  93|  93|91+2|87+3|87+3|87+3|91+2|66+3|64+3|64+3|64+3|66+3|61+3|50+3|50+3|50+3|61+3|19+3|https://cdn.sofif...|https://cdn.sofif...|https://cdn.sofif...|https://cdn.sofif...|https://cdn.sofif...|\n",
            "|   188545|https://sofifa.co...|   R. Lewandowski|  Robert Lewandowski|              ST|     92|       92|  1.195E8|270000.0| 32|1988-08-21 00:00:00|      185|       81|        21.0|  FC Bayern München|German 1. Bundesliga|           1|           ST|                 9|            null|2014-07-01 00:00:00|                     2023|            37|          Poland|        1353.0|             RS|                   9|         Right|        4|          4|                       5|  High/Medium|          Unique|      Yes|         197200000|#Aerial Threat, #...|Solid Player, Fin...|  78|      92|     79|       86|       44|    82|                71|                 95|                        90|                     85|               89|             85|         79|               85|                70|                88|                   77|                   79|              77|                93|              82|              90|           85|           76|            86|              87|                  81|                     49|                   95|              81|                 90|                 88|                         35|                       42|                      19|                15|                   6|                 12|                      8|                  10|             null|90+2|90+2|90+2| 85| 88| 88| 88| 85|86+3|86+3|86+3|84+3|80+3|80+3|80+3|84+3|64+3|66+3|66+3|66+3|64+3|61+3|60+3|60+3|60+3|61+3|19+3|https://cdn.sofif...|https://cdn.sofif...|https://cdn.sofif...|https://cdn.sofif...|https://cdn.sofif...|\n",
            "|    20801|https://sofifa.co...|Cristiano Ronaldo|Cristiano Ronaldo...|          ST, LW|     91|       91|    4.5E7|270000.0| 36|1985-02-05 00:00:00|      187|       83|        11.0|  Manchester United|English Premier L...|           1|           ST|                 7|            null|2021-08-27 00:00:00|                     2023|            38|        Portugal|        1354.0|             ST|                   7|         Right|        4|          5|                       5|     High/Low|          Unique|      Yes|          83300000|#Aerial Threat, #...|Power Free-Kick, ...|  87|      94|     80|       88|       34|    75|                87|                 95|                        90|                     80|               86|             88|         81|               84|                77|                88|                   85|                   88|              86|                94|              74|              94|           95|           77|            77|              93|                  63|                     29|                   95|              76|                 88|                 95|                         24|                       32|                      24|                 7|                  11|                 15|                     14|                  11|             null|90+1|90+1|90+1| 88| 89| 89| 89| 88|86+3|86+3|86+3|86+3|78+3|78+3|78+3|86+3|63+3|59+3|59+3|59+3|63+3|60+3|53+3|53+3|53+3|60+3|20+3|https://cdn.sofif...|https://cdn.sofif...|https://cdn.sofif...|https://cdn.sofif...|https://cdn.sofif...|\n",
            "|   190871|https://sofifa.co...|        Neymar Jr|Neymar da Silva S...|         LW, CAM|     91|       91|   1.29E8|270000.0| 29|1992-02-05 00:00:00|      175|       68|        73.0|Paris Saint-Germain|      French Ligue 1|           1|           LW|                10|            null|2017-08-03 00:00:00|                     2025|            54|          Brazil|          null|           null|                null|         Right|        5|          5|                       5|  High/Medium|          Unique|      Yes|         238700000|#Speedster, #Drib...|Injury Prone, Fla...|  91|      83|     86|       94|       37|    63|                85|                 83|                        63|                     86|               86|             95|         88|               87|                81|                95|                   93|                   89|              96|                89|              84|              80|           64|           81|            53|              81|                  63|                     37|                   86|              90|                 93|                 93|                         35|                       32|                      29|                 9|                   9|                 15|                     15|                  11|             null|83+3|83+3|83+3| 90| 88| 88| 88| 90|89+2|89+2|89+2|89+2|82+3|82+3|82+3|89+2|67+3|63+3|63+3|63+3|67+3|62+3|50+3|50+3|50+3|62+3|20+3|https://cdn.sofif...|https://cdn.sofif...|https://cdn.sofif...|                null|https://cdn.sofif...|\n",
            "|   192985|https://sofifa.co...|     K. De Bruyne|     Kevin De Bruyne|         CM, CAM|     91|       91|  1.255E8|350000.0| 30|1991-06-28 00:00:00|      181|       70|        10.0|    Manchester City|English Premier L...|           1|          RCM|                17|            null|2015-08-30 00:00:00|                     2025|             7|         Belgium|        1325.0|            RCM|                   7|         Right|        5|          4|                       4|    High/High|          Unique|      Yes|         232200000|#Dribbler, #Playm...|Injury Prone, Lea...|  76|      86|     93|       88|       64|    78|                94|                 82|                        55|                     94|               82|             88|         85|               83|                93|                91|                   76|                   76|              79|                91|              78|              91|           63|           89|            74|              91|                  76|                     66|                   88|              94|                 83|                 89|                         68|                       65|                      53|                15|                  13|                  5|                     10|                  13|             null|83+3|83+3|83+3| 88| 87| 87| 87| 88|89+2|89+2|89+2|89+2|89+2|89+2|89+2|89+2|79+3|80+3|80+3|80+3|79+3|75+3|69+3|69+3|69+3|75+3|21+3|https://cdn.sofif...|https://cdn.sofif...|https://cdn.sofif...|https://cdn.sofif...|https://cdn.sofif...|\n",
            "|   200389|https://sofifa.co...|         J. Oblak|           Jan Oblak|              GK|     91|       93|   1.12E8|130000.0| 28|1993-01-07 00:00:00|      188|       87|       240.0| Atlético de Madrid|Spain Primera Div...|           1|           GK|                13|            null|2014-07-16 00:00:00|                     2023|            44|        Slovenia|          null|           null|                null|         Right|        3|          1|                       5|Medium/Medium|          Unique|      Yes|         238000000|                null|GK Long Throw, Co...|null|    null|   null|     null|     null|  null|                13|                 11|                        15|                     43|               13|             12|         13|               14|                40|                30|                   43|                   60|              67|                88|              49|              59|           78|           41|            78|              12|                  34|                     19|                   11|              65|                 11|                 68|                         27|                       12|                      18|                87|                  92|                 78|                     90|                  90|               50|33+3|33+3|33+3| 32| 35| 35| 35| 32|38+3|38+3|38+3|35+3|38+3|38+3|38+3|35+3|32+3|36+3|36+3|36+3|32+3|32+3|33+3|33+3|33+3|32+3|89+3|https://cdn.sofif...|https://cdn.sofif...|https://cdn.sofif...|                null|https://cdn.sofif...|\n",
            "|   231747|https://sofifa.co...|        K. Mbappé|Kylian Mbappé Lottin|          ST, LW|     91|       95|   1.94E8|230000.0| 22|1998-12-20 00:00:00|      182|       73|        73.0|Paris Saint-Germain|      French Ligue 1|           1|           ST|                 7|            null|2018-07-01 00:00:00|                     2022|            18|          France|        1335.0|             LW|                  10|         Right|        4|          5|                       4|     High/Low|          Unique|      Yes|         373500000|#Speedster, #Drib...|Flair, Speed Drib...|  97|      88|     80|       92|       36|    77|                78|                 93|                        72|                     85|               83|             93|         80|               69|                71|                91|                   97|                   97|              92|                93|              83|              86|           78|           88|            77|              82|                  62|                     38|                   92|              82|                 79|                 88|                         26|                       34|                      32|                13|                   5|                  7|                     11|                   6|             null|89+3|89+3|89+3| 90| 90| 90| 90| 90|89+3|89+3|89+3|89+3|81+3|81+3|81+3|89+3|67+3|63+3|63+3|63+3|67+3|63+3|54+3|54+3|54+3|63+3|18+3|https://cdn.sofif...|https://cdn.sofif...|https://cdn.sofif...|https://cdn.sofif...|https://cdn.sofif...|\n",
            "|   167495|https://sofifa.co...|         M. Neuer|  Manuel Peter Neuer|              GK|     90|       90|   1.35E7| 86000.0| 35|1986-03-27 00:00:00|      193|       93|        21.0|  FC Bayern München|German 1. Bundesliga|           1|           GK|                 1|            null|2011-07-01 00:00:00|                     2023|            21|         Germany|        1337.0|             GK|                   1|         Right|        4|          1|                       5|Medium/Medium|          Unique|      Yes|          22300000|                null|Leadership, GK Lo...|null|    null|   null|     null|     null|  null|                15|                 13|                        25|                     60|               11|             30|         14|               11|                68|                46|                   54|                   60|              51|                87|              35|              68|           77|           43|            80|              16|                  29|                     30|                   12|              70|                 47|                 70|                         17|                       10|                      11|                88|                  88|                 91|                     89|                  88|               56|40+3|40+3|40+3| 40| 43| 43| 43| 40|47+3|47+3|47+3|44+3|50+3|50+3|50+3|44+3|37+3|43+3|43+3|43+3|37+3|35+3|34+3|34+3|34+3|35+3|88+2|https://cdn.sofif...|https://cdn.sofif...|https://cdn.sofif...|https://cdn.sofif...|https://cdn.sofif...|\n",
            "|   192448|https://sofifa.co...|    M. ter Stegen|Marc-André ter St...|              GK|     90|       92|    9.9E7|250000.0| 29|1992-04-30 00:00:00|      187|       85|       241.0|       FC Barcelona|Spain Primera Div...|           1|           GK|                 1|            null|2014-07-01 00:00:00|                     2025|            21|         Germany|          null|           null|                null|         Right|        4|          1|                       4|Medium/Medium|          Unique|      Yes|         210400000|                null|Rushes Out Of Goa...|null|    null|   null|     null|     null|  null|                18|                 14|                        11|                     61|               14|             21|         18|               12|                63|                30|                   38|                   50|              39|                86|              43|              66|           79|           35|            78|              10|                  43|                     22|                   11|              70|                 25|                 70|                         25|                       13|                      10|                88|                  85|                 88|                     88|                  90|               43|35+3|35+3|35+3| 35| 38| 38| 38| 35|42+3|42+3|42+3|39+3|45+3|45+3|45+3|39+3|33+3|41+3|41+3|41+3|33+3|31+3|33+3|33+3|33+3|31+3|88+3|https://cdn.sofif...|https://cdn.sofif...|https://cdn.sofif...|                null|https://cdn.sofif...|\n",
            "|   202126|https://sofifa.co...|          H. Kane|          Harry Kane|              ST|     90|       90|  1.295E8|240000.0| 27|1993-07-28 00:00:00|      188|       89|        18.0|  Tottenham Hotspur|English Premier L...|           1|           ST|                10|            null|2010-07-28 00:00:00|                     2024|            14|         England|        1318.0|             ST|                   9|         Right|        5|          3|                       4|    High/High|          Unique|      Yes|         246100000|#Distance Shooter...|Leadership, Long ...|  70|      91|     83|       83|       47|    83|                80|                 94|                        86|                     85|               88|             83|         83|               65|                86|                85|                   65|                   74|              71|                92|              70|              91|           79|           83|            85|              86|                  80|                     44|                   94|              87|                 91|                 91|                         50|                       36|                      38|                 8|                  10|                 11|                     14|                  11|             null|88+2|88+2|88+2| 84| 86| 86| 86| 84|85+3|85+3|85+3|84+3|82+3|82+3|82+3|84+3|67+3|68+3|68+3|68+3|67+3|64+3|61+3|61+3|61+3|64+3|20+3|https://cdn.sofif...|https://cdn.sofif...|https://cdn.sofif...|https://cdn.sofif...|https://cdn.sofif...|\n",
            "|   215914|https://sofifa.co...|         N. Kanté|        N'Golo Kanté|         CDM, CM|     90|       90|    1.0E8|230000.0| 30|1991-03-29 00:00:00|      168|       70|         5.0|            Chelsea|English Premier L...|           1|          RCM|                 7|            null|2016-07-16 00:00:00|                     2023|            18|          France|        1335.0|            CDM|                  13|         Right|        3|          2|                       4|  Medium/High|          Unique|      Yes|         185000000|#Tackling, #Tacti...|          Leadership|  78|      66|     75|       82|       87|    83|                68|                 65|                        54|                     82|               56|             79|         49|               49|                79|                81|                   82|                   75|              82|                93|              92|              71|           77|           97|            72|              65|                  93|                     91|                   72|              78|                 54|                 84|                         90|                       93|                      86|                15|                  12|                 10|                      7|                  10|             null|72+3|72+3|72+3| 77| 77| 77| 77| 77|78+3|78+3|78+3|79+3|82+3|82+3|82+3|79+3|85+3|87+3|87+3|87+3|85+3|85+3|84+3|84+3|84+3|85+3|20+3|https://cdn.sofif...|https://cdn.sofif...|https://cdn.sofif...|https://cdn.sofif...|https://cdn.sofif...|\n",
            "|   165153|https://sofifa.co...|       K. Benzema|       Karim Benzema|          CF, ST|     89|       89|    6.6E7|350000.0| 33|1987-12-19 00:00:00|      185|       81|       243.0|     Real Madrid CF|Spain Primera Div...|           1|           CF|                 9|            null|2009-07-09 00:00:00|                     2023|            18|          France|        1335.0|             CF|                  19|         Right|        4|          4|                       4|Medium/Medium|Normal (170-185)|      Yes|         135300000|            #Poacher|Leadership, Fines...|  76|      86|     81|       87|       39|    77|                75|                 90|                        89|                     86|               86|             87|         81|               73|                73|                90|                   77|                   75|              79|                91|              72|              85|           79|           78|            82|              79|                  63|                     39|                   90|              87|                 84|                 90|                         43|                       24|                      18|                13|                  11|                  5|                      5|                   7|             null|87+2|87+2|87+2| 85| 87| 87| 87| 85|86+3|86+3|86+3|84+3|80+3|80+3|80+3|84+3|63+3|62+3|62+3|62+3|63+3|59+3|55+3|55+3|55+3|59+3|18+3|https://cdn.sofif...|https://cdn.sofif...|https://cdn.sofif...|https://cdn.sofif...|https://cdn.sofif...|\n",
            "|   192119|https://sofifa.co...|      T. Courtois|    Thibaut Courtois|              GK|     89|       91|   8.55E7|250000.0| 29|1992-05-11 00:00:00|      199|       96|       243.0|     Real Madrid CF|Spain Primera Div...|           1|           GK|                 1|            null|2018-08-09 00:00:00|                     2026|             7|         Belgium|        1325.0|             GK|                   1|          Left|        3|          1|                       4|Medium/Medium|          Unique|      Yes|         181700000|                null|GK Long Throw, Co...|null|    null|   null|     null|     null|  null|                14|                 14|                        13|                     33|               12|             13|         19|               20|                35|                23|                   42|                   52|              62|                84|              45|              56|           68|           38|            70|              17|                  23|                     15|                   13|              44|                 27|                 66|                         20|                       18|                      16|                84|                  89|                 74|                     86|                  88|               46|31+3|31+3|31+3| 29| 31| 31| 31| 29|32+3|32+3|32+3|31+3|32+3|32+3|32+3|31+3|29+3|31+3|31+3|31+3|29+3|29+3|29+3|29+3|29+3|29+3|86+3|https://cdn.sofif...|https://cdn.sofif...|https://cdn.sofif...|https://cdn.sofif...|https://cdn.sofif...|\n",
            "|   200104|https://sofifa.co...|           H. Son|       손흥민 孙兴慜|      LM, CF, LW|     89|       89|   1.04E8|220000.0| 28|1992-07-08 00:00:00|      183|       78|        18.0|  Tottenham Hotspur|English Premier L...|           1|           LW|                 7|            null|2015-08-28 00:00:00|                     2025|           167|  Korea Republic|          null|           null|                null|         Right|        5|          4|                       4|    High/High|          Unique|      Yes|         197600000|#Dribbler, #Engin...|Solid Player, Fin...|  88|      87|     82|       86|       43|    69|                83|                 88|                        68|                     84|               78|             87|         85|               74|                74|                84|                   85|                   90|              86|                91|              78|              88|           60|           88|            64|              89|                  62|                     39|                   91|              83|                 73|                 89|                         50|                       34|                      33|                11|                  13|                 13|                      6|                  10|             null|85+3|85+3|85+3| 87| 87| 87| 87| 87|86+3|86+3|86+3|86+3|80+3|80+3|80+3|86+3|68+3|64+3|64+3|64+3|68+3|64+3|54+3|54+3|54+3|64+3|19+3|https://cdn.sofif...|https://cdn.sofif...|https://cdn.sofif...|                null|https://cdn.sofif...|\n",
            "|   200145|https://sofifa.co...|         Casemiro|Carlos Henrique V...|             CDM|     89|       89|    8.8E7|310000.0| 29|1992-02-23 00:00:00|      185|       84|       243.0|     Real Madrid CF|Spain Primera Div...|           1|          CDM|                14|            null|2013-07-11 00:00:00|                     2025|            54|          Brazil|          null|           null|                null|         Right|        3|          2|                       3|    High/High|          Unique|      Yes|         180400000|#Engine, #Tacklin...|Power Free-Kick, ...|  65|      73|     76|       73|       86|    90|                58|                 64|                        79|                     84|               62|             69|         62|               74|                84|                79|                   60|                   69|              61|                87|              66|              88|           87|           89|            90|              81|                  91|                     87|                   75|              80|                 66|                 84|                         85|                       88|                      87|                13|                  14|                 16|                     12|                  12|             null|76+3|76+3|76+3| 72| 76| 76| 76| 72|76+3|76+3|76+3|74+3|82+3|82+3|82+3|74+3|80+3|86+3|86+3|86+3|80+3|81+3|86+3|86+3|86+3|81+3|21+3|https://cdn.sofif...|https://cdn.sofif...|https://cdn.sofif...|                null|https://cdn.sofif...|\n",
            "|   203376|https://sofifa.co...|      V. van Dijk|     Virgil van Dijk|              CB|     89|       89|    8.6E7|230000.0| 29|1991-07-08 00:00:00|      193|       92|         9.0|          Liverpool|English Premier L...|           1|          LCB|                 4|            null|2018-01-01 00:00:00|                     2025|            34|     Netherlands|      105035.0|            LCB|                   4|         Right|        3|          2|                       4|Medium/Medium|          Unique|      Yes|         159100000|#Tackling, #Tacti...|Leadership, Long ...|  78|      60|     71|       72|       91|    84|                53|                 52|                        87|                     79|               45|             70|         60|               70|                86|                76|                   66|                   88|              61|                87|              53|              81|           90|           69|            92|              64|                  83|                     90|                   47|              65|                 62|                 90|                         92|                       92|                      86|                13|                  10|                 13|                     11|                  11|             null|70+3|70+3|70+3| 67| 69| 69| 69| 67|70+3|70+3|70+3|70+3|75+3|75+3|75+3|70+3|79+3|84+3|84+3|84+3|79+3|81+3|88+1|88+1|88+1|81+3|20+3|https://cdn.sofif...|https://cdn.sofif...|https://cdn.sofif...|https://cdn.sofif...|https://cdn.sofif...|\n",
            "|   208722|https://sofifa.co...|          S. Mané|          Sadio Mané|              LW|     89|       89|   1.01E8|270000.0| 29|1992-04-10 00:00:00|      175|       69|         9.0|          Liverpool|English Premier L...|           1|           LW|                10|            null|2016-07-01 00:00:00|                     2023|           136|         Senegal|          null|           null|                null|         Right|        4|          4|                       4|  High/Medium|          Unique|      Yes|         186900000|#Speedster, #Drib...|Flair, Speed Drib...|  91|      83|     80|       89|       44|    77|                78|                 86|                        84|                     84|               75|             90|         77|               64|                71|                88|                   93|                   90|              93|                91|              88|              83|           87|           85|            72|              80|                  75|                     35|                   90|              84|                 71|                 84|                         42|                       42|                      38|                10|                  10|                 15|                      7|                  14|             null|86+3|86+3|86+3| 87| 88| 88| 88| 87|87+2|87+2|87+2|86+3|80+3|80+3|80+3|86+3|68+3|65+3|65+3|65+3|68+3|65+3|59+3|59+3|59+3|65+3|19+3|https://cdn.sofif...|https://cdn.sofif...|https://cdn.sofif...|                null|https://cdn.sofif...|\n",
            "|   209331|https://sofifa.co...|         M. Salah| Mohamed Salah Ghaly|              RW|     89|       89|   1.01E8|270000.0| 29|1992-06-15 00:00:00|      175|       71|         9.0|          Liverpool|English Premier L...|           1|           RW|                11|            null|2017-07-01 00:00:00|                     2023|           111|           Egypt|          null|           null|                null|          Left|        3|          4|                       4|  High/Medium|          Unique|      Yes|         186900000|#Speedster, #Drib...|Finesse Shot, Lon...|  90|      87|     81|       90|       45|    75|                79|                 91|                        59|                     84|               81|             90|         83|               69|                75|                89|                   89|                   91|              91|                92|              91|              82|           69|           85|            75|              84|                  63|                     55|                   91|              83|                 86|                 90|                         38|                       43|                      41|                14|                  14|                  9|                     11|                  14|             null|85+3|85+3|85+3| 88| 88| 88| 88| 88|87+2|87+2|87+2|87+2|82+3|82+3|82+3|87+2|71+3|68+3|68+3|68+3|71+3|67+3|58+3|58+3|58+3|67+3|22+3|https://cdn.sofif...|https://cdn.sofif...|https://cdn.sofif...|                null|https://cdn.sofif...|\n",
            "|   210257|https://sofifa.co...|          Ederson|Ederson Santana d...|              GK|     89|       91|    9.4E7|200000.0| 27|1993-08-17 00:00:00|      188|       86|        10.0|    Manchester City|English Premier L...|           1|           GK|                31|            null|2017-07-01 00:00:00|                     2026|            54|          Brazil|          null|           null|                null|          Left|        3|          1|                       3|Medium/Medium|          Unique|      Yes|         181000000|                null|Long Passer (AI),...|null|    null|   null|     null|     null|  null|                20|                 14|                        14|                     61|               18|             23|         15|               20|                66|                40|                   64|                   63|              60|                88|              48|              70|           66|           41|            78|              18|                  38|                     27|                   20|              70|                 51|                 70|                         29|                       15|                       8|                87|                  82|                 93|                     88|                  88|               64|40+3|40+3|40+3| 41| 43| 43| 43| 41|47+3|47+3|47+3|44+3|49+3|49+3|49+3|44+3|37+3|44+3|44+3|44+3|37+3|36+3|35+3|35+3|35+3|36+3|87+3|https://cdn.sofif...|https://cdn.sofif...|https://cdn.sofif...|                null|https://cdn.sofif...|\n",
            "|   212622|https://sofifa.co...|       J. Kimmich|Joshua Walter Kim...|         CDM, RB|     89|       90|   1.08E8|160000.0| 26|1995-02-08 00:00:00|      177|       75|        21.0|  FC Bayern München|German 1. Bundesliga|           1|          RDM|                 6|            null|2015-07-01 00:00:00|                     2025|            21|         Germany|        1337.0|            RDM|                   6|         Right|        4|          3|                       4|  High/Medium|  Lean (170-185)|      Yes|         186300000|            #Crosser|Leadership, Long ...|  70|      73|     86|       84|       83|    79|                91|                 68|                        72|                     87|               69|             83|         85|               61|                90|                85|                   77|                   65|              84|                88|              84|              78|           79|           94|            68|              84|                  89|                     84|                   80|              85|                 44|                 85|                         85|                       85|                      79|                 8|                  15|                  7|                     15|                  15|             null|77+3|77+3|77+3| 82| 81| 81| 81| 82|83+3|83+3|83+3|83+3|86+3|86+3|86+3|83+3|85+3|86+3|86+3|86+3|85+3|83+3|81+3|81+3|81+3|83+3|21+3|https://cdn.sofif...|https://cdn.sofif...|https://cdn.sofif...|https://cdn.sofif...|https://cdn.sofif...|\n",
            "+---------+--------------------+-----------------+--------------------+----------------+-------+---------+---------+--------+---+-------------------+---------+---------+------------+-------------------+--------------------+------------+-------------+------------------+----------------+-------------------+-------------------------+--------------+----------------+--------------+---------------+--------------------+--------------+---------+-----------+------------------------+-------------+----------------+---------+------------------+--------------------+--------------------+----+--------+-------+---------+---------+------+------------------+-------------------+--------------------------+-----------------------+-----------------+---------------+-----------+-----------------+------------------+------------------+---------------------+---------------------+----------------+------------------+----------------+----------------+-------------+-------------+--------------+----------------+--------------------+-----------------------+---------------------+----------------+-------------------+-------------------+---------------------------+-------------------------+------------------------+------------------+--------------------+-------------------+-----------------------+--------------------+-----------------+----+----+----+---+---+---+---+---+----+----+----+----+----+----+----+----+----+----+----+----+----+----+----+----+----+----+----+--------------------+--------------------+--------------------+--------------------+--------------------+\n",
            "only showing top 20 rows\n",
            "\n"
          ]
        }
      ],
      "source": [
        "reg_df.show()"
      ]
    },
    {
      "cell_type": "markdown",
      "metadata": {
        "id": "_zaipuV1K5mC"
      },
      "source": [
        "## Set Up"
      ]
    },
    {
      "cell_type": "markdown",
      "metadata": {
        "id": "tdwK1KIAUTrW"
      },
      "source": [
        "### Clean the Data\n",
        "#### Removing uneccesary features\n",
        "#### Handeling nulls"
      ]
    },
    {
      "cell_type": "code",
      "execution_count": null,
      "metadata": {
        "colab": {
          "background_save": true
        },
        "id": "7g4ExbZtTT0H"
      },
      "outputs": [],
      "source": [
        "# we decided to ignore the goal keepers in this section\n",
        "# remove player with position 'GK'\n",
        "# remove the goalkeeping attributes: 'goalkeeping_diving', 'goalkeeping_handling', 'goalkeeping_kicking', 'goalkeeping_positioning', 'goalkeeping_reflexes', 'goalkeeping_speed'\n",
        "\n",
        "reg_df = reg_df[reg_df['club_position'] != 'GK']\n",
        "reg_df = reg_df['sofifa_id',\n",
        "                'short_name',\n",
        "                'value_eur',\n",
        "                'wage',\n",
        "                'overall',\n",
        "             'potential',\n",
        "             'age',\n",
        "             'height_cm',\n",
        "             'weight_kg',\n",
        "             'club_team_id',\n",
        "             'club_name',\n",
        "             'league_name',\n",
        "             'league_level',\n",
        "             'club_jersey_number',\n",
        "             'nationality_id',\n",
        "             'nation_team_id',\n",
        "             'nation_jersey_number',\n",
        "             'weak_foot',\n",
        "             'skill_moves',\n",
        "             'international_reputation',\n",
        "             'release_clause_eur',\n",
        "             'pace',\n",
        "             'shooting',\n",
        "             'passing',\n",
        "             'dribbling',\n",
        "             'defending',\n",
        "             'physic',\n",
        "             'attacking_crossing',\n",
        "             'attacking_finishing',\n",
        "             'attacking_heading_accuracy',\n",
        "             'attacking_short_passing',\n",
        "             'attacking_volleys',\n",
        "             'skill_dribbling',\n",
        "             'skill_curve',\n",
        "             'skill_fk_accuracy',\n",
        "             'skill_long_passing',\n",
        "             'skill_ball_control',\n",
        "             'movement_acceleration',\n",
        "             'movement_sprint_speed',\n",
        "             'movement_agility',\n",
        "             'movement_reactions',\n",
        "             'power_shot_power',\n",
        "             'power_jumping',\n",
        "             'power_stamina',\n",
        "             'power_strength',\n",
        "             'power_long_shots',\n",
        "             'mentality_aggression',\n",
        "             'mentality_interceptions',\n",
        "             'mentality_positioning',\n",
        "             'mentality_vision',\n",
        "             'mentality_penalties',\n",
        "             'mentality_composure',\n",
        "             'defending_marking_awareness',\n",
        "             'defending_standing_tackle',\n",
        "             'defending_sliding_tackle']"
      ]
    },
    {
      "cell_type": "code",
      "execution_count": null,
      "metadata": {
        "colab": {
          "background_save": true
        },
        "id": "hsMxYXfRT0AL",
        "outputId": "8f67ac56-4b62-426f-8130-81b3b2360408"
      },
      "outputs": [
        {
          "name": "stdout",
          "output_type": "stream",
          "text": [
            "+---------+----------+---------+----+-------+---------+---+---------+---------+------------+---------+-----------+------------+------------------+--------------+--------------+--------------------+---------+-----------+------------------------+------------------+----+--------+-------+---------+---------+------+------------------+-------------------+--------------------------+-----------------------+-----------------+---------------+-----------+-----------------+------------------+------------------+---------------------+---------------------+----------------+------------------+----------------+-------------+-------------+--------------+----------------+--------------------+-----------------------+---------------------+----------------+-------------------+-------------------+---------------------------+-------------------------+------------------------+\n",
            "|sofifa_id|short_name|value_eur|wage|overall|potential|age|height_cm|weight_kg|club_team_id|club_name|league_name|league_level|club_jersey_number|nationality_id|nation_team_id|nation_jersey_number|weak_foot|skill_moves|international_reputation|release_clause_eur|pace|shooting|passing|dribbling|defending|physic|attacking_crossing|attacking_finishing|attacking_heading_accuracy|attacking_short_passing|attacking_volleys|skill_dribbling|skill_curve|skill_fk_accuracy|skill_long_passing|skill_ball_control|movement_acceleration|movement_sprint_speed|movement_agility|movement_reactions|power_shot_power|power_jumping|power_stamina|power_strength|power_long_shots|mentality_aggression|mentality_interceptions|mentality_positioning|mentality_vision|mentality_penalties|mentality_composure|defending_marking_awareness|defending_standing_tackle|defending_sliding_tackle|\n",
            "+---------+----------+---------+----+-------+---------+---+---------+---------+------------+---------+-----------+------------+------------------+--------------+--------------+--------------------+---------+-----------+------------------------+------------------+----+--------+-------+---------+---------+------+------------------+-------------------+--------------------------+-----------------------+-----------------+---------------+-----------+-----------------+------------------+------------------+---------------------+---------------------+----------------+------------------+----------------+-------------+-------------+--------------+----------------+--------------------+-----------------------+---------------------+----------------+-------------------+-------------------+---------------------------+-------------------------+------------------------+\n",
            "|        0|         0|       13|   0|      0|        0|  0|        0|        0|           0|        0|          0|           0|                 0|             0|         17844|               17844|        0|          0|                       0|              1079|1423|    1423|   1423|     1423|     1423|  1423|                 0|                  0|                         0|                      0|                0|              0|          0|                0|                 0|                 0|                    0|                    0|               0|                 0|               0|            0|            0|             0|               0|                   0|                      0|                    0|               0|                  0|                  0|                          0|                        0|                       0|\n",
            "+---------+----------+---------+----+-------+---------+---+---------+---------+------------+---------+-----------+------------+------------------+--------------+--------------+--------------------+---------+-----------+------------------------+------------------+----+--------+-------+---------+---------+------+------------------+-------------------+--------------------------+-----------------------+-----------------+---------------+-----------+-----------------+------------------+------------------+---------------------+---------------------+----------------+------------------+----------------+-------------+-------------+--------------+----------------+--------------------+-----------------------+---------------------+----------------+-------------------+-------------------+---------------------------+-------------------------+------------------------+\n",
            "\n"
          ]
        }
      ],
      "source": [
        "reg_df.select([count(when(isnan(c) | col(c).isNull(), c)).alias(c) for c in reg_df.columns]).show()"
      ]
    },
    {
      "cell_type": "code",
      "execution_count": null,
      "metadata": {
        "colab": {
          "background_save": true
        },
        "id": "72_SYKj_VXUU",
        "outputId": "f0b89bab-6097-4773-cea5-eb3e89e9cb5f"
      },
      "outputs": [
        {
          "name": "stdout",
          "output_type": "stream",
          "text": [
            "+---------+----------+---------+----+-------+---------+---+---------+---------+------------+---------+-----------+------------+------------------+--------------+--------------+--------------------+---------+-----------+------------------------+------------------+----+--------+-------+---------+---------+------+------------------+-------------------+--------------------------+-----------------------+-----------------+---------------+-----------+-----------------+------------------+------------------+---------------------+---------------------+----------------+------------------+----------------+-------------+-------------+--------------+----------------+--------------------+-----------------------+---------------------+----------------+-------------------+-------------------+---------------------------+-------------------------+------------------------+\n",
            "|sofifa_id|short_name|value_eur|wage|overall|potential|age|height_cm|weight_kg|club_team_id|club_name|league_name|league_level|club_jersey_number|nationality_id|nation_team_id|nation_jersey_number|weak_foot|skill_moves|international_reputation|release_clause_eur|pace|shooting|passing|dribbling|defending|physic|attacking_crossing|attacking_finishing|attacking_heading_accuracy|attacking_short_passing|attacking_volleys|skill_dribbling|skill_curve|skill_fk_accuracy|skill_long_passing|skill_ball_control|movement_acceleration|movement_sprint_speed|movement_agility|movement_reactions|power_shot_power|power_jumping|power_stamina|power_strength|power_long_shots|mentality_aggression|mentality_interceptions|mentality_positioning|mentality_vision|mentality_penalties|mentality_composure|defending_marking_awareness|defending_standing_tackle|defending_sliding_tackle|\n",
            "+---------+----------+---------+----+-------+---------+---+---------+---------+------------+---------+-----------+------------+------------------+--------------+--------------+--------------------+---------+-----------+------------------------+------------------+----+--------+-------+---------+---------+------+------------------+-------------------+--------------------------+-----------------------+-----------------+---------------+-----------+-----------------+------------------+------------------+---------------------+---------------------+----------------+------------------+----------------+-------------+-------------+--------------+----------------+--------------------+-----------------------+---------------------+----------------+-------------------+-------------------+---------------------------+-------------------------+------------------------+\n",
            "|        0|         0|        0|   0|      0|        0|  0|        0|        0|           0|        0|          0|           0|                 0|             0|         16794|               16794|        0|          0|                       0|                 0|1378|    1378|   1378|     1378|     1378|  1378|                 0|                  0|                         0|                      0|                0|              0|          0|                0|                 0|                 0|                    0|                    0|               0|                 0|               0|            0|            0|             0|               0|                   0|                      0|                    0|               0|                  0|                  0|                          0|                        0|                       0|\n",
            "+---------+----------+---------+----+-------+---------+---+---------+---------+------------+---------+-----------+------------+------------------+--------------+--------------+--------------------+---------+-----------+------------------------+------------------+----+--------+-------+---------+---------+------+------------------+-------------------+--------------------------+-----------------------+-----------------+---------------+-----------+-----------------+------------------+------------------+---------------------+---------------------+----------------+------------------+----------------+-------------+-------------+--------------+----------------+--------------------+-----------------------+---------------------+----------------+-------------------+-------------------+---------------------------+-------------------------+------------------------+\n",
            "\n"
          ]
        }
      ],
      "source": [
        "reg_df = reg_df.na.drop(subset=['value_eur','release_clause_eur'])\n",
        "\n",
        "reg_df.select([count(when(isnan(c) | col(c).isNull(), c)).alias(c) for c in reg_df.columns]).show()"
      ]
    },
    {
      "cell_type": "code",
      "execution_count": null,
      "metadata": {
        "colab": {
          "background_save": true
        },
        "id": "1ew_I_5OYcrq"
      },
      "outputs": [],
      "source": [
        "# fill null values with the column mean\n",
        "means = reg_df.agg({col: 'mean' for col in ['pace','shooting','passing','dribbling','defending', 'physic']}).collect()[0]\n",
        "\n",
        "means1 = [means[i] for i in range(6)]\n",
        "subset=['pace','shooting','passing','dribbling','defending', 'physic']\n",
        "\n",
        "for i in range(len(subset)):\n",
        "  reg_df = reg_df.na.fill(means1[i], subset[i])\n"
      ]
    },
    {
      "cell_type": "code",
      "execution_count": null,
      "metadata": {
        "colab": {
          "background_save": true
        },
        "id": "3FHl29WLXPPy",
        "outputId": "56ca5696-5404-4ba3-a021-99cf0677d1ec"
      },
      "outputs": [
        {
          "name": "stdout",
          "output_type": "stream",
          "text": [
            "+-------+------------------+----------+------------------+------------------+-----------------+-----------------+------------------+------------------+-----------------+-----------------+--------------------+--------------------+------------------+------------------+------------------+------------------+--------------------+------------------+------------------+------------------------+--------------------+------------------+-----------------+------------------+-----------------+------------------+-----------------+------------------+-------------------+--------------------------+-----------------------+------------------+-----------------+-----------------+------------------+------------------+------------------+---------------------+---------------------+-----------------+------------------+------------------+------------------+------------------+------------------+-----------------+--------------------+-----------------------+---------------------+-----------------+-------------------+-------------------+---------------------------+-------------------------+------------------------+\n",
            "|summary|         sofifa_id|short_name|         value_eur|              wage|          overall|        potential|               age|         height_cm|        weight_kg|     club_team_id|           club_name|         league_name|      league_level|club_jersey_number|    nationality_id|    nation_team_id|nation_jersey_number|         weak_foot|       skill_moves|international_reputation|  release_clause_eur|              pace|         shooting|           passing|        dribbling|         defending|           physic|attacking_crossing|attacking_finishing|attacking_heading_accuracy|attacking_short_passing| attacking_volleys|  skill_dribbling|      skill_curve| skill_fk_accuracy|skill_long_passing|skill_ball_control|movement_acceleration|movement_sprint_speed| movement_agility|movement_reactions|  power_shot_power|     power_jumping|     power_stamina|    power_strength| power_long_shots|mentality_aggression|mentality_interceptions|mentality_positioning| mentality_vision|mentality_penalties|mentality_composure|defending_marking_awareness|defending_standing_tackle|defending_sliding_tackle|\n",
            "+-------+------------------+----------+------------------+------------------+-----------------+-----------------+------------------+------------------+-----------------+-----------------+--------------------+--------------------+------------------+------------------+------------------+------------------+--------------------+------------------+------------------+------------------------+--------------------+------------------+-----------------+------------------+-----------------+------------------+-----------------+------------------+-------------------+--------------------------+-----------------------+------------------+-----------------+-----------------+------------------+------------------+------------------+---------------------+---------------------+-----------------+------------------+------------------+------------------+------------------+------------------+-----------------+--------------------+-----------------------+---------------------+-----------------+-------------------+-------------------+---------------------------+-------------------------+------------------------+\n",
            "|  count|             17398|     17398|             17398|             17398|            17398|            17398|             17398|             17398|            17398|            17398|               17398|               17398|             17398|             17398|             17398|               604|                 604|             17398|             17398|                   17398|               17398|             17398|            17398|             17398|            17398|             17398|            17398|             17398|              17398|                     17398|                  17398|             17398|            17398|            17398|             17398|             17398|             17398|                17398|                17398|            17398|             17398|             17398|             17398|             17398|             17398|            17398|               17398|                  17398|                17398|            17398|              17398|              17398|                      17398|                    17398|                   17398|\n",
            "|   mean|231876.75778825153|      null|2795466.6628348087| 8729.241866881252|65.54644211978389|70.82526727210025|25.188412461202436|180.97235314403954|74.64306242096792|50846.05546614553|                null|                null|1.3421657661800206|21.110644901712842| 59.16708817105415|13703.283112582782|  12.649006622516556|2.9572939418323947|2.3925738590642602|      1.0921945051155306|  5286583.3429129785| 66.80647200827681|52.95988044602828| 58.13610759857455|62.01011610529946| 51.81348430854121|64.79336705368434|50.831589837912404|  46.90998965398322|         53.03919990803541|      59.86113346361651| 43.36877802046212|56.96993907345672|48.32199103345212| 43.20272445108633|  53.9760317277848|59.675422462351996|    65.38194045292562|     65.4362570410392|64.17938843545235| 61.24318887228417|57.925048856190365| 65.03575123577423| 64.26370847223819| 65.10627658351535|47.71025405218991|  56.582653178526265|     47.862397976778944|    51.58500977123807| 54.2678468789516| 48.721117369812625|  58.22743993562479|          47.84779859753995|        49.44660305782274|       47.23640648350385|\n",
            "| stddev| 26695.27399532412|      null| 7574971.510368285|19399.774712041955|6.904050837079987| 6.06872186671505| 4.721479781344068|  6.77194720494052|6.930905009518954|54445.71519452426|                null|                null|0.7352264827332106|17.660989773625708|50.632555199894746| 34391.06974728324|   6.785457745982211|0.6682714517879589|0.7352512404188082|     0.36613248754543326|1.4599765093817662E7|11.368936174266493|13.75031286971812|10.120977985866254| 9.40279812047587|15.450889842640997|9.412647240051333|17.087446660487778|  18.96217610845824|         16.06269558444558|     13.568470061281143|17.010980295315687| 17.3960180779844|17.46478108290724|16.666745974739708|  14.4453647875743|15.371209340907269|   14.591364414778743|   14.392147864791164|14.39098222946668|  9.09490895857917|13.322776178547288|12.114349891123041|15.298031942526343|12.714738231407544|18.65411778369094|   16.36271318429747|      20.19805166521435|   18.499264413614476|13.56857879829404| 15.131765652142276| 11.996514745965303|         19.645134469150072|        20.52562709689802|       20.13407188645791|\n",
            "|    min|                41|     A Lan|            9000.0|             500.0|               47|               49|                16|               155|               49|              1.0|1. FC Heidenheim ...|Argentina Primera...|                 1|                 1|                 1|            1318.0|                   1|                 1|                 1|                       1|               16000|                28|               18|                25|               27|                14|               29|                 6|                  3|                         5|                      8|                 3|                4|                6|                 4|                 9|                 8|                   14|                   15|               18|                25|                20|                22|                12|                19|                4|                  10|                      4|                    3|               10|                  7|                 12|                          4|                        5|                       5|\n",
            "|    max|            264640|Ș. Vlădoiu|            1.94E8|          350000.0|               93|               95|                41|               206|              110|         115820.0|       Śląsk Wrocław|Venezuelan Primer...|                 5|                99|               219|          111473.0|                  28|                 5|                 5|                       5|           373500000|                97|               94|                93|               95|                91|               90|                94|                 95|                        93|                     94|                90|               96|               94|                94|                93|                96|                   97|                   97|               96|                94|                95|                95|                97|                97|               94|                  95|                     91|                   96|               95|                 93|                 96|                         93|                       93|                      92|\n",
            "+-------+------------------+----------+------------------+------------------+-----------------+-----------------+------------------+------------------+-----------------+-----------------+--------------------+--------------------+------------------+------------------+------------------+------------------+--------------------+------------------+------------------+------------------------+--------------------+------------------+-----------------+------------------+-----------------+------------------+-----------------+------------------+-------------------+--------------------------+-----------------------+------------------+-----------------+-----------------+------------------+------------------+------------------+---------------------+---------------------+-----------------+------------------+------------------+------------------+------------------+------------------+-----------------+--------------------+-----------------------+---------------------+-----------------+-------------------+-------------------+---------------------------+-------------------------+------------------------+\n",
            "\n"
          ]
        }
      ],
      "source": [
        "reg_df.describe().show()"
      ]
    },
    {
      "cell_type": "markdown",
      "metadata": {
        "id": "Cu9pTiPLkOe6"
      },
      "source": [
        "### Set up for regression"
      ]
    },
    {
      "cell_type": "code",
      "execution_count": null,
      "metadata": {
        "colab": {
          "background_save": true
        },
        "id": "1-6q4GE1PFV8"
      },
      "outputs": [],
      "source": [
        "# not using nation team related features:'nation_team_id','nation_jersey_number'\n",
        "input =     ['overall',\n",
        "             'potential',\n",
        "             'wage',\n",
        "             'age',\n",
        "             'height_cm',\n",
        "             'weight_kg',\n",
        "             'club_team_id',\n",
        "             'league_level',\n",
        "             'club_jersey_number',\n",
        "             'nationality_id',\n",
        "             'weak_foot',\n",
        "             'skill_moves',\n",
        "             'international_reputation',\n",
        "             'release_clause_eur',\n",
        "             'pace',\n",
        "             'shooting',\n",
        "             'passing',\n",
        "             'dribbling',\n",
        "             'defending',\n",
        "             'physic',\n",
        "             'attacking_crossing',\n",
        "             'attacking_finishing',\n",
        "             'attacking_heading_accuracy',\n",
        "             'attacking_short_passing',\n",
        "             'attacking_volleys',\n",
        "             'skill_dribbling',\n",
        "             'skill_curve',\n",
        "             'skill_fk_accuracy',\n",
        "             'skill_long_passing',\n",
        "             'skill_ball_control',\n",
        "             'movement_acceleration',\n",
        "             'movement_sprint_speed',\n",
        "             'movement_agility',\n",
        "             'movement_reactions',\n",
        "             'power_shot_power',\n",
        "             'power_jumping',\n",
        "             'power_stamina',\n",
        "             'power_strength',\n",
        "             'power_long_shots',\n",
        "             'mentality_aggression',\n",
        "             'mentality_interceptions',\n",
        "             'mentality_positioning',\n",
        "             'mentality_vision',\n",
        "             'mentality_penalties',\n",
        "             'mentality_composure',\n",
        "             'defending_marking_awareness',\n",
        "             'defending_standing_tackle',\n",
        "             'defending_sliding_tackle']\n",
        "\n",
        "\n",
        "assembler = VectorAssembler(inputCols = input, outputCol = 'features')"
      ]
    },
    {
      "cell_type": "code",
      "execution_count": null,
      "metadata": {
        "colab": {
          "background_save": true
        },
        "id": "1nfQwxAEScgQ"
      },
      "outputs": [],
      "source": [
        "assembler_output = assembler.transform(reg_df)"
      ]
    },
    {
      "cell_type": "code",
      "execution_count": null,
      "metadata": {
        "colab": {
          "background_save": true
        },
        "id": "Qca8O9gdS7VM",
        "outputId": "6d856d79-2dd5-4522-80c0-32b91ccd9318"
      },
      "outputs": [
        {
          "name": "stdout",
          "output_type": "stream",
          "text": [
            "+-----------------------------------------------------------------------------------------------------------------------------------------------------------------------------------------------------------------------------------------------------+\n",
            "|features                                                                                                                                                                                                                                             |\n",
            "+-----------------------------------------------------------------------------------------------------------------------------------------------------------------------------------------------------------------------------------------------------+\n",
            "|[93.0,93.0,320000.0,34.0,170.0,72.0,73.0,1.0,30.0,52.0,4.0,4.0,5.0,1.443E8,85.0,92.0,91.0,95.0,34.0,65.0,85.0,95.0,70.0,91.0,88.0,96.0,93.0,94.0,91.0,96.0,91.0,80.0,91.0,94.0,86.0,68.0,72.0,69.0,94.0,44.0,40.0,93.0,95.0,75.0,96.0,20.0,35.0,24.0]|\n",
            "|[92.0,92.0,270000.0,32.0,185.0,81.0,21.0,1.0,9.0,37.0,4.0,4.0,5.0,1.972E8,78.0,92.0,79.0,86.0,44.0,82.0,71.0,95.0,90.0,85.0,89.0,85.0,79.0,85.0,70.0,88.0,77.0,79.0,77.0,93.0,90.0,85.0,76.0,86.0,87.0,81.0,49.0,95.0,81.0,90.0,88.0,35.0,42.0,19.0] |\n",
            "|[91.0,91.0,270000.0,36.0,187.0,83.0,11.0,1.0,7.0,38.0,4.0,5.0,5.0,8.33E7,87.0,94.0,80.0,88.0,34.0,75.0,87.0,95.0,90.0,80.0,86.0,88.0,81.0,84.0,77.0,88.0,85.0,88.0,86.0,94.0,94.0,95.0,77.0,77.0,93.0,63.0,29.0,95.0,76.0,88.0,95.0,24.0,32.0,24.0]  |\n",
            "|[91.0,91.0,270000.0,29.0,175.0,68.0,73.0,1.0,10.0,54.0,5.0,5.0,5.0,2.387E8,91.0,83.0,86.0,94.0,37.0,63.0,85.0,83.0,63.0,86.0,86.0,95.0,88.0,87.0,81.0,95.0,93.0,89.0,96.0,89.0,80.0,64.0,81.0,53.0,81.0,63.0,37.0,86.0,90.0,93.0,93.0,35.0,32.0,29.0]|\n",
            "|[91.0,91.0,350000.0,30.0,181.0,70.0,10.0,1.0,17.0,7.0,5.0,4.0,4.0,2.322E8,76.0,86.0,93.0,88.0,64.0,78.0,94.0,82.0,55.0,94.0,82.0,88.0,85.0,83.0,93.0,91.0,76.0,76.0,79.0,91.0,91.0,63.0,89.0,74.0,91.0,76.0,66.0,88.0,94.0,83.0,89.0,68.0,65.0,53.0] |\n",
            "|[91.0,95.0,230000.0,22.0,182.0,73.0,73.0,1.0,7.0,18.0,4.0,5.0,4.0,3.735E8,97.0,88.0,80.0,92.0,36.0,77.0,78.0,93.0,72.0,85.0,83.0,93.0,80.0,69.0,71.0,91.0,97.0,97.0,92.0,93.0,86.0,78.0,88.0,77.0,82.0,62.0,38.0,92.0,82.0,79.0,88.0,26.0,34.0,32.0] |\n",
            "|[90.0,90.0,240000.0,27.0,188.0,89.0,18.0,1.0,10.0,14.0,5.0,3.0,4.0,2.461E8,70.0,91.0,83.0,83.0,47.0,83.0,80.0,94.0,86.0,85.0,88.0,83.0,83.0,65.0,86.0,85.0,65.0,74.0,71.0,92.0,91.0,79.0,83.0,85.0,86.0,80.0,44.0,94.0,87.0,91.0,91.0,50.0,36.0,38.0]|\n",
            "|[90.0,90.0,230000.0,30.0,168.0,70.0,5.0,1.0,7.0,18.0,3.0,2.0,4.0,1.85E8,78.0,66.0,75.0,82.0,87.0,83.0,68.0,65.0,54.0,82.0,56.0,79.0,49.0,49.0,79.0,81.0,82.0,75.0,82.0,93.0,71.0,77.0,97.0,72.0,65.0,93.0,91.0,72.0,78.0,54.0,84.0,90.0,93.0,86.0]   |\n",
            "|[89.0,89.0,350000.0,33.0,185.0,81.0,243.0,1.0,9.0,18.0,4.0,4.0,4.0,1.353E8,76.0,86.0,81.0,87.0,39.0,77.0,75.0,90.0,89.0,86.0,86.0,87.0,81.0,73.0,73.0,90.0,77.0,75.0,79.0,91.0,85.0,79.0,78.0,82.0,79.0,63.0,39.0,90.0,87.0,84.0,90.0,43.0,24.0,18.0]|\n",
            "|[89.0,89.0,220000.0,28.0,183.0,78.0,18.0,1.0,7.0,167.0,5.0,4.0,4.0,1.976E8,88.0,87.0,82.0,86.0,43.0,69.0,83.0,88.0,68.0,84.0,78.0,87.0,85.0,74.0,74.0,84.0,85.0,90.0,86.0,91.0,88.0,60.0,88.0,64.0,89.0,62.0,39.0,91.0,83.0,73.0,89.0,50.0,34.0,33.0]|\n",
            "+-----------------------------------------------------------------------------------------------------------------------------------------------------------------------------------------------------------------------------------------------------+\n",
            "only showing top 10 rows\n",
            "\n"
          ]
        }
      ],
      "source": [
        "assembler_output.select('features').show(10, False)"
      ]
    },
    {
      "cell_type": "code",
      "execution_count": null,
      "metadata": {
        "colab": {
          "background_save": true
        },
        "id": "U-4GoXURjkOy"
      },
      "outputs": [],
      "source": [
        "final_data = assembler_output.select('features', 'value_eur', 'sofifa_id')"
      ]
    },
    {
      "cell_type": "code",
      "execution_count": null,
      "metadata": {
        "colab": {
          "background_save": true
        },
        "id": "O57N4HFEj2JY",
        "outputId": "aff8f8e8-9e52-40c2-c052-cdccb65093f9"
      },
      "outputs": [
        {
          "name": "stdout",
          "output_type": "stream",
          "text": [
            "+--------------------+---------+---------+\n",
            "|            features|value_eur|sofifa_id|\n",
            "+--------------------+---------+---------+\n",
            "|[93.0,93.0,320000...|    7.8E7|   158023|\n",
            "|[92.0,92.0,270000...|  1.195E8|   188545|\n",
            "|[91.0,91.0,270000...|    4.5E7|    20801|\n",
            "|[91.0,91.0,270000...|   1.29E8|   190871|\n",
            "|[91.0,91.0,350000...|  1.255E8|   192985|\n",
            "|[91.0,95.0,230000...|   1.94E8|   231747|\n",
            "|[90.0,90.0,240000...|  1.295E8|   202126|\n",
            "|[90.0,90.0,230000...|    1.0E8|   215914|\n",
            "|[89.0,89.0,350000...|    6.6E7|   165153|\n",
            "|[89.0,89.0,220000...|   1.04E8|   200104|\n",
            "|[89.0,89.0,310000...|    8.8E7|   200145|\n",
            "|[89.0,89.0,230000...|    8.6E7|   203376|\n",
            "|[89.0,89.0,270000...|   1.01E8|   208722|\n",
            "|[89.0,89.0,270000...|   1.01E8|   209331|\n",
            "|[89.0,90.0,160000...|   1.08E8|   212622|\n",
            "|[88.0,88.0,115000...|    2.4E7|   155862|\n",
            "|[88.0,88.0,135000...|   4.45E7|   176580|\n",
            "|[88.0,88.0,310000...|    7.5E7|   182521|\n",
            "|[88.0,88.0,260000...|   9.35E7|   192505|\n",
            "|[88.0,88.0,130000...|   1.55E7|   193041|\n",
            "+--------------------+---------+---------+\n",
            "only showing top 20 rows\n",
            "\n"
          ]
        }
      ],
      "source": [
        "final_data.show()"
      ]
    },
    {
      "cell_type": "code",
      "execution_count": null,
      "metadata": {
        "colab": {
          "background_save": true
        },
        "id": "1NebY4prkUUv"
      },
      "outputs": [],
      "source": [
        "train_data, test_data = final_data.randomSplit([0.8,0.2])"
      ]
    },
    {
      "cell_type": "code",
      "execution_count": null,
      "metadata": {
        "colab": {
          "background_save": true
        },
        "id": "Sr6z9ZDWkcrx",
        "outputId": "876a4700-b5ec-4dd7-df8f-72951294ea19"
      },
      "outputs": [
        {
          "name": "stdout",
          "output_type": "stream",
          "text": [
            "+-------+------------------+------------------+\n",
            "|summary|         value_eur|         sofifa_id|\n",
            "+-------+------------------+------------------+\n",
            "|  count|             13920|             13920|\n",
            "|   mean|2776569.6120689656|231875.82844827586|\n",
            "| stddev|  7493402.38792807|26752.029466481592|\n",
            "|    min|            9000.0|                41|\n",
            "|    max|            1.94E8|            264640|\n",
            "+-------+------------------+------------------+\n",
            "\n"
          ]
        }
      ],
      "source": [
        "train_data.describe().show()"
      ]
    },
    {
      "cell_type": "code",
      "execution_count": null,
      "metadata": {
        "colab": {
          "background_save": true
        },
        "id": "GQjbPqJHkohm",
        "outputId": "ec5e6a3f-0abb-44a1-8290-17b5a006fe34"
      },
      "outputs": [
        {
          "name": "stdout",
          "output_type": "stream",
          "text": [
            "+-------+-----------------+------------------+\n",
            "|summary|        value_eur|         sofifa_id|\n",
            "+-------+-----------------+------------------+\n",
            "|  count|             3478|              3478|\n",
            "|   mean|2871098.332374928|231880.47728579643|\n",
            "| stddev|7893661.341499245|26470.725146094086|\n",
            "|    min|          20000.0|             18122|\n",
            "|    max|          1.295E8|            264639|\n",
            "+-------+-----------------+------------------+\n",
            "\n"
          ]
        }
      ],
      "source": [
        "test_data.describe().show()"
      ]
    },
    {
      "cell_type": "markdown",
      "metadata": {
        "id": "d-9TSGZvkuHJ"
      },
      "source": [
        "### Run Regression"
      ]
    },
    {
      "cell_type": "code",
      "execution_count": null,
      "metadata": {
        "colab": {
          "background_save": true
        },
        "id": "Ocxb9t3Ikwgi"
      },
      "outputs": [],
      "source": [
        "reg = LinearRegression(labelCol='value_eur', maxIter=1000)"
      ]
    },
    {
      "cell_type": "code",
      "execution_count": null,
      "metadata": {
        "colab": {
          "background_save": true
        },
        "id": "rT7bvgqJlFiJ"
      },
      "outputs": [],
      "source": [
        "reg_model = reg.fit(train_data,)"
      ]
    },
    {
      "cell_type": "code",
      "execution_count": null,
      "metadata": {
        "colab": {
          "background_save": true
        },
        "id": "UrEJ5dTYlNJF",
        "outputId": "d38b1d7a-dad1-45c7-86e8-6ab5bfae0156"
      },
      "outputs": [
        {
          "name": "stdout",
          "output_type": "stream",
          "text": [
            "Coefficients: [23781.85540535695,-28763.061855897882,5.750538309736111,-22707.65918966361,-896.1038996170324,4359.1355187224,0.6973862945208691,-2047.6815504901747,121.34778746623648,99.64412948155304,-14605.189596139797,2617.5710387287,669912.5886823724,0.49904188254751614,4251.752789176912,-9775.33885213208,300.84798657000744,20114.46823975954,-9040.427265532782,6203.3671480088615,-1609.7649793493947,5511.954718427241,-1291.3837958510715,435.827715552623,3159.6139372530874,-8987.994688075445,-1734.5469233596782,879.4035404829356,-923.7210074588725,-6270.884012591772,-1681.5112912354869,-1328.6316493087345,723.9153053842793,-2590.6278732882192,2597.5576934036058,452.8350095255823,3049.4251733873075,-1060.2920271154994,562.271831348272,-1090.5392782717406,2128.697759991042,-770.1027218862307,924.8342276120721,-154.77296548207232,238.6796118270546,4279.90378592743,1055.9319823239773,1666.8744864378853] \n",
            "Intercept: -413662.46264140785\n"
          ]
        }
      ],
      "source": [
        "print('Coefficients: {} \\nIntercept: {}'.format(reg_model.coefficients, reg_model.intercept))"
      ]
    },
    {
      "cell_type": "markdown",
      "metadata": {
        "id": "2Yi8U7XKK9xW"
      },
      "source": [
        "## Evaluation"
      ]
    },
    {
      "cell_type": "code",
      "execution_count": null,
      "metadata": {
        "colab": {
          "background_save": true
        },
        "id": "vsNkRZh5KiDI"
      },
      "outputs": [],
      "source": [
        "test_results = reg_model.evaluate(test_data)"
      ]
    },
    {
      "cell_type": "code",
      "execution_count": null,
      "metadata": {
        "colab": {
          "background_save": true
        },
        "id": "gQORHl_ZKhcb",
        "outputId": "ad41d4c3-b5be-4862-a278-afd9f0e2d813"
      },
      "outputs": [
        {
          "name": "stdout",
          "output_type": "stream",
          "text": [
            "+-------------------+\n",
            "|          residuals|\n",
            "+-------------------+\n",
            "| -115285.9180044682|\n",
            "| -172950.7075988917|\n",
            "| -5770.095697766927|\n",
            "| 24883.829157039872|\n",
            "|-138553.51488328062|\n",
            "| -92341.14486841077|\n",
            "|-107806.45284464199|\n",
            "|-127130.59652232483|\n",
            "| -86334.45834888343|\n",
            "|-100628.05684258917|\n",
            "| 202441.25479750347|\n",
            "|  89759.09322220262|\n",
            "| 264930.81810402975|\n",
            "| 210731.78065015888|\n",
            "|-191854.68062276277|\n",
            "|-198465.29168070387|\n",
            "|-147374.73110172641|\n",
            "| -95265.85801636754|\n",
            "|-173578.79141887475|\n",
            "|-265497.50431222236|\n",
            "+-------------------+\n",
            "only showing top 20 rows\n",
            "\n"
          ]
        }
      ],
      "source": [
        "test_results.residuals.show()"
      ]
    },
    {
      "cell_type": "code",
      "execution_count": null,
      "metadata": {
        "colab": {
          "background_save": true
        },
        "id": "hkPoVUQimFdQ"
      },
      "outputs": [],
      "source": [
        "unlabeled_data = test_data.select('features','sofifa_id')"
      ]
    },
    {
      "cell_type": "code",
      "execution_count": null,
      "metadata": {
        "colab": {
          "background_save": true
        },
        "id": "i6vEHuQ9mB1e"
      },
      "outputs": [],
      "source": [
        "predictions = reg_model.transform(unlabeled_data)"
      ]
    },
    {
      "cell_type": "code",
      "execution_count": null,
      "metadata": {
        "colab": {
          "background_save": true
        },
        "id": "0BRYNF9_mKmP",
        "outputId": "2b474ed4-d686-4f5d-b150-cb45400f9b72"
      },
      "outputs": [
        {
          "name": "stdout",
          "output_type": "stream",
          "text": [
            "+--------------------+---------+-------------------+\n",
            "|            features|sofifa_id|         prediction|\n",
            "+--------------------+---------+-------------------+\n",
            "|[47.0,55.0,500.0,...|   261547|  205285.9180044682|\n",
            "|[47.0,55.0,800.0,...|   257687|  272950.7075988917|\n",
            "|[47.0,57.0,1000.0...|   255615| 105770.09569776693|\n",
            "|[47.0,57.0,2000.0...|   243790|  85116.17084296013|\n",
            "|[48.0,53.0,1000.0...|   261932| 208553.51488328062|\n",
            "|[48.0,53.0,2000.0...|   258987| 162341.14486841077|\n",
            "|[48.0,56.0,500.0,...|   259745|   207806.452844642|\n",
            "|[48.0,56.0,500.0,...|   255251| 227130.59652232483|\n",
            "|[48.0,58.0,950.0,...|   261977| 186334.45834888343|\n",
            "|[48.0,59.0,500.0,...|   259175| 200628.05684258917|\n",
            "|[48.0,60.0,500.0,...|   262034| -92441.25479750347|\n",
            "|[48.0,62.0,500.0,...|   264150| 20240.906777797383|\n",
            "|[48.0,64.0,500.0,...|   261876|-144930.81810402975|\n",
            "|[48.0,69.0,500.0,...|   260635| -70731.78065015888|\n",
            "|[49.0,51.0,2000.0...|   257494| 251854.68062276277|\n",
            "|[49.0,54.0,2000.0...|   243084|  268465.2916807039|\n",
            "|[49.0,55.0,2000.0...|   258964| 217374.73110172641|\n",
            "|[49.0,55.0,2000.0...|   255617| 165265.85801636754|\n",
            "|[49.0,56.0,500.0,...|   259764| 273578.79141887475|\n",
            "|[49.0,56.0,800.0,...|   261961| 345497.50431222236|\n",
            "+--------------------+---------+-------------------+\n",
            "only showing top 20 rows\n",
            "\n"
          ]
        }
      ],
      "source": [
        "predictions.show()"
      ]
    },
    {
      "cell_type": "code",
      "execution_count": null,
      "metadata": {
        "colab": {
          "background_save": true
        },
        "id": "rtiAI_i5mMq6",
        "outputId": "49194e5b-dd41-4b8a-8289-e1aafbff2a90"
      },
      "outputs": [
        {
          "name": "stdout",
          "output_type": "stream",
          "text": [
            "+---------+---------+\n",
            "|value_eur|sofifa_id|\n",
            "+---------+---------+\n",
            "|  90000.0|   261547|\n",
            "| 100000.0|   257687|\n",
            "| 100000.0|   255615|\n",
            "| 110000.0|   243790|\n",
            "|  70000.0|   261932|\n",
            "|  70000.0|   258987|\n",
            "| 100000.0|   259745|\n",
            "| 100000.0|   255251|\n",
            "| 100000.0|   261977|\n",
            "| 100000.0|   259175|\n",
            "| 110000.0|   262034|\n",
            "| 110000.0|   264150|\n",
            "| 120000.0|   261876|\n",
            "| 140000.0|   260635|\n",
            "|  60000.0|   257494|\n",
            "|  70000.0|   243084|\n",
            "|  70000.0|   258964|\n",
            "|  70000.0|   255617|\n",
            "| 100000.0|   259764|\n",
            "|  80000.0|   261961|\n",
            "+---------+---------+\n",
            "only showing top 20 rows\n",
            "\n"
          ]
        }
      ],
      "source": [
        "test_data.select('value_eur','sofifa_id').show()"
      ]
    },
    {
      "cell_type": "code",
      "execution_count": null,
      "metadata": {
        "colab": {
          "background_save": true
        },
        "id": "YHQlL4uomTCS",
        "outputId": "b72ef90b-614f-4c29-b9d0-ff35cfbebb8a"
      },
      "outputs": [
        {
          "name": "stdout",
          "output_type": "stream",
          "text": [
            "RMSE: 689747.106722455\n",
            "MSE: 475751071231.99774\n"
          ]
        }
      ],
      "source": [
        "print(\"RMSE: {}\".format(test_results.rootMeanSquaredError))\n",
        "print(\"MSE: {}\".format(test_results.meanSquaredError))"
      ]
    },
    {
      "cell_type": "code",
      "execution_count": null,
      "metadata": {
        "colab": {
          "background_save": true
        },
        "id": "SB5Z5E6ugiWe",
        "outputId": "1dc4e772-6e8a-49b1-a62e-3364d40d3ae5"
      },
      "outputs": [
        {
          "name": "stdout",
          "output_type": "stream",
          "text": [
            "+--------------------+---------+---------+\n",
            "|            features|value_eur|sofifa_id|\n",
            "+--------------------+---------+---------+\n",
            "|[47.0,55.0,500.0,...|  90000.0|   261547|\n",
            "|[47.0,55.0,800.0,...| 100000.0|   257687|\n",
            "|[47.0,57.0,1000.0...| 100000.0|   255615|\n",
            "|[47.0,57.0,2000.0...| 110000.0|   243790|\n",
            "|[48.0,53.0,1000.0...|  70000.0|   261932|\n",
            "|[48.0,53.0,2000.0...|  70000.0|   258987|\n",
            "|[48.0,56.0,500.0,...| 100000.0|   259745|\n",
            "|[48.0,56.0,500.0,...| 100000.0|   255251|\n",
            "|[48.0,58.0,950.0,...| 100000.0|   261977|\n",
            "|[48.0,59.0,500.0,...| 100000.0|   259175|\n",
            "|[48.0,60.0,500.0,...| 110000.0|   262034|\n",
            "|[48.0,62.0,500.0,...| 110000.0|   264150|\n",
            "|[48.0,64.0,500.0,...| 120000.0|   261876|\n",
            "|[48.0,69.0,500.0,...| 140000.0|   260635|\n",
            "|[49.0,51.0,2000.0...|  60000.0|   257494|\n",
            "|[49.0,54.0,2000.0...|  70000.0|   243084|\n",
            "|[49.0,55.0,2000.0...|  70000.0|   258964|\n",
            "|[49.0,55.0,2000.0...|  70000.0|   255617|\n",
            "|[49.0,56.0,500.0,...| 100000.0|   259764|\n",
            "|[49.0,56.0,800.0,...|  80000.0|   261961|\n",
            "+--------------------+---------+---------+\n",
            "only showing top 20 rows\n",
            "\n"
          ]
        }
      ],
      "source": [
        "test_data.show()"
      ]
    },
    {
      "cell_type": "markdown",
      "metadata": {
        "id": "lnJNiHHwjNJp"
      },
      "source": [
        "## Combine With Original Data"
      ]
    },
    {
      "cell_type": "code",
      "execution_count": null,
      "metadata": {
        "colab": {
          "background_save": true
        },
        "id": "igIthgsKjSYi",
        "outputId": "df1c1779-57b5-4f3f-8ced-c5e09b299588"
      },
      "outputs": [
        {
          "name": "stdout",
          "output_type": "stream",
          "text": [
            "+---------+--------------------+--------------+---------+--------+-------+---------+---+---------+---------+------------+-------------------+--------------------+------------+------------------+--------------+--------------+--------------------+---------+-----------+------------------------+------------------+----+--------+-------+---------+---------+------+------------------+-------------------+--------------------------+-----------------------+-----------------+---------------+-----------+-----------------+------------------+------------------+---------------------+---------------------+----------------+------------------+----------------+-------------+-------------+--------------+----------------+--------------------+-----------------------+---------------------+----------------+-------------------+-------------------+---------------------------+-------------------------+------------------------+\n",
            "|sofifa_id|          prediction|    short_name|value_eur|    wage|overall|potential|age|height_cm|weight_kg|club_team_id|          club_name|         league_name|league_level|club_jersey_number|nationality_id|nation_team_id|nation_jersey_number|weak_foot|skill_moves|international_reputation|release_clause_eur|pace|shooting|passing|dribbling|defending|physic|attacking_crossing|attacking_finishing|attacking_heading_accuracy|attacking_short_passing|attacking_volleys|skill_dribbling|skill_curve|skill_fk_accuracy|skill_long_passing|skill_ball_control|movement_acceleration|movement_sprint_speed|movement_agility|movement_reactions|power_shot_power|power_jumping|power_stamina|power_strength|power_long_shots|mentality_aggression|mentality_interceptions|mentality_positioning|mentality_vision|mentality_penalties|mentality_composure|defending_marking_awareness|defending_standing_tackle|defending_sliding_tackle|\n",
            "+---------+--------------------+--------------+---------+--------+-------+---------+---+---------+---------+------------+-------------------+--------------------+------------+------------------+--------------+--------------+--------------------+---------+-----------+------------------------+------------------+----+--------+-------+---------+---------+------+------------------+-------------------+--------------------------+-----------------------+-----------------+---------------+-----------+-----------------+------------------+------------------+---------------------+---------------------+----------------+------------------+----------------+-------------+-------------+--------------+----------------+--------------------+-----------------------+---------------------+----------------+-------------------+-------------------+---------------------------+-------------------------+------------------------+\n",
            "|   188545| 1.026149701989046E8|R. Lewandowski|  1.195E8|270000.0|     92|       92| 32|      185|       81|        21.0|  FC Bayern München|German 1. Bundesliga|           1|                 9|            37|        1353.0|                   9|        4|          4|                       5|         197200000|  78|      92|     79|       86|       44|    82|                71|                 95|                        90|                     85|               89|             85|         79|               85|                70|                88|                   77|                   79|              77|                93|              90|           85|           76|            86|              87|                  81|                     49|                   95|              81|                 90|                 88|                         35|                       42|                      19|\n",
            "|   192985|1.1993118820910113E8|  K. De Bruyne|  1.255E8|350000.0|     91|       91| 30|      181|       70|        10.0|    Manchester City|English Premier L...|           1|                17|             7|        1325.0|                   7|        5|          4|                       4|         232200000|  76|      86|     93|       88|       64|    78|                94|                 82|                        55|                     94|               82|             88|         85|               83|                93|                91|                   76|                   76|              79|                91|              91|           63|           89|            74|              91|                  76|                     66|                   88|              94|                 83|                 89|                         68|                       65|                      53|\n",
            "|   202126|1.2632082597484306E8|       H. Kane|  1.295E8|240000.0|     90|       90| 27|      188|       89|        18.0|  Tottenham Hotspur|English Premier L...|           1|                10|            14|        1318.0|                   9|        5|          3|                       4|         246100000|  70|      91|     83|       83|       47|    83|                80|                 94|                        86|                     85|               88|             83|         83|               65|                86|                85|                   65|                   74|              71|                92|              91|           79|           83|            85|              86|                  80|                     44|                   94|              87|                 91|                 91|                         50|                       36|                      38|\n",
            "|   200145| 9.328958241605164E7|      Casemiro|    8.8E7|310000.0|     89|       89| 29|      185|       84|       243.0|     Real Madrid CF|Spain Primera Div...|           1|                14|            54|          null|                null|        3|          2|                       3|         180400000|  65|      73|     76|       73|       86|    90|                58|                 64|                        79|                     84|               62|             69|         62|               74|                84|                79|                   60|                   69|              61|                87|              88|           87|           89|            90|              81|                  91|                     87|                   75|              80|                 66|                 84|                         85|                       88|                      87|\n",
            "|   192505| 8.984142139838727E7|     R. Lukaku|   9.35E7|260000.0|     88|       88| 28|      191|       94|         5.0|            Chelsea|English Premier L...|           1|                 9|             7|        1325.0|                   9|        4|          3|                       4|         173000000|  84|      87|     74|       78|       39|    83|                73|                 92|                        89|                     77|               78|             83|         78|               66|                70|                77|                   81|                   87|              60|                91|              89|           76|           71|            95|              74|                  71|                     27|                   89|              75|                 88|                 86|                         30|                       41|                      30|\n",
            "|   202652|1.0703132146191141E8|   R. Sterling|  1.075E8|290000.0|     88|       89| 26|      170|       69|        10.0|    Manchester City|English Premier L...|           1|                 7|            14|        1318.0|                  10|        3|          4|                       4|         206900000|  91|      82|     79|       87|       45|    66|                79|                 85|                        46|                     83|               67|             87|         79|               72|                69|                86|                   95|                   88|              94|                90|              78|           57|           79|            64|              83|                  59|                     30|                   91|              82|                 67|                 78|                         47|                       53|                      47|\n",
            "|   189596|  5.70881105726037E7|     T. Müller|    6.6E7|140000.0|     87|       87| 31|      185|       76|        21.0|  FC Bayern München|German 1. Bundesliga|           1|                25|            21|          null|                null|        4|          3|                       4|         108900000|  67|      84|     83|       80|       56|    71|                85|                 88|                        81|                     85|               84|             77|         81|               59|                79|                84|                   66|                   67|              73|                94|              78|           77|           86|            66|              82|                  62|                     58|                   96|              85|                 70|                 84|                         47|                       57|                      46|\n",
            "|   195864|  7.67951153871027E7|      P. Pogba|   7.95E7|220000.0|     87|       87| 28|      191|       84|        11.0|  Manchester United|English Premier L...|           1|                 6|            18|        1335.0|                   6|        4|          5|                       4|         147100000|  71|      81|     86|       86|       65|    83|                77|                 75|                        74|                     88|               84|             88|         85|               82|                92|                90|                   63|                   77|              73|                83|              90|           82|           77|            89|              84|                  78|                     65|                   80|              89|                 81|                 88|                         59|                       67|                      63|\n",
            "|   199556| 7.564547104502074E7|   M. Verratti|   7.95E7|155000.0|     87|       87| 28|      165|       60|        73.0|Paris Saint-Germain|      French Ligue 1|           1|                 6|            27|        1343.0|                   6|        4|          4|                       3|         147100000|  64|      61|     87|       91|       79|    67|                82|                 60|                        57|                     90|               64|             91|         85|               64|                89|                92|                   68|                   60|              91|                87|              60|           67|           76|            54|              58|                  89|                     85|                   78|              89|                 64|                 94|                         78|                       82|                      84|\n",
            "|   188350|  3.90291646380707E7|       M. Reus|    4.3E7| 95000.0|     85|       85| 32|      180|       71|        22.0|  Borussia Dortmund|German 1. Bundesliga|           1|                11|            21|          null|                null|        4|          4|                       4|          73100000|  73|      84|     84|       85|       47|    63|                85|                 84|                        44|                     85|               85|             85|         88|               85|                79|                86|                   76|                   71|              83|                86|              86|           68|           67|            66|              83|                  51|                     49|                   85|              86|                 76|                 85|                         52|                       38|                      54|\n",
            "|   188567| 4.346510938303035E7| P. Aubameyang|   4.35E7|145000.0|     85|       85| 32|      187|       80|         1.0|            Arsenal|English Premier L...|           1|                14|           115|          null|                null|        4|          4|                       3|          82700000|  89|      85|     75|       80|       35|    69|                76|                 89|                        73|                     77|               83|             79|         81|               76|                64|                81|                   87|                   91|              77|                86|              82|           75|           79|            74|              78|                  43|                     48|                   90|              77|                 83|                 87|                         20|                       29|                      36|\n",
            "|   193747| 5.562290479605548E7|          Koke|   5.25E7| 90000.0|     85|       85| 29|      176|       75|       240.0| Atlético de Madrid|Spain Primera Div...|           1|                 6|            45|        1362.0|                   8|        4|          3|                       3|         107600000|  70|      75|     85|       81|       79|    80|                85|                 72|                        61|                     86|               56|             80|         85|               76|                84|                83|                   72|                   69|              73|                88|              83|           59|           93|            75|              80|                  79|                     83|                   83|              86|                 67|                 86|                         82|                       81|                      70|\n",
            "|   205498| 5.015478498302618E7|      Jorginho|   5.25E7|170000.0|     85|       85| 29|      180|       68|         5.0|            Chelsea|English Premier L...|           1|                 5|            27|        1343.0|                   8|        3|          3|                       2|          97100000|  55|      67|     86|       81|       73|    73|                75|                 64|                        56|                     92|               71|             79|         75|               76|                89|                87|                   61|                   50|              77|                82|              71|           58|           87|            66|              62|                  79|                     81|                   69|              88|                 91|                 81|                         67|                       81|                      71|\n",
            "|   226790| 6.637852868435597E7|      W. Ndidi|   6.65E7|120000.0|     85|       88| 24|      183|       74|        95.0|     Leicester City|English Premier L...|           1|                25|           133|          null|                null|        4|          3|                       1|         131300000|  67|      62|     69|       74|       87|    83|                53|                 50|                        72|                     78|               68|             72|         60|               60|                75|                77|                   65|                   68|              69|                88|              80|           90|           90|            78|              70|                  87|                     90|                   67|              67|                 57|                 80|                         87|                       90|                      85|\n",
            "|   231677| 7.678147925095268E7|   M. Rashford|   7.75E7|150000.0|     85|       89| 23|      186|       70|        11.0|  Manchester United|English Premier L...|           1|                10|            14|        1318.0|                  11|        3|          5|                       3|         149200000|  90|      84|     79|       84|       43|    77|                80|                 83|                        68|                     80|               73|             86|         83|               76|                71|                84|                   86|                   93|              84|                84|              92|           74|           86|            75|              81|                  73|                     42|                   83|              81|                 84|                 80|                         45|                       38|                      33|\n",
            "|   146536|1.4313041427312942E7|   Jesús Navas|    1.3E7| 30000.0|     84|       84| 35|      172|       60|       481.0|         Sevilla FC|Spain Primera Div...|           1|                16|            45|          null|                null|        2|          4|                       2|          27300000|  87|      69|     81|       83|       79|    58|                85|                 65|                        73|                     83|               75|             84|         82|               46|                79|                83|                   90|                   84|              82|                84|              74|           63|           82|            39|              70|                  75|                     80|                   81|              83|                 56|                 82|                         82|                       77|                      79|\n",
            "|   152729|1.6684129421316693E7|         Piqué|   1.35E7|175000.0|     84|       84| 34|      194|       85|       241.0|       FC Barcelona|Spain Primera Div...|           1|                 3|            45|          null|                null|        3|          2|                       4|          27700000|  58|      61|     71|       68|       85|    78|                57|                 65|                        84|                     80|               57|             63|         58|               43|                80|                80|                   50|                   64|              57|                85|              62|           74|           63|            86|              51|                  79|                     85|                   64|              72|                 69|                 87|                         86|                       85|                      83|\n",
            "|   181291| 3.952539373249156E7|  G. Wijnaldum|   4.05E7|115000.0|     84|       84| 30|      175|       74|        73.0|Paris Saint-Germain|      French Ligue 1|           1|                18|            34|      105035.0|                   8|        4|          4|                       3|          74900000|  77|      75|     80|       86|       79|    79|                72|                 75|                        78|                     87|               73|             85|         78|               73|                81|                88|                   78|                   76|              84|                86|              78|           81|           93|            74|              73|                  75|                     80|                   79|              79|                 74|                 86|                         79|                       80|                      70|\n",
            "|   200647|2.4667358771886747E7|     J. Iličić|    2.7E7| 84000.0|     84|       84| 33|      190|       79|        39.0|           Atalanta|     Italian Serie A|           1|                72|            44|          null|                null|        4|          5|                       3|          45900000|  75|      86|     84|       86|       40|    67|                82|                 85|                        58|                     86|               83|             88|         85|               83|                77|                88|                   76|                   74|              83|                80|              88|           34|           65|            74|              89|                  58|                     46|                   85|              87|                 78|                 80|                         41|                       32|                      26|\n",
            "|   203263|  4.31122040419305E7|    H. Maguire|   4.25E7|155000.0|     84|       86| 28|      194|      100|        11.0|  Manchester United|English Premier L...|           1|                 5|            14|        1318.0|                   6|        3|          2|                       3|          81800000|  50|      55|     69|       70|       85|    87|                51|                 48|                        87|                     78|               47|             71|         48|               46|                84|                76|                   47|                   53|              50|                84|              75|           85|           82|            90|              52|                  84|                     86|                   61|              70|                 44|                 85|                         87|                       83|                      78|\n",
            "+---------+--------------------+--------------+---------+--------+-------+---------+---+---------+---------+------------+-------------------+--------------------+------------+------------------+--------------+--------------+--------------------+---------+-----------+------------------------+------------------+----+--------+-------+---------+---------+------+------------------+-------------------+--------------------------+-----------------------+-----------------+---------------+-----------+-----------------+------------------+------------------+---------------------+---------------------+----------------+------------------+----------------+-------------+-------------+--------------+----------------+--------------------+-----------------------+---------------------+----------------+-------------------+-------------------+---------------------------+-------------------------+------------------------+\n",
            "only showing top 20 rows\n",
            "\n"
          ]
        }
      ],
      "source": [
        "comb_df = predictions['sofifa_id','prediction'].join(reg_df,on='sofifa_id')\n",
        "\n",
        "comb_df.show()\n"
      ]
    },
    {
      "cell_type": "code",
      "execution_count": null,
      "metadata": {
        "colab": {
          "background_save": true
        },
        "id": "syrxnRFfr5wj",
        "outputId": "66270aff-fb17-4596-e4b5-9570f5a1c703"
      },
      "outputs": [
        {
          "name": "stdout",
          "output_type": "stream",
          "text": [
            "+-----------------+--------------+---------+-------------------+-------+\n",
            "|        club_name|    short_name|value_eur|         prediction|overall|\n",
            "+-----------------+--------------+---------+-------------------+-------+\n",
            "|Manchester United|      P. Pogba|   7.95E7| 7.67951153871027E7|     87|\n",
            "|Manchester United|   M. Rashford|   7.75E7|7.678147925095268E7|     85|\n",
            "|Manchester United|    H. Maguire|   4.25E7| 4.31122040419305E7|     84|\n",
            "|Manchester United|    A. Martial|   3.45E7|3.522985643668803E7|     81|\n",
            "|Manchester United|D. van de Beek|   3.85E7|3.906518210090692E7|     81|\n",
            "|Manchester United|    J. Lingard|   1.75E7|1.755940507400975E7|     79|\n",
            "|Manchester United|     Juan Mata|9000000.0|  9987853.793692397|     78|\n",
            "|Manchester United|     A. Elanga|1700000.0| 1967963.6331371851|     65|\n",
            "|Manchester United|  S. Shoretire|1200000.0| 1386462.8987428523|     62|\n",
            "+-----------------+--------------+---------+-------------------+-------+\n",
            "\n",
            "+-------------------+------------+---------+--------------------+-------+\n",
            "|          club_name|  short_name|value_eur|          prediction|overall|\n",
            "+-------------------+------------+---------+--------------------+-------+\n",
            "|Paris Saint-Germain| M. Verratti|   7.95E7| 7.564547104502074E7|     87|\n",
            "|Paris Saint-Germain|G. Wijnaldum|   4.05E7| 3.952539373249156E7|     84|\n",
            "|Paris Saint-Germain| Sergio Rico|9500000.0|1.0122393248998187E7|     77|\n",
            "+-------------------+------------+---------+--------------------+-------+\n",
            "\n",
            "+---------+------------+---------+-------------------+-------+\n",
            "|club_name|  short_name|value_eur|         prediction|overall|\n",
            "+---------+------------+---------+-------------------+-------+\n",
            "| Juventus|M. Locatelli|    4.2E7|3.733899725864567E7|     82|\n",
            "+---------+------------+---------+-------------------+-------+\n",
            "\n",
            "+------------+----------+---------+--------------------+-------+\n",
            "|   club_name|short_name|value_eur|          prediction|overall|\n",
            "+------------+----------+---------+--------------------+-------+\n",
            "|FC Barcelona|     Piqué|   1.35E7|1.6684129421316693E7|     84|\n",
            "|FC Barcelona|  Coutinho|    3.0E7| 3.368725340001198E7|     82|\n",
            "|FC Barcelona| S. Umtiti|   1.95E7|2.2052165642854575E7|     80|\n",
            "|FC Barcelona|   S. Dest|   1.55E7|1.7784070703661833E7|     76|\n",
            "|FC Barcelona|Álex Balde|2000000.0|  2493447.5530821206|     66|\n",
            "|FC Barcelona|      Gavi|2100000.0|  2533179.6118777394|     66|\n",
            "+------------+----------+---------+--------------------+-------+\n",
            "\n",
            "+-----------------+--------------+---------+-------------------+-------+\n",
            "|        club_name|    short_name|value_eur|         prediction|overall|\n",
            "+-----------------+--------------+---------+-------------------+-------+\n",
            "|FC Bayern München|R. Lewandowski|  1.195E8|1.026149701989046E8|     92|\n",
            "|FC Bayern München|     T. Müller|    6.6E7| 5.70881105726037E7|     87|\n",
            "|FC Bayern München|  D. Upamecano|    6.4E7|6.014848976345825E7|     82|\n",
            "|FC Bayern München|   O. Richards|9000000.0|  8607587.674482623|     74|\n",
            "|FC Bayern München|   J. Stanišić|1300000.0| 1058696.0749809565|     64|\n",
            "|FC Bayern München|    M. Tillman| 925000.0|  959694.5358677193|     61|\n",
            "+-----------------+--------------+---------+-------------------+-------+\n",
            "\n"
          ]
        },
        {
          "data": {
            "text/plain": [
              "(None, None, None, None, None)"
            ]
          },
          "execution_count": 89,
          "metadata": {},
          "output_type": "execute_result"
        }
      ],
      "source": [
        "# extracting samples of well-known teams to demonstrate the predictions\n",
        "\n",
        "ManU = comb_df[comb_df['club_name'] == 'Manchester United']\n",
        "ManU = ManU['club_name','short_name','value_eur','prediction','overall']\n",
        "# ManU.write.csv('/content/datasets/ManU')\n",
        "\n",
        "PSG = comb_df[comb_df['club_name'] == 'Paris Saint-Germain']\n",
        "PSG = PSG['club_name','short_name','value_eur','prediction','overall']\n",
        "# PSG.write.csv('/content/datasets/PSG')\n",
        "\n",
        "Juve = comb_df[comb_df['club_name'] == 'Juventus']\n",
        "Juve = Juve['club_name','short_name','value_eur','prediction','overall']\n",
        "Juve.write.csv('/content/datasets/Juve')\n",
        "\n",
        "Barca =  comb_df[comb_df['club_name'] == 'FC Barcelona']\n",
        "Barca = Barca['club_name','short_name','value_eur','prediction','overall']\n",
        "Barca.write.csv('/content/datasets/Barca')\n",
        "\n",
        "Bayren = comb_df[comb_df['club_name'] == 'FC Bayern München']\n",
        "Bayren = Bayren['club_name','short_name','value_eur','prediction','overall']\n",
        "Bayren.write.csv('/content/datasets/Bayren')\n",
        "\n",
        "ManU.show(), PSG.show(), Juve.show(), Barca.show(), Bayren.show()"
      ]
    },
    {
      "cell_type": "code",
      "execution_count": null,
      "metadata": {
        "colab": {
          "background_save": true
        },
        "id": "_s6dM83_pNvl",
        "outputId": "96c2a3da-6f21-4a19-8d3c-b2c02460d69f"
      },
      "outputs": [
        {
          "name": "stdout",
          "output_type": "stream",
          "text": [
            "+---------+--------------------+--------------+---------+--------+-------+---------+---+---------+---------+------------+-------------------+--------------------+------------+------------------+--------------+--------------+--------------------+---------+-----------+------------------------+------------------+----+--------+-------+---------+---------+------+------------------+-------------------+--------------------------+-----------------------+-----------------+---------------+-----------+-----------------+------------------+------------------+---------------------+---------------------+----------------+------------------+----------------+-------------+-------------+--------------+----------------+--------------------+-----------------------+---------------------+----------------+-------------------+-------------------+---------------------------+-------------------------+------------------------+\n",
            "|sofifa_id|          prediction|    short_name|value_eur|    wage|overall|potential|age|height_cm|weight_kg|club_team_id|          club_name|         league_name|league_level|club_jersey_number|nationality_id|nation_team_id|nation_jersey_number|weak_foot|skill_moves|international_reputation|release_clause_eur|pace|shooting|passing|dribbling|defending|physic|attacking_crossing|attacking_finishing|attacking_heading_accuracy|attacking_short_passing|attacking_volleys|skill_dribbling|skill_curve|skill_fk_accuracy|skill_long_passing|skill_ball_control|movement_acceleration|movement_sprint_speed|movement_agility|movement_reactions|power_shot_power|power_jumping|power_stamina|power_strength|power_long_shots|mentality_aggression|mentality_interceptions|mentality_positioning|mentality_vision|mentality_penalties|mentality_composure|defending_marking_awareness|defending_standing_tackle|defending_sliding_tackle|\n",
            "+---------+--------------------+--------------+---------+--------+-------+---------+---+---------+---------+------------+-------------------+--------------------+------------+------------------+--------------+--------------+--------------------+---------+-----------+------------------------+------------------+----+--------+-------+---------+---------+------+------------------+-------------------+--------------------------+-----------------------+-----------------+---------------+-----------+-----------------+------------------+------------------+---------------------+---------------------+----------------+------------------+----------------+-------------+-------------+--------------+----------------+--------------------+-----------------------+---------------------+----------------+-------------------+-------------------+---------------------------+-------------------------+------------------------+\n",
            "|   188545| 1.026149701989046E8|R. Lewandowski|  1.195E8|270000.0|     92|       92| 32|      185|       81|        21.0|  FC Bayern München|German 1. Bundesliga|           1|                 9|            37|        1353.0|                   9|        4|          4|                       5|         197200000|  78|      92|     79|       86|       44|    82|                71|                 95|                        90|                     85|               89|             85|         79|               85|                70|                88|                   77|                   79|              77|                93|              90|           85|           76|            86|              87|                  81|                     49|                   95|              81|                 90|                 88|                         35|                       42|                      19|\n",
            "|   192985|1.1993118820910113E8|  K. De Bruyne|  1.255E8|350000.0|     91|       91| 30|      181|       70|        10.0|    Manchester City|English Premier L...|           1|                17|             7|        1325.0|                   7|        5|          4|                       4|         232200000|  76|      86|     93|       88|       64|    78|                94|                 82|                        55|                     94|               82|             88|         85|               83|                93|                91|                   76|                   76|              79|                91|              91|           63|           89|            74|              91|                  76|                     66|                   88|              94|                 83|                 89|                         68|                       65|                      53|\n",
            "|   202126|1.2632082597484306E8|       H. Kane|  1.295E8|240000.0|     90|       90| 27|      188|       89|        18.0|  Tottenham Hotspur|English Premier L...|           1|                10|            14|        1318.0|                   9|        5|          3|                       4|         246100000|  70|      91|     83|       83|       47|    83|                80|                 94|                        86|                     85|               88|             83|         83|               65|                86|                85|                   65|                   74|              71|                92|              91|           79|           83|            85|              86|                  80|                     44|                   94|              87|                 91|                 91|                         50|                       36|                      38|\n",
            "|   200145| 9.328958241605164E7|      Casemiro|    8.8E7|310000.0|     89|       89| 29|      185|       84|       243.0|     Real Madrid CF|Spain Primera Div...|           1|                14|            54|          null|                null|        3|          2|                       3|         180400000|  65|      73|     76|       73|       86|    90|                58|                 64|                        79|                     84|               62|             69|         62|               74|                84|                79|                   60|                   69|              61|                87|              88|           87|           89|            90|              81|                  91|                     87|                   75|              80|                 66|                 84|                         85|                       88|                      87|\n",
            "|   192505| 8.984142139838727E7|     R. Lukaku|   9.35E7|260000.0|     88|       88| 28|      191|       94|         5.0|            Chelsea|English Premier L...|           1|                 9|             7|        1325.0|                   9|        4|          3|                       4|         173000000|  84|      87|     74|       78|       39|    83|                73|                 92|                        89|                     77|               78|             83|         78|               66|                70|                77|                   81|                   87|              60|                91|              89|           76|           71|            95|              74|                  71|                     27|                   89|              75|                 88|                 86|                         30|                       41|                      30|\n",
            "|   202652|1.0703132146191141E8|   R. Sterling|  1.075E8|290000.0|     88|       89| 26|      170|       69|        10.0|    Manchester City|English Premier L...|           1|                 7|            14|        1318.0|                  10|        3|          4|                       4|         206900000|  91|      82|     79|       87|       45|    66|                79|                 85|                        46|                     83|               67|             87|         79|               72|                69|                86|                   95|                   88|              94|                90|              78|           57|           79|            64|              83|                  59|                     30|                   91|              82|                 67|                 78|                         47|                       53|                      47|\n",
            "|   189596|  5.70881105726037E7|     T. Müller|    6.6E7|140000.0|     87|       87| 31|      185|       76|        21.0|  FC Bayern München|German 1. Bundesliga|           1|                25|            21|          null|                null|        4|          3|                       4|         108900000|  67|      84|     83|       80|       56|    71|                85|                 88|                        81|                     85|               84|             77|         81|               59|                79|                84|                   66|                   67|              73|                94|              78|           77|           86|            66|              82|                  62|                     58|                   96|              85|                 70|                 84|                         47|                       57|                      46|\n",
            "|   195864|  7.67951153871027E7|      P. Pogba|   7.95E7|220000.0|     87|       87| 28|      191|       84|        11.0|  Manchester United|English Premier L...|           1|                 6|            18|        1335.0|                   6|        4|          5|                       4|         147100000|  71|      81|     86|       86|       65|    83|                77|                 75|                        74|                     88|               84|             88|         85|               82|                92|                90|                   63|                   77|              73|                83|              90|           82|           77|            89|              84|                  78|                     65|                   80|              89|                 81|                 88|                         59|                       67|                      63|\n",
            "|   199556| 7.564547104502074E7|   M. Verratti|   7.95E7|155000.0|     87|       87| 28|      165|       60|        73.0|Paris Saint-Germain|      French Ligue 1|           1|                 6|            27|        1343.0|                   6|        4|          4|                       3|         147100000|  64|      61|     87|       91|       79|    67|                82|                 60|                        57|                     90|               64|             91|         85|               64|                89|                92|                   68|                   60|              91|                87|              60|           67|           76|            54|              58|                  89|                     85|                   78|              89|                 64|                 94|                         78|                       82|                      84|\n",
            "|   188350|  3.90291646380707E7|       M. Reus|    4.3E7| 95000.0|     85|       85| 32|      180|       71|        22.0|  Borussia Dortmund|German 1. Bundesliga|           1|                11|            21|          null|                null|        4|          4|                       4|          73100000|  73|      84|     84|       85|       47|    63|                85|                 84|                        44|                     85|               85|             85|         88|               85|                79|                86|                   76|                   71|              83|                86|              86|           68|           67|            66|              83|                  51|                     49|                   85|              86|                 76|                 85|                         52|                       38|                      54|\n",
            "|   188567| 4.346510938303035E7| P. Aubameyang|   4.35E7|145000.0|     85|       85| 32|      187|       80|         1.0|            Arsenal|English Premier L...|           1|                14|           115|          null|                null|        4|          4|                       3|          82700000|  89|      85|     75|       80|       35|    69|                76|                 89|                        73|                     77|               83|             79|         81|               76|                64|                81|                   87|                   91|              77|                86|              82|           75|           79|            74|              78|                  43|                     48|                   90|              77|                 83|                 87|                         20|                       29|                      36|\n",
            "|   193747| 5.562290479605548E7|          Koke|   5.25E7| 90000.0|     85|       85| 29|      176|       75|       240.0| Atlético de Madrid|Spain Primera Div...|           1|                 6|            45|        1362.0|                   8|        4|          3|                       3|         107600000|  70|      75|     85|       81|       79|    80|                85|                 72|                        61|                     86|               56|             80|         85|               76|                84|                83|                   72|                   69|              73|                88|              83|           59|           93|            75|              80|                  79|                     83|                   83|              86|                 67|                 86|                         82|                       81|                      70|\n",
            "|   205498| 5.015478498302618E7|      Jorginho|   5.25E7|170000.0|     85|       85| 29|      180|       68|         5.0|            Chelsea|English Premier L...|           1|                 5|            27|        1343.0|                   8|        3|          3|                       2|          97100000|  55|      67|     86|       81|       73|    73|                75|                 64|                        56|                     92|               71|             79|         75|               76|                89|                87|                   61|                   50|              77|                82|              71|           58|           87|            66|              62|                  79|                     81|                   69|              88|                 91|                 81|                         67|                       81|                      71|\n",
            "|   226790| 6.637852868435597E7|      W. Ndidi|   6.65E7|120000.0|     85|       88| 24|      183|       74|        95.0|     Leicester City|English Premier L...|           1|                25|           133|          null|                null|        4|          3|                       1|         131300000|  67|      62|     69|       74|       87|    83|                53|                 50|                        72|                     78|               68|             72|         60|               60|                75|                77|                   65|                   68|              69|                88|              80|           90|           90|            78|              70|                  87|                     90|                   67|              67|                 57|                 80|                         87|                       90|                      85|\n",
            "|   231677| 7.678147925095268E7|   M. Rashford|   7.75E7|150000.0|     85|       89| 23|      186|       70|        11.0|  Manchester United|English Premier L...|           1|                10|            14|        1318.0|                  11|        3|          5|                       3|         149200000|  90|      84|     79|       84|       43|    77|                80|                 83|                        68|                     80|               73|             86|         83|               76|                71|                84|                   86|                   93|              84|                84|              92|           74|           86|            75|              81|                  73|                     42|                   83|              81|                 84|                 80|                         45|                       38|                      33|\n",
            "|   146536|1.4313041427312942E7|   Jesús Navas|    1.3E7| 30000.0|     84|       84| 35|      172|       60|       481.0|         Sevilla FC|Spain Primera Div...|           1|                16|            45|          null|                null|        2|          4|                       2|          27300000|  87|      69|     81|       83|       79|    58|                85|                 65|                        73|                     83|               75|             84|         82|               46|                79|                83|                   90|                   84|              82|                84|              74|           63|           82|            39|              70|                  75|                     80|                   81|              83|                 56|                 82|                         82|                       77|                      79|\n",
            "|   152729|1.6684129421316693E7|         Piqué|   1.35E7|175000.0|     84|       84| 34|      194|       85|       241.0|       FC Barcelona|Spain Primera Div...|           1|                 3|            45|          null|                null|        3|          2|                       4|          27700000|  58|      61|     71|       68|       85|    78|                57|                 65|                        84|                     80|               57|             63|         58|               43|                80|                80|                   50|                   64|              57|                85|              62|           74|           63|            86|              51|                  79|                     85|                   64|              72|                 69|                 87|                         86|                       85|                      83|\n",
            "|   181291| 3.952539373249156E7|  G. Wijnaldum|   4.05E7|115000.0|     84|       84| 30|      175|       74|        73.0|Paris Saint-Germain|      French Ligue 1|           1|                18|            34|      105035.0|                   8|        4|          4|                       3|          74900000|  77|      75|     80|       86|       79|    79|                72|                 75|                        78|                     87|               73|             85|         78|               73|                81|                88|                   78|                   76|              84|                86|              78|           81|           93|            74|              73|                  75|                     80|                   79|              79|                 74|                 86|                         79|                       80|                      70|\n",
            "|   200647|2.4667358771886747E7|     J. Iličić|    2.7E7| 84000.0|     84|       84| 33|      190|       79|        39.0|           Atalanta|     Italian Serie A|           1|                72|            44|          null|                null|        4|          5|                       3|          45900000|  75|      86|     84|       86|       40|    67|                82|                 85|                        58|                     86|               83|             88|         85|               83|                77|                88|                   76|                   74|              83|                80|              88|           34|           65|            74|              89|                  58|                     46|                   85|              87|                 78|                 80|                         41|                       32|                      26|\n",
            "|   203263|  4.31122040419305E7|    H. Maguire|   4.25E7|155000.0|     84|       86| 28|      194|      100|        11.0|  Manchester United|English Premier L...|           1|                 5|            14|        1318.0|                   6|        3|          2|                       3|          81800000|  50|      55|     69|       70|       85|    87|                51|                 48|                        87|                     78|               47|             71|         48|               46|                84|                76|                   47|                   53|              50|                84|              75|           85|           82|            90|              52|                  84|                     86|                   61|              70|                 44|                 85|                         87|                       83|                      78|\n",
            "+---------+--------------------+--------------+---------+--------+-------+---------+---+---------+---------+------------+-------------------+--------------------+------------+------------------+--------------+--------------+--------------------+---------+-----------+------------------------+------------------+----+--------+-------+---------+---------+------+------------------+-------------------+--------------------------+-----------------------+-----------------+---------------+-----------+-----------------+------------------+------------------+---------------------+---------------------+----------------+------------------+----------------+-------------+-------------+--------------+----------------+--------------------+-----------------------+---------------------+----------------+-------------------+-------------------+---------------------------+-------------------------+------------------------+\n",
            "only showing top 20 rows\n",
            "\n"
          ]
        }
      ],
      "source": [
        "comb_df.sort('league_name','club_name','value_eur')\n",
        "\n",
        "comb_df.show()"
      ]
    },
    {
      "cell_type": "markdown",
      "metadata": {
        "id": "sKvD1YXuV-Rz"
      },
      "source": [
        "# End spark session"
      ]
    },
    {
      "cell_type": "code",
      "execution_count": null,
      "metadata": {
        "colab": {
          "background_save": true
        },
        "id": "k22CFNrfmYVm"
      },
      "outputs": [],
      "source": [
        "spark.stop()"
      ]
    }
  ],
  "metadata": {
    "colab": {
      "collapsed_sections": [
        "CcKXY50LYIRb",
        "WVMVV29CCLnK",
        "8oaALcx59slm"
      ],
      "provenance": []
    },
    "kernelspec": {
      "display_name": "Python 3",
      "name": "python3"
    },
    "language_info": {
      "name": "python"
    }
  },
  "nbformat": 4,
  "nbformat_minor": 0
}